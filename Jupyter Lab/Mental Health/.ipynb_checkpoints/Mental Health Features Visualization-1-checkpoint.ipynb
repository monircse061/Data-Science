{
 "cells": [
  {
   "cell_type": "code",
   "execution_count": 1,
   "metadata": {},
   "outputs": [],
   "source": [
    "import pandas as pd\n",
    "import numpy as np\n",
    "from numpy import mean\n",
    "from numpy import std\n",
    "import matplotlib.pyplot as plt\n",
    "from sklearn.metrics import accuracy_score,classification_report,confusion_matrix\n",
    "import seaborn as sns\n",
    "from sklearn.model_selection import train_test_split\n",
    "from sklearn.svm import SVC\n",
    "from catboost import CatBoostClassifier\n",
    "from sklearn import preprocessing\n",
    "from sklearn.preprocessing import StandardScaler\n",
    "from sklearn.model_selection import KFold\n",
    "from sklearn.model_selection import cross_val_score\n",
    "from sklearn.model_selection import RepeatedStratifiedKFold\n",
    "import shap\n",
    "df = pd.read_csv('C:/Users/m/Desktop/Thesis Tasks/Jupyter Lab/Mental Health/Mental health 2Class.csv')"
   ]
  },
  {
   "cell_type": "code",
   "execution_count": 2,
   "metadata": {},
   "outputs": [
    {
     "name": "stdout",
     "output_type": "stream",
     "text": [
      "<class 'pandas.core.frame.DataFrame'>\n",
      "RangeIndex: 253 entries, 0 to 252\n",
      "Data columns (total 15 columns):\n",
      " #   Column                                          Non-Null Count  Dtype \n",
      "---  ------                                          --------------  ----- \n",
      " 0   Gender                                          253 non-null    object\n",
      " 1   Worry_about_social_support_during_covid19       253 non-null    object\n",
      " 2   Residence                                       253 non-null    object\n",
      " 3   Stable_family_income                            253 non-null    object\n",
      " 4   Living_with_parents                             253 non-null    object\n",
      " 5   Relative_or_acquaintance_infected_with_covid19  253 non-null    object\n",
      " 6   Worry_about_academic_delay                      253 non-null    object\n",
      " 7   Disruption_of_daily_life                        253 non-null    object\n",
      " 8   Exercise_during_covid19                         253 non-null    object\n",
      " 9   Own_income                                      253 non-null    object\n",
      " 10  Quarrel_between_parents                         253 non-null    object\n",
      " 11  Sleep_status_hour_during_covid19                253 non-null    int64 \n",
      " 12  Internet_browsing_hours_during_covid19          253 non-null    int64 \n",
      " 13  Fear_of_getting_infected_with_covid19           253 non-null    object\n",
      " 14  Mental_Health_Status                            253 non-null    object\n",
      "dtypes: int64(2), object(13)\n",
      "memory usage: 29.8+ KB\n"
     ]
    }
   ],
   "source": [
    "df.info()"
   ]
  },
  {
   "cell_type": "code",
   "execution_count": 3,
   "metadata": {},
   "outputs": [
    {
     "name": "stdout",
     "output_type": "stream",
     "text": [
      "Gender: Number of unique values 2\n",
      "==========================================================\n",
      "Worry_about_social_support_during_covid19: Number of unique values 2\n",
      "==========================================================\n",
      "Residence: Number of unique values 2\n",
      "==========================================================\n",
      "Stable_family_income: Number of unique values 2\n",
      "==========================================================\n",
      "Living_with_parents: Number of unique values 2\n",
      "==========================================================\n",
      "Relative_or_acquaintance_infected_with_covid19: Number of unique values 2\n",
      "==========================================================\n",
      "Worry_about_academic_delay: Number of unique values 2\n",
      "==========================================================\n",
      "Disruption_of_daily_life: Number of unique values 2\n",
      "==========================================================\n",
      "Exercise_during_covid19: Number of unique values 2\n",
      "==========================================================\n",
      "Own_income: Number of unique values 2\n",
      "==========================================================\n",
      "Quarrel_between_parents: Number of unique values 3\n",
      "==========================================================\n",
      "Sleep_status_hour_during_covid19: Number of unique values 3\n",
      "==========================================================\n",
      "Internet_browsing_hours_during_covid19: Number of unique values 4\n",
      "==========================================================\n",
      "Fear_of_getting_infected_with_covid19: Number of unique values 2\n",
      "==========================================================\n",
      "Mental_Health_Status: Number of unique values 2\n",
      "==========================================================\n"
     ]
    }
   ],
   "source": [
    "for column in df.columns:\n",
    "    print(f\"{column}: Number of unique values {df[column].nunique()}\")\n",
    "    print(\"==========================================================\")"
   ]
  },
  {
   "cell_type": "markdown",
   "metadata": {},
   "source": [
    "# Categorical Features"
   ]
  },
  {
   "cell_type": "code",
   "execution_count": 4,
   "metadata": {},
   "outputs": [
    {
     "name": "stdout",
     "output_type": "stream",
     "text": [
      "Gender : ['Male' 'Female']\n",
      "Male      213\n",
      "Female     40\n",
      "Name: Gender, dtype: int64\n",
      "====================================\n",
      "Worry_about_social_support_during_covid19 : ['Yes' 'No']\n",
      "Yes    188\n",
      "No      65\n",
      "Name: Worry_about_social_support_during_covid19, dtype: int64\n",
      "====================================\n",
      "Residence : ['Urban' 'Rural']\n",
      "Rural    157\n",
      "Urban     96\n",
      "Name: Residence, dtype: int64\n",
      "====================================\n",
      "Stable_family_income : ['No' 'Yes']\n",
      "No     148\n",
      "Yes    105\n",
      "Name: Stable_family_income, dtype: int64\n",
      "====================================\n",
      "Living_with_parents : ['Yes' 'No']\n",
      "Yes    183\n",
      "No      70\n",
      "Name: Living_with_parents, dtype: int64\n",
      "====================================\n",
      "Relative_or_acquaintance_infected_with_covid19 : ['Yes' 'No']\n",
      "No     128\n",
      "Yes    125\n",
      "Name: Relative_or_acquaintance_infected_with_covid19, dtype: int64\n",
      "====================================\n",
      "Worry_about_academic_delay : ['Yes' 'No']\n",
      "Yes    226\n",
      "No      27\n",
      "Name: Worry_about_academic_delay, dtype: int64\n",
      "====================================\n",
      "Disruption_of_daily_life : ['Yes' 'No']\n",
      "Yes    212\n",
      "No      41\n",
      "Name: Disruption_of_daily_life, dtype: int64\n",
      "====================================\n",
      "Exercise_during_covid19 : ['No' 'Yes']\n",
      "No     155\n",
      "Yes     98\n",
      "Name: Exercise_during_covid19, dtype: int64\n",
      "====================================\n",
      "Own_income : ['Yes' 'No']\n",
      "No     208\n",
      "Yes     45\n",
      "Name: Own_income, dtype: int64\n",
      "====================================\n",
      "Quarrel_between_parents : ['No' 'Absent' 'Yes']\n",
      "No        180\n",
      "Yes        52\n",
      "Absent     21\n",
      "Name: Quarrel_between_parents, dtype: int64\n",
      "====================================\n",
      "Fear_of_getting_infected_with_covid19 : ['Yes' 'No']\n",
      "Yes    160\n",
      "No      93\n",
      "Name: Fear_of_getting_infected_with_covid19, dtype: int64\n",
      "====================================\n",
      "Mental_Health_Status : ['Better' 'Poor']\n",
      "Better    166\n",
      "Poor       87\n",
      "Name: Mental_Health_Status, dtype: int64\n",
      "====================================\n"
     ]
    }
   ],
   "source": [
    "object_col = []\n",
    "for column in df.columns:\n",
    "    if df[column].dtype == object and len(df[column].unique()) <= 13:\n",
    "        object_col.append(column)\n",
    "        print(f\"{column} : {df[column].unique()}\")\n",
    "        print(df[column].value_counts())\n",
    "        print(\"====================================\")\n",
    "object_col.remove('Mental_Health_Status')"
   ]
  },
  {
   "cell_type": "markdown",
   "metadata": {},
   "source": [
    "# Numerical Features"
   ]
  },
  {
   "cell_type": "code",
   "execution_count": 5,
   "metadata": {},
   "outputs": [
    {
     "name": "stdout",
     "output_type": "stream",
     "text": [
      "Sleep_status_hour_during_covid19 : [2 1 3]\n",
      "====================================\n",
      "Internet_browsing_hours_during_covid19 : [3 4 2 1]\n",
      "====================================\n"
     ]
    }
   ],
   "source": [
    "disc_col = []\n",
    "for column in df.columns:\n",
    "    if df[column].dtypes != object and df[column].nunique() < 13:\n",
    "        print(f\"{column} : {df[column].unique()}\")\n",
    "        disc_col.append(column)\n",
    "        print(\"====================================\")"
   ]
  },
  {
   "cell_type": "code",
   "execution_count": 6,
   "metadata": {},
   "outputs": [],
   "source": [
    "poor = df[df['Mental_Health_Status'] == 1]\n",
    "better = df[df['Mental_Health_Status']==0]"
   ]
  },
  {
   "cell_type": "code",
   "execution_count": 7,
   "metadata": {},
   "outputs": [
    {
     "data": {
      "text/html": [
       "        <script type=\"text/javascript\">\n",
       "        window.PlotlyConfig = {MathJaxConfig: 'local'};\n",
       "        if (window.MathJax) {MathJax.Hub.Config({SVG: {font: \"STIX-Web\"}});}\n",
       "        if (typeof require !== 'undefined') {\n",
       "        require.undef(\"plotly\");\n",
       "        requirejs.config({\n",
       "            paths: {\n",
       "                'plotly': ['https://cdn.plot.ly/plotly-2.4.2.min']\n",
       "            }\n",
       "        });\n",
       "        require(['plotly'], function(Plotly) {\n",
       "            window._Plotly = Plotly;\n",
       "        });\n",
       "        }\n",
       "        </script>\n",
       "        "
      ]
     },
     "metadata": {},
     "output_type": "display_data"
    }
   ],
   "source": [
    "# visualization\n",
    "import seaborn as sns\n",
    "import matplotlib.pyplot as plt\n",
    "plt.style.use('seaborn-whitegrid')\n",
    "\n",
    "#import for interactive plotting\n",
    "import plotly.offline as py\n",
    "py.init_notebook_mode(connected=True)\n",
    "import plotly.graph_objs as go\n",
    "import plotly.tools as tls\n",
    "import plotly.figure_factory as ff\n",
    "from plotly.subplots import make_subplots\n",
    "%matplotlib inline"
   ]
  },
  {
   "cell_type": "markdown",
   "metadata": {},
   "source": [
    "# 📉 Features Visualization"
   ]
  },
  {
   "cell_type": "code",
   "execution_count": 8,
   "metadata": {},
   "outputs": [],
   "source": [
    "def categorical_column_viz(col_name):\n",
    "    \n",
    "    f,ax = plt.subplots(1,2, figsize=(10,6))\n",
    "  \n",
    "    # Count Plot\n",
    "    df[col_name].value_counts().plot.bar(cmap='Set2',ax=ax[0])\n",
    "    ax[1].set_title(f'Number of Students by {col_name}')\n",
    "    ax[1].set_ylabel('Count')\n",
    "    ax[1].set_xlabel(f'{col_name}')\n",
    "    \n",
    "    # Attrition Count per factors\n",
    "    sns.countplot(col_name, hue='Mental_Health_Status',data=df, ax=ax[1], palette='Set2')\n",
    "    ax[1].set_title(f'Mental Health Status by {col_name}')\n",
    "    ax[1].set_xlabel(f'{col_name}')\n",
    "    ax[1].set_ylabel('Count')\n",
    "\n",
    "plt.show()"
   ]
  },
  {
   "cell_type": "code",
   "execution_count": 9,
   "metadata": {},
   "outputs": [
    {
     "name": "stderr",
     "output_type": "stream",
     "text": [
      "F:\\New_Anaconda_Inst_Loc\\lib\\site-packages\\seaborn\\_decorators.py:36: FutureWarning:\n",
      "\n",
      "Pass the following variable as a keyword arg: x. From version 0.12, the only valid positional argument will be `data`, and passing other arguments without an explicit keyword will result in an error or misinterpretation.\n",
      "\n"
     ]
    },
    {
     "data": {
      "image/png": "[encoded data removed]",
      "text/plain": [
       "<Figure size 720x432 with 2 Axes>"
      ]
     },
     "metadata": {
      "needs_background": "light"
     },
     "output_type": "display_data"
    }
   ],
   "source": [
    "categorical_column_viz('Gender')"
   ]
  },
  {
   "cell_type": "code",
   "execution_count": 10,
   "metadata": {},
   "outputs": [
    {
     "name": "stderr",
     "output_type": "stream",
     "text": [
      "F:\\New_Anaconda_Inst_Loc\\lib\\site-packages\\seaborn\\_decorators.py:36: FutureWarning:\n",
      "\n",
      "Pass the following variable as a keyword arg: x. From version 0.12, the only valid positional argument will be `data`, and passing other arguments without an explicit keyword will result in an error or misinterpretation.\n",
      "\n"
     ]
    },
    {
     "data": {
      "image/png": "[encoded data removed]",
      "text/plain": [
       "<Figure size 720x432 with 2 Axes>"
      ]
     },
     "metadata": {
      "needs_background": "light"
     },
     "output_type": "display_data"
    }
   ],
   "source": [
    "categorical_column_viz('Worry_about_academic_delay')"
   ]
  },
  {
   "cell_type": "code",
   "execution_count": 11,
   "metadata": {},
   "outputs": [],
   "source": [
    "def feature_visualization(name):\n",
    "    sns.set(style=\"darkgrid\")\n",
    "    sns.set_palette(\"hls\", 3)\n",
    "    fig, ax = plt.subplots(figsize=(20,9))\n",
    "    ax = sns.countplot(x=name, hue=\"Mental_Health_Status\", data=df)\n",
    "\n",
    "    for p in ax.patches:\n",
    "        height = p.get_height()\n",
    "        ax.text(p.get_x()+p.get_width()/2.,\n",
    "                height + 3,\n",
    "                '{:1.2f}'.format(height/df.shape[0]),\n",
    "                ha=\"center\") "
   ]
  },
  {
   "cell_type": "code",
   "execution_count": 12,
   "metadata": {},
   "outputs": [
    {
     "data": {
      "image/png": "[encoded data removed]",
      "text/plain": [
       "<Figure size 1440x648 with 1 Axes>"
      ]
     },
     "metadata": {},
     "output_type": "display_data"
    }
   ],
   "source": [
    "feature_visualization('Worry_about_academic_delay')"
   ]
  },
  {
   "cell_type": "code",
   "execution_count": 16,
   "metadata": {},
   "outputs": [],
   "source": [
    "def feature_visualization1(name):\n",
    "    sns.set(style=\"darkgrid\")\n",
    "    sns.set_palette(\"hls\", 3)\n",
    "    fig, ax = plt.subplots(figsize=(20,9))\n",
    "    ax = sns.countplot(x=name, hue=\"Mental_Health_Status\", data=df)\n",
    "\n",
    "    for p in ax.patches:\n",
    "        height = p.get_height()\n",
    "        ax.text(p.get_x()+p.get_width()/2.,\n",
    "                height + 2,\n",
    "                '{:0.0f}'.format(height),\n",
    "                ha=\"center\")  "
   ]
  },
  {
   "cell_type": "code",
   "execution_count": 17,
   "metadata": {},
   "outputs": [
    {
     "data": {
      "image/png": "[encoded data removed]",
      "text/plain": [
       "<Figure size 1440x648 with 1 Axes>"
      ]
     },
     "metadata": {},
     "output_type": "display_data"
    }
   ],
   "source": [
    "feature_visualization1('Worry_about_academic_delay')"
   ]
  },
  {
   "cell_type": "code",
   "execution_count": null,
   "metadata": {},
   "outputs": [],
   "source": []
  }
 ],
 "metadata": {
  "kernelspec": {
   "display_name": "Python 3",
   "language": "python",
   "name": "python3"
  },
  "language_info": {
   "codemirror_mode": {
    "name": "ipython",
    "version": 3
   },
   "file_extension": ".py",
   "mimetype": "text/x-python",
   "name": "python",
   "nbconvert_exporter": "python",
   "pygments_lexer": "ipython3",
   "version": "3.8.5"
  }
 },
 "nbformat": 4,
 "nbformat_minor": 4
}
