{
 "cells": [
  {
   "cell_type": "code",
   "execution_count": 91,
   "metadata": {},
   "outputs": [],
   "source": [
    "import numpy as np # linear algebra\n",
    "import pandas as pd # data processing, CSV file I/O (e.g. pd.read_csv)\n",
    "import matplotlib.pyplot as plt # this is used for the plot the graph \n",
    "import seaborn as sns # used for plot interactive graph.\n",
    "from sklearn.metrics import confusion_matrix\n",
    "from sklearn.metrics import accuracy_score\n",
    "from sklearn.naive_bayes import GaussianNB\n",
    "from sklearn.metrics import roc_curve\n",
    "from sklearn.metrics import f1_score\n",
    "from sklearn.metrics import auc\n",
    "from sklearn import preprocessing\n",
    "%matplotlib inline"
   ]
  },
  {
   "cell_type": "code",
   "execution_count": 92,
   "metadata": {},
   "outputs": [
    {
     "data": {
      "text/html": [
       "<div>\n",
       "<style scoped>\n",
       "    .dataframe tbody tr th:only-of-type {\n",
       "        vertical-align: middle;\n",
       "    }\n",
       "\n",
       "    .dataframe tbody tr th {\n",
       "        vertical-align: top;\n",
       "    }\n",
       "\n",
       "    .dataframe thead th {\n",
       "        text-align: right;\n",
       "    }\n",
       "</style>\n",
       "<table border=\"1\" class=\"dataframe\">\n",
       "  <thead>\n",
       "    <tr style=\"text-align: right;\">\n",
       "      <th></th>\n",
       "      <th>Age</th>\n",
       "      <th>Attrition</th>\n",
       "      <th>BusinessTravel</th>\n",
       "      <th>DailyRate</th>\n",
       "      <th>Department</th>\n",
       "      <th>DistanceFromHome</th>\n",
       "      <th>Education</th>\n",
       "      <th>EducationField</th>\n",
       "      <th>EmployeeCount</th>\n",
       "      <th>EmployeeNumber</th>\n",
       "      <th>...</th>\n",
       "      <th>PerformanceRating</th>\n",
       "      <th>RelationshipSatisfaction</th>\n",
       "      <th>StockOptionLevel</th>\n",
       "      <th>TotalWorkingYears</th>\n",
       "      <th>TrainingTimesLastYear</th>\n",
       "      <th>WorkLifeBalance</th>\n",
       "      <th>YearsAtCompany</th>\n",
       "      <th>YearsInCurrentRole</th>\n",
       "      <th>YearsSinceLastPromotion</th>\n",
       "      <th>YearsWithCurrManager</th>\n",
       "    </tr>\n",
       "  </thead>\n",
       "  <tbody>\n",
       "    <tr>\n",
       "      <th>0</th>\n",
       "      <td>41</td>\n",
       "      <td>Yes</td>\n",
       "      <td>Travel_Rarely</td>\n",
       "      <td>1102</td>\n",
       "      <td>Sales</td>\n",
       "      <td>1</td>\n",
       "      <td>2</td>\n",
       "      <td>Life Sciences</td>\n",
       "      <td>1</td>\n",
       "      <td>1</td>\n",
       "      <td>...</td>\n",
       "      <td>3</td>\n",
       "      <td>1</td>\n",
       "      <td>0</td>\n",
       "      <td>8</td>\n",
       "      <td>0</td>\n",
       "      <td>1</td>\n",
       "      <td>6</td>\n",
       "      <td>4</td>\n",
       "      <td>0</td>\n",
       "      <td>5</td>\n",
       "    </tr>\n",
       "    <tr>\n",
       "      <th>1</th>\n",
       "      <td>49</td>\n",
       "      <td>No</td>\n",
       "      <td>Travel_Frequently</td>\n",
       "      <td>279</td>\n",
       "      <td>Research &amp; Development</td>\n",
       "      <td>8</td>\n",
       "      <td>1</td>\n",
       "      <td>Life Sciences</td>\n",
       "      <td>1</td>\n",
       "      <td>2</td>\n",
       "      <td>...</td>\n",
       "      <td>4</td>\n",
       "      <td>4</td>\n",
       "      <td>1</td>\n",
       "      <td>10</td>\n",
       "      <td>3</td>\n",
       "      <td>3</td>\n",
       "      <td>10</td>\n",
       "      <td>7</td>\n",
       "      <td>1</td>\n",
       "      <td>7</td>\n",
       "    </tr>\n",
       "    <tr>\n",
       "      <th>2</th>\n",
       "      <td>37</td>\n",
       "      <td>Yes</td>\n",
       "      <td>Travel_Rarely</td>\n",
       "      <td>1373</td>\n",
       "      <td>Research &amp; Development</td>\n",
       "      <td>2</td>\n",
       "      <td>2</td>\n",
       "      <td>Other</td>\n",
       "      <td>1</td>\n",
       "      <td>4</td>\n",
       "      <td>...</td>\n",
       "      <td>3</td>\n",
       "      <td>2</td>\n",
       "      <td>0</td>\n",
       "      <td>7</td>\n",
       "      <td>3</td>\n",
       "      <td>3</td>\n",
       "      <td>0</td>\n",
       "      <td>0</td>\n",
       "      <td>0</td>\n",
       "      <td>0</td>\n",
       "    </tr>\n",
       "    <tr>\n",
       "      <th>3</th>\n",
       "      <td>33</td>\n",
       "      <td>No</td>\n",
       "      <td>Travel_Frequently</td>\n",
       "      <td>1392</td>\n",
       "      <td>Research &amp; Development</td>\n",
       "      <td>3</td>\n",
       "      <td>4</td>\n",
       "      <td>Life Sciences</td>\n",
       "      <td>1</td>\n",
       "      <td>5</td>\n",
       "      <td>...</td>\n",
       "      <td>3</td>\n",
       "      <td>3</td>\n",
       "      <td>0</td>\n",
       "      <td>8</td>\n",
       "      <td>3</td>\n",
       "      <td>3</td>\n",
       "      <td>8</td>\n",
       "      <td>7</td>\n",
       "      <td>3</td>\n",
       "      <td>0</td>\n",
       "    </tr>\n",
       "    <tr>\n",
       "      <th>4</th>\n",
       "      <td>27</td>\n",
       "      <td>No</td>\n",
       "      <td>Travel_Rarely</td>\n",
       "      <td>591</td>\n",
       "      <td>Research &amp; Development</td>\n",
       "      <td>2</td>\n",
       "      <td>1</td>\n",
       "      <td>Medical</td>\n",
       "      <td>1</td>\n",
       "      <td>7</td>\n",
       "      <td>...</td>\n",
       "      <td>3</td>\n",
       "      <td>4</td>\n",
       "      <td>1</td>\n",
       "      <td>6</td>\n",
       "      <td>3</td>\n",
       "      <td>3</td>\n",
       "      <td>2</td>\n",
       "      <td>2</td>\n",
       "      <td>2</td>\n",
       "      <td>2</td>\n",
       "    </tr>\n",
       "  </tbody>\n",
       "</table>\n",
       "<p>5 rows × 33 columns</p>\n",
       "</div>"
      ],
      "text/plain": [
       "   Age Attrition     BusinessTravel  DailyRate              Department  \\\n",
       "0   41       Yes      Travel_Rarely       1102                   Sales   \n",
       "1   49        No  Travel_Frequently        279  Research & Development   \n",
       "2   37       Yes      Travel_Rarely       1373  Research & Development   \n",
       "3   33        No  Travel_Frequently       1392  Research & Development   \n",
       "4   27        No      Travel_Rarely        591  Research & Development   \n",
       "\n",
       "   DistanceFromHome  Education EducationField  EmployeeCount  EmployeeNumber  \\\n",
       "0                 1          2  Life Sciences              1               1   \n",
       "1                 8          1  Life Sciences              1               2   \n",
       "2                 2          2          Other              1               4   \n",
       "3                 3          4  Life Sciences              1               5   \n",
       "4                 2          1        Medical              1               7   \n",
       "\n",
       "   ...  PerformanceRating RelationshipSatisfaction  StockOptionLevel  \\\n",
       "0  ...                  3                        1                 0   \n",
       "1  ...                  4                        4                 1   \n",
       "2  ...                  3                        2                 0   \n",
       "3  ...                  3                        3                 0   \n",
       "4  ...                  3                        4                 1   \n",
       "\n",
       "   TotalWorkingYears  TrainingTimesLastYear WorkLifeBalance  YearsAtCompany  \\\n",
       "0                  8                      0               1               6   \n",
       "1                 10                      3               3              10   \n",
       "2                  7                      3               3               0   \n",
       "3                  8                      3               3               8   \n",
       "4                  6                      3               3               2   \n",
       "\n",
       "  YearsInCurrentRole  YearsSinceLastPromotion  YearsWithCurrManager  \n",
       "0                  4                        0                     5  \n",
       "1                  7                        1                     7  \n",
       "2                  0                        0                     0  \n",
       "3                  7                        3                     0  \n",
       "4                  2                        2                     2  \n",
       "\n",
       "[5 rows x 33 columns]"
      ]
     },
     "execution_count": 92,
     "metadata": {},
     "output_type": "execute_result"
    }
   ],
   "source": [
    "data= pd.read_csv(\"G:/Datasets/Dataset_for_Classification.csv\")\n",
    "data.head()"
   ]
  },
  {
   "cell_type": "code",
   "execution_count": 93,
   "metadata": {},
   "outputs": [],
   "source": [
    "label_encoder =  preprocessing.LabelEncoder()\n",
    "data['BusinessTravel'] = label_encoder.fit_transform(data['BusinessTravel'])\n",
    "data['Attrition'] = label_encoder.fit_transform(data['Attrition'])\n",
    "data['Department'] = label_encoder.fit_transform(data['Department'])\n",
    "data['EducationField'] = label_encoder.fit_transform(data['EducationField'])\n",
    "data['Gender'] = label_encoder.fit_transform(data['Gender'])\n",
    "data['JobRole'] = label_encoder.fit_transform(data['JobRole'])\n",
    "data['MaritalStatus'] = label_encoder.fit_transform(data['MaritalStatus'])\n",
    "data['OverTime'] = label_encoder.fit_transform(data['OverTime'])"
   ]
  },
  {
   "cell_type": "code",
   "execution_count": 94,
   "metadata": {},
   "outputs": [
    {
     "name": "stdout",
     "output_type": "stream",
     "text": [
      "0    1233\n",
      "1     237\n",
      "Name: Attrition, dtype: int64\n"
     ]
    }
   ],
   "source": [
    "target = data['Attrition']\n",
    "print(pd.value_counts(target))"
   ]
  },
  {
   "cell_type": "code",
   "execution_count": 95,
   "metadata": {},
   "outputs": [],
   "source": [
    "non_Attrition=data[data['Attrition']==0]\n",
    "Attrition=data[data['Attrition']==1]"
   ]
  },
  {
   "cell_type": "code",
   "execution_count": 96,
   "metadata": {},
   "outputs": [],
   "source": [
    "Attrition=data[data['Attrition']==1]"
   ]
  },
  {
   "cell_type": "code",
   "execution_count": 97,
   "metadata": {},
   "outputs": [
    {
     "data": {
      "text/plain": [
       "(1233, 33)"
      ]
     },
     "execution_count": 97,
     "metadata": {},
     "output_type": "execute_result"
    }
   ],
   "source": [
    "non_Attrition.shape"
   ]
  },
  {
   "cell_type": "code",
   "execution_count": 98,
   "metadata": {},
   "outputs": [
    {
     "data": {
      "text/plain": [
       "(237, 33)"
      ]
     },
     "execution_count": 98,
     "metadata": {},
     "output_type": "execute_result"
    }
   ],
   "source": [
    "Attrition.shape"
   ]
  },
  {
   "cell_type": "code",
   "execution_count": 99,
   "metadata": {},
   "outputs": [
    {
     "data": {
      "text/plain": [
       "(237, 33)"
      ]
     },
     "execution_count": 99,
     "metadata": {},
     "output_type": "execute_result"
    }
   ],
   "source": [
    "non_Attrition=non_Attrition.sample(Attrition.shape[0])\n",
    "non_Attrition.shape"
   ]
  },
  {
   "cell_type": "code",
   "execution_count": 100,
   "metadata": {},
   "outputs": [],
   "source": [
    "data=Attrition.append(non_Attrition,ignore_index=True)\n"
   ]
  },
  {
   "cell_type": "code",
   "execution_count": 101,
   "metadata": {},
   "outputs": [],
   "source": [
    "X = data.drop(['Attrition'], axis = 1)\n",
    "y = data.Attrition.values"
   ]
  },
  {
   "cell_type": "code",
   "execution_count": 102,
   "metadata": {},
   "outputs": [],
   "source": [
    "from sklearn.model_selection import train_test_split\n",
    "X_train, X_test, y_train, y_test = train_test_split(X, y, test_size = 0.2)"
   ]
  },
  {
   "cell_type": "code",
   "execution_count": 103,
   "metadata": {},
   "outputs": [
    {
     "name": "stderr",
     "output_type": "stream",
     "text": [
      "C:\\Users\\pallab\\Anaconda3\\lib\\site-packages\\sklearn\\preprocessing\\data.py:645: DataConversionWarning: Data with input dtype int32, int64 were all converted to float64 by StandardScaler.\n",
      "  return self.partial_fit(X, y)\n",
      "C:\\Users\\pallab\\Anaconda3\\lib\\site-packages\\sklearn\\base.py:464: DataConversionWarning: Data with input dtype int32, int64 were all converted to float64 by StandardScaler.\n",
      "  return self.fit(X, **fit_params).transform(X)\n",
      "C:\\Users\\pallab\\Anaconda3\\lib\\site-packages\\ipykernel_launcher.py:4: DataConversionWarning: Data with input dtype int32, int64 were all converted to float64 by StandardScaler.\n",
      "  after removing the cwd from sys.path.\n"
     ]
    }
   ],
   "source": [
    "from sklearn.preprocessing import StandardScaler\n",
    "sc = StandardScaler()\n",
    "X_train = sc.fit_transform(X_train)\n",
    "X_test = sc.transform(X_test)"
   ]
  },
  {
   "cell_type": "code",
   "execution_count": 104,
   "metadata": {},
   "outputs": [],
   "source": [
    "from keras.models import Sequential\n",
    "from keras.layers import Conv2D, MaxPooling2D\n",
    "from keras.layers import Activation, Dropout, Flatten, Dense\n",
    "import keras\n",
    "from keras.models import Sequential\n",
    "from keras.layers import Dense\n",
    "import warnings"
   ]
  },
  {
   "cell_type": "code",
   "execution_count": 105,
   "metadata": {},
   "outputs": [
    {
     "name": "stderr",
     "output_type": "stream",
     "text": [
      "C:\\Users\\pallab\\Anaconda3\\lib\\site-packages\\ipykernel_launcher.py:4: UserWarning: Update your `Dense` call to the Keras 2 API: `Dense(activation=\"relu\", input_dim=32, units=16, kernel_initializer=\"uniform\")`\n",
      "  after removing the cwd from sys.path.\n",
      "C:\\Users\\pallab\\Anaconda3\\lib\\site-packages\\ipykernel_launcher.py:7: UserWarning: Update your `Dense` call to the Keras 2 API: `Dense(activation=\"relu\", units=16, kernel_initializer=\"uniform\")`\n",
      "  import sys\n",
      "C:\\Users\\pallab\\Anaconda3\\lib\\site-packages\\ipykernel_launcher.py:10: UserWarning: Update your `Dense` call to the Keras 2 API: `Dense(activation=\"sigmoid\", units=1, kernel_initializer=\"uniform\")`\n",
      "  # Remove the CWD from sys.path while we load stuff.\n"
     ]
    }
   ],
   "source": [
    "classifier = Sequential()\n",
    "\n",
    "# Adding the input layer and the first hidden layer\n",
    "classifier.add(Dense(output_dim = 16, init = 'uniform', activation = 'relu', input_dim = 32))\n",
    "\n",
    "# Adding the second hidden layer\n",
    "classifier.add(Dense(output_dim = 16, init = 'uniform', activation = 'relu'))\n",
    "\n",
    "# Adding the output layer\n",
    "classifier.add(Dense(output_dim = 1, init = 'uniform', activation = 'sigmoid'))\n",
    "\n",
    "# Compiling the ANN\n",
    "classifier.compile(optimizer = 'adam', loss = 'binary_crossentropy', metrics = ['accuracy'])"
   ]
  },
  {
   "cell_type": "code",
   "execution_count": 106,
   "metadata": {},
   "outputs": [
    {
     "name": "stderr",
     "output_type": "stream",
     "text": [
      "C:\\Users\\pallab\\Anaconda3\\lib\\site-packages\\ipykernel_launcher.py:1: UserWarning: The `nb_epoch` argument in `fit` has been renamed `epochs`.\n",
      "  \"\"\"Entry point for launching an IPython kernel.\n"
     ]
    },
    {
     "name": "stdout",
     "output_type": "stream",
     "text": [
      "Epoch 1/100\n",
      "379/379 [==============================] - 1s 2ms/step - loss: 0.6932 - accuracy: 0.4828\n",
      "Epoch 2/100\n",
      "379/379 [==============================] - 0s 215us/step - loss: 0.6927 - accuracy: 0.5119\n",
      "Epoch 3/100\n",
      "379/379 [==============================] - 0s 182us/step - loss: 0.6914 - accuracy: 0.5435\n",
      "Epoch 4/100\n",
      "379/379 [==============================] - 0s 200us/step - loss: 0.6874 - accuracy: 0.6385\n",
      "Epoch 5/100\n",
      "379/379 [==============================] - 0s 177us/step - loss: 0.6773 - accuracy: 0.6755\n",
      "Epoch 6/100\n",
      "379/379 [==============================] - 0s 194us/step - loss: 0.6597 - accuracy: 0.6834\n",
      "Epoch 7/100\n",
      "379/379 [==============================] - 0s 209us/step - loss: 0.6332 - accuracy: 0.6913\n",
      "Epoch 8/100\n",
      "379/379 [==============================] - 0s 196us/step - loss: 0.6004 - accuracy: 0.7230\n",
      "Epoch 9/100\n",
      "379/379 [==============================] - 0s 198us/step - loss: 0.5671 - accuracy: 0.7361\n",
      "Epoch 10/100\n",
      "379/379 [==============================] - 0s 147us/step - loss: 0.5412 - accuracy: 0.7335\n",
      "Epoch 11/100\n",
      "379/379 [==============================] - 0s 151us/step - loss: 0.5173 - accuracy: 0.7414\n",
      "Epoch 12/100\n",
      "379/379 [==============================] - 0s 151us/step - loss: 0.4972 - accuracy: 0.7625\n",
      "Epoch 13/100\n",
      "379/379 [==============================] - 0s 195us/step - loss: 0.4832 - accuracy: 0.7731\n",
      "Epoch 14/100\n",
      "379/379 [==============================] - 0s 145us/step - loss: 0.4688 - accuracy: 0.7784\n",
      "Epoch 15/100\n",
      "379/379 [==============================] - 0s 185us/step - loss: 0.4582 - accuracy: 0.7810\n",
      "Epoch 16/100\n",
      "379/379 [==============================] - 0s 190us/step - loss: 0.4499 - accuracy: 0.8021\n",
      "Epoch 17/100\n",
      "379/379 [==============================] - 0s 180us/step - loss: 0.4440 - accuracy: 0.8047\n",
      "Epoch 18/100\n",
      "379/379 [==============================] - 0s 201us/step - loss: 0.4427 - accuracy: 0.7995\n",
      "Epoch 19/100\n",
      "379/379 [==============================] - 0s 197us/step - loss: 0.4352 - accuracy: 0.8047\n",
      "Epoch 20/100\n",
      "379/379 [==============================] - 0s 169us/step - loss: 0.4291 - accuracy: 0.8100\n",
      "Epoch 21/100\n",
      "379/379 [==============================] - 0s 185us/step - loss: 0.4246 - accuracy: 0.8127\n",
      "Epoch 22/100\n",
      "379/379 [==============================] - 0s 151us/step - loss: 0.4207 - accuracy: 0.8179\n",
      "Epoch 23/100\n",
      "379/379 [==============================] - 0s 140us/step - loss: 0.4157 - accuracy: 0.8179\n",
      "Epoch 24/100\n",
      "379/379 [==============================] - 0s 186us/step - loss: 0.4106 - accuracy: 0.8206\n",
      "Epoch 25/100\n",
      "379/379 [==============================] - 0s 140us/step - loss: 0.4068 - accuracy: 0.8206\n",
      "Epoch 26/100\n",
      "379/379 [==============================] - 0s 193us/step - loss: 0.4026 - accuracy: 0.8153\n",
      "Epoch 27/100\n",
      "379/379 [==============================] - 0s 153us/step - loss: 0.3994 - accuracy: 0.8232\n",
      "Epoch 28/100\n",
      "379/379 [==============================] - 0s 185us/step - loss: 0.3936 - accuracy: 0.8232\n",
      "Epoch 29/100\n",
      "379/379 [==============================] - 0s 144us/step - loss: 0.3891 - accuracy: 0.8259\n",
      "Epoch 30/100\n",
      "379/379 [==============================] - 0s 185us/step - loss: 0.3842 - accuracy: 0.8259\n",
      "Epoch 31/100\n",
      "379/379 [==============================] - 0s 137us/step - loss: 0.3789 - accuracy: 0.8311\n",
      "Epoch 32/100\n",
      "379/379 [==============================] - 0s 174us/step - loss: 0.3742 - accuracy: 0.8311\n",
      "Epoch 33/100\n",
      "379/379 [==============================] - 0s 148us/step - loss: 0.3694 - accuracy: 0.8417\n",
      "Epoch 34/100\n",
      "379/379 [==============================] - 0s 182us/step - loss: 0.3644 - accuracy: 0.8417\n",
      "Epoch 35/100\n",
      "379/379 [==============================] - 0s 188us/step - loss: 0.3599 - accuracy: 0.8522\n",
      "Epoch 36/100\n",
      "379/379 [==============================] - 0s 145us/step - loss: 0.3549 - accuracy: 0.8575\n",
      "Epoch 37/100\n",
      "379/379 [==============================] - 0s 148us/step - loss: 0.3501 - accuracy: 0.8628\n",
      "Epoch 38/100\n",
      "379/379 [==============================] - 0s 145us/step - loss: 0.3457 - accuracy: 0.8549\n",
      "Epoch 39/100\n",
      "379/379 [==============================] - 0s 193us/step - loss: 0.3404 - accuracy: 0.8602\n",
      "Epoch 40/100\n",
      "379/379 [==============================] - 0s 145us/step - loss: 0.3343 - accuracy: 0.8628\n",
      "Epoch 41/100\n",
      "379/379 [==============================] - 0s 148us/step - loss: 0.3309 - accuracy: 0.8654\n",
      "Epoch 42/100\n",
      "379/379 [==============================] - 0s 144us/step - loss: 0.3268 - accuracy: 0.8602\n",
      "Epoch 43/100\n",
      "379/379 [==============================] - 0s 189us/step - loss: 0.3220 - accuracy: 0.8654\n",
      "Epoch 44/100\n",
      "379/379 [==============================] - 0s 149us/step - loss: 0.3170 - accuracy: 0.8707\n",
      "Epoch 45/100\n",
      "379/379 [==============================] - 0s 144us/step - loss: 0.3117 - accuracy: 0.8734\n",
      "Epoch 46/100\n",
      "379/379 [==============================] - 0s 144us/step - loss: 0.3062 - accuracy: 0.8760\n",
      "Epoch 47/100\n",
      "379/379 [==============================] - 0s 148us/step - loss: 0.3016 - accuracy: 0.8786\n",
      "Epoch 48/100\n",
      "379/379 [==============================] - 0s 162us/step - loss: 0.2978 - accuracy: 0.8839\n",
      "Epoch 49/100\n",
      "379/379 [==============================] - 0s 176us/step - loss: 0.2920 - accuracy: 0.8813\n",
      "Epoch 50/100\n",
      "379/379 [==============================] - 0s 140us/step - loss: 0.2872 - accuracy: 0.8786\n",
      "Epoch 51/100\n",
      "379/379 [==============================] - 0s 148us/step - loss: 0.2822 - accuracy: 0.8865\n",
      "Epoch 52/100\n",
      "379/379 [==============================] - 0s 187us/step - loss: 0.2787 - accuracy: 0.8892\n",
      "Epoch 53/100\n",
      "379/379 [==============================] - 0s 140us/step - loss: 0.2727 - accuracy: 0.8892\n",
      "Epoch 54/100\n",
      "379/379 [==============================] - 0s 148us/step - loss: 0.2695 - accuracy: 0.8839\n",
      "Epoch 55/100\n",
      "379/379 [==============================] - 0s 131us/step - loss: 0.2641 - accuracy: 0.8865\n",
      "Epoch 56/100\n",
      "379/379 [==============================] - 0s 147us/step - loss: 0.2599 - accuracy: 0.8918\n",
      "Epoch 57/100\n",
      "379/379 [==============================] - 0s 156us/step - loss: 0.2551 - accuracy: 0.8945\n",
      "Epoch 58/100\n",
      "379/379 [==============================] - 0s 143us/step - loss: 0.2508 - accuracy: 0.8945\n",
      "Epoch 59/100\n",
      "379/379 [==============================] - 0s 190us/step - loss: 0.2457 - accuracy: 0.8997\n",
      "Epoch 60/100\n",
      "379/379 [==============================] - 0s 140us/step - loss: 0.2431 - accuracy: 0.8997\n",
      "Epoch 61/100\n",
      "379/379 [==============================] - 0s 151us/step - loss: 0.2385 - accuracy: 0.9024\n",
      "Epoch 62/100\n",
      "379/379 [==============================] - 0s 137us/step - loss: 0.2334 - accuracy: 0.9129\n",
      "Epoch 63/100\n",
      "379/379 [==============================] - 0s 210us/step - loss: 0.2297 - accuracy: 0.9129\n",
      "Epoch 64/100\n",
      "379/379 [==============================] - 0s 143us/step - loss: 0.2267 - accuracy: 0.9129\n",
      "Epoch 65/100\n",
      "379/379 [==============================] - 0s 144us/step - loss: 0.2217 - accuracy: 0.9182\n",
      "Epoch 66/100\n",
      "379/379 [==============================] - 0s 139us/step - loss: 0.2172 - accuracy: 0.9235\n",
      "Epoch 67/100\n",
      "379/379 [==============================] - 0s 155us/step - loss: 0.2134 - accuracy: 0.9288\n",
      "Epoch 68/100\n",
      "379/379 [==============================] - 0s 182us/step - loss: 0.2092 - accuracy: 0.9314\n",
      "Epoch 69/100\n",
      "379/379 [==============================] - 0s 135us/step - loss: 0.2055 - accuracy: 0.9367\n",
      "Epoch 70/100\n",
      "379/379 [==============================] - 0s 145us/step - loss: 0.2010 - accuracy: 0.9367\n",
      "Epoch 71/100\n",
      "379/379 [==============================] - 0s 140us/step - loss: 0.1977 - accuracy: 0.9420\n",
      "Epoch 72/100\n",
      "379/379 [==============================] - 0s 190us/step - loss: 0.1940 - accuracy: 0.9446\n",
      "Epoch 73/100\n",
      "379/379 [==============================] - 0s 151us/step - loss: 0.1914 - accuracy: 0.9446\n",
      "Epoch 74/100\n",
      "379/379 [==============================] - 0s 140us/step - loss: 0.1875 - accuracy: 0.9420\n",
      "Epoch 75/100\n",
      "379/379 [==============================] - 0s 139us/step - loss: 0.1835 - accuracy: 0.9472\n",
      "Epoch 76/100\n",
      "379/379 [==============================] - 0s 148us/step - loss: 0.1806 - accuracy: 0.9499\n",
      "Epoch 77/100\n",
      "379/379 [==============================] - 0s 148us/step - loss: 0.1778 - accuracy: 0.9472\n",
      "Epoch 78/100\n",
      "379/379 [==============================] - 0s 206us/step - loss: 0.1738 - accuracy: 0.9551\n",
      "Epoch 79/100\n"
     ]
    },
    {
     "name": "stdout",
     "output_type": "stream",
     "text": [
      "379/379 [==============================] - 0s 148us/step - loss: 0.1728 - accuracy: 0.9525\n",
      "Epoch 80/100\n",
      "379/379 [==============================] - 0s 195us/step - loss: 0.1661 - accuracy: 0.9525\n",
      "Epoch 81/100\n",
      "379/379 [==============================] - 0s 213us/step - loss: 0.1649 - accuracy: 0.9472\n",
      "Epoch 82/100\n",
      "379/379 [==============================] - 0s 152us/step - loss: 0.1611 - accuracy: 0.9472\n",
      "Epoch 83/100\n",
      "379/379 [==============================] - 0s 189us/step - loss: 0.1562 - accuracy: 0.9578\n",
      "Epoch 84/100\n",
      "379/379 [==============================] - 0s 207us/step - loss: 0.1551 - accuracy: 0.9551\n",
      "Epoch 85/100\n",
      "379/379 [==============================] - 0s 177us/step - loss: 0.1509 - accuracy: 0.9578\n",
      "Epoch 86/100\n",
      "379/379 [==============================] - 0s 227us/step - loss: 0.1469 - accuracy: 0.9604\n",
      "Epoch 87/100\n",
      "379/379 [==============================] - 0s 224us/step - loss: 0.1456 - accuracy: 0.9631\n",
      "Epoch 88/100\n",
      "379/379 [==============================] - 0s 203us/step - loss: 0.1411 - accuracy: 0.9631\n",
      "Epoch 89/100\n",
      "379/379 [==============================] - 0s 209us/step - loss: 0.1388 - accuracy: 0.9710\n",
      "Epoch 90/100\n",
      "379/379 [==============================] - 0s 201us/step - loss: 0.1347 - accuracy: 0.9763\n",
      "Epoch 91/100\n",
      "379/379 [==============================] - 0s 211us/step - loss: 0.1319 - accuracy: 0.9736\n",
      "Epoch 92/100\n",
      "379/379 [==============================] - 0s 224us/step - loss: 0.1313 - accuracy: 0.9763\n",
      "Epoch 93/100\n",
      "379/379 [==============================] - 0s 231us/step - loss: 0.1275 - accuracy: 0.9710\n",
      "Epoch 94/100\n",
      "379/379 [==============================] - 0s 231us/step - loss: 0.1262 - accuracy: 0.9736\n",
      "Epoch 95/100\n",
      "379/379 [==============================] - 0s 195us/step - loss: 0.1207 - accuracy: 0.9789\n",
      "Epoch 96/100\n",
      "379/379 [==============================] - 0s 222us/step - loss: 0.1187 - accuracy: 0.9789\n",
      "Epoch 97/100\n",
      "379/379 [==============================] - 0s 157us/step - loss: 0.1156 - accuracy: 0.9842\n",
      "Epoch 98/100\n",
      "379/379 [==============================] - 0s 190us/step - loss: 0.1139 - accuracy: 0.9815\n",
      "Epoch 99/100\n",
      "379/379 [==============================] - 0s 190us/step - loss: 0.1114 - accuracy: 0.9842\n",
      "Epoch 100/100\n",
      "379/379 [==============================] - 0s 203us/step - loss: 0.1088 - accuracy: 0.9763\n"
     ]
    },
    {
     "data": {
      "text/plain": [
       "<keras.callbacks.callbacks.History at 0x1b0747c3198>"
      ]
     },
     "execution_count": 106,
     "metadata": {},
     "output_type": "execute_result"
    }
   ],
   "source": [
    "classifier.fit(X_train, y_train, batch_size = 30, nb_epoch = 100)"
   ]
  },
  {
   "cell_type": "code",
   "execution_count": 107,
   "metadata": {},
   "outputs": [],
   "source": [
    "y_pred = classifier.predict(X_test)"
   ]
  },
  {
   "cell_type": "code",
   "execution_count": 108,
   "metadata": {},
   "outputs": [
    {
     "name": "stdout",
     "output_type": "stream",
     "text": [
      "accuracy of the model:  0.6947368421052632\n"
     ]
    },
    {
     "data": {
      "image/png": "[encoded data removed]",
      "text/plain": [
       "<Figure size 432x288 with 1 Axes>"
      ]
     },
     "metadata": {
      "needs_background": "light"
     },
     "output_type": "display_data"
    }
   ],
   "source": [
    "import seaborn as sns\n",
    "from sklearn.metrics import confusion_matrix\n",
    "cm = confusion_matrix(y_test, y_pred.round())\n",
    "sns.heatmap(cm,annot=True,cmap=\"Blues\",fmt=\"d\",cbar=False)\n",
    "#accuracy score\n",
    "from sklearn.metrics import accuracy_score\n",
    "ac=accuracy_score(y_test, y_pred.round())\n",
    "print('accuracy of the model: ',ac)"
   ]
  },
  {
   "cell_type": "code",
   "execution_count": null,
   "metadata": {},
   "outputs": [],
   "source": []
  }
 ],
 "metadata": {
  "kernelspec": {
   "display_name": "Python 3",
   "language": "python",
   "name": "python3"
  },
  "language_info": {
   "codemirror_mode": {
    "name": "ipython",
    "version": 3
   },
   "file_extension": ".py",
   "mimetype": "text/x-python",
   "name": "python",
   "nbconvert_exporter": "python",
   "pygments_lexer": "ipython3",
   "version": "3.7.3"
  }
 },
 "nbformat": 4,
 "nbformat_minor": 2
}
