{
 "cells": [
  {
   "cell_type": "code",
   "execution_count": 1,
   "metadata": {
    "scrolled": true
   },
   "outputs": [],
   "source": [
    "import pandas as pd\n",
    "import numpy as np\n",
    "import matplotlib.pyplot as plt\n",
    "import seaborn as sns\n",
    "%matplotlib inline\n",
    "from sklearn.model_selection import RepeatedStratifiedKFold\n",
    "# ignore Warnings\n",
    "import warnings\n",
    "warnings.filterwarnings('ignore')\n",
    "from sklearn.metrics import f1_score, auc,roc_auc_score, roc_curve"
   ]
  },
  {
   "cell_type": "code",
   "execution_count": 2,
   "metadata": {},
   "outputs": [],
   "source": [
    "from numpy import mean\n",
    "from numpy import std\n",
    "\n",
    "from sklearn.metrics import accuracy_score,classification_report,confusion_matrix\n",
    "import seaborn as sns\n",
    "from sklearn.model_selection import train_test_split\n",
    "from sklearn.svm import SVC\n",
    "from catboost import CatBoostClassifier\n",
    "from sklearn import preprocessing\n",
    "from sklearn.preprocessing import StandardScaler\n",
    "from sklearn.model_selection import KFold\n",
    "from sklearn.model_selection import cross_val_score\n",
    "df = pd.read_csv('G:/New 20121 Dekstop Files/thesis 2021/employee attrition dataset/employee_attrition2.csv')"
   ]
  },
  {
   "cell_type": "code",
   "execution_count": 3,
   "metadata": {},
   "outputs": [
    {
     "name": "stdout",
     "output_type": "stream",
     "text": [
      "<class 'pandas.core.frame.DataFrame'>\n",
      "RangeIndex: 1470 entries, 0 to 1469\n",
      "Data columns (total 36 columns):\n",
      " #   Column                    Non-Null Count  Dtype \n",
      "---  ------                    --------------  ----- \n",
      " 0   Age                       1470 non-null   int64 \n",
      " 1   Attrition                 1470 non-null   object\n",
      " 2   BusinessTravel            1470 non-null   object\n",
      " 3   DailyRate                 1470 non-null   int64 \n",
      " 4   Department                1470 non-null   object\n",
      " 5   DistanceFromHome          1470 non-null   int64 \n",
      " 6   Education                 1470 non-null   int64 \n",
      " 7   EducationField            1470 non-null   object\n",
      " 8   EmployeeCount             1470 non-null   int64 \n",
      " 9   EmployeeNumber            1470 non-null   int64 \n",
      " 10  EnvironmentSatisfaction   1470 non-null   int64 \n",
      " 11  Gender                    1470 non-null   object\n",
      " 12  Experience_less_3years    1470 non-null   int64 \n",
      " 13  HourlyRate                1470 non-null   int64 \n",
      " 14  JobInvolvement            1470 non-null   int64 \n",
      " 15  JobLevel                  1470 non-null   int64 \n",
      " 16  JobRole                   1470 non-null   object\n",
      " 17  JobSatisfaction           1470 non-null   int64 \n",
      " 18  MaritalStatus             1470 non-null   object\n",
      " 19  MonthlyIncome             1470 non-null   int64 \n",
      " 20  MonthlyRate               1470 non-null   int64 \n",
      " 21  NumCompaniesWorked        1470 non-null   int64 \n",
      " 22  Over18                    1470 non-null   object\n",
      " 23  OverTime                  1470 non-null   object\n",
      " 24  PercentSalaryHike         1470 non-null   int64 \n",
      " 25  PerformanceRating         1470 non-null   int64 \n",
      " 26  RelationshipSatisfaction  1470 non-null   int64 \n",
      " 27  StandardHours             1470 non-null   int64 \n",
      " 28  StockOptionLevel          1470 non-null   int64 \n",
      " 29  TotalWorkingYears         1470 non-null   int64 \n",
      " 30  TrainingTimesLastYear     1470 non-null   int64 \n",
      " 31  WorkLifeBalance           1470 non-null   int64 \n",
      " 32  YearsAtCompany            1470 non-null   int64 \n",
      " 33  YearsInCurrentRole        1470 non-null   int64 \n",
      " 34  YearsSinceLastPromotion   1470 non-null   int64 \n",
      " 35  YearsWithCurrManager      1470 non-null   int64 \n",
      "dtypes: int64(27), object(9)\n",
      "memory usage: 413.6+ KB\n"
     ]
    }
   ],
   "source": [
    "df.info()"
   ]
  },
  {
   "cell_type": "code",
   "execution_count": 4,
   "metadata": {},
   "outputs": [
    {
     "name": "stdout",
     "output_type": "stream",
     "text": [
      "Age: Number of unique values 43\n",
      "==========================================================\n",
      "Attrition: Number of unique values 2\n",
      "==========================================================\n",
      "BusinessTravel: Number of unique values 3\n",
      "==========================================================\n",
      "DailyRate: Number of unique values 886\n",
      "==========================================================\n",
      "Department: Number of unique values 3\n",
      "==========================================================\n",
      "DistanceFromHome: Number of unique values 29\n",
      "==========================================================\n",
      "Education: Number of unique values 5\n",
      "==========================================================\n",
      "EducationField: Number of unique values 6\n",
      "==========================================================\n",
      "EmployeeCount: Number of unique values 1\n",
      "==========================================================\n",
      "EmployeeNumber: Number of unique values 1470\n",
      "==========================================================\n",
      "EnvironmentSatisfaction: Number of unique values 4\n",
      "==========================================================\n",
      "Gender: Number of unique values 2\n",
      "==========================================================\n",
      "Experience_less_3years: Number of unique values 2\n",
      "==========================================================\n",
      "HourlyRate: Number of unique values 71\n",
      "==========================================================\n",
      "JobInvolvement: Number of unique values 4\n",
      "==========================================================\n",
      "JobLevel: Number of unique values 5\n",
      "==========================================================\n",
      "JobRole: Number of unique values 9\n",
      "==========================================================\n",
      "JobSatisfaction: Number of unique values 4\n",
      "==========================================================\n",
      "MaritalStatus: Number of unique values 3\n",
      "==========================================================\n",
      "MonthlyIncome: Number of unique values 1349\n",
      "==========================================================\n",
      "MonthlyRate: Number of unique values 1427\n",
      "==========================================================\n",
      "NumCompaniesWorked: Number of unique values 10\n",
      "==========================================================\n",
      "Over18: Number of unique values 1\n",
      "==========================================================\n",
      "OverTime: Number of unique values 2\n",
      "==========================================================\n",
      "PercentSalaryHike: Number of unique values 15\n",
      "==========================================================\n",
      "PerformanceRating: Number of unique values 2\n",
      "==========================================================\n",
      "RelationshipSatisfaction: Number of unique values 4\n",
      "==========================================================\n",
      "StandardHours: Number of unique values 1\n",
      "==========================================================\n",
      "StockOptionLevel: Number of unique values 4\n",
      "==========================================================\n",
      "TotalWorkingYears: Number of unique values 40\n",
      "==========================================================\n",
      "TrainingTimesLastYear: Number of unique values 7\n",
      "==========================================================\n",
      "WorkLifeBalance: Number of unique values 4\n",
      "==========================================================\n",
      "YearsAtCompany: Number of unique values 37\n",
      "==========================================================\n",
      "YearsInCurrentRole: Number of unique values 19\n",
      "==========================================================\n",
      "YearsSinceLastPromotion: Number of unique values 16\n",
      "==========================================================\n",
      "YearsWithCurrManager: Number of unique values 18\n",
      "==========================================================\n"
     ]
    }
   ],
   "source": [
    "for column in df.columns:\n",
    "    print(f\"{column}: Number of unique values {df[column].nunique()}\")\n",
    "    print(\"==========================================================\")"
   ]
  },
  {
   "cell_type": "markdown",
   "metadata": {},
   "source": [
    "# 'EmployeeCount', 'Over18', 'StandardHours' have only one unique values and 'EmployeeNumber' has 1470 unique values. This features aren't useful for us, So we are going to drop those columns."
   ]
  },
  {
   "cell_type": "code",
   "execution_count": 5,
   "metadata": {
    "scrolled": false
   },
   "outputs": [
    {
     "data": {
      "text/html": [
       "<div>\n",
       "<style scoped>\n",
       "    .dataframe tbody tr th:only-of-type {\n",
       "        vertical-align: middle;\n",
       "    }\n",
       "\n",
       "    .dataframe tbody tr th {\n",
       "        vertical-align: top;\n",
       "    }\n",
       "\n",
       "    .dataframe thead th {\n",
       "        text-align: right;\n",
       "    }\n",
       "</style>\n",
       "<table border=\"1\" class=\"dataframe\">\n",
       "  <thead>\n",
       "    <tr style=\"text-align: right;\">\n",
       "      <th></th>\n",
       "      <th>Age</th>\n",
       "      <th>Attrition</th>\n",
       "      <th>BusinessTravel</th>\n",
       "      <th>DailyRate</th>\n",
       "      <th>Department</th>\n",
       "      <th>DistanceFromHome</th>\n",
       "      <th>Education</th>\n",
       "      <th>EducationField</th>\n",
       "      <th>EnvironmentSatisfaction</th>\n",
       "      <th>Gender</th>\n",
       "      <th>...</th>\n",
       "      <th>PerformanceRating</th>\n",
       "      <th>RelationshipSatisfaction</th>\n",
       "      <th>StockOptionLevel</th>\n",
       "      <th>TotalWorkingYears</th>\n",
       "      <th>TrainingTimesLastYear</th>\n",
       "      <th>WorkLifeBalance</th>\n",
       "      <th>YearsAtCompany</th>\n",
       "      <th>YearsInCurrentRole</th>\n",
       "      <th>YearsSinceLastPromotion</th>\n",
       "      <th>YearsWithCurrManager</th>\n",
       "    </tr>\n",
       "  </thead>\n",
       "  <tbody>\n",
       "    <tr>\n",
       "      <th>0</th>\n",
       "      <td>41</td>\n",
       "      <td>Yes</td>\n",
       "      <td>Travel_Rarely</td>\n",
       "      <td>1102</td>\n",
       "      <td>Sales</td>\n",
       "      <td>1</td>\n",
       "      <td>2</td>\n",
       "      <td>Life Sciences</td>\n",
       "      <td>2</td>\n",
       "      <td>Female</td>\n",
       "      <td>...</td>\n",
       "      <td>3</td>\n",
       "      <td>1</td>\n",
       "      <td>0</td>\n",
       "      <td>8</td>\n",
       "      <td>0</td>\n",
       "      <td>1</td>\n",
       "      <td>6</td>\n",
       "      <td>4</td>\n",
       "      <td>0</td>\n",
       "      <td>5</td>\n",
       "    </tr>\n",
       "    <tr>\n",
       "      <th>1</th>\n",
       "      <td>49</td>\n",
       "      <td>No</td>\n",
       "      <td>Travel_Frequently</td>\n",
       "      <td>279</td>\n",
       "      <td>Research &amp; Development</td>\n",
       "      <td>8</td>\n",
       "      <td>1</td>\n",
       "      <td>Life Sciences</td>\n",
       "      <td>3</td>\n",
       "      <td>Male</td>\n",
       "      <td>...</td>\n",
       "      <td>4</td>\n",
       "      <td>4</td>\n",
       "      <td>1</td>\n",
       "      <td>10</td>\n",
       "      <td>3</td>\n",
       "      <td>3</td>\n",
       "      <td>10</td>\n",
       "      <td>7</td>\n",
       "      <td>1</td>\n",
       "      <td>7</td>\n",
       "    </tr>\n",
       "    <tr>\n",
       "      <th>2</th>\n",
       "      <td>37</td>\n",
       "      <td>Yes</td>\n",
       "      <td>Travel_Rarely</td>\n",
       "      <td>1373</td>\n",
       "      <td>Research &amp; Development</td>\n",
       "      <td>2</td>\n",
       "      <td>2</td>\n",
       "      <td>Other</td>\n",
       "      <td>4</td>\n",
       "      <td>Male</td>\n",
       "      <td>...</td>\n",
       "      <td>3</td>\n",
       "      <td>2</td>\n",
       "      <td>0</td>\n",
       "      <td>7</td>\n",
       "      <td>3</td>\n",
       "      <td>3</td>\n",
       "      <td>0</td>\n",
       "      <td>0</td>\n",
       "      <td>0</td>\n",
       "      <td>0</td>\n",
       "    </tr>\n",
       "    <tr>\n",
       "      <th>3</th>\n",
       "      <td>33</td>\n",
       "      <td>No</td>\n",
       "      <td>Travel_Frequently</td>\n",
       "      <td>1392</td>\n",
       "      <td>Research &amp; Development</td>\n",
       "      <td>3</td>\n",
       "      <td>4</td>\n",
       "      <td>Life Sciences</td>\n",
       "      <td>4</td>\n",
       "      <td>Female</td>\n",
       "      <td>...</td>\n",
       "      <td>3</td>\n",
       "      <td>3</td>\n",
       "      <td>0</td>\n",
       "      <td>8</td>\n",
       "      <td>3</td>\n",
       "      <td>3</td>\n",
       "      <td>8</td>\n",
       "      <td>7</td>\n",
       "      <td>3</td>\n",
       "      <td>0</td>\n",
       "    </tr>\n",
       "    <tr>\n",
       "      <th>4</th>\n",
       "      <td>27</td>\n",
       "      <td>No</td>\n",
       "      <td>Travel_Rarely</td>\n",
       "      <td>591</td>\n",
       "      <td>Research &amp; Development</td>\n",
       "      <td>2</td>\n",
       "      <td>1</td>\n",
       "      <td>Medical</td>\n",
       "      <td>1</td>\n",
       "      <td>Male</td>\n",
       "      <td>...</td>\n",
       "      <td>3</td>\n",
       "      <td>4</td>\n",
       "      <td>1</td>\n",
       "      <td>6</td>\n",
       "      <td>3</td>\n",
       "      <td>3</td>\n",
       "      <td>2</td>\n",
       "      <td>2</td>\n",
       "      <td>2</td>\n",
       "      <td>2</td>\n",
       "    </tr>\n",
       "    <tr>\n",
       "      <th>...</th>\n",
       "      <td>...</td>\n",
       "      <td>...</td>\n",
       "      <td>...</td>\n",
       "      <td>...</td>\n",
       "      <td>...</td>\n",
       "      <td>...</td>\n",
       "      <td>...</td>\n",
       "      <td>...</td>\n",
       "      <td>...</td>\n",
       "      <td>...</td>\n",
       "      <td>...</td>\n",
       "      <td>...</td>\n",
       "      <td>...</td>\n",
       "      <td>...</td>\n",
       "      <td>...</td>\n",
       "      <td>...</td>\n",
       "      <td>...</td>\n",
       "      <td>...</td>\n",
       "      <td>...</td>\n",
       "      <td>...</td>\n",
       "      <td>...</td>\n",
       "    </tr>\n",
       "    <tr>\n",
       "      <th>1465</th>\n",
       "      <td>36</td>\n",
       "      <td>No</td>\n",
       "      <td>Travel_Frequently</td>\n",
       "      <td>884</td>\n",
       "      <td>Research &amp; Development</td>\n",
       "      <td>23</td>\n",
       "      <td>2</td>\n",
       "      <td>Medical</td>\n",
       "      <td>3</td>\n",
       "      <td>Male</td>\n",
       "      <td>...</td>\n",
       "      <td>3</td>\n",
       "      <td>3</td>\n",
       "      <td>1</td>\n",
       "      <td>17</td>\n",
       "      <td>3</td>\n",
       "      <td>3</td>\n",
       "      <td>5</td>\n",
       "      <td>2</td>\n",
       "      <td>0</td>\n",
       "      <td>3</td>\n",
       "    </tr>\n",
       "    <tr>\n",
       "      <th>1466</th>\n",
       "      <td>39</td>\n",
       "      <td>No</td>\n",
       "      <td>Travel_Rarely</td>\n",
       "      <td>613</td>\n",
       "      <td>Research &amp; Development</td>\n",
       "      <td>6</td>\n",
       "      <td>1</td>\n",
       "      <td>Medical</td>\n",
       "      <td>4</td>\n",
       "      <td>Male</td>\n",
       "      <td>...</td>\n",
       "      <td>3</td>\n",
       "      <td>1</td>\n",
       "      <td>1</td>\n",
       "      <td>9</td>\n",
       "      <td>5</td>\n",
       "      <td>3</td>\n",
       "      <td>7</td>\n",
       "      <td>7</td>\n",
       "      <td>1</td>\n",
       "      <td>7</td>\n",
       "    </tr>\n",
       "    <tr>\n",
       "      <th>1467</th>\n",
       "      <td>27</td>\n",
       "      <td>No</td>\n",
       "      <td>Travel_Rarely</td>\n",
       "      <td>155</td>\n",
       "      <td>Research &amp; Development</td>\n",
       "      <td>4</td>\n",
       "      <td>3</td>\n",
       "      <td>Life Sciences</td>\n",
       "      <td>2</td>\n",
       "      <td>Male</td>\n",
       "      <td>...</td>\n",
       "      <td>4</td>\n",
       "      <td>2</td>\n",
       "      <td>1</td>\n",
       "      <td>6</td>\n",
       "      <td>0</td>\n",
       "      <td>3</td>\n",
       "      <td>6</td>\n",
       "      <td>2</td>\n",
       "      <td>0</td>\n",
       "      <td>3</td>\n",
       "    </tr>\n",
       "    <tr>\n",
       "      <th>1468</th>\n",
       "      <td>49</td>\n",
       "      <td>No</td>\n",
       "      <td>Travel_Frequently</td>\n",
       "      <td>1023</td>\n",
       "      <td>Sales</td>\n",
       "      <td>2</td>\n",
       "      <td>3</td>\n",
       "      <td>Medical</td>\n",
       "      <td>4</td>\n",
       "      <td>Male</td>\n",
       "      <td>...</td>\n",
       "      <td>3</td>\n",
       "      <td>4</td>\n",
       "      <td>0</td>\n",
       "      <td>17</td>\n",
       "      <td>3</td>\n",
       "      <td>2</td>\n",
       "      <td>9</td>\n",
       "      <td>6</td>\n",
       "      <td>0</td>\n",
       "      <td>8</td>\n",
       "    </tr>\n",
       "    <tr>\n",
       "      <th>1469</th>\n",
       "      <td>34</td>\n",
       "      <td>No</td>\n",
       "      <td>Travel_Rarely</td>\n",
       "      <td>628</td>\n",
       "      <td>Research &amp; Development</td>\n",
       "      <td>8</td>\n",
       "      <td>3</td>\n",
       "      <td>Medical</td>\n",
       "      <td>2</td>\n",
       "      <td>Male</td>\n",
       "      <td>...</td>\n",
       "      <td>3</td>\n",
       "      <td>1</td>\n",
       "      <td>0</td>\n",
       "      <td>6</td>\n",
       "      <td>3</td>\n",
       "      <td>4</td>\n",
       "      <td>4</td>\n",
       "      <td>3</td>\n",
       "      <td>1</td>\n",
       "      <td>2</td>\n",
       "    </tr>\n",
       "  </tbody>\n",
       "</table>\n",
       "<p>1470 rows × 32 columns</p>\n",
       "</div>"
      ],
      "text/plain": [
       "      Age Attrition     BusinessTravel  DailyRate              Department  \\\n",
       "0      41       Yes      Travel_Rarely       1102                   Sales   \n",
       "1      49        No  Travel_Frequently        279  Research & Development   \n",
       "2      37       Yes      Travel_Rarely       1373  Research & Development   \n",
       "3      33        No  Travel_Frequently       1392  Research & Development   \n",
       "4      27        No      Travel_Rarely        591  Research & Development   \n",
       "...   ...       ...                ...        ...                     ...   \n",
       "1465   36        No  Travel_Frequently        884  Research & Development   \n",
       "1466   39        No      Travel_Rarely        613  Research & Development   \n",
       "1467   27        No      Travel_Rarely        155  Research & Development   \n",
       "1468   49        No  Travel_Frequently       1023                   Sales   \n",
       "1469   34        No      Travel_Rarely        628  Research & Development   \n",
       "\n",
       "      DistanceFromHome  Education EducationField  EnvironmentSatisfaction  \\\n",
       "0                    1          2  Life Sciences                        2   \n",
       "1                    8          1  Life Sciences                        3   \n",
       "2                    2          2          Other                        4   \n",
       "3                    3          4  Life Sciences                        4   \n",
       "4                    2          1        Medical                        1   \n",
       "...                ...        ...            ...                      ...   \n",
       "1465                23          2        Medical                        3   \n",
       "1466                 6          1        Medical                        4   \n",
       "1467                 4          3  Life Sciences                        2   \n",
       "1468                 2          3        Medical                        4   \n",
       "1469                 8          3        Medical                        2   \n",
       "\n",
       "      Gender  ...  PerformanceRating  RelationshipSatisfaction  \\\n",
       "0     Female  ...                  3                         1   \n",
       "1       Male  ...                  4                         4   \n",
       "2       Male  ...                  3                         2   \n",
       "3     Female  ...                  3                         3   \n",
       "4       Male  ...                  3                         4   \n",
       "...      ...  ...                ...                       ...   \n",
       "1465    Male  ...                  3                         3   \n",
       "1466    Male  ...                  3                         1   \n",
       "1467    Male  ...                  4                         2   \n",
       "1468    Male  ...                  3                         4   \n",
       "1469    Male  ...                  3                         1   \n",
       "\n",
       "      StockOptionLevel  TotalWorkingYears TrainingTimesLastYear  \\\n",
       "0                    0                  8                     0   \n",
       "1                    1                 10                     3   \n",
       "2                    0                  7                     3   \n",
       "3                    0                  8                     3   \n",
       "4                    1                  6                     3   \n",
       "...                ...                ...                   ...   \n",
       "1465                 1                 17                     3   \n",
       "1466                 1                  9                     5   \n",
       "1467                 1                  6                     0   \n",
       "1468                 0                 17                     3   \n",
       "1469                 0                  6                     3   \n",
       "\n",
       "      WorkLifeBalance YearsAtCompany  YearsInCurrentRole  \\\n",
       "0                   1              6                   4   \n",
       "1                   3             10                   7   \n",
       "2                   3              0                   0   \n",
       "3                   3              8                   7   \n",
       "4                   3              2                   2   \n",
       "...               ...            ...                 ...   \n",
       "1465                3              5                   2   \n",
       "1466                3              7                   7   \n",
       "1467                3              6                   2   \n",
       "1468                2              9                   6   \n",
       "1469                4              4                   3   \n",
       "\n",
       "      YearsSinceLastPromotion  YearsWithCurrManager  \n",
       "0                           0                     5  \n",
       "1                           1                     7  \n",
       "2                           0                     0  \n",
       "3                           3                     0  \n",
       "4                           2                     2  \n",
       "...                       ...                   ...  \n",
       "1465                        0                     3  \n",
       "1466                        1                     7  \n",
       "1467                        0                     3  \n",
       "1468                        0                     8  \n",
       "1469                        1                     2  \n",
       "\n",
       "[1470 rows x 32 columns]"
      ]
     },
     "execution_count": 5,
     "metadata": {},
     "output_type": "execute_result"
    }
   ],
   "source": [
    "df.drop(['EmployeeCount', 'EmployeeNumber', 'Over18', 'StandardHours'], axis=\"columns\", inplace=True)\n",
    "df"
   ]
  },
  {
   "cell_type": "markdown",
   "metadata": {},
   "source": [
    "# Categorical Features"
   ]
  },
  {
   "cell_type": "code",
   "execution_count": 6,
   "metadata": {},
   "outputs": [
    {
     "name": "stdout",
     "output_type": "stream",
     "text": [
      "Attrition : ['Yes' 'No']\n",
      "No     1233\n",
      "Yes     237\n",
      "Name: Attrition, dtype: int64\n",
      "====================================\n",
      "BusinessTravel : ['Travel_Rarely' 'Travel_Frequently' 'Non-Travel']\n",
      "Travel_Rarely        1043\n",
      "Travel_Frequently     277\n",
      "Non-Travel            150\n",
      "Name: BusinessTravel, dtype: int64\n",
      "====================================\n",
      "Department : ['Sales' 'Research & Development' 'Human Resources']\n",
      "Research & Development    961\n",
      "Sales                     446\n",
      "Human Resources            63\n",
      "Name: Department, dtype: int64\n",
      "====================================\n",
      "EducationField : ['Life Sciences' 'Other' 'Medical' 'Marketing' 'Technical Degree'\n",
      " 'Human Resources']\n",
      "Life Sciences       606\n",
      "Medical             464\n",
      "Marketing           159\n",
      "Technical Degree    132\n",
      "Other                82\n",
      "Human Resources      27\n",
      "Name: EducationField, dtype: int64\n",
      "====================================\n",
      "Gender : ['Female' 'Male']\n",
      "Male      882\n",
      "Female    588\n",
      "Name: Gender, dtype: int64\n",
      "====================================\n",
      "JobRole : ['Sales Executive' 'Research Scientist' 'Laboratory Technician'\n",
      " 'Manufacturing Director' 'Healthcare Representative' 'Manager'\n",
      " 'Sales Representative' 'Research Director' 'Human Resources']\n",
      "Sales Executive              326\n",
      "Research Scientist           292\n",
      "Laboratory Technician        259\n",
      "Manufacturing Director       145\n",
      "Healthcare Representative    131\n",
      "Manager                      102\n",
      "Sales Representative          83\n",
      "Research Director             80\n",
      "Human Resources               52\n",
      "Name: JobRole, dtype: int64\n",
      "====================================\n",
      "MaritalStatus : ['Single' 'Married' 'Divorced']\n",
      "Married     673\n",
      "Single      470\n",
      "Divorced    327\n",
      "Name: MaritalStatus, dtype: int64\n",
      "====================================\n",
      "OverTime : ['Yes' 'No']\n",
      "No     1054\n",
      "Yes     416\n",
      "Name: OverTime, dtype: int64\n",
      "====================================\n"
     ]
    }
   ],
   "source": [
    "object_col = []\n",
    "for column in df.columns:\n",
    "    if df[column].dtype == object and len(df[column].unique()) <= 30:\n",
    "        object_col.append(column)\n",
    "        print(f\"{column} : {df[column].unique()}\")\n",
    "        print(df[column].value_counts())\n",
    "        print(\"====================================\")\n",
    "object_col.remove('Attrition')"
   ]
  },
  {
   "cell_type": "code",
   "execution_count": 7,
   "metadata": {},
   "outputs": [],
   "source": [
    "df['Attrition'].replace({'Yes':1,'No':0},inplace = True)\n",
    "attrition = df[df['Attrition'] == 1]\n",
    "no_attrition = df[df['Attrition']==0]"
   ]
  },
  {
   "cell_type": "markdown",
   "metadata": {},
   "source": [
    "# Numerical Features"
   ]
  },
  {
   "cell_type": "code",
   "execution_count": 8,
   "metadata": {},
   "outputs": [
    {
     "name": "stdout",
     "output_type": "stream",
     "text": [
      "Attrition : [1 0]\n",
      "====================================\n",
      "DistanceFromHome : [ 1  8  2  3 24 23 27 16 15 26 19 21  5 11  9  7  6 10  4 25 12 18 29 22\n",
      " 14 20 28 17 13]\n",
      "====================================\n",
      "Education : [2 1 4 3 5]\n",
      "====================================\n",
      "EnvironmentSatisfaction : [2 3 4 1]\n",
      "====================================\n",
      "Experience_less_3years : [0 1]\n",
      "====================================\n",
      "JobInvolvement : [3 2 4 1]\n",
      "====================================\n",
      "JobLevel : [2 1 3 4 5]\n",
      "====================================\n",
      "JobSatisfaction : [4 2 3 1]\n",
      "====================================\n",
      "NumCompaniesWorked : [8 1 6 9 0 4 5 2 7 3]\n",
      "====================================\n",
      "PercentSalaryHike : [11 23 15 12 13 20 22 21 17 14 16 18 19 24 25]\n",
      "====================================\n",
      "PerformanceRating : [3 4]\n",
      "====================================\n",
      "RelationshipSatisfaction : [1 4 2 3]\n",
      "====================================\n",
      "StockOptionLevel : [0 1 3 2]\n",
      "====================================\n",
      "TrainingTimesLastYear : [0 3 2 5 1 4 6]\n",
      "====================================\n",
      "WorkLifeBalance : [1 3 2 4]\n",
      "====================================\n",
      "YearsInCurrentRole : [ 4  7  0  2  5  9  8  3  6 13  1 15 14 16 11 10 12 18 17]\n",
      "====================================\n",
      "YearsSinceLastPromotion : [ 0  1  3  2  7  4  8  6  5 15  9 13 12 10 11 14]\n",
      "====================================\n",
      "YearsWithCurrManager : [ 5  7  0  2  6  8  3 11 17  1  4 12  9 10 15 13 16 14]\n",
      "====================================\n"
     ]
    }
   ],
   "source": [
    "disc_col = []\n",
    "for column in df.columns:\n",
    "    if df[column].dtypes != object and df[column].nunique() < 30:\n",
    "        print(f\"{column} : {df[column].unique()}\")\n",
    "        disc_col.append(column)\n",
    "        print(\"====================================\")\n",
    "disc_col.remove('Attrition')"
   ]
  },
  {
   "cell_type": "code",
   "execution_count": 9,
   "metadata": {},
   "outputs": [
    {
     "name": "stdout",
     "output_type": "stream",
     "text": [
      "Age : Minimum: 18, Maximum: 60\n",
      "====================================\n",
      "DailyRate : Minimum: 102, Maximum: 1499\n",
      "====================================\n",
      "HourlyRate : Minimum: 30, Maximum: 100\n",
      "====================================\n",
      "MonthlyIncome : Minimum: 1009, Maximum: 19999\n",
      "====================================\n",
      "MonthlyRate : Minimum: 2094, Maximum: 26999\n",
      "====================================\n",
      "TotalWorkingYears : Minimum: 0, Maximum: 40\n",
      "====================================\n",
      "YearsAtCompany : Minimum: 0, Maximum: 40\n",
      "====================================\n"
     ]
    }
   ],
   "source": [
    "cont_col = []\n",
    "for column in df.columns:\n",
    "    if df[column].dtypes != object and df[column].nunique() > 30:\n",
    "        print(f\"{column} : Minimum: {df[column].min()}, Maximum: {df[column].max()}\")\n",
    "        cont_col.append(column)\n",
    "        print(\"====================================\")"
   ]
  },
  {
   "cell_type": "code",
   "execution_count": 10,
   "metadata": {},
   "outputs": [],
   "source": [
    "from scipy.stats import chi2_contingency\n",
    "from scipy.stats import chi2\n",
    "import scipy.stats as stats\n",
    "from sklearn.feature_selection import SelectKBest\n",
    "from sklearn.feature_selection import chi2 as sklearn_chi2"
   ]
  },
  {
   "cell_type": "code",
   "execution_count": null,
   "metadata": {},
   "outputs": [],
   "source": [
    "def chi2_test(i):\n",
    "    name= df.columns[i]\n",
    "    chi_squared_stat, p_value, dof, expected = chi2_contingency(pd.crosstab(df[name],df[\"Mental_Health_Status\"]))\n",
    "    print('Feature Name: {0} \\nCh2: {1}\\n P: {2}\\n DOF: {3}\\n Exp: {4}'.format(df.columns[i],chi_squared_stat,p_value,dof, expected))\n",
    "    print('Minimum expected value: {0} , Percentage of Exp val (<5): {1}'.format(expected.min(),len(expected[expected<5])/len(expected)*100 ))\n",
    "    if p_value <= 0.05:\n",
    "            print(\"Dependent (Association): Reject null Hypothesis\")\n",
    "    else:\n",
    "            print('Inependent (No Association): Fail to Reject null Hypothesis')\n",
    "    # Critical Value        \n",
    "    critical = stats.chi2.ppf(q = 0.95, df = dof) \n",
    "    print('Critical Value: ',critical)\n",
    "    if abs(chi_squared_stat)>=critical:\n",
    "            print('Dependent : Reject Hypothesis 0 (null Hypothesis)')\n",
    "    elif abs(chi_squared_stat)<critical:\n",
    "            print('Inependent : Fail to Reject Hypothesis 0 (null Hypothesis)')"
   ]
  },
  {
   "cell_type": "markdown",
   "metadata": {},
   "source": [
    "# 📉 Visualization of Categorical Features"
   ]
  },
  {
   "cell_type": "code",
   "execution_count": 10,
   "metadata": {},
   "outputs": [],
   "source": [
    "def categorical_column_viz(col_name):\n",
    "    \n",
    "    f,ax = plt.subplots(1,2, figsize=(10,6))\n",
    "  \n",
    "    # Count Plot\n",
    "    df[col_name].value_counts().plot.bar(cmap='Set2',ax=ax[0])\n",
    "    ax[1].set_title(f'Number of Employee by {col_name}')\n",
    "    ax[1].set_ylabel('Count')\n",
    "    ax[1].set_xlabel(f'{col_name}')\n",
    "    \n",
    "    # Attrition Count per factors\n",
    "    sns.countplot(col_name, hue='Attrition',data=df, ax=ax[1], palette='Set2')\n",
    "    ax[1].set_title(f'Attrition by {col_name}')\n",
    "    ax[1].set_xlabel(f'{col_name}')\n",
    "    ax[1].set_ylabel('Count')\n",
    "plt.show()"
   ]
  },
  {
   "cell_type": "code",
   "execution_count": 11,
   "metadata": {},
   "outputs": [
    {
     "data": {
      "image/png": "[encoded data removed]",
      "text/plain": [
       "<Figure size 720x432 with 2 Axes>"
      ]
     },
     "metadata": {
      "needs_background": "light"
     },
     "output_type": "display_data"
    }
   ],
   "source": [
    "categorical_column_viz('Department')"
   ]
  },
  {
   "cell_type": "markdown",
   "metadata": {},
   "source": [
    "# 📉 Visualization of Numerical Features"
   ]
  },
  {
   "cell_type": "code",
   "execution_count": 12,
   "metadata": {},
   "outputs": [],
   "source": [
    "def numerical_column_viz(col_name):\n",
    "    f,ax = plt.subplots(1,2, figsize=(18,6))\n",
    "    sns.kdeplot(attrition[col_name], label='Employee who left',legend=True,ax=ax[0], shade=True, color='palegreen')\n",
    "    sns.kdeplot(no_attrition[col_name], label='Employee who stayed',legend=True, ax=ax[0], shade=True, color='salmon')\n",
    "    \n",
    "    \n",
    "    sns.boxplot(y=col_name, x='Attrition',data=df, palette='Set3', ax=ax[1])\n",
    "  "
   ]
  },
  {
   "cell_type": "code",
   "execution_count": 13,
   "metadata": {},
   "outputs": [
    {
     "data": {
      "image/png": "[encoded data removed]",
      "text/plain": [
       "<Figure size 1296x432 with 2 Axes>"
      ]
     },
     "metadata": {
      "needs_background": "light"
     },
     "output_type": "display_data"
    }
   ],
   "source": [
    "numerical_column_viz(\"Age\")"
   ]
  },
  {
   "cell_type": "code",
   "execution_count": 14,
   "metadata": {
    "scrolled": true
   },
   "outputs": [
    {
     "data": {
      "image/png": "[encoded data removed]",
      "text/plain": [
       "<Figure size 1296x432 with 2 Axes>"
      ]
     },
     "metadata": {
      "needs_background": "light"
     },
     "output_type": "display_data"
    }
   ],
   "source": [
    "numerical_column_viz(\"DailyRate\")"
   ]
  },
  {
   "cell_type": "markdown",
   "metadata": {},
   "source": [
    "# Assign a new column named Total_Satisfaction"
   ]
  },
  {
   "cell_type": "code",
   "execution_count": 15,
   "metadata": {},
   "outputs": [],
   "source": [
    "# df['Total_Satisfaction'] = (df['EnvironmentSatisfaction'] + \n",
    "#                             df['JobInvolvement'] + \n",
    "#                             df['JobSatisfaction'] + \n",
    "#                             df['RelationshipSatisfaction'] +\n",
    "#                             df['WorkLifeBalance']+\n",
    "#                             df['YearsWithCurrManager']+\n",
    "#                             df['YearsInCurrentRole']) /7 \n",
    "\n",
    "# # Drop Columns\n",
    "# df.drop(['EnvironmentSatisfaction','JobInvolvement','JobSatisfaction','RelationshipSatisfaction','WorkLifeBalance','YearsWithCurrManager','YearsInCurrentRole'], axis=1, inplace=True)"
   ]
  },
  {
   "cell_type": "code",
   "execution_count": 16,
   "metadata": {},
   "outputs": [
    {
     "data": {
      "text/html": [
       "<div>\n",
       "<style scoped>\n",
       "    .dataframe tbody tr th:only-of-type {\n",
       "        vertical-align: middle;\n",
       "    }\n",
       "\n",
       "    .dataframe tbody tr th {\n",
       "        vertical-align: top;\n",
       "    }\n",
       "\n",
       "    .dataframe thead th {\n",
       "        text-align: right;\n",
       "    }\n",
       "</style>\n",
       "<table border=\"1\" class=\"dataframe\">\n",
       "  <thead>\n",
       "    <tr style=\"text-align: right;\">\n",
       "      <th></th>\n",
       "      <th>Age</th>\n",
       "      <th>Attrition</th>\n",
       "      <th>BusinessTravel</th>\n",
       "      <th>DailyRate</th>\n",
       "      <th>Department</th>\n",
       "      <th>DistanceFromHome</th>\n",
       "      <th>Education</th>\n",
       "      <th>EducationField</th>\n",
       "      <th>EnvironmentSatisfaction</th>\n",
       "      <th>Gender</th>\n",
       "      <th>...</th>\n",
       "      <th>PerformanceRating</th>\n",
       "      <th>RelationshipSatisfaction</th>\n",
       "      <th>StockOptionLevel</th>\n",
       "      <th>TotalWorkingYears</th>\n",
       "      <th>TrainingTimesLastYear</th>\n",
       "      <th>WorkLifeBalance</th>\n",
       "      <th>YearsAtCompany</th>\n",
       "      <th>YearsInCurrentRole</th>\n",
       "      <th>YearsSinceLastPromotion</th>\n",
       "      <th>YearsWithCurrManager</th>\n",
       "    </tr>\n",
       "  </thead>\n",
       "  <tbody>\n",
       "    <tr>\n",
       "      <th>0</th>\n",
       "      <td>41</td>\n",
       "      <td>1</td>\n",
       "      <td>Travel_Rarely</td>\n",
       "      <td>1102</td>\n",
       "      <td>Sales</td>\n",
       "      <td>1</td>\n",
       "      <td>2</td>\n",
       "      <td>Life Sciences</td>\n",
       "      <td>2</td>\n",
       "      <td>Female</td>\n",
       "      <td>...</td>\n",
       "      <td>3</td>\n",
       "      <td>1</td>\n",
       "      <td>0</td>\n",
       "      <td>8</td>\n",
       "      <td>0</td>\n",
       "      <td>1</td>\n",
       "      <td>6</td>\n",
       "      <td>4</td>\n",
       "      <td>0</td>\n",
       "      <td>5</td>\n",
       "    </tr>\n",
       "    <tr>\n",
       "      <th>1</th>\n",
       "      <td>49</td>\n",
       "      <td>0</td>\n",
       "      <td>Travel_Frequently</td>\n",
       "      <td>279</td>\n",
       "      <td>Research &amp; Development</td>\n",
       "      <td>8</td>\n",
       "      <td>1</td>\n",
       "      <td>Life Sciences</td>\n",
       "      <td>3</td>\n",
       "      <td>Male</td>\n",
       "      <td>...</td>\n",
       "      <td>4</td>\n",
       "      <td>4</td>\n",
       "      <td>1</td>\n",
       "      <td>10</td>\n",
       "      <td>3</td>\n",
       "      <td>3</td>\n",
       "      <td>10</td>\n",
       "      <td>7</td>\n",
       "      <td>1</td>\n",
       "      <td>7</td>\n",
       "    </tr>\n",
       "    <tr>\n",
       "      <th>2</th>\n",
       "      <td>37</td>\n",
       "      <td>1</td>\n",
       "      <td>Travel_Rarely</td>\n",
       "      <td>1373</td>\n",
       "      <td>Research &amp; Development</td>\n",
       "      <td>2</td>\n",
       "      <td>2</td>\n",
       "      <td>Other</td>\n",
       "      <td>4</td>\n",
       "      <td>Male</td>\n",
       "      <td>...</td>\n",
       "      <td>3</td>\n",
       "      <td>2</td>\n",
       "      <td>0</td>\n",
       "      <td>7</td>\n",
       "      <td>3</td>\n",
       "      <td>3</td>\n",
       "      <td>0</td>\n",
       "      <td>0</td>\n",
       "      <td>0</td>\n",
       "      <td>0</td>\n",
       "    </tr>\n",
       "    <tr>\n",
       "      <th>3</th>\n",
       "      <td>33</td>\n",
       "      <td>0</td>\n",
       "      <td>Travel_Frequently</td>\n",
       "      <td>1392</td>\n",
       "      <td>Research &amp; Development</td>\n",
       "      <td>3</td>\n",
       "      <td>4</td>\n",
       "      <td>Life Sciences</td>\n",
       "      <td>4</td>\n",
       "      <td>Female</td>\n",
       "      <td>...</td>\n",
       "      <td>3</td>\n",
       "      <td>3</td>\n",
       "      <td>0</td>\n",
       "      <td>8</td>\n",
       "      <td>3</td>\n",
       "      <td>3</td>\n",
       "      <td>8</td>\n",
       "      <td>7</td>\n",
       "      <td>3</td>\n",
       "      <td>0</td>\n",
       "    </tr>\n",
       "    <tr>\n",
       "      <th>4</th>\n",
       "      <td>27</td>\n",
       "      <td>0</td>\n",
       "      <td>Travel_Rarely</td>\n",
       "      <td>591</td>\n",
       "      <td>Research &amp; Development</td>\n",
       "      <td>2</td>\n",
       "      <td>1</td>\n",
       "      <td>Medical</td>\n",
       "      <td>1</td>\n",
       "      <td>Male</td>\n",
       "      <td>...</td>\n",
       "      <td>3</td>\n",
       "      <td>4</td>\n",
       "      <td>1</td>\n",
       "      <td>6</td>\n",
       "      <td>3</td>\n",
       "      <td>3</td>\n",
       "      <td>2</td>\n",
       "      <td>2</td>\n",
       "      <td>2</td>\n",
       "      <td>2</td>\n",
       "    </tr>\n",
       "    <tr>\n",
       "      <th>...</th>\n",
       "      <td>...</td>\n",
       "      <td>...</td>\n",
       "      <td>...</td>\n",
       "      <td>...</td>\n",
       "      <td>...</td>\n",
       "      <td>...</td>\n",
       "      <td>...</td>\n",
       "      <td>...</td>\n",
       "      <td>...</td>\n",
       "      <td>...</td>\n",
       "      <td>...</td>\n",
       "      <td>...</td>\n",
       "      <td>...</td>\n",
       "      <td>...</td>\n",
       "      <td>...</td>\n",
       "      <td>...</td>\n",
       "      <td>...</td>\n",
       "      <td>...</td>\n",
       "      <td>...</td>\n",
       "      <td>...</td>\n",
       "      <td>...</td>\n",
       "    </tr>\n",
       "    <tr>\n",
       "      <th>1465</th>\n",
       "      <td>36</td>\n",
       "      <td>0</td>\n",
       "      <td>Travel_Frequently</td>\n",
       "      <td>884</td>\n",
       "      <td>Research &amp; Development</td>\n",
       "      <td>23</td>\n",
       "      <td>2</td>\n",
       "      <td>Medical</td>\n",
       "      <td>3</td>\n",
       "      <td>Male</td>\n",
       "      <td>...</td>\n",
       "      <td>3</td>\n",
       "      <td>3</td>\n",
       "      <td>1</td>\n",
       "      <td>17</td>\n",
       "      <td>3</td>\n",
       "      <td>3</td>\n",
       "      <td>5</td>\n",
       "      <td>2</td>\n",
       "      <td>0</td>\n",
       "      <td>3</td>\n",
       "    </tr>\n",
       "    <tr>\n",
       "      <th>1466</th>\n",
       "      <td>39</td>\n",
       "      <td>0</td>\n",
       "      <td>Travel_Rarely</td>\n",
       "      <td>613</td>\n",
       "      <td>Research &amp; Development</td>\n",
       "      <td>6</td>\n",
       "      <td>1</td>\n",
       "      <td>Medical</td>\n",
       "      <td>4</td>\n",
       "      <td>Male</td>\n",
       "      <td>...</td>\n",
       "      <td>3</td>\n",
       "      <td>1</td>\n",
       "      <td>1</td>\n",
       "      <td>9</td>\n",
       "      <td>5</td>\n",
       "      <td>3</td>\n",
       "      <td>7</td>\n",
       "      <td>7</td>\n",
       "      <td>1</td>\n",
       "      <td>7</td>\n",
       "    </tr>\n",
       "    <tr>\n",
       "      <th>1467</th>\n",
       "      <td>27</td>\n",
       "      <td>0</td>\n",
       "      <td>Travel_Rarely</td>\n",
       "      <td>155</td>\n",
       "      <td>Research &amp; Development</td>\n",
       "      <td>4</td>\n",
       "      <td>3</td>\n",
       "      <td>Life Sciences</td>\n",
       "      <td>2</td>\n",
       "      <td>Male</td>\n",
       "      <td>...</td>\n",
       "      <td>4</td>\n",
       "      <td>2</td>\n",
       "      <td>1</td>\n",
       "      <td>6</td>\n",
       "      <td>0</td>\n",
       "      <td>3</td>\n",
       "      <td>6</td>\n",
       "      <td>2</td>\n",
       "      <td>0</td>\n",
       "      <td>3</td>\n",
       "    </tr>\n",
       "    <tr>\n",
       "      <th>1468</th>\n",
       "      <td>49</td>\n",
       "      <td>0</td>\n",
       "      <td>Travel_Frequently</td>\n",
       "      <td>1023</td>\n",
       "      <td>Sales</td>\n",
       "      <td>2</td>\n",
       "      <td>3</td>\n",
       "      <td>Medical</td>\n",
       "      <td>4</td>\n",
       "      <td>Male</td>\n",
       "      <td>...</td>\n",
       "      <td>3</td>\n",
       "      <td>4</td>\n",
       "      <td>0</td>\n",
       "      <td>17</td>\n",
       "      <td>3</td>\n",
       "      <td>2</td>\n",
       "      <td>9</td>\n",
       "      <td>6</td>\n",
       "      <td>0</td>\n",
       "      <td>8</td>\n",
       "    </tr>\n",
       "    <tr>\n",
       "      <th>1469</th>\n",
       "      <td>34</td>\n",
       "      <td>0</td>\n",
       "      <td>Travel_Rarely</td>\n",
       "      <td>628</td>\n",
       "      <td>Research &amp; Development</td>\n",
       "      <td>8</td>\n",
       "      <td>3</td>\n",
       "      <td>Medical</td>\n",
       "      <td>2</td>\n",
       "      <td>Male</td>\n",
       "      <td>...</td>\n",
       "      <td>3</td>\n",
       "      <td>1</td>\n",
       "      <td>0</td>\n",
       "      <td>6</td>\n",
       "      <td>3</td>\n",
       "      <td>4</td>\n",
       "      <td>4</td>\n",
       "      <td>3</td>\n",
       "      <td>1</td>\n",
       "      <td>2</td>\n",
       "    </tr>\n",
       "  </tbody>\n",
       "</table>\n",
       "<p>1470 rows × 32 columns</p>\n",
       "</div>"
      ],
      "text/plain": [
       "      Age  Attrition     BusinessTravel  DailyRate              Department  \\\n",
       "0      41          1      Travel_Rarely       1102                   Sales   \n",
       "1      49          0  Travel_Frequently        279  Research & Development   \n",
       "2      37          1      Travel_Rarely       1373  Research & Development   \n",
       "3      33          0  Travel_Frequently       1392  Research & Development   \n",
       "4      27          0      Travel_Rarely        591  Research & Development   \n",
       "...   ...        ...                ...        ...                     ...   \n",
       "1465   36          0  Travel_Frequently        884  Research & Development   \n",
       "1466   39          0      Travel_Rarely        613  Research & Development   \n",
       "1467   27          0      Travel_Rarely        155  Research & Development   \n",
       "1468   49          0  Travel_Frequently       1023                   Sales   \n",
       "1469   34          0      Travel_Rarely        628  Research & Development   \n",
       "\n",
       "      DistanceFromHome  Education EducationField  EnvironmentSatisfaction  \\\n",
       "0                    1          2  Life Sciences                        2   \n",
       "1                    8          1  Life Sciences                        3   \n",
       "2                    2          2          Other                        4   \n",
       "3                    3          4  Life Sciences                        4   \n",
       "4                    2          1        Medical                        1   \n",
       "...                ...        ...            ...                      ...   \n",
       "1465                23          2        Medical                        3   \n",
       "1466                 6          1        Medical                        4   \n",
       "1467                 4          3  Life Sciences                        2   \n",
       "1468                 2          3        Medical                        4   \n",
       "1469                 8          3        Medical                        2   \n",
       "\n",
       "      Gender  ...  PerformanceRating  RelationshipSatisfaction  \\\n",
       "0     Female  ...                  3                         1   \n",
       "1       Male  ...                  4                         4   \n",
       "2       Male  ...                  3                         2   \n",
       "3     Female  ...                  3                         3   \n",
       "4       Male  ...                  3                         4   \n",
       "...      ...  ...                ...                       ...   \n",
       "1465    Male  ...                  3                         3   \n",
       "1466    Male  ...                  3                         1   \n",
       "1467    Male  ...                  4                         2   \n",
       "1468    Male  ...                  3                         4   \n",
       "1469    Male  ...                  3                         1   \n",
       "\n",
       "      StockOptionLevel  TotalWorkingYears TrainingTimesLastYear  \\\n",
       "0                    0                  8                     0   \n",
       "1                    1                 10                     3   \n",
       "2                    0                  7                     3   \n",
       "3                    0                  8                     3   \n",
       "4                    1                  6                     3   \n",
       "...                ...                ...                   ...   \n",
       "1465                 1                 17                     3   \n",
       "1466                 1                  9                     5   \n",
       "1467                 1                  6                     0   \n",
       "1468                 0                 17                     3   \n",
       "1469                 0                  6                     3   \n",
       "\n",
       "      WorkLifeBalance YearsAtCompany  YearsInCurrentRole  \\\n",
       "0                   1              6                   4   \n",
       "1                   3             10                   7   \n",
       "2                   3              0                   0   \n",
       "3                   3              8                   7   \n",
       "4                   3              2                   2   \n",
       "...               ...            ...                 ...   \n",
       "1465                3              5                   2   \n",
       "1466                3              7                   7   \n",
       "1467                3              6                   2   \n",
       "1468                2              9                   6   \n",
       "1469                4              4                   3   \n",
       "\n",
       "      YearsSinceLastPromotion  YearsWithCurrManager  \n",
       "0                           0                     5  \n",
       "1                           1                     7  \n",
       "2                           0                     0  \n",
       "3                           3                     0  \n",
       "4                           2                     2  \n",
       "...                       ...                   ...  \n",
       "1465                        0                     3  \n",
       "1466                        1                     7  \n",
       "1467                        0                     3  \n",
       "1468                        0                     8  \n",
       "1469                        1                     2  \n",
       "\n",
       "[1470 rows x 32 columns]"
      ]
     },
     "execution_count": 16,
     "metadata": {},
     "output_type": "execute_result"
    }
   ],
   "source": [
    "df"
   ]
  },
  {
   "cell_type": "code",
   "execution_count": 17,
   "metadata": {},
   "outputs": [
    {
     "name": "stdout",
     "output_type": "stream",
     "text": [
      "BusinessTravel: ['Travel_Rarely' 'Travel_Frequently' 'Non-Travel']\n",
      "\n",
      "Department: ['Sales' 'Research & Development' 'Human Resources']\n",
      "\n",
      "EducationField: ['Life Sciences' 'Other' 'Medical' 'Marketing' 'Technical Degree'\n",
      " 'Human Resources']\n",
      "\n",
      "Gender: ['Female' 'Male']\n",
      "\n",
      "JobRole: ['Sales Executive' 'Research Scientist' 'Laboratory Technician'\n",
      " 'Manufacturing Director' 'Healthcare Representative' 'Manager'\n",
      " 'Sales Representative' 'Research Director' 'Human Resources']\n",
      "\n",
      "MaritalStatus: ['Single' 'Married' 'Divorced']\n",
      "\n",
      "OverTime: ['Yes' 'No']\n",
      "\n"
     ]
    }
   ],
   "source": [
    "for column in df:\n",
    "    if df[column].dtypes=='object':\n",
    "        print(f'{column}: {df[column].unique()}\\n') "
   ]
  },
  {
   "cell_type": "code",
   "execution_count": 18,
   "metadata": {
    "scrolled": false
   },
   "outputs": [
    {
     "name": "stdout",
     "output_type": "stream",
     "text": [
      "Age: [41 49 37 33 27 32 59 30 38 36 35 29 31 34 28 22 53 24 21 42 44 46 39 43\n",
      " 50 26 48 55 45 56 23 51 40 54 58 20 25 19 57 52 47 18 60]\n",
      "\n",
      "Attrition: [1 0]\n",
      "\n",
      "DailyRate: [1102  279 1373 1392  591 1005 1324 1358  216 1299  809  153  670 1346\n",
      "  103 1389  334 1123 1219  371  673 1218  419  391  699 1282 1125  691\n",
      "  477  705  924 1459  125  895  813 1273  869  890  852 1141  464 1240\n",
      " 1357  994  721 1360 1065  408 1211 1229  626 1434 1488 1097 1443  515\n",
      "  853 1142  655 1115  427  653  989 1435 1223  836 1195 1339  664  318\n",
      " 1225 1328 1082  548  132  746  776  193  397  945 1214  111  573 1153\n",
      " 1400  541  432  288  669  530  632 1334  638 1093 1217 1353  120  682\n",
      "  489  807  827  871  665 1040 1420  240 1280  534 1456  658  142 1127\n",
      " 1031 1189 1354 1467  922  394 1312  750  441  684  249  841  147  528\n",
      "  594  470  957  542  802 1355 1150 1329  959 1033 1316  364  438  689\n",
      "  201 1427  857  933 1181 1395  662 1436  194  967 1496 1169 1145  630\n",
      "  303 1256  440 1450 1452  465  702 1157  602 1480 1268  713  134  526\n",
      " 1380  140  629 1356  328 1084  931  692 1069  313  894  556 1344  290\n",
      "  138  926 1261  472 1002  878  905 1180  121 1136  635 1151  644 1045\n",
      "  829 1242 1469  896  992 1052 1147 1396  663  119  979  319 1413  944\n",
      " 1323  532  818  854 1034  771 1401 1431  976 1411 1300  252 1327  832\n",
      " 1017 1199  504  505  916 1247  685  269 1416  833  307 1311  128  488\n",
      "  529 1210 1463  675 1385 1403  452  666 1158  228  996  728 1315  322\n",
      " 1479  797 1070  442  496 1372  920  688 1449 1117  636  506  444  950\n",
      "  889  555  230 1232  566 1302  812 1476  218 1132 1105  906  849  390\n",
      "  106 1249  192  553  117  185 1091  723 1220  588 1377 1018 1275  798\n",
      "  672 1162  508 1482  559  210  928 1001  549 1124  738  570 1130 1192\n",
      "  343  144 1296 1309  483  810  544 1062 1319  641 1332  756  845  593\n",
      " 1171  350  921 1144  143 1046  575  156 1283  755  304 1178  329 1362\n",
      " 1371  202  253  164 1107  759 1305  982  821 1381  480 1473  891 1063\n",
      "  645 1490  317  422 1485 1368 1448  296 1398 1349  986 1099 1116 1499\n",
      "  983 1009 1303 1274 1277  587  413 1276  988 1474  163  267  619  302\n",
      "  443  828  561  426  232 1306 1094  509  775  195  258  471  799  956\n",
      "  535 1495  446 1245  703  823 1246  622 1287  448  254 1365  538  525\n",
      "  558  782  362 1236 1112  204 1343  604 1216  646  160  238 1397  306\n",
      "  991  482 1176  913 1076  727  885  243  806  817 1410 1207 1442  693\n",
      "  929  562  608  580  970 1179  294  314  316  654  168  381  217  501\n",
      "  650  141  804  975 1090  346  430  268  167  621  527  883  954  310\n",
      "  719  725  715  657 1146  182  376  571  384  791 1111 1243 1092 1325\n",
      "  805  213  118  676 1252  286 1258  932 1041  859  720  946 1184  436\n",
      "  589  760  887 1318  625  180  586 1012  661  930  342 1230 1271 1278\n",
      "  607  130  300  583 1418 1269  379  395 1265 1222  341  868 1231  102\n",
      "  881 1383 1075  374 1086  781  177  500 1425 1454  617 1085  995 1122\n",
      "  618  546  462 1198 1272  154 1137 1188  188 1333  867  263  938  129\n",
      "  616  498 1404 1053  289 1376  231  152  882  903 1379  335  722  461\n",
      "  974 1126  840 1134  248  955  939 1391 1206  287 1441  109 1066  277\n",
      "  466 1055  265  135  247 1035  266  145 1038 1234 1109 1089  788  124\n",
      "  660 1186 1464  796  415  769 1003 1366  330 1492 1204  309 1330  469\n",
      "  697 1262 1050  770  406  203 1308  984  439  793 1451 1182  174  490\n",
      "  718  433  773  603  874  367  199  481  647 1384  902  819  862 1457\n",
      "  977  942 1402 1421 1361  917  200  150  179  696  116  363  107 1465\n",
      "  458 1212 1103  966 1010  326 1098  969 1167  694 1320  536  373  599\n",
      "  251  131  237 1429  648  735  531  429  968  879  640  412  848  360\n",
      " 1138  325 1322  299 1030  634  524  256 1060  935  495  282  206  943\n",
      "  523  507  601  855 1291 1405 1369  999 1202  285  404  736 1498 1200\n",
      " 1439  499  205  683 1462  949  652  332 1475  337  971 1174  667  560\n",
      "  172  383 1255  359  401  377  592 1445 1221  866  981  447 1326  748\n",
      "  990  405  115  790  830 1193 1423  467  271  410 1083  516  224  136\n",
      " 1029  333 1440  674 1342  898  824  492  598  740  888 1288  104 1108\n",
      "  479 1351  474  437  884 1370  264 1059  563  457 1313  241 1015  336\n",
      " 1387  170  208  671  711  737 1470  365  763  567  486  772  301  311\n",
      "  584  880  392  148  708 1259  786  370  678  146  581  918 1238  585\n",
      "  741  552  369  717  543  964  792  611  176  897  600 1054  428  181\n",
      "  211 1079  590  305  953  478 1375  244  511 1294  196  734 1239 1253\n",
      " 1128 1336  234  766  261 1194  431  572 1422 1297  574  355  207  706\n",
      "  280  726  414  352 1224  459 1254 1131  835 1172 1266  783  219 1213\n",
      " 1096 1251 1394  605 1064 1337  937  157  754 1168  155 1444  189  911\n",
      " 1321 1154  557  642  801  161 1382 1037  105  582  704  345 1120 1378\n",
      "  468  613 1023  628]\n",
      "\n",
      "DistanceFromHome: [ 1  8  2  3 24 23 27 16 15 26 19 21  5 11  9  7  6 10  4 25 12 18 29 22\n",
      " 14 20 28 17 13]\n",
      "\n",
      "Education: [2 1 4 3 5]\n",
      "\n",
      "EnvironmentSatisfaction: [2 3 4 1]\n",
      "\n",
      "Experience_less_3years: [0 1]\n",
      "\n",
      "HourlyRate: [ 94  61  92  56  40  79  81  67  44  84  49  31  93  50  51  80  96  78\n",
      "  45  82  53  83  58  72  48  42  41  86  97  75  33  37  73  98  36  47\n",
      "  71  30  43  99  59  95  57  76  87  66  55  32  52  70  62  64  63  60\n",
      " 100  46  39  77  35  91  54  34  90  65  88  85  89  68  69  74  38]\n",
      "\n",
      "JobInvolvement: [3 2 4 1]\n",
      "\n",
      "JobLevel: [2 1 3 4 5]\n",
      "\n",
      "JobSatisfaction: [4 2 3 1]\n",
      "\n",
      "MonthlyIncome: [5993 5130 2090 ... 9991 5390 4404]\n",
      "\n",
      "MonthlyRate: [19479 24907  2396 ...  5174 13243 10228]\n",
      "\n",
      "NumCompaniesWorked: [8 1 6 9 0 4 5 2 7 3]\n",
      "\n",
      "PercentSalaryHike: [11 23 15 12 13 20 22 21 17 14 16 18 19 24 25]\n",
      "\n",
      "PerformanceRating: [3 4]\n",
      "\n",
      "RelationshipSatisfaction: [1 4 2 3]\n",
      "\n",
      "StockOptionLevel: [0 1 3 2]\n",
      "\n",
      "TotalWorkingYears: [ 8 10  7  6 12  1 17  5  3 31 13  0 26 24 22  9 19  2 23 14 15  4 29 28\n",
      " 21 25 20 11 16 37 38 30 40 18 36 34 32 33 35 27]\n",
      "\n",
      "TrainingTimesLastYear: [0 3 2 5 1 4 6]\n",
      "\n",
      "WorkLifeBalance: [1 3 2 4]\n",
      "\n",
      "YearsAtCompany: [ 6 10  0  8  2  7  1  9  5  4 25  3 12 14 22 15 27 21 17 11 13 37 16 20\n",
      " 40 24 33 19 36 18 29 31 32 34 26 30 23]\n",
      "\n",
      "YearsInCurrentRole: [ 4  7  0  2  5  9  8  3  6 13  1 15 14 16 11 10 12 18 17]\n",
      "\n",
      "YearsSinceLastPromotion: [ 0  1  3  2  7  4  8  6  5 15  9 13 12 10 11 14]\n",
      "\n",
      "YearsWithCurrManager: [ 5  7  0  2  6  8  3 11 17  1  4 12  9 10 15 13 16 14]\n",
      "\n"
     ]
    }
   ],
   "source": [
    "for column in df:\n",
    "    if df[column].dtypes!='object':\n",
    "        print(f'{column}: {df[column].unique()}\\n') "
   ]
  },
  {
   "cell_type": "markdown",
   "metadata": {},
   "source": [
    "# Feature visualization with count number"
   ]
  },
  {
   "cell_type": "code",
   "execution_count": 19,
   "metadata": {},
   "outputs": [],
   "source": [
    "def feature_visualization(name):\n",
    "    sns.set(style=\"darkgrid\")\n",
    "    sns.set_palette(\"hls\", 3)\n",
    "    fig, ax = plt.subplots(figsize=(20,9))\n",
    "    ax = sns.countplot(x=name, hue=\"Attrition\", data=df)\n",
    "\n",
    "    for p in ax.patches:\n",
    "        height = p.get_height()\n",
    "        ax.text(p.get_x()+p.get_width()/2.,\n",
    "                height + 2,\n",
    "                '{:0.0f}'.format(height),\n",
    "                ha=\"center\")  "
   ]
  },
  {
   "cell_type": "code",
   "execution_count": 20,
   "metadata": {},
   "outputs": [
    {
     "name": "stderr",
     "output_type": "stream",
     "text": [
      "posx and posy should be finite values\n",
      "posx and posy should be finite values\n",
      "posx and posy should be finite values\n",
      "posx and posy should be finite values\n",
      "posx and posy should be finite values\n",
      "posx and posy should be finite values\n",
      "posx and posy should be finite values\n",
      "posx and posy should be finite values\n"
     ]
    },
    {
     "data": {
      "image/png": "[encoded data removed]",
      "text/plain": [
       "<Figure size 1440x648 with 1 Axes>"
      ]
     },
     "metadata": {},
     "output_type": "display_data"
    }
   ],
   "source": [
    "feature_visualization('Age')"
   ]
  },
  {
   "cell_type": "code",
   "execution_count": 21,
   "metadata": {
    "scrolled": true
   },
   "outputs": [
    {
     "data": {
      "image/png": "[encoded data removed]",
      "text/plain": [
       "<Figure size 1440x648 with 1 Axes>"
      ]
     },
     "metadata": {},
     "output_type": "display_data"
    }
   ],
   "source": [
    "feature_visualization('NumCompaniesWorked')"
   ]
  },
  {
   "cell_type": "code",
   "execution_count": 22,
   "metadata": {},
   "outputs": [
    {
     "data": {
      "image/png": "[encoded data removed]",
      "text/plain": [
       "<Figure size 1440x648 with 1 Axes>"
      ]
     },
     "metadata": {},
     "output_type": "display_data"
    }
   ],
   "source": [
    "feature_visualization('OverTime')"
   ]
  },
  {
   "cell_type": "code",
   "execution_count": 23,
   "metadata": {},
   "outputs": [
    {
     "name": "stderr",
     "output_type": "stream",
     "text": [
      "posx and posy should be finite values\n",
      "posx and posy should be finite values\n",
      "posx and posy should be finite values\n",
      "posx and posy should be finite values\n",
      "posx and posy should be finite values\n",
      "posx and posy should be finite values\n",
      "posx and posy should be finite values\n",
      "posx and posy should be finite values\n",
      "posx and posy should be finite values\n",
      "posx and posy should be finite values\n",
      "posx and posy should be finite values\n",
      "posx and posy should be finite values\n",
      "posx and posy should be finite values\n",
      "posx and posy should be finite values\n",
      "posx and posy should be finite values\n",
      "posx and posy should be finite values\n",
      "posx and posy should be finite values\n",
      "posx and posy should be finite values\n"
     ]
    },
    {
     "data": {
      "image/png": "[encoded data removed]",
      "text/plain": [
       "<Figure size 1440x648 with 1 Axes>"
      ]
     },
     "metadata": {},
     "output_type": "display_data"
    }
   ],
   "source": [
    "feature_visualization('TotalWorkingYears')"
   ]
  },
  {
   "cell_type": "code",
   "execution_count": 24,
   "metadata": {},
   "outputs": [
    {
     "data": {
      "image/png": "[encoded data removed]",
      "text/plain": [
       "<Figure size 1440x648 with 1 Axes>"
      ]
     },
     "metadata": {},
     "output_type": "display_data"
    }
   ],
   "source": [
    "feature_visualization('TrainingTimesLastYear')"
   ]
  },
  {
   "cell_type": "code",
   "execution_count": 25,
   "metadata": {},
   "outputs": [
    {
     "name": "stderr",
     "output_type": "stream",
     "text": [
      "posx and posy should be finite values\n",
      "posx and posy should be finite values\n",
      "posx and posy should be finite values\n",
      "posx and posy should be finite values\n",
      "posx and posy should be finite values\n",
      "posx and posy should be finite values\n",
      "posx and posy should be finite values\n",
      "posx and posy should be finite values\n",
      "posx and posy should be finite values\n",
      "posx and posy should be finite values\n",
      "posx and posy should be finite values\n",
      "posx and posy should be finite values\n",
      "posx and posy should be finite values\n",
      "posx and posy should be finite values\n",
      "posx and posy should be finite values\n",
      "posx and posy should be finite values\n",
      "posx and posy should be finite values\n",
      "posx and posy should be finite values\n",
      "posx and posy should be finite values\n",
      "posx and posy should be finite values\n"
     ]
    },
    {
     "data": {
      "image/png": "[encoded data removed]",
      "text/plain": [
       "<Figure size 1440x648 with 1 Axes>"
      ]
     },
     "metadata": {},
     "output_type": "display_data"
    }
   ],
   "source": [
    "feature_visualization('YearsAtCompany')"
   ]
  },
  {
   "cell_type": "code",
   "execution_count": 26,
   "metadata": {},
   "outputs": [
    {
     "name": "stderr",
     "output_type": "stream",
     "text": [
      "posx and posy should be finite values\n",
      "posx and posy should be finite values\n",
      "posx and posy should be finite values\n",
      "posx and posy should be finite values\n"
     ]
    },
    {
     "data": {
      "image/png": "[encoded data removed]",
      "text/plain": [
       "<Figure size 1440x648 with 1 Axes>"
      ]
     },
     "metadata": {},
     "output_type": "display_data"
    }
   ],
   "source": [
    "feature_visualization('YearsSinceLastPromotion')"
   ]
  },
  {
   "cell_type": "markdown",
   "metadata": {},
   "source": [
    "# label Encoding"
   ]
  },
  {
   "cell_type": "code",
   "execution_count": 81,
   "metadata": {},
   "outputs": [],
   "source": [
    "label_encoder =  preprocessing.LabelEncoder()\n",
    "for column in df:\n",
    "    if df[column].dtypes=='object':  \n",
    "        df[column] = label_encoder.fit_transform(df[column])"
   ]
  },
  {
   "cell_type": "code",
   "execution_count": 82,
   "metadata": {},
   "outputs": [
    {
     "name": "stdout",
     "output_type": "stream",
     "text": [
      "<class 'pandas.core.frame.DataFrame'>\n",
      "RangeIndex: 1470 entries, 0 to 1469\n",
      "Data columns (total 32 columns):\n",
      " #   Column                    Non-Null Count  Dtype\n",
      "---  ------                    --------------  -----\n",
      " 0   Age                       1470 non-null   int64\n",
      " 1   Attrition                 1470 non-null   int64\n",
      " 2   BusinessTravel            1470 non-null   int32\n",
      " 3   DailyRate                 1470 non-null   int64\n",
      " 4   Department                1470 non-null   int32\n",
      " 5   DistanceFromHome          1470 non-null   int64\n",
      " 6   Education                 1470 non-null   int64\n",
      " 7   EducationField            1470 non-null   int32\n",
      " 8   EnvironmentSatisfaction   1470 non-null   int64\n",
      " 9   Gender                    1470 non-null   int32\n",
      " 10  Experience_less_3years    1470 non-null   int64\n",
      " 11  HourlyRate                1470 non-null   int64\n",
      " 12  JobInvolvement            1470 non-null   int64\n",
      " 13  JobLevel                  1470 non-null   int64\n",
      " 14  JobRole                   1470 non-null   int32\n",
      " 15  JobSatisfaction           1470 non-null   int64\n",
      " 16  MaritalStatus             1470 non-null   int32\n",
      " 17  MonthlyIncome             1470 non-null   int64\n",
      " 18  MonthlyRate               1470 non-null   int64\n",
      " 19  NumCompaniesWorked        1470 non-null   int64\n",
      " 20  OverTime                  1470 non-null   int32\n",
      " 21  PercentSalaryHike         1470 non-null   int64\n",
      " 22  PerformanceRating         1470 non-null   int64\n",
      " 23  RelationshipSatisfaction  1470 non-null   int64\n",
      " 24  StockOptionLevel          1470 non-null   int64\n",
      " 25  TotalWorkingYears         1470 non-null   int64\n",
      " 26  TrainingTimesLastYear     1470 non-null   int64\n",
      " 27  WorkLifeBalance           1470 non-null   int64\n",
      " 28  YearsAtCompany            1470 non-null   int64\n",
      " 29  YearsInCurrentRole        1470 non-null   int64\n",
      " 30  YearsSinceLastPromotion   1470 non-null   int64\n",
      " 31  YearsWithCurrManager      1470 non-null   int64\n",
      "dtypes: int32(7), int64(25)\n",
      "memory usage: 327.4 KB\n"
     ]
    }
   ],
   "source": [
    "df.info()"
   ]
  },
  {
   "cell_type": "code",
   "execution_count": 83,
   "metadata": {},
   "outputs": [],
   "source": [
    "x = df.drop(['Attrition'],axis = 1)\n",
    "y = df['Attrition']"
   ]
  },
  {
   "cell_type": "code",
   "execution_count": 84,
   "metadata": {
    "scrolled": true
   },
   "outputs": [
    {
     "data": {
      "text/html": [
       "<div>\n",
       "<style scoped>\n",
       "    .dataframe tbody tr th:only-of-type {\n",
       "        vertical-align: middle;\n",
       "    }\n",
       "\n",
       "    .dataframe tbody tr th {\n",
       "        vertical-align: top;\n",
       "    }\n",
       "\n",
       "    .dataframe thead th {\n",
       "        text-align: right;\n",
       "    }\n",
       "</style>\n",
       "<table border=\"1\" class=\"dataframe\">\n",
       "  <thead>\n",
       "    <tr style=\"text-align: right;\">\n",
       "      <th></th>\n",
       "      <th>Age</th>\n",
       "      <th>BusinessTravel</th>\n",
       "      <th>DailyRate</th>\n",
       "      <th>Department</th>\n",
       "      <th>DistanceFromHome</th>\n",
       "      <th>Education</th>\n",
       "      <th>EducationField</th>\n",
       "      <th>EnvironmentSatisfaction</th>\n",
       "      <th>Gender</th>\n",
       "      <th>Experience_less_3years</th>\n",
       "      <th>...</th>\n",
       "      <th>PerformanceRating</th>\n",
       "      <th>RelationshipSatisfaction</th>\n",
       "      <th>StockOptionLevel</th>\n",
       "      <th>TotalWorkingYears</th>\n",
       "      <th>TrainingTimesLastYear</th>\n",
       "      <th>WorkLifeBalance</th>\n",
       "      <th>YearsAtCompany</th>\n",
       "      <th>YearsInCurrentRole</th>\n",
       "      <th>YearsSinceLastPromotion</th>\n",
       "      <th>YearsWithCurrManager</th>\n",
       "    </tr>\n",
       "  </thead>\n",
       "  <tbody>\n",
       "    <tr>\n",
       "      <th>0</th>\n",
       "      <td>41</td>\n",
       "      <td>2</td>\n",
       "      <td>1102</td>\n",
       "      <td>2</td>\n",
       "      <td>1</td>\n",
       "      <td>2</td>\n",
       "      <td>1</td>\n",
       "      <td>2</td>\n",
       "      <td>0</td>\n",
       "      <td>0</td>\n",
       "      <td>...</td>\n",
       "      <td>3</td>\n",
       "      <td>1</td>\n",
       "      <td>0</td>\n",
       "      <td>8</td>\n",
       "      <td>0</td>\n",
       "      <td>1</td>\n",
       "      <td>6</td>\n",
       "      <td>4</td>\n",
       "      <td>0</td>\n",
       "      <td>5</td>\n",
       "    </tr>\n",
       "    <tr>\n",
       "      <th>1</th>\n",
       "      <td>49</td>\n",
       "      <td>1</td>\n",
       "      <td>279</td>\n",
       "      <td>1</td>\n",
       "      <td>8</td>\n",
       "      <td>1</td>\n",
       "      <td>1</td>\n",
       "      <td>3</td>\n",
       "      <td>1</td>\n",
       "      <td>0</td>\n",
       "      <td>...</td>\n",
       "      <td>4</td>\n",
       "      <td>4</td>\n",
       "      <td>1</td>\n",
       "      <td>10</td>\n",
       "      <td>3</td>\n",
       "      <td>3</td>\n",
       "      <td>10</td>\n",
       "      <td>7</td>\n",
       "      <td>1</td>\n",
       "      <td>7</td>\n",
       "    </tr>\n",
       "    <tr>\n",
       "      <th>2</th>\n",
       "      <td>37</td>\n",
       "      <td>2</td>\n",
       "      <td>1373</td>\n",
       "      <td>1</td>\n",
       "      <td>2</td>\n",
       "      <td>2</td>\n",
       "      <td>4</td>\n",
       "      <td>4</td>\n",
       "      <td>1</td>\n",
       "      <td>0</td>\n",
       "      <td>...</td>\n",
       "      <td>3</td>\n",
       "      <td>2</td>\n",
       "      <td>0</td>\n",
       "      <td>7</td>\n",
       "      <td>3</td>\n",
       "      <td>3</td>\n",
       "      <td>0</td>\n",
       "      <td>0</td>\n",
       "      <td>0</td>\n",
       "      <td>0</td>\n",
       "    </tr>\n",
       "    <tr>\n",
       "      <th>3</th>\n",
       "      <td>33</td>\n",
       "      <td>1</td>\n",
       "      <td>1392</td>\n",
       "      <td>1</td>\n",
       "      <td>3</td>\n",
       "      <td>4</td>\n",
       "      <td>1</td>\n",
       "      <td>4</td>\n",
       "      <td>0</td>\n",
       "      <td>0</td>\n",
       "      <td>...</td>\n",
       "      <td>3</td>\n",
       "      <td>3</td>\n",
       "      <td>0</td>\n",
       "      <td>8</td>\n",
       "      <td>3</td>\n",
       "      <td>3</td>\n",
       "      <td>8</td>\n",
       "      <td>7</td>\n",
       "      <td>3</td>\n",
       "      <td>0</td>\n",
       "    </tr>\n",
       "    <tr>\n",
       "      <th>4</th>\n",
       "      <td>27</td>\n",
       "      <td>2</td>\n",
       "      <td>591</td>\n",
       "      <td>1</td>\n",
       "      <td>2</td>\n",
       "      <td>1</td>\n",
       "      <td>3</td>\n",
       "      <td>1</td>\n",
       "      <td>1</td>\n",
       "      <td>0</td>\n",
       "      <td>...</td>\n",
       "      <td>3</td>\n",
       "      <td>4</td>\n",
       "      <td>1</td>\n",
       "      <td>6</td>\n",
       "      <td>3</td>\n",
       "      <td>3</td>\n",
       "      <td>2</td>\n",
       "      <td>2</td>\n",
       "      <td>2</td>\n",
       "      <td>2</td>\n",
       "    </tr>\n",
       "    <tr>\n",
       "      <th>...</th>\n",
       "      <td>...</td>\n",
       "      <td>...</td>\n",
       "      <td>...</td>\n",
       "      <td>...</td>\n",
       "      <td>...</td>\n",
       "      <td>...</td>\n",
       "      <td>...</td>\n",
       "      <td>...</td>\n",
       "      <td>...</td>\n",
       "      <td>...</td>\n",
       "      <td>...</td>\n",
       "      <td>...</td>\n",
       "      <td>...</td>\n",
       "      <td>...</td>\n",
       "      <td>...</td>\n",
       "      <td>...</td>\n",
       "      <td>...</td>\n",
       "      <td>...</td>\n",
       "      <td>...</td>\n",
       "      <td>...</td>\n",
       "      <td>...</td>\n",
       "    </tr>\n",
       "    <tr>\n",
       "      <th>1465</th>\n",
       "      <td>36</td>\n",
       "      <td>1</td>\n",
       "      <td>884</td>\n",
       "      <td>1</td>\n",
       "      <td>23</td>\n",
       "      <td>2</td>\n",
       "      <td>3</td>\n",
       "      <td>3</td>\n",
       "      <td>1</td>\n",
       "      <td>0</td>\n",
       "      <td>...</td>\n",
       "      <td>3</td>\n",
       "      <td>3</td>\n",
       "      <td>1</td>\n",
       "      <td>17</td>\n",
       "      <td>3</td>\n",
       "      <td>3</td>\n",
       "      <td>5</td>\n",
       "      <td>2</td>\n",
       "      <td>0</td>\n",
       "      <td>3</td>\n",
       "    </tr>\n",
       "    <tr>\n",
       "      <th>1466</th>\n",
       "      <td>39</td>\n",
       "      <td>2</td>\n",
       "      <td>613</td>\n",
       "      <td>1</td>\n",
       "      <td>6</td>\n",
       "      <td>1</td>\n",
       "      <td>3</td>\n",
       "      <td>4</td>\n",
       "      <td>1</td>\n",
       "      <td>0</td>\n",
       "      <td>...</td>\n",
       "      <td>3</td>\n",
       "      <td>1</td>\n",
       "      <td>1</td>\n",
       "      <td>9</td>\n",
       "      <td>5</td>\n",
       "      <td>3</td>\n",
       "      <td>7</td>\n",
       "      <td>7</td>\n",
       "      <td>1</td>\n",
       "      <td>7</td>\n",
       "    </tr>\n",
       "    <tr>\n",
       "      <th>1467</th>\n",
       "      <td>27</td>\n",
       "      <td>2</td>\n",
       "      <td>155</td>\n",
       "      <td>1</td>\n",
       "      <td>4</td>\n",
       "      <td>3</td>\n",
       "      <td>1</td>\n",
       "      <td>2</td>\n",
       "      <td>1</td>\n",
       "      <td>0</td>\n",
       "      <td>...</td>\n",
       "      <td>4</td>\n",
       "      <td>2</td>\n",
       "      <td>1</td>\n",
       "      <td>6</td>\n",
       "      <td>0</td>\n",
       "      <td>3</td>\n",
       "      <td>6</td>\n",
       "      <td>2</td>\n",
       "      <td>0</td>\n",
       "      <td>3</td>\n",
       "    </tr>\n",
       "    <tr>\n",
       "      <th>1468</th>\n",
       "      <td>49</td>\n",
       "      <td>1</td>\n",
       "      <td>1023</td>\n",
       "      <td>2</td>\n",
       "      <td>2</td>\n",
       "      <td>3</td>\n",
       "      <td>3</td>\n",
       "      <td>4</td>\n",
       "      <td>1</td>\n",
       "      <td>0</td>\n",
       "      <td>...</td>\n",
       "      <td>3</td>\n",
       "      <td>4</td>\n",
       "      <td>0</td>\n",
       "      <td>17</td>\n",
       "      <td>3</td>\n",
       "      <td>2</td>\n",
       "      <td>9</td>\n",
       "      <td>6</td>\n",
       "      <td>0</td>\n",
       "      <td>8</td>\n",
       "    </tr>\n",
       "    <tr>\n",
       "      <th>1469</th>\n",
       "      <td>34</td>\n",
       "      <td>2</td>\n",
       "      <td>628</td>\n",
       "      <td>1</td>\n",
       "      <td>8</td>\n",
       "      <td>3</td>\n",
       "      <td>3</td>\n",
       "      <td>2</td>\n",
       "      <td>1</td>\n",
       "      <td>0</td>\n",
       "      <td>...</td>\n",
       "      <td>3</td>\n",
       "      <td>1</td>\n",
       "      <td>0</td>\n",
       "      <td>6</td>\n",
       "      <td>3</td>\n",
       "      <td>4</td>\n",
       "      <td>4</td>\n",
       "      <td>3</td>\n",
       "      <td>1</td>\n",
       "      <td>2</td>\n",
       "    </tr>\n",
       "  </tbody>\n",
       "</table>\n",
       "<p>1470 rows × 31 columns</p>\n",
       "</div>"
      ],
      "text/plain": [
       "      Age  BusinessTravel  DailyRate  Department  DistanceFromHome  Education  \\\n",
       "0      41               2       1102           2                 1          2   \n",
       "1      49               1        279           1                 8          1   \n",
       "2      37               2       1373           1                 2          2   \n",
       "3      33               1       1392           1                 3          4   \n",
       "4      27               2        591           1                 2          1   \n",
       "...   ...             ...        ...         ...               ...        ...   \n",
       "1465   36               1        884           1                23          2   \n",
       "1466   39               2        613           1                 6          1   \n",
       "1467   27               2        155           1                 4          3   \n",
       "1468   49               1       1023           2                 2          3   \n",
       "1469   34               2        628           1                 8          3   \n",
       "\n",
       "      EducationField  EnvironmentSatisfaction  Gender  Experience_less_3years  \\\n",
       "0                  1                        2       0                       0   \n",
       "1                  1                        3       1                       0   \n",
       "2                  4                        4       1                       0   \n",
       "3                  1                        4       0                       0   \n",
       "4                  3                        1       1                       0   \n",
       "...              ...                      ...     ...                     ...   \n",
       "1465               3                        3       1                       0   \n",
       "1466               3                        4       1                       0   \n",
       "1467               1                        2       1                       0   \n",
       "1468               3                        4       1                       0   \n",
       "1469               3                        2       1                       0   \n",
       "\n",
       "      ...  PerformanceRating  RelationshipSatisfaction  StockOptionLevel  \\\n",
       "0     ...                  3                         1                 0   \n",
       "1     ...                  4                         4                 1   \n",
       "2     ...                  3                         2                 0   \n",
       "3     ...                  3                         3                 0   \n",
       "4     ...                  3                         4                 1   \n",
       "...   ...                ...                       ...               ...   \n",
       "1465  ...                  3                         3                 1   \n",
       "1466  ...                  3                         1                 1   \n",
       "1467  ...                  4                         2                 1   \n",
       "1468  ...                  3                         4                 0   \n",
       "1469  ...                  3                         1                 0   \n",
       "\n",
       "      TotalWorkingYears  TrainingTimesLastYear  WorkLifeBalance  \\\n",
       "0                     8                      0                1   \n",
       "1                    10                      3                3   \n",
       "2                     7                      3                3   \n",
       "3                     8                      3                3   \n",
       "4                     6                      3                3   \n",
       "...                 ...                    ...              ...   \n",
       "1465                 17                      3                3   \n",
       "1466                  9                      5                3   \n",
       "1467                  6                      0                3   \n",
       "1468                 17                      3                2   \n",
       "1469                  6                      3                4   \n",
       "\n",
       "      YearsAtCompany  YearsInCurrentRole  YearsSinceLastPromotion  \\\n",
       "0                  6                   4                        0   \n",
       "1                 10                   7                        1   \n",
       "2                  0                   0                        0   \n",
       "3                  8                   7                        3   \n",
       "4                  2                   2                        2   \n",
       "...              ...                 ...                      ...   \n",
       "1465               5                   2                        0   \n",
       "1466               7                   7                        1   \n",
       "1467               6                   2                        0   \n",
       "1468               9                   6                        0   \n",
       "1469               4                   3                        1   \n",
       "\n",
       "      YearsWithCurrManager  \n",
       "0                        5  \n",
       "1                        7  \n",
       "2                        0  \n",
       "3                        0  \n",
       "4                        2  \n",
       "...                    ...  \n",
       "1465                     3  \n",
       "1466                     7  \n",
       "1467                     3  \n",
       "1468                     8  \n",
       "1469                     2  \n",
       "\n",
       "[1470 rows x 31 columns]"
      ]
     },
     "execution_count": 84,
     "metadata": {},
     "output_type": "execute_result"
    }
   ],
   "source": [
    "x"
   ]
  },
  {
   "cell_type": "code",
   "execution_count": 85,
   "metadata": {
    "scrolled": true
   },
   "outputs": [
    {
     "data": {
      "text/plain": [
       "0       1\n",
       "1       0\n",
       "2       1\n",
       "3       0\n",
       "4       0\n",
       "       ..\n",
       "1465    0\n",
       "1466    0\n",
       "1467    0\n",
       "1468    0\n",
       "1469    0\n",
       "Name: Attrition, Length: 1470, dtype: int64"
      ]
     },
     "execution_count": 85,
     "metadata": {},
     "output_type": "execute_result"
    }
   ],
   "source": [
    "y"
   ]
  },
  {
   "cell_type": "markdown",
   "metadata": {},
   "source": [
    "# Working with 32 columns"
   ]
  },
  {
   "cell_type": "code",
   "execution_count": 86,
   "metadata": {},
   "outputs": [],
   "source": [
    "xtrain,xtest,ytrain,ytest = train_test_split(x,y, test_size=0.2, random_state=225, stratify=y)"
   ]
  },
  {
   "cell_type": "markdown",
   "metadata": {},
   "source": [
    "# RF"
   ]
  },
  {
   "cell_type": "code",
   "execution_count": 87,
   "metadata": {},
   "outputs": [],
   "source": [
    "from sklearn.ensemble import RandomForestClassifier\n",
    "rnf = RandomForestClassifier(n_estimators=100, random_state=168)"
   ]
  },
  {
   "cell_type": "code",
   "execution_count": 88,
   "metadata": {},
   "outputs": [
    {
     "data": {
      "text/plain": [
       "RandomForestClassifier(random_state=168)"
      ]
     },
     "execution_count": 88,
     "metadata": {},
     "output_type": "execute_result"
    }
   ],
   "source": [
    "rnf.fit(xtrain,ytrain)"
   ]
  },
  {
   "cell_type": "code",
   "execution_count": 89,
   "metadata": {},
   "outputs": [
    {
     "name": "stdout",
     "output_type": "stream",
     "text": [
      "\n",
      "Training Accuracy :  1.0\n",
      "\n",
      "Testing Accuracy :  0.8707482993197279\n"
     ]
    }
   ],
   "source": [
    "# Accuracy on Training \n",
    "predictions_train = rnf.predict(xtrain)\n",
    "print(\"\\nTraining Accuracy : \", accuracy_score(ytrain,predictions_train))\n",
    "# Accuracy on Testing\n",
    "predictions_test = rnf.predict(xtest)\n",
    "print(\"\\nTesting Accuracy : \", accuracy_score(ytest,predictions_test))"
   ]
  },
  {
   "cell_type": "markdown",
   "metadata": {},
   "source": [
    "# XGBoost"
   ]
  },
  {
   "cell_type": "code",
   "execution_count": 90,
   "metadata": {},
   "outputs": [
    {
     "name": "stdout",
     "output_type": "stream",
     "text": [
      "[23:18:23] WARNING: C:/Users/Administrator/workspace/xgboost-win64_release_1.4.0/src/learner.cc:1095: Starting in XGBoost 1.3.0, the default evaluation metric used with the objective 'binary:logistic' was changed from 'error' to 'logloss'. Explicitly set eval_metric if you'd like to restore the old behavior.\n",
      "\n",
      "Training Accuracy : 1.0\n",
      "\n",
      "Testing Accuracy : 0.8571428571428571\n"
     ]
    }
   ],
   "source": [
    "from xgboost import XGBClassifier\n",
    "classifier=XGBClassifier()\n",
    "classifier.fit(xtrain,ytrain)\n",
    "\n",
    "predictions_train =classifier.predict(xtrain)\n",
    "acc=accuracy_score(ytrain, predictions_train)\n",
    "print('\\nTraining Accuracy :', acc)\n",
    "\n",
    "predictions_test = classifier.predict(xtest)\n",
    "accc=accuracy_score(ytest, predictions_test)\n",
    "print('\\nTesting Accuracy :', accc)"
   ]
  },
  {
   "cell_type": "markdown",
   "metadata": {},
   "source": [
    "# Catboost"
   ]
  },
  {
   "cell_type": "code",
   "execution_count": 91,
   "metadata": {},
   "outputs": [
    {
     "name": "stdout",
     "output_type": "stream",
     "text": [
      "0:\tlearn: 0.5661630\ttotal: 11.1ms\tremaining: 1.1s\n",
      "1:\tlearn: 0.4759794\ttotal: 14.9ms\tremaining: 732ms\n",
      "2:\tlearn: 0.4232116\ttotal: 18.8ms\tremaining: 607ms\n",
      "3:\tlearn: 0.3913938\ttotal: 22.9ms\tremaining: 548ms\n",
      "4:\tlearn: 0.3667126\ttotal: 27.2ms\tremaining: 517ms\n",
      "5:\tlearn: 0.3438542\ttotal: 31.4ms\tremaining: 492ms\n",
      "6:\tlearn: 0.3271981\ttotal: 35.1ms\tremaining: 467ms\n",
      "7:\tlearn: 0.3111682\ttotal: 39.2ms\tremaining: 450ms\n",
      "8:\tlearn: 0.3018328\ttotal: 42.8ms\tremaining: 433ms\n",
      "9:\tlearn: 0.2905321\ttotal: 47ms\tremaining: 423ms\n",
      "10:\tlearn: 0.2812758\ttotal: 50.6ms\tremaining: 410ms\n",
      "11:\tlearn: 0.2709743\ttotal: 54.4ms\tremaining: 399ms\n",
      "12:\tlearn: 0.2628145\ttotal: 58.2ms\tremaining: 390ms\n",
      "13:\tlearn: 0.2578145\ttotal: 62.1ms\tremaining: 382ms\n",
      "14:\tlearn: 0.2499083\ttotal: 66.9ms\tremaining: 379ms\n",
      "15:\tlearn: 0.2404299\ttotal: 71ms\tremaining: 373ms\n",
      "16:\tlearn: 0.2349911\ttotal: 74.6ms\tremaining: 364ms\n",
      "17:\tlearn: 0.2292631\ttotal: 78.5ms\tremaining: 358ms\n",
      "18:\tlearn: 0.2229366\ttotal: 82.2ms\tremaining: 351ms\n",
      "19:\tlearn: 0.2206373\ttotal: 86.2ms\tremaining: 345ms\n",
      "20:\tlearn: 0.2145124\ttotal: 90ms\tremaining: 339ms\n",
      "21:\tlearn: 0.2106279\ttotal: 93.5ms\tremaining: 332ms\n",
      "22:\tlearn: 0.2050295\ttotal: 96.9ms\tremaining: 324ms\n",
      "23:\tlearn: 0.1980796\ttotal: 100ms\tremaining: 318ms\n",
      "24:\tlearn: 0.1945336\ttotal: 104ms\tremaining: 312ms\n",
      "25:\tlearn: 0.1885865\ttotal: 109ms\tremaining: 309ms\n",
      "26:\tlearn: 0.1835023\ttotal: 112ms\tremaining: 304ms\n",
      "27:\tlearn: 0.1811930\ttotal: 117ms\tremaining: 300ms\n",
      "28:\tlearn: 0.1794798\ttotal: 120ms\tremaining: 294ms\n",
      "29:\tlearn: 0.1755699\ttotal: 124ms\tremaining: 289ms\n",
      "30:\tlearn: 0.1725197\ttotal: 127ms\tremaining: 283ms\n",
      "31:\tlearn: 0.1686781\ttotal: 131ms\tremaining: 279ms\n",
      "32:\tlearn: 0.1645809\ttotal: 136ms\tremaining: 275ms\n",
      "33:\tlearn: 0.1617688\ttotal: 139ms\tremaining: 270ms\n",
      "34:\tlearn: 0.1611481\ttotal: 143ms\tremaining: 265ms\n",
      "35:\tlearn: 0.1566089\ttotal: 146ms\tremaining: 260ms\n",
      "36:\tlearn: 0.1530780\ttotal: 151ms\tremaining: 257ms\n",
      "37:\tlearn: 0.1490645\ttotal: 155ms\tremaining: 252ms\n",
      "38:\tlearn: 0.1462156\ttotal: 159ms\tremaining: 248ms\n",
      "39:\tlearn: 0.1417157\ttotal: 163ms\tremaining: 244ms\n",
      "40:\tlearn: 0.1381486\ttotal: 166ms\tremaining: 239ms\n",
      "41:\tlearn: 0.1350242\ttotal: 170ms\tremaining: 235ms\n",
      "42:\tlearn: 0.1318464\ttotal: 174ms\tremaining: 230ms\n",
      "43:\tlearn: 0.1278113\ttotal: 180ms\tremaining: 229ms\n",
      "44:\tlearn: 0.1261545\ttotal: 185ms\tremaining: 226ms\n",
      "45:\tlearn: 0.1236678\ttotal: 189ms\tremaining: 221ms\n",
      "46:\tlearn: 0.1230293\ttotal: 192ms\tremaining: 216ms\n",
      "47:\tlearn: 0.1201097\ttotal: 195ms\tremaining: 212ms\n",
      "48:\tlearn: 0.1162687\ttotal: 200ms\tremaining: 208ms\n",
      "49:\tlearn: 0.1138480\ttotal: 204ms\tremaining: 204ms\n",
      "50:\tlearn: 0.1115792\ttotal: 209ms\tremaining: 201ms\n",
      "51:\tlearn: 0.1106511\ttotal: 213ms\tremaining: 197ms\n",
      "52:\tlearn: 0.1103790\ttotal: 221ms\tremaining: 196ms\n",
      "53:\tlearn: 0.1076899\ttotal: 231ms\tremaining: 197ms\n",
      "54:\tlearn: 0.1044652\ttotal: 237ms\tremaining: 194ms\n",
      "55:\tlearn: 0.1024421\ttotal: 242ms\tremaining: 190ms\n",
      "56:\tlearn: 0.0996629\ttotal: 246ms\tremaining: 186ms\n",
      "57:\tlearn: 0.0959274\ttotal: 250ms\tremaining: 181ms\n",
      "58:\tlearn: 0.0933556\ttotal: 253ms\tremaining: 176ms\n",
      "59:\tlearn: 0.0903961\ttotal: 257ms\tremaining: 171ms\n",
      "60:\tlearn: 0.0881559\ttotal: 260ms\tremaining: 167ms\n",
      "61:\tlearn: 0.0859216\ttotal: 264ms\tremaining: 162ms\n",
      "62:\tlearn: 0.0839803\ttotal: 268ms\tremaining: 157ms\n",
      "63:\tlearn: 0.0827601\ttotal: 271ms\tremaining: 153ms\n",
      "64:\tlearn: 0.0804324\ttotal: 275ms\tremaining: 148ms\n",
      "65:\tlearn: 0.0787185\ttotal: 279ms\tremaining: 144ms\n",
      "66:\tlearn: 0.0765157\ttotal: 282ms\tremaining: 139ms\n",
      "67:\tlearn: 0.0747298\ttotal: 286ms\tremaining: 135ms\n",
      "68:\tlearn: 0.0733418\ttotal: 290ms\tremaining: 130ms\n",
      "69:\tlearn: 0.0726080\ttotal: 293ms\tremaining: 126ms\n",
      "70:\tlearn: 0.0712691\ttotal: 297ms\tremaining: 121ms\n",
      "71:\tlearn: 0.0695953\ttotal: 300ms\tremaining: 117ms\n",
      "72:\tlearn: 0.0685055\ttotal: 304ms\tremaining: 112ms\n",
      "73:\tlearn: 0.0667871\ttotal: 307ms\tremaining: 108ms\n",
      "74:\tlearn: 0.0656719\ttotal: 311ms\tremaining: 104ms\n",
      "75:\tlearn: 0.0643578\ttotal: 314ms\tremaining: 99.2ms\n",
      "76:\tlearn: 0.0622478\ttotal: 317ms\tremaining: 94.8ms\n",
      "77:\tlearn: 0.0613172\ttotal: 321ms\tremaining: 90.4ms\n",
      "78:\tlearn: 0.0605130\ttotal: 324ms\tremaining: 86.2ms\n",
      "79:\tlearn: 0.0586327\ttotal: 328ms\tremaining: 82ms\n",
      "80:\tlearn: 0.0579544\ttotal: 331ms\tremaining: 77.7ms\n",
      "81:\tlearn: 0.0569016\ttotal: 335ms\tremaining: 73.4ms\n",
      "82:\tlearn: 0.0561208\ttotal: 339ms\tremaining: 69.5ms\n",
      "83:\tlearn: 0.0544879\ttotal: 343ms\tremaining: 65.3ms\n",
      "84:\tlearn: 0.0540928\ttotal: 347ms\tremaining: 61.2ms\n",
      "85:\tlearn: 0.0529747\ttotal: 351ms\tremaining: 57.2ms\n",
      "86:\tlearn: 0.0524774\ttotal: 355ms\tremaining: 53.1ms\n",
      "87:\tlearn: 0.0514473\ttotal: 360ms\tremaining: 49.1ms\n",
      "88:\tlearn: 0.0506966\ttotal: 364ms\tremaining: 45ms\n",
      "89:\tlearn: 0.0499870\ttotal: 370ms\tremaining: 41.1ms\n",
      "90:\tlearn: 0.0494172\ttotal: 375ms\tremaining: 37.1ms\n",
      "91:\tlearn: 0.0484645\ttotal: 380ms\tremaining: 33ms\n",
      "92:\tlearn: 0.0470645\ttotal: 383ms\tremaining: 28.8ms\n",
      "93:\tlearn: 0.0462976\ttotal: 387ms\tremaining: 24.7ms\n",
      "94:\tlearn: 0.0453428\ttotal: 391ms\tremaining: 20.6ms\n",
      "95:\tlearn: 0.0448430\ttotal: 395ms\tremaining: 16.4ms\n",
      "96:\tlearn: 0.0442926\ttotal: 398ms\tremaining: 12.3ms\n",
      "97:\tlearn: 0.0438447\ttotal: 401ms\tremaining: 8.19ms\n",
      "98:\tlearn: 0.0432304\ttotal: 404ms\tremaining: 4.08ms\n",
      "99:\tlearn: 0.0427444\ttotal: 408ms\tremaining: 0us\n"
     ]
    },
    {
     "data": {
      "text/plain": [
       "<catboost.core.CatBoostClassifier at 0x25e6136d190>"
      ]
     },
     "execution_count": 91,
     "metadata": {},
     "output_type": "execute_result"
    }
   ],
   "source": [
    "from catboost import CatBoostClassifier\n",
    "catmodel = CatBoostClassifier(iterations=100,learning_rate=0.2)\n",
    "catmodel.fit(xtrain,ytrain,plot=False)"
   ]
  },
  {
   "cell_type": "code",
   "execution_count": 92,
   "metadata": {},
   "outputs": [
    {
     "name": "stdout",
     "output_type": "stream",
     "text": [
      "\n",
      "Training Accuracy :  0.9991496598639455\n",
      "\n",
      "Testing Accuracy :  0.8741496598639455\n"
     ]
    }
   ],
   "source": [
    "# Accuracy on Training \n",
    "predictions_train = catmodel.predict(xtrain)\n",
    "print(\"\\nTraining Accuracy : \", accuracy_score(ytrain,predictions_train))\n",
    "# Accuracy on Testing\n",
    "predictions_test = catmodel.predict(xtest)\n",
    "print(\"\\nTesting Accuracy : \", accuracy_score(ytest,predictions_test))"
   ]
  },
  {
   "cell_type": "markdown",
   "metadata": {},
   "source": [
    "# Drop the 2 columns 'TotalWorkingYears', 'YearsAtCompany', and new column 'Experience_less_3years' is created"
   ]
  },
  {
   "cell_type": "code",
   "execution_count": 93,
   "metadata": {},
   "outputs": [],
   "source": [
    "x = df.drop(['Attrition','TotalWorkingYears','YearsAtCompany'],axis = 1)\n",
    "y = df['Attrition']"
   ]
  },
  {
   "cell_type": "code",
   "execution_count": 94,
   "metadata": {},
   "outputs": [
    {
     "data": {
      "text/html": [
       "<div>\n",
       "<style scoped>\n",
       "    .dataframe tbody tr th:only-of-type {\n",
       "        vertical-align: middle;\n",
       "    }\n",
       "\n",
       "    .dataframe tbody tr th {\n",
       "        vertical-align: top;\n",
       "    }\n",
       "\n",
       "    .dataframe thead th {\n",
       "        text-align: right;\n",
       "    }\n",
       "</style>\n",
       "<table border=\"1\" class=\"dataframe\">\n",
       "  <thead>\n",
       "    <tr style=\"text-align: right;\">\n",
       "      <th></th>\n",
       "      <th>Age</th>\n",
       "      <th>BusinessTravel</th>\n",
       "      <th>DailyRate</th>\n",
       "      <th>Department</th>\n",
       "      <th>DistanceFromHome</th>\n",
       "      <th>Education</th>\n",
       "      <th>EducationField</th>\n",
       "      <th>EnvironmentSatisfaction</th>\n",
       "      <th>Gender</th>\n",
       "      <th>Experience_less_3years</th>\n",
       "      <th>...</th>\n",
       "      <th>OverTime</th>\n",
       "      <th>PercentSalaryHike</th>\n",
       "      <th>PerformanceRating</th>\n",
       "      <th>RelationshipSatisfaction</th>\n",
       "      <th>StockOptionLevel</th>\n",
       "      <th>TrainingTimesLastYear</th>\n",
       "      <th>WorkLifeBalance</th>\n",
       "      <th>YearsInCurrentRole</th>\n",
       "      <th>YearsSinceLastPromotion</th>\n",
       "      <th>YearsWithCurrManager</th>\n",
       "    </tr>\n",
       "  </thead>\n",
       "  <tbody>\n",
       "    <tr>\n",
       "      <th>0</th>\n",
       "      <td>41</td>\n",
       "      <td>2</td>\n",
       "      <td>1102</td>\n",
       "      <td>2</td>\n",
       "      <td>1</td>\n",
       "      <td>2</td>\n",
       "      <td>1</td>\n",
       "      <td>2</td>\n",
       "      <td>0</td>\n",
       "      <td>0</td>\n",
       "      <td>...</td>\n",
       "      <td>1</td>\n",
       "      <td>11</td>\n",
       "      <td>3</td>\n",
       "      <td>1</td>\n",
       "      <td>0</td>\n",
       "      <td>0</td>\n",
       "      <td>1</td>\n",
       "      <td>4</td>\n",
       "      <td>0</td>\n",
       "      <td>5</td>\n",
       "    </tr>\n",
       "    <tr>\n",
       "      <th>1</th>\n",
       "      <td>49</td>\n",
       "      <td>1</td>\n",
       "      <td>279</td>\n",
       "      <td>1</td>\n",
       "      <td>8</td>\n",
       "      <td>1</td>\n",
       "      <td>1</td>\n",
       "      <td>3</td>\n",
       "      <td>1</td>\n",
       "      <td>0</td>\n",
       "      <td>...</td>\n",
       "      <td>0</td>\n",
       "      <td>23</td>\n",
       "      <td>4</td>\n",
       "      <td>4</td>\n",
       "      <td>1</td>\n",
       "      <td>3</td>\n",
       "      <td>3</td>\n",
       "      <td>7</td>\n",
       "      <td>1</td>\n",
       "      <td>7</td>\n",
       "    </tr>\n",
       "    <tr>\n",
       "      <th>2</th>\n",
       "      <td>37</td>\n",
       "      <td>2</td>\n",
       "      <td>1373</td>\n",
       "      <td>1</td>\n",
       "      <td>2</td>\n",
       "      <td>2</td>\n",
       "      <td>4</td>\n",
       "      <td>4</td>\n",
       "      <td>1</td>\n",
       "      <td>0</td>\n",
       "      <td>...</td>\n",
       "      <td>1</td>\n",
       "      <td>15</td>\n",
       "      <td>3</td>\n",
       "      <td>2</td>\n",
       "      <td>0</td>\n",
       "      <td>3</td>\n",
       "      <td>3</td>\n",
       "      <td>0</td>\n",
       "      <td>0</td>\n",
       "      <td>0</td>\n",
       "    </tr>\n",
       "    <tr>\n",
       "      <th>3</th>\n",
       "      <td>33</td>\n",
       "      <td>1</td>\n",
       "      <td>1392</td>\n",
       "      <td>1</td>\n",
       "      <td>3</td>\n",
       "      <td>4</td>\n",
       "      <td>1</td>\n",
       "      <td>4</td>\n",
       "      <td>0</td>\n",
       "      <td>0</td>\n",
       "      <td>...</td>\n",
       "      <td>1</td>\n",
       "      <td>11</td>\n",
       "      <td>3</td>\n",
       "      <td>3</td>\n",
       "      <td>0</td>\n",
       "      <td>3</td>\n",
       "      <td>3</td>\n",
       "      <td>7</td>\n",
       "      <td>3</td>\n",
       "      <td>0</td>\n",
       "    </tr>\n",
       "    <tr>\n",
       "      <th>4</th>\n",
       "      <td>27</td>\n",
       "      <td>2</td>\n",
       "      <td>591</td>\n",
       "      <td>1</td>\n",
       "      <td>2</td>\n",
       "      <td>1</td>\n",
       "      <td>3</td>\n",
       "      <td>1</td>\n",
       "      <td>1</td>\n",
       "      <td>0</td>\n",
       "      <td>...</td>\n",
       "      <td>0</td>\n",
       "      <td>12</td>\n",
       "      <td>3</td>\n",
       "      <td>4</td>\n",
       "      <td>1</td>\n",
       "      <td>3</td>\n",
       "      <td>3</td>\n",
       "      <td>2</td>\n",
       "      <td>2</td>\n",
       "      <td>2</td>\n",
       "    </tr>\n",
       "    <tr>\n",
       "      <th>...</th>\n",
       "      <td>...</td>\n",
       "      <td>...</td>\n",
       "      <td>...</td>\n",
       "      <td>...</td>\n",
       "      <td>...</td>\n",
       "      <td>...</td>\n",
       "      <td>...</td>\n",
       "      <td>...</td>\n",
       "      <td>...</td>\n",
       "      <td>...</td>\n",
       "      <td>...</td>\n",
       "      <td>...</td>\n",
       "      <td>...</td>\n",
       "      <td>...</td>\n",
       "      <td>...</td>\n",
       "      <td>...</td>\n",
       "      <td>...</td>\n",
       "      <td>...</td>\n",
       "      <td>...</td>\n",
       "      <td>...</td>\n",
       "      <td>...</td>\n",
       "    </tr>\n",
       "    <tr>\n",
       "      <th>1465</th>\n",
       "      <td>36</td>\n",
       "      <td>1</td>\n",
       "      <td>884</td>\n",
       "      <td>1</td>\n",
       "      <td>23</td>\n",
       "      <td>2</td>\n",
       "      <td>3</td>\n",
       "      <td>3</td>\n",
       "      <td>1</td>\n",
       "      <td>0</td>\n",
       "      <td>...</td>\n",
       "      <td>0</td>\n",
       "      <td>17</td>\n",
       "      <td>3</td>\n",
       "      <td>3</td>\n",
       "      <td>1</td>\n",
       "      <td>3</td>\n",
       "      <td>3</td>\n",
       "      <td>2</td>\n",
       "      <td>0</td>\n",
       "      <td>3</td>\n",
       "    </tr>\n",
       "    <tr>\n",
       "      <th>1466</th>\n",
       "      <td>39</td>\n",
       "      <td>2</td>\n",
       "      <td>613</td>\n",
       "      <td>1</td>\n",
       "      <td>6</td>\n",
       "      <td>1</td>\n",
       "      <td>3</td>\n",
       "      <td>4</td>\n",
       "      <td>1</td>\n",
       "      <td>0</td>\n",
       "      <td>...</td>\n",
       "      <td>0</td>\n",
       "      <td>15</td>\n",
       "      <td>3</td>\n",
       "      <td>1</td>\n",
       "      <td>1</td>\n",
       "      <td>5</td>\n",
       "      <td>3</td>\n",
       "      <td>7</td>\n",
       "      <td>1</td>\n",
       "      <td>7</td>\n",
       "    </tr>\n",
       "    <tr>\n",
       "      <th>1467</th>\n",
       "      <td>27</td>\n",
       "      <td>2</td>\n",
       "      <td>155</td>\n",
       "      <td>1</td>\n",
       "      <td>4</td>\n",
       "      <td>3</td>\n",
       "      <td>1</td>\n",
       "      <td>2</td>\n",
       "      <td>1</td>\n",
       "      <td>0</td>\n",
       "      <td>...</td>\n",
       "      <td>1</td>\n",
       "      <td>20</td>\n",
       "      <td>4</td>\n",
       "      <td>2</td>\n",
       "      <td>1</td>\n",
       "      <td>0</td>\n",
       "      <td>3</td>\n",
       "      <td>2</td>\n",
       "      <td>0</td>\n",
       "      <td>3</td>\n",
       "    </tr>\n",
       "    <tr>\n",
       "      <th>1468</th>\n",
       "      <td>49</td>\n",
       "      <td>1</td>\n",
       "      <td>1023</td>\n",
       "      <td>2</td>\n",
       "      <td>2</td>\n",
       "      <td>3</td>\n",
       "      <td>3</td>\n",
       "      <td>4</td>\n",
       "      <td>1</td>\n",
       "      <td>0</td>\n",
       "      <td>...</td>\n",
       "      <td>0</td>\n",
       "      <td>14</td>\n",
       "      <td>3</td>\n",
       "      <td>4</td>\n",
       "      <td>0</td>\n",
       "      <td>3</td>\n",
       "      <td>2</td>\n",
       "      <td>6</td>\n",
       "      <td>0</td>\n",
       "      <td>8</td>\n",
       "    </tr>\n",
       "    <tr>\n",
       "      <th>1469</th>\n",
       "      <td>34</td>\n",
       "      <td>2</td>\n",
       "      <td>628</td>\n",
       "      <td>1</td>\n",
       "      <td>8</td>\n",
       "      <td>3</td>\n",
       "      <td>3</td>\n",
       "      <td>2</td>\n",
       "      <td>1</td>\n",
       "      <td>0</td>\n",
       "      <td>...</td>\n",
       "      <td>0</td>\n",
       "      <td>12</td>\n",
       "      <td>3</td>\n",
       "      <td>1</td>\n",
       "      <td>0</td>\n",
       "      <td>3</td>\n",
       "      <td>4</td>\n",
       "      <td>3</td>\n",
       "      <td>1</td>\n",
       "      <td>2</td>\n",
       "    </tr>\n",
       "  </tbody>\n",
       "</table>\n",
       "<p>1470 rows × 29 columns</p>\n",
       "</div>"
      ],
      "text/plain": [
       "      Age  BusinessTravel  DailyRate  Department  DistanceFromHome  Education  \\\n",
       "0      41               2       1102           2                 1          2   \n",
       "1      49               1        279           1                 8          1   \n",
       "2      37               2       1373           1                 2          2   \n",
       "3      33               1       1392           1                 3          4   \n",
       "4      27               2        591           1                 2          1   \n",
       "...   ...             ...        ...         ...               ...        ...   \n",
       "1465   36               1        884           1                23          2   \n",
       "1466   39               2        613           1                 6          1   \n",
       "1467   27               2        155           1                 4          3   \n",
       "1468   49               1       1023           2                 2          3   \n",
       "1469   34               2        628           1                 8          3   \n",
       "\n",
       "      EducationField  EnvironmentSatisfaction  Gender  Experience_less_3years  \\\n",
       "0                  1                        2       0                       0   \n",
       "1                  1                        3       1                       0   \n",
       "2                  4                        4       1                       0   \n",
       "3                  1                        4       0                       0   \n",
       "4                  3                        1       1                       0   \n",
       "...              ...                      ...     ...                     ...   \n",
       "1465               3                        3       1                       0   \n",
       "1466               3                        4       1                       0   \n",
       "1467               1                        2       1                       0   \n",
       "1468               3                        4       1                       0   \n",
       "1469               3                        2       1                       0   \n",
       "\n",
       "      ...  OverTime  PercentSalaryHike  PerformanceRating  \\\n",
       "0     ...         1                 11                  3   \n",
       "1     ...         0                 23                  4   \n",
       "2     ...         1                 15                  3   \n",
       "3     ...         1                 11                  3   \n",
       "4     ...         0                 12                  3   \n",
       "...   ...       ...                ...                ...   \n",
       "1465  ...         0                 17                  3   \n",
       "1466  ...         0                 15                  3   \n",
       "1467  ...         1                 20                  4   \n",
       "1468  ...         0                 14                  3   \n",
       "1469  ...         0                 12                  3   \n",
       "\n",
       "      RelationshipSatisfaction  StockOptionLevel  TrainingTimesLastYear  \\\n",
       "0                            1                 0                      0   \n",
       "1                            4                 1                      3   \n",
       "2                            2                 0                      3   \n",
       "3                            3                 0                      3   \n",
       "4                            4                 1                      3   \n",
       "...                        ...               ...                    ...   \n",
       "1465                         3                 1                      3   \n",
       "1466                         1                 1                      5   \n",
       "1467                         2                 1                      0   \n",
       "1468                         4                 0                      3   \n",
       "1469                         1                 0                      3   \n",
       "\n",
       "      WorkLifeBalance  YearsInCurrentRole  YearsSinceLastPromotion  \\\n",
       "0                   1                   4                        0   \n",
       "1                   3                   7                        1   \n",
       "2                   3                   0                        0   \n",
       "3                   3                   7                        3   \n",
       "4                   3                   2                        2   \n",
       "...               ...                 ...                      ...   \n",
       "1465                3                   2                        0   \n",
       "1466                3                   7                        1   \n",
       "1467                3                   2                        0   \n",
       "1468                2                   6                        0   \n",
       "1469                4                   3                        1   \n",
       "\n",
       "      YearsWithCurrManager  \n",
       "0                        5  \n",
       "1                        7  \n",
       "2                        0  \n",
       "3                        0  \n",
       "4                        2  \n",
       "...                    ...  \n",
       "1465                     3  \n",
       "1466                     7  \n",
       "1467                     3  \n",
       "1468                     8  \n",
       "1469                     2  \n",
       "\n",
       "[1470 rows x 29 columns]"
      ]
     },
     "execution_count": 94,
     "metadata": {},
     "output_type": "execute_result"
    }
   ],
   "source": [
    "x"
   ]
  },
  {
   "cell_type": "markdown",
   "metadata": {},
   "source": [
    "# Working with 30 columns"
   ]
  },
  {
   "cell_type": "code",
   "execution_count": 95,
   "metadata": {},
   "outputs": [],
   "source": [
    "xtrain,xtest,ytrain,ytest = train_test_split(x,y, test_size=0.2, random_state=93, stratify=y)"
   ]
  },
  {
   "cell_type": "markdown",
   "metadata": {},
   "source": [
    "# RF"
   ]
  },
  {
   "cell_type": "code",
   "execution_count": 96,
   "metadata": {},
   "outputs": [],
   "source": [
    "from sklearn.ensemble import RandomForestClassifier\n",
    "rnf = RandomForestClassifier(n_estimators=176, random_state=43)"
   ]
  },
  {
   "cell_type": "code",
   "execution_count": 97,
   "metadata": {},
   "outputs": [
    {
     "data": {
      "text/plain": [
       "RandomForestClassifier(n_estimators=176, random_state=43)"
      ]
     },
     "execution_count": 97,
     "metadata": {},
     "output_type": "execute_result"
    }
   ],
   "source": [
    "rnf.fit(xtrain,ytrain)"
   ]
  },
  {
   "cell_type": "code",
   "execution_count": 98,
   "metadata": {},
   "outputs": [
    {
     "name": "stdout",
     "output_type": "stream",
     "text": [
      "\n",
      "Training Accuracy :  1.0\n",
      "\n",
      "Testing Accuracy :  0.8639455782312925\n"
     ]
    }
   ],
   "source": [
    "# Accuracy on Training \n",
    "predictions_train = rnf.predict(xtrain)\n",
    "print(\"\\nTraining Accuracy : \", accuracy_score(ytrain,predictions_train))\n",
    "# Accuracy on Testing\n",
    "predictions_test = rnf.predict(xtest)\n",
    "print(\"\\nTesting Accuracy : \", accuracy_score(ytest,predictions_test))"
   ]
  },
  {
   "cell_type": "code",
   "execution_count": 99,
   "metadata": {},
   "outputs": [
    {
     "name": "stdout",
     "output_type": "stream",
     "text": [
      "\n",
      "AUC Score :  0.5830820914807476\n",
      "              precision    recall  f1-score   support\n",
      "\n",
      "           0       0.86      1.00      0.92       247\n",
      "           1       0.89      0.17      0.29        47\n",
      "\n",
      "    accuracy                           0.86       294\n",
      "   macro avg       0.88      0.58      0.61       294\n",
      "weighted avg       0.87      0.86      0.82       294\n",
      "\n"
     ]
    }
   ],
   "source": [
    "false_positive_rate, true_positive_rate, thresholds = roc_curve(ytest, predictions_test)\n",
    "print(\"\\nAUC Score : \",auc(false_positive_rate, true_positive_rate))\n",
    "print(classification_report(ytest,predictions_test))"
   ]
  },
  {
   "cell_type": "markdown",
   "metadata": {},
   "source": [
    "# XGBoost"
   ]
  },
  {
   "cell_type": "code",
   "execution_count": 100,
   "metadata": {},
   "outputs": [
    {
     "name": "stdout",
     "output_type": "stream",
     "text": [
      "[23:18:37] WARNING: C:/Users/Administrator/workspace/xgboost-win64_release_1.4.0/src/learner.cc:1095: Starting in XGBoost 1.3.0, the default evaluation metric used with the objective 'binary:logistic' was changed from 'error' to 'logloss'. Explicitly set eval_metric if you'd like to restore the old behavior.\n",
      "\n",
      "Training Accuracy : 1.0\n",
      "\n",
      "Testing Accuracy : 0.8775510204081632\n"
     ]
    }
   ],
   "source": [
    "from xgboost import XGBClassifier\n",
    "classifier=XGBClassifier()\n",
    "classifier.fit(xtrain,ytrain)\n",
    "predictions_train =classifier.predict(xtrain)\n",
    "acc=accuracy_score(ytrain, predictions_train)\n",
    "print('\\nTraining Accuracy :', acc)\n",
    "predictions_test = classifier.predict(xtest)\n",
    "accc=accuracy_score(ytest, predictions_test)\n",
    "print('\\nTesting Accuracy :', accc)"
   ]
  },
  {
   "cell_type": "code",
   "execution_count": 101,
   "metadata": {},
   "outputs": [
    {
     "name": "stdout",
     "output_type": "stream",
     "text": [
      "\n",
      "AUC Score :  0.6945473339650271\n",
      "              precision    recall  f1-score   support\n",
      "\n",
      "           0       0.90      0.96      0.93       247\n",
      "           1       0.69      0.43      0.53        47\n",
      "\n",
      "    accuracy                           0.88       294\n",
      "   macro avg       0.79      0.69      0.73       294\n",
      "weighted avg       0.86      0.88      0.87       294\n",
      "\n"
     ]
    }
   ],
   "source": [
    "false_positive_rate, true_positive_rate, thresholds = roc_curve(ytest, predictions_test)\n",
    "print(\"\\nAUC Score : \",auc(false_positive_rate, true_positive_rate))\n",
    "print(classification_report(ytest,predictions_test))"
   ]
  },
  {
   "cell_type": "markdown",
   "metadata": {},
   "source": [
    "# Catboost"
   ]
  },
  {
   "cell_type": "code",
   "execution_count": 102,
   "metadata": {},
   "outputs": [
    {
     "name": "stdout",
     "output_type": "stream",
     "text": [
      "0:\tlearn: 0.5592870\ttotal: 4.33ms\tremaining: 515ms\n",
      "1:\tlearn: 0.4933982\ttotal: 8.36ms\tremaining: 493ms\n",
      "2:\tlearn: 0.4225729\ttotal: 13.4ms\tremaining: 524ms\n",
      "3:\tlearn: 0.3828433\ttotal: 17.1ms\tremaining: 497ms\n",
      "4:\tlearn: 0.3589794\ttotal: 20.8ms\tremaining: 477ms\n",
      "5:\tlearn: 0.3406522\ttotal: 24.3ms\tremaining: 462ms\n",
      "6:\tlearn: 0.3210610\ttotal: 27.9ms\tremaining: 450ms\n",
      "7:\tlearn: 0.3092802\ttotal: 31.3ms\tremaining: 438ms\n",
      "8:\tlearn: 0.2979808\ttotal: 35.7ms\tremaining: 440ms\n",
      "9:\tlearn: 0.2864410\ttotal: 39.3ms\tremaining: 432ms\n",
      "10:\tlearn: 0.2760320\ttotal: 42.9ms\tremaining: 425ms\n",
      "11:\tlearn: 0.2668767\ttotal: 46.8ms\tremaining: 421ms\n",
      "12:\tlearn: 0.2594040\ttotal: 50.5ms\tremaining: 416ms\n",
      "13:\tlearn: 0.2530519\ttotal: 54.2ms\tremaining: 410ms\n",
      "14:\tlearn: 0.2456043\ttotal: 58.1ms\tremaining: 407ms\n",
      "15:\tlearn: 0.2413624\ttotal: 62.1ms\tremaining: 404ms\n",
      "16:\tlearn: 0.2357602\ttotal: 66.2ms\tremaining: 401ms\n",
      "17:\tlearn: 0.2329082\ttotal: 70.3ms\tremaining: 398ms\n",
      "18:\tlearn: 0.2301392\ttotal: 74.4ms\tremaining: 396ms\n",
      "19:\tlearn: 0.2247040\ttotal: 78.3ms\tremaining: 391ms\n",
      "20:\tlearn: 0.2181032\ttotal: 81.8ms\tremaining: 386ms\n",
      "21:\tlearn: 0.2132180\ttotal: 85.2ms\tremaining: 380ms\n",
      "22:\tlearn: 0.2097963\ttotal: 88.7ms\tremaining: 374ms\n",
      "23:\tlearn: 0.2052216\ttotal: 92.1ms\tremaining: 369ms\n",
      "24:\tlearn: 0.1988386\ttotal: 95.6ms\tremaining: 363ms\n",
      "25:\tlearn: 0.1942395\ttotal: 100ms\tremaining: 363ms\n",
      "26:\tlearn: 0.1898359\ttotal: 104ms\tremaining: 359ms\n",
      "27:\tlearn: 0.1848348\ttotal: 108ms\tremaining: 355ms\n",
      "28:\tlearn: 0.1816010\ttotal: 111ms\tremaining: 350ms\n",
      "29:\tlearn: 0.1776028\ttotal: 115ms\tremaining: 345ms\n",
      "30:\tlearn: 0.1734141\ttotal: 119ms\tremaining: 340ms\n",
      "31:\tlearn: 0.1715232\ttotal: 122ms\tremaining: 336ms\n",
      "32:\tlearn: 0.1682349\ttotal: 126ms\tremaining: 331ms\n",
      "33:\tlearn: 0.1641864\ttotal: 129ms\tremaining: 326ms\n",
      "34:\tlearn: 0.1586682\ttotal: 132ms\tremaining: 322ms\n",
      "35:\tlearn: 0.1533076\ttotal: 136ms\tremaining: 317ms\n",
      "36:\tlearn: 0.1499989\ttotal: 140ms\tremaining: 313ms\n",
      "37:\tlearn: 0.1448286\ttotal: 143ms\tremaining: 309ms\n",
      "38:\tlearn: 0.1411438\ttotal: 147ms\tremaining: 304ms\n",
      "39:\tlearn: 0.1396613\ttotal: 150ms\tremaining: 300ms\n",
      "40:\tlearn: 0.1373801\ttotal: 154ms\tremaining: 296ms\n",
      "41:\tlearn: 0.1317522\ttotal: 157ms\tremaining: 292ms\n",
      "42:\tlearn: 0.1290425\ttotal: 161ms\tremaining: 288ms\n",
      "43:\tlearn: 0.1254517\ttotal: 164ms\tremaining: 284ms\n",
      "44:\tlearn: 0.1215714\ttotal: 168ms\tremaining: 280ms\n",
      "45:\tlearn: 0.1184035\ttotal: 172ms\tremaining: 277ms\n",
      "46:\tlearn: 0.1161831\ttotal: 176ms\tremaining: 274ms\n",
      "47:\tlearn: 0.1149908\ttotal: 180ms\tremaining: 270ms\n",
      "48:\tlearn: 0.1133424\ttotal: 185ms\tremaining: 267ms\n",
      "49:\tlearn: 0.1116580\ttotal: 189ms\tremaining: 264ms\n",
      "50:\tlearn: 0.1088680\ttotal: 192ms\tremaining: 260ms\n",
      "51:\tlearn: 0.1060000\ttotal: 197ms\tremaining: 257ms\n",
      "52:\tlearn: 0.1036468\ttotal: 204ms\tremaining: 258ms\n",
      "53:\tlearn: 0.1029388\ttotal: 209ms\tremaining: 256ms\n",
      "54:\tlearn: 0.1016635\ttotal: 213ms\tremaining: 252ms\n",
      "55:\tlearn: 0.1007527\ttotal: 216ms\tremaining: 247ms\n",
      "56:\tlearn: 0.0987925\ttotal: 220ms\tremaining: 243ms\n",
      "57:\tlearn: 0.0970242\ttotal: 223ms\tremaining: 239ms\n",
      "58:\tlearn: 0.0952074\ttotal: 227ms\tremaining: 235ms\n",
      "59:\tlearn: 0.0928524\ttotal: 231ms\tremaining: 231ms\n",
      "60:\tlearn: 0.0915311\ttotal: 234ms\tremaining: 227ms\n",
      "61:\tlearn: 0.0905951\ttotal: 238ms\tremaining: 222ms\n",
      "62:\tlearn: 0.0892157\ttotal: 241ms\tremaining: 218ms\n",
      "63:\tlearn: 0.0888616\ttotal: 245ms\tremaining: 214ms\n",
      "64:\tlearn: 0.0851146\ttotal: 248ms\tremaining: 210ms\n",
      "65:\tlearn: 0.0819506\ttotal: 252ms\tremaining: 206ms\n",
      "66:\tlearn: 0.0795828\ttotal: 255ms\tremaining: 202ms\n",
      "67:\tlearn: 0.0781261\ttotal: 259ms\tremaining: 198ms\n",
      "68:\tlearn: 0.0767413\ttotal: 262ms\tremaining: 194ms\n",
      "69:\tlearn: 0.0746606\ttotal: 266ms\tremaining: 190ms\n",
      "70:\tlearn: 0.0721165\ttotal: 269ms\tremaining: 186ms\n",
      "71:\tlearn: 0.0706648\ttotal: 272ms\tremaining: 182ms\n",
      "72:\tlearn: 0.0697415\ttotal: 276ms\tremaining: 178ms\n",
      "73:\tlearn: 0.0682099\ttotal: 279ms\tremaining: 174ms\n",
      "74:\tlearn: 0.0670135\ttotal: 283ms\tremaining: 170ms\n",
      "75:\tlearn: 0.0651386\ttotal: 286ms\tremaining: 166ms\n",
      "76:\tlearn: 0.0639483\ttotal: 290ms\tremaining: 162ms\n",
      "77:\tlearn: 0.0613991\ttotal: 293ms\tremaining: 158ms\n",
      "78:\tlearn: 0.0605249\ttotal: 297ms\tremaining: 154ms\n",
      "79:\tlearn: 0.0593022\ttotal: 300ms\tremaining: 150ms\n",
      "80:\tlearn: 0.0579150\ttotal: 304ms\tremaining: 146ms\n",
      "81:\tlearn: 0.0563866\ttotal: 307ms\tremaining: 142ms\n",
      "82:\tlearn: 0.0542422\ttotal: 311ms\tremaining: 138ms\n",
      "83:\tlearn: 0.0530490\ttotal: 314ms\tremaining: 134ms\n",
      "84:\tlearn: 0.0524689\ttotal: 317ms\tremaining: 131ms\n",
      "85:\tlearn: 0.0519266\ttotal: 321ms\tremaining: 127ms\n",
      "86:\tlearn: 0.0512402\ttotal: 324ms\tremaining: 123ms\n",
      "87:\tlearn: 0.0504913\ttotal: 328ms\tremaining: 119ms\n",
      "88:\tlearn: 0.0492686\ttotal: 331ms\tremaining: 115ms\n",
      "89:\tlearn: 0.0484769\ttotal: 336ms\tremaining: 112ms\n",
      "90:\tlearn: 0.0475549\ttotal: 340ms\tremaining: 108ms\n",
      "91:\tlearn: 0.0469172\ttotal: 344ms\tremaining: 105ms\n",
      "92:\tlearn: 0.0461127\ttotal: 348ms\tremaining: 101ms\n",
      "93:\tlearn: 0.0448371\ttotal: 352ms\tremaining: 97.4ms\n",
      "94:\tlearn: 0.0442661\ttotal: 356ms\tremaining: 93.7ms\n",
      "95:\tlearn: 0.0430196\ttotal: 361ms\tremaining: 90.3ms\n",
      "96:\tlearn: 0.0423254\ttotal: 368ms\tremaining: 87.1ms\n",
      "97:\tlearn: 0.0418274\ttotal: 372ms\tremaining: 83.5ms\n",
      "98:\tlearn: 0.0410871\ttotal: 376ms\tremaining: 79.7ms\n",
      "99:\tlearn: 0.0405462\ttotal: 379ms\tremaining: 75.9ms\n",
      "100:\tlearn: 0.0401657\ttotal: 383ms\tremaining: 72ms\n",
      "101:\tlearn: 0.0395392\ttotal: 386ms\tremaining: 68.2ms\n",
      "102:\tlearn: 0.0392230\ttotal: 390ms\tremaining: 64.3ms\n",
      "103:\tlearn: 0.0391332\ttotal: 393ms\tremaining: 60.5ms\n",
      "104:\tlearn: 0.0381449\ttotal: 397ms\tremaining: 56.6ms\n",
      "105:\tlearn: 0.0372248\ttotal: 400ms\tremaining: 52.9ms\n",
      "106:\tlearn: 0.0365063\ttotal: 404ms\tremaining: 49.1ms\n",
      "107:\tlearn: 0.0359544\ttotal: 407ms\tremaining: 45.3ms\n",
      "108:\tlearn: 0.0358943\ttotal: 411ms\tremaining: 41.5ms\n",
      "109:\tlearn: 0.0354324\ttotal: 414ms\tremaining: 37.7ms\n",
      "110:\tlearn: 0.0351776\ttotal: 418ms\tremaining: 33.9ms\n",
      "111:\tlearn: 0.0350883\ttotal: 421ms\tremaining: 30.1ms\n",
      "112:\tlearn: 0.0348511\ttotal: 425ms\tremaining: 26.3ms\n",
      "113:\tlearn: 0.0343012\ttotal: 428ms\tremaining: 22.5ms\n",
      "114:\tlearn: 0.0337845\ttotal: 432ms\tremaining: 18.8ms\n",
      "115:\tlearn: 0.0329808\ttotal: 435ms\tremaining: 15ms\n",
      "116:\tlearn: 0.0326340\ttotal: 439ms\tremaining: 11.2ms\n",
      "117:\tlearn: 0.0325997\ttotal: 442ms\tremaining: 7.49ms\n",
      "118:\tlearn: 0.0320484\ttotal: 445ms\tremaining: 3.74ms\n",
      "119:\tlearn: 0.0314035\ttotal: 449ms\tremaining: 0us\n"
     ]
    },
    {
     "data": {
      "text/plain": [
       "<catboost.core.CatBoostClassifier at 0x25e61336070>"
      ]
     },
     "execution_count": 102,
     "metadata": {},
     "output_type": "execute_result"
    }
   ],
   "source": [
    "from catboost import CatBoostClassifier\n",
    "catmodel = CatBoostClassifier(iterations=120,learning_rate=0.2)\n",
    "catmodel.fit(xtrain,ytrain,plot=False)"
   ]
  },
  {
   "cell_type": "code",
   "execution_count": 103,
   "metadata": {},
   "outputs": [
    {
     "name": "stdout",
     "output_type": "stream",
     "text": [
      "\n",
      "Training Accuracy :  1.0\n",
      "\n",
      "Testing Accuracy :  0.9013605442176871\n"
     ]
    }
   ],
   "source": [
    "# Accuracy on Training \n",
    "predictions_train = catmodel.predict(xtrain)\n",
    "print(\"\\nTraining Accuracy : \", accuracy_score(ytrain,predictions_train))\n",
    "# Accuracy on Testing\n",
    "predictions_test = catmodel.predict(xtest)\n",
    "print(\"\\nTesting Accuracy : \", accuracy_score(ytest,predictions_test))"
   ]
  },
  {
   "cell_type": "code",
   "execution_count": 104,
   "metadata": {},
   "outputs": [
    {
     "data": {
      "text/plain": [
       "<AxesSubplot:>"
      ]
     },
     "execution_count": 104,
     "metadata": {},
     "output_type": "execute_result"
    },
    {
     "data": {
      "image/png": "[encoded data removed]",
      "text/plain": [
       "<Figure size 432x288 with 1 Axes>"
      ]
     },
     "metadata": {
      "needs_background": "light"
     },
     "output_type": "display_data"
    }
   ],
   "source": [
    "cm = confusion_matrix(ytest,predictions_test)\n",
    "sns.heatmap(cm,annot=True,cmap=\"Blues\",fmt=\"d\",cbar=False)"
   ]
  },
  {
   "cell_type": "code",
   "execution_count": 65,
   "metadata": {},
   "outputs": [
    {
     "name": "stdout",
     "output_type": "stream",
     "text": [
      "\n",
      "AUC Score :  0.7001033680764924\n",
      "              precision    recall  f1-score   support\n",
      "\n",
      "           0       0.90      1.00      0.94       247\n",
      "           1       0.95      0.40      0.57        47\n",
      "\n",
      "    accuracy                           0.90       294\n",
      "   macro avg       0.92      0.70      0.76       294\n",
      "weighted avg       0.91      0.90      0.88       294\n",
      "\n"
     ]
    }
   ],
   "source": [
    "false_positive_rate, true_positive_rate, thresholds = roc_curve(ytest, predictions_test)\n",
    "print(\"\\nAUC Score : \",auc(false_positive_rate, true_positive_rate))\n",
    "print(classification_report(ytest,predictions_test))"
   ]
  },
  {
   "cell_type": "code",
   "execution_count": 60,
   "metadata": {},
   "outputs": [
    {
     "data": {
      "image/png": "[encoded data removed]",
      "text/plain": [
       "<Figure size 576x684 with 1 Axes>"
      ]
     },
     "metadata": {},
     "output_type": "display_data"
    }
   ],
   "source": [
    "import shap\n",
    "explainer = shap.TreeExplainer(catmodel)\n",
    "shap_values = explainer.shap_values(xtest)\n",
    "shap.summary_plot(shap_values, xtest, plot_type='bar', color=[\"#E69F00\", \"#56B4E9\", \"#009E73\",\"#E10F10\", \"#16D4E9\", \"#129E73\",\"#E69F13\", \"#56F4E9\", \"#054B73\",\"#E69A00\"])"
   ]
  },
  {
   "cell_type": "code",
   "execution_count": 20,
   "metadata": {},
   "outputs": [
    {
     "data": {
      "text/plain": [
       "(1176, 29, 1)"
      ]
     },
     "execution_count": 20,
     "metadata": {},
     "output_type": "execute_result"
    }
   ],
   "source": [
    "xtrain.shape"
   ]
  },
  {
   "cell_type": "markdown",
   "metadata": {},
   "source": [
    "# Using StandardScaler"
   ]
  },
  {
   "cell_type": "code",
   "execution_count": 14,
   "metadata": {},
   "outputs": [],
   "source": [
    "from sklearn.preprocessing import StandardScaler\n",
    "scaler = StandardScaler()\n",
    "scaler.fit(xtrain)\n",
    "\n",
    "xtrain = scaler.transform(xtrain)\n",
    "xtest = scaler.transform(xtest)"
   ]
  },
  {
   "cell_type": "markdown",
   "metadata": {},
   "source": [
    "# CNN"
   ]
  },
  {
   "cell_type": "code",
   "execution_count": 18,
   "metadata": {},
   "outputs": [],
   "source": [
    "xtrain = np.array(xtrain).reshape(xtrain.shape[0], xtrain.shape[1], 1)\n",
    "xtest = np.array(xtest).reshape(xtest.shape[0], xtest.shape[1], 1)"
   ]
  },
  {
   "cell_type": "code",
   "execution_count": 23,
   "metadata": {},
   "outputs": [],
   "source": [
    "from tensorflow.keras.layers import Flatten, Dense, Conv1D, MaxPool1D, Dropout\n",
    "from tensorflow.keras.layers import LeakyReLU\n",
    "cnn_model = tf.keras.models.Sequential()\n",
    "\n",
    "cnn_model.add(Conv1D(filters=2, kernel_size=(3,),activation='relu', input_shape = (xtrain.shape[1],1)))\n",
    "cnn_model.add(MaxPool1D(pool_size=(3,)))\n",
    "\n",
    "cnn_model.add(Conv1D(filters=4, kernel_size=(3,), activation='relu'))\n",
    "cnn_model.add(MaxPool1D(pool_size=(3,), strides=2, padding='same'))\n",
    "cnn_model.add(Dropout(0.5))\n",
    "\n",
    "# cnn_model.add(Flatten())\n",
    "\n",
    "cnn_model.add(Dense(units = 16, activation='relu'))\n",
    "cnn_model.add(Dense(units = 8, activation='relu'))\n",
    "cnn_model.add(Dense(units = 1, activation='sigmoid'))\n",
    "cnn_model.compile(optimizer='adam', loss = 'binary_crossentropy', metrics=['accuracy'])"
   ]
  },
  {
   "cell_type": "code",
   "execution_count": 25,
   "metadata": {
    "scrolled": false
   },
   "outputs": [
    {
     "name": "stdout",
     "output_type": "stream",
     "text": [
      "Epoch 1/100\n",
      "147/147 [==============================] - 3s 4ms/step - loss: 0.5266 - accuracy: 0.8346\n",
      "Epoch 2/100\n",
      "147/147 [==============================] - 0s 3ms/step - loss: 0.4809 - accuracy: 0.8384\n",
      "Epoch 3/100\n",
      "147/147 [==============================] - 0s 3ms/step - loss: 0.4685 - accuracy: 0.8384\n",
      "Epoch 4/100\n",
      "147/147 [==============================] - 0s 3ms/step - loss: 0.4613 - accuracy: 0.8384\n",
      "Epoch 5/100\n",
      "147/147 [==============================] - 0s 3ms/step - loss: 0.4588 - accuracy: 0.8384\n",
      "Epoch 6/100\n",
      "147/147 [==============================] - 0s 3ms/step - loss: 0.4523 - accuracy: 0.8384\n",
      "Epoch 7/100\n",
      "147/147 [==============================] - 0s 3ms/step - loss: 0.4485 - accuracy: 0.8384\n",
      "Epoch 8/100\n",
      "147/147 [==============================] - 0s 3ms/step - loss: 0.4452 - accuracy: 0.8384\n",
      "Epoch 9/100\n",
      "147/147 [==============================] - 0s 3ms/step - loss: 0.4479 - accuracy: 0.8384\n",
      "Epoch 10/100\n",
      "147/147 [==============================] - 0s 3ms/step - loss: 0.4450 - accuracy: 0.8384\n",
      "Epoch 11/100\n",
      "147/147 [==============================] - 0s 3ms/step - loss: 0.4431 - accuracy: 0.8384\n",
      "Epoch 12/100\n",
      "147/147 [==============================] - 0s 3ms/step - loss: 0.4442 - accuracy: 0.8384\n",
      "Epoch 13/100\n",
      "147/147 [==============================] - 0s 3ms/step - loss: 0.4427 - accuracy: 0.8384\n",
      "Epoch 14/100\n",
      "147/147 [==============================] - 0s 3ms/step - loss: 0.4429 - accuracy: 0.8384\n",
      "Epoch 15/100\n",
      "147/147 [==============================] - 0s 3ms/step - loss: 0.4412 - accuracy: 0.8384\n",
      "Epoch 16/100\n",
      "147/147 [==============================] - 0s 3ms/step - loss: 0.4420 - accuracy: 0.8384\n",
      "Epoch 17/100\n",
      "147/147 [==============================] - 0s 3ms/step - loss: 0.4396 - accuracy: 0.8384\n",
      "Epoch 18/100\n",
      "147/147 [==============================] - 0s 3ms/step - loss: 0.4402 - accuracy: 0.8384\n",
      "Epoch 19/100\n",
      "147/147 [==============================] - 0s 3ms/step - loss: 0.4413 - accuracy: 0.8384\n",
      "Epoch 20/100\n",
      "147/147 [==============================] - 1s 3ms/step - loss: 0.4406 - accuracy: 0.8384\n",
      "Epoch 21/100\n",
      "147/147 [==============================] - 0s 3ms/step - loss: 0.4401 - accuracy: 0.8384\n",
      "Epoch 22/100\n",
      "147/147 [==============================] - 1s 3ms/step - loss: 0.4403 - accuracy: 0.8384\n",
      "Epoch 23/100\n",
      "147/147 [==============================] - 0s 3ms/step - loss: 0.4409 - accuracy: 0.8384\n",
      "Epoch 24/100\n",
      "147/147 [==============================] - 0s 3ms/step - loss: 0.4394 - accuracy: 0.8384\n",
      "Epoch 25/100\n",
      "147/147 [==============================] - 0s 3ms/step - loss: 0.4386 - accuracy: 0.8384\n",
      "Epoch 26/100\n",
      "147/147 [==============================] - 0s 3ms/step - loss: 0.4392 - accuracy: 0.8384\n",
      "Epoch 27/100\n",
      "147/147 [==============================] - 0s 3ms/step - loss: 0.4392 - accuracy: 0.8384\n",
      "Epoch 28/100\n",
      "147/147 [==============================] - 0s 3ms/step - loss: 0.4379 - accuracy: 0.8384\n",
      "Epoch 29/100\n",
      "147/147 [==============================] - 0s 3ms/step - loss: 0.4388 - accuracy: 0.8384\n",
      "Epoch 30/100\n",
      "147/147 [==============================] - 0s 3ms/step - loss: 0.4377 - accuracy: 0.8384\n",
      "Epoch 31/100\n",
      "147/147 [==============================] - 0s 3ms/step - loss: 0.4378 - accuracy: 0.8384\n",
      "Epoch 32/100\n",
      "147/147 [==============================] - 0s 3ms/step - loss: 0.4381 - accuracy: 0.8384\n",
      "Epoch 33/100\n",
      "147/147 [==============================] - 0s 3ms/step - loss: 0.4369 - accuracy: 0.8384\n",
      "Epoch 34/100\n",
      "147/147 [==============================] - 0s 3ms/step - loss: 0.4389 - accuracy: 0.8384\n",
      "Epoch 35/100\n",
      "147/147 [==============================] - 0s 3ms/step - loss: 0.4404 - accuracy: 0.8384\n",
      "Epoch 36/100\n",
      "147/147 [==============================] - 0s 3ms/step - loss: 0.4352 - accuracy: 0.8389\n",
      "Epoch 37/100\n",
      "147/147 [==============================] - 0s 3ms/step - loss: 0.4368 - accuracy: 0.8382\n",
      "Epoch 38/100\n",
      "147/147 [==============================] - 0s 3ms/step - loss: 0.4372 - accuracy: 0.8384\n",
      "Epoch 39/100\n",
      "147/147 [==============================] - 0s 3ms/step - loss: 0.4374 - accuracy: 0.8384\n",
      "Epoch 40/100\n",
      "147/147 [==============================] - 0s 3ms/step - loss: 0.4346 - accuracy: 0.8382\n",
      "Epoch 41/100\n",
      "147/147 [==============================] - 0s 3ms/step - loss: 0.4368 - accuracy: 0.8386\n",
      "Epoch 42/100\n",
      "147/147 [==============================] - 0s 3ms/step - loss: 0.4381 - accuracy: 0.8384\n",
      "Epoch 43/100\n",
      "147/147 [==============================] - 0s 3ms/step - loss: 0.4348 - accuracy: 0.8384\n",
      "Epoch 44/100\n",
      "147/147 [==============================] - 0s 3ms/step - loss: 0.4351 - accuracy: 0.8391\n",
      "Epoch 45/100\n",
      "147/147 [==============================] - 0s 3ms/step - loss: 0.4362 - accuracy: 0.8386\n",
      "Epoch 46/100\n",
      "147/147 [==============================] - 0s 3ms/step - loss: 0.4354 - accuracy: 0.8384\n",
      "Epoch 47/100\n",
      "147/147 [==============================] - 0s 3ms/step - loss: 0.4345 - accuracy: 0.8395\n",
      "Epoch 48/100\n",
      "147/147 [==============================] - 0s 3ms/step - loss: 0.4361 - accuracy: 0.8384\n",
      "Epoch 49/100\n",
      "147/147 [==============================] - 0s 3ms/step - loss: 0.4349 - accuracy: 0.8384: 0s - loss: 0.4430 - ac\n",
      "Epoch 50/100\n",
      "147/147 [==============================] - 0s 3ms/step - loss: 0.4359 - accuracy: 0.8382\n",
      "Epoch 51/100\n",
      "147/147 [==============================] - 0s 3ms/step - loss: 0.4334 - accuracy: 0.8393\n",
      "Epoch 52/100\n",
      "147/147 [==============================] - 0s 3ms/step - loss: 0.4354 - accuracy: 0.8386\n",
      "Epoch 53/100\n",
      "147/147 [==============================] - 0s 3ms/step - loss: 0.4342 - accuracy: 0.8376\n",
      "Epoch 54/100\n",
      "147/147 [==============================] - 0s 3ms/step - loss: 0.4350 - accuracy: 0.8386\n",
      "Epoch 55/100\n",
      "147/147 [==============================] - 0s 3ms/step - loss: 0.4353 - accuracy: 0.8384\n",
      "Epoch 56/100\n",
      "147/147 [==============================] - 0s 3ms/step - loss: 0.4331 - accuracy: 0.8393\n",
      "Epoch 57/100\n",
      "147/147 [==============================] - 0s 3ms/step - loss: 0.4337 - accuracy: 0.8389\n",
      "Epoch 58/100\n",
      "147/147 [==============================] - 0s 3ms/step - loss: 0.4317 - accuracy: 0.8395\n",
      "Epoch 59/100\n",
      "147/147 [==============================] - 0s 3ms/step - loss: 0.4315 - accuracy: 0.8386: 0s - loss: 0.5051 - \n",
      "Epoch 60/100\n",
      "147/147 [==============================] - 0s 2ms/step - loss: 0.4341 - accuracy: 0.8384\n",
      "Epoch 61/100\n",
      "147/147 [==============================] - 0s 3ms/step - loss: 0.4328 - accuracy: 0.8391\n",
      "Epoch 62/100\n",
      "147/147 [==============================] - 0s 3ms/step - loss: 0.4337 - accuracy: 0.8391\n",
      "Epoch 63/100\n",
      "147/147 [==============================] - 0s 3ms/step - loss: 0.4354 - accuracy: 0.8384\n",
      "Epoch 64/100\n",
      "147/147 [==============================] - 0s 3ms/step - loss: 0.4345 - accuracy: 0.8393\n",
      "Epoch 65/100\n",
      "147/147 [==============================] - ETA: 0s - loss: 0.4323 - accuracy: 0.84 - 1s 3ms/step - loss: 0.4325 - accuracy: 0.8401\n",
      "Epoch 66/100\n",
      "147/147 [==============================] - 0s 3ms/step - loss: 0.4312 - accuracy: 0.8395\n",
      "Epoch 67/100\n",
      "147/147 [==============================] - 0s 2ms/step - loss: 0.4343 - accuracy: 0.8386\n",
      "Epoch 68/100\n",
      "147/147 [==============================] - 0s 3ms/step - loss: 0.4333 - accuracy: 0.8395\n",
      "Epoch 69/100\n",
      "147/147 [==============================] - 0s 3ms/step - loss: 0.4336 - accuracy: 0.8414\n",
      "Epoch 70/100\n",
      "147/147 [==============================] - 0s 2ms/step - loss: 0.4323 - accuracy: 0.8391\n",
      "Epoch 71/100\n",
      "147/147 [==============================] - 0s 3ms/step - loss: 0.4318 - accuracy: 0.8397\n",
      "Epoch 72/100\n",
      "147/147 [==============================] - 0s 2ms/step - loss: 0.4322 - accuracy: 0.8391\n",
      "Epoch 73/100\n",
      "147/147 [==============================] - 0s 2ms/step - loss: 0.4360 - accuracy: 0.8391\n",
      "Epoch 74/100\n",
      "147/147 [==============================] - 0s 3ms/step - loss: 0.4343 - accuracy: 0.8389\n",
      "Epoch 75/100\n",
      "147/147 [==============================] - 0s 2ms/step - loss: 0.4334 - accuracy: 0.8391\n",
      "Epoch 76/100\n",
      "147/147 [==============================] - 0s 3ms/step - loss: 0.4333 - accuracy: 0.8386\n",
      "Epoch 77/100\n",
      "147/147 [==============================] - 1s 3ms/step - loss: 0.4316 - accuracy: 0.8389\n",
      "Epoch 78/100\n",
      "147/147 [==============================] - 0s 3ms/step - loss: 0.4332 - accuracy: 0.8393\n",
      "Epoch 79/100\n",
      "147/147 [==============================] - 0s 2ms/step - loss: 0.4339 - accuracy: 0.8384\n",
      "Epoch 80/100\n",
      "147/147 [==============================] - 0s 2ms/step - loss: 0.4312 - accuracy: 0.8389\n",
      "Epoch 81/100\n",
      "147/147 [==============================] - 0s 2ms/step - loss: 0.4323 - accuracy: 0.8386\n",
      "Epoch 82/100\n",
      "147/147 [==============================] - 0s 3ms/step - loss: 0.4323 - accuracy: 0.8393\n",
      "Epoch 83/100\n",
      "147/147 [==============================] - 0s 3ms/step - loss: 0.4331 - accuracy: 0.8386\n",
      "Epoch 84/100\n",
      "147/147 [==============================] - 0s 2ms/step - loss: 0.4329 - accuracy: 0.8393\n",
      "Epoch 85/100\n",
      "147/147 [==============================] - 0s 2ms/step - loss: 0.4318 - accuracy: 0.8399\n",
      "Epoch 86/100\n",
      "147/147 [==============================] - 0s 2ms/step - loss: 0.4338 - accuracy: 0.8393\n",
      "Epoch 87/100\n",
      "147/147 [==============================] - 0s 2ms/step - loss: 0.4302 - accuracy: 0.8401\n",
      "Epoch 88/100\n",
      "147/147 [==============================] - 0s 3ms/step - loss: 0.4311 - accuracy: 0.8399: 0s - loss: 0.4662 - accura\n",
      "Epoch 89/100\n",
      "147/147 [==============================] - 0s 3ms/step - loss: 0.4351 - accuracy: 0.8380\n",
      "Epoch 90/100\n",
      "147/147 [==============================] - 0s 3ms/step - loss: 0.4315 - accuracy: 0.8395\n",
      "Epoch 91/100\n",
      "147/147 [==============================] - 0s 3ms/step - loss: 0.4317 - accuracy: 0.8393\n",
      "Epoch 92/100\n",
      "147/147 [==============================] - 0s 3ms/step - loss: 0.4330 - accuracy: 0.8399\n",
      "Epoch 93/100\n",
      "147/147 [==============================] - 0s 3ms/step - loss: 0.4337 - accuracy: 0.8391\n",
      "Epoch 94/100\n",
      "147/147 [==============================] - 0s 3ms/step - loss: 0.4292 - accuracy: 0.8395\n",
      "Epoch 95/100\n",
      "147/147 [==============================] - 0s 3ms/step - loss: 0.4311 - accuracy: 0.8401\n",
      "Epoch 96/100\n",
      "147/147 [==============================] - 0s 3ms/step - loss: 0.4325 - accuracy: 0.8397\n",
      "Epoch 97/100\n",
      "147/147 [==============================] - 0s 3ms/step - loss: 0.4306 - accuracy: 0.8397\n",
      "Epoch 98/100\n",
      "147/147 [==============================] - 0s 3ms/step - loss: 0.4346 - accuracy: 0.8384\n",
      "Epoch 99/100\n",
      "147/147 [==============================] - 0s 3ms/step - loss: 0.4312 - accuracy: 0.8391\n",
      "Epoch 100/100\n",
      "147/147 [==============================] - 0s 3ms/step - loss: 0.4312 - accuracy: 0.8401\n"
     ]
    },
    {
     "data": {
      "text/plain": [
       "<keras.callbacks.History at 0x2dc247d18b0>"
      ]
     },
     "execution_count": 25,
     "metadata": {},
     "output_type": "execute_result"
    }
   ],
   "source": [
    "cnn_model.fit(xtrain,ytrain,epochs=100,batch_size=8)"
   ]
  },
  {
   "cell_type": "code",
   "execution_count": 27,
   "metadata": {},
   "outputs": [
    {
     "name": "stdout",
     "output_type": "stream",
     "text": [
      "10/10 [==============================] - 0s 4ms/step - loss: 0.4511 - accuracy: 0.8401\n"
     ]
    },
    {
     "data": {
      "text/plain": [
       "[0.4510751962661743, 0.8401360511779785]"
      ]
     },
     "execution_count": 27,
     "metadata": {},
     "output_type": "execute_result"
    }
   ],
   "source": [
    "cnn_model.evaluate(xtest,ytest)"
   ]
  },
  {
   "cell_type": "markdown",
   "metadata": {},
   "source": [
    "# XGBoost"
   ]
  },
  {
   "cell_type": "code",
   "execution_count": 159,
   "metadata": {},
   "outputs": [
    {
     "name": "stdout",
     "output_type": "stream",
     "text": [
      "[20:16:12] WARNING: C:/Users/Administrator/workspace/xgboost-win64_release_1.4.0/src/learner.cc:1095: Starting in XGBoost 1.3.0, the default evaluation metric used with the objective 'binary:logistic' was changed from 'error' to 'logloss'. Explicitly set eval_metric if you'd like to restore the old behavior.\n",
      "\n",
      "Training Accuracy : 1.0\n",
      "\n",
      "Testing Accuracy : 0.8775510204081632\n"
     ]
    }
   ],
   "source": [
    "from xgboost import XGBClassifier\n",
    "classifier=XGBClassifier()\n",
    "classifier.fit(xtrain,ytrain)\n",
    "predictions_train =classifier.predict(xtrain)\n",
    "acc=accuracy_score(ytrain, predictions_train)\n",
    "print('\\nTraining Accuracy :', acc)\n",
    "predictions_test = classifier.predict(xtest)\n",
    "accc=accuracy_score(ytest, predictions_test)\n",
    "print('\\nTesting Accuracy :', accc)"
   ]
  },
  {
   "cell_type": "markdown",
   "metadata": {},
   "source": [
    "# RandomForestClassifier"
   ]
  },
  {
   "cell_type": "code",
   "execution_count": 171,
   "metadata": {},
   "outputs": [
    {
     "name": "stdout",
     "output_type": "stream",
     "text": [
      "\n",
      "Training Accuracy :  1.0\n",
      "\n",
      "Testing Accuracy :  0.8707482993197279\n"
     ]
    }
   ],
   "source": [
    "rnf = RandomForestClassifier(n_estimators=120, random_state=43)\n",
    "rnf.fit(xtrain,ytrain)\n",
    "# Accuracy on Training \n",
    "predictions_train = rnf.predict(xtrain)\n",
    "print(\"\\nTraining Accuracy : \", accuracy_score(ytrain,predictions_train))\n",
    "# Accuracy on Testing\n",
    "predictions_test = rnf.predict(xtest)\n",
    "print(\"\\nTesting Accuracy : \", accuracy_score(ytest,predictions_test))"
   ]
  },
  {
   "cell_type": "markdown",
   "metadata": {},
   "source": [
    "# KNeighborsClassifier"
   ]
  },
  {
   "cell_type": "code",
   "execution_count": 174,
   "metadata": {},
   "outputs": [
    {
     "data": {
      "text/plain": [
       "KNeighborsClassifier(n_neighbors=35)"
      ]
     },
     "execution_count": 174,
     "metadata": {},
     "output_type": "execute_result"
    }
   ],
   "source": [
    "from sklearn.neighbors import KNeighborsClassifier\n",
    "classifier = KNeighborsClassifier(n_neighbors=35)\n",
    "classifier.fit(xtrain, ytrain)"
   ]
  },
  {
   "cell_type": "code",
   "execution_count": 175,
   "metadata": {},
   "outputs": [
    {
     "name": "stdout",
     "output_type": "stream",
     "text": [
      "\n",
      "Training Accuracy :  0.842687074829932\n",
      "\n",
      "Testing Accuracy :  0.8435374149659864\n"
     ]
    }
   ],
   "source": [
    "# Accuracy on Training \n",
    "predictions_train = classifier.predict(xtrain)\n",
    "print(\"\\nTraining Accuracy : \", accuracy_score(ytrain,predictions_train))\n",
    "# Accuracy on Testing\n",
    "predictions_test = classifier.predict(xtest)\n",
    "print(\"\\nTesting Accuracy : \", accuracy_score(ytest,predictions_test))"
   ]
  },
  {
   "cell_type": "markdown",
   "metadata": {},
   "source": [
    "# SVM Model"
   ]
  },
  {
   "cell_type": "code",
   "execution_count": 182,
   "metadata": {},
   "outputs": [
    {
     "data": {
      "text/plain": [
       "SVC(C=2, gamma='auto')"
      ]
     },
     "execution_count": 182,
     "metadata": {},
     "output_type": "execute_result"
    }
   ],
   "source": [
    "svm_model = SVC(C=2, gamma = 'auto',kernel ='rbf')\n",
    "svm_model.fit(xtrain,ytrain)"
   ]
  },
  {
   "cell_type": "code",
   "execution_count": 183,
   "metadata": {},
   "outputs": [
    {
     "name": "stdout",
     "output_type": "stream",
     "text": [
      "\n",
      "Training Accuracy :  0.9532312925170068\n",
      "\n",
      "Testing Accuracy :  0.891156462585034\n"
     ]
    }
   ],
   "source": [
    "# Accuracy on Training \n",
    "predictions_train = svm_model.predict(xtrain)\n",
    "print(\"\\nTraining Accuracy : \", accuracy_score(ytrain,predictions_train))\n",
    "# Accuracy on Testing\n",
    "predictions_test = svm_model.predict(xtest)\n",
    "print(\"\\nTesting Accuracy : \", accuracy_score(ytest,predictions_test))"
   ]
  },
  {
   "cell_type": "markdown",
   "metadata": {},
   "source": [
    "# light gbm"
   ]
  },
  {
   "cell_type": "code",
   "execution_count": 184,
   "metadata": {},
   "outputs": [
    {
     "name": "stdout",
     "output_type": "stream",
     "text": [
      "[15]\ttraining's binary_logloss: 0.26994\tvalid_0's binary_logloss: 0.352662\n",
      "[30]\ttraining's binary_logloss: 0.185591\tvalid_0's binary_logloss: 0.332787\n",
      "[45]\ttraining's binary_logloss: 0.130733\tvalid_0's binary_logloss: 0.323346\n",
      "[60]\ttraining's binary_logloss: 0.0922451\tvalid_0's binary_logloss: 0.322871\n",
      "[75]\ttraining's binary_logloss: 0.0663177\tvalid_0's binary_logloss: 0.327351\n",
      "[90]\ttraining's binary_logloss: 0.0477393\tvalid_0's binary_logloss: 0.326812\n"
     ]
    },
    {
     "data": {
      "text/plain": [
       "LGBMClassifier(learning_rate=0.07, max_depth=-4, random_state=2021)"
      ]
     },
     "execution_count": 184,
     "metadata": {},
     "output_type": "execute_result"
    }
   ],
   "source": [
    "import lightgbm as lgb\n",
    "model = lgb.LGBMClassifier(learning_rate=0.07,max_depth=-4,random_state=2021)\n",
    "model.fit(xtrain,ytrain,eval_set=[(xtest,ytest),(xtrain,ytrain)],\n",
    "          verbose=15,eval_metric='logloss')"
   ]
  },
  {
   "cell_type": "code",
   "execution_count": 185,
   "metadata": {},
   "outputs": [
    {
     "name": "stdout",
     "output_type": "stream",
     "text": [
      "Training accuracy 1.0000\n",
      "Testing accuracy 0.8810\n"
     ]
    }
   ],
   "source": [
    "print('Training accuracy {:.4f}'.format(model.score(xtrain,ytrain)))\n",
    "print('Testing accuracy {:.4f}'.format(model.score(xtest,ytest)))"
   ]
  },
  {
   "cell_type": "markdown",
   "metadata": {},
   "source": [
    "# linear SVM"
   ]
  },
  {
   "cell_type": "code",
   "execution_count": 186,
   "metadata": {},
   "outputs": [
    {
     "data": {
      "text/plain": [
       "SVC(gamma='auto', kernel='linear')"
      ]
     },
     "execution_count": 186,
     "metadata": {},
     "output_type": "execute_result"
    }
   ],
   "source": [
    "svm_model = SVC(kernel='linear',gamma = 'auto')\n",
    "svm_model.fit(xtrain,ytrain)"
   ]
  },
  {
   "cell_type": "code",
   "execution_count": 187,
   "metadata": {},
   "outputs": [
    {
     "name": "stdout",
     "output_type": "stream",
     "text": [
      "\n",
      "Training Accuracy :  0.8758503401360545\n",
      "\n",
      "Testing Accuracy :  0.891156462585034\n"
     ]
    }
   ],
   "source": [
    "# Accuracy on Training \n",
    "predictions_train = svm_model.predict(xtrain)\n",
    "print(\"\\nTraining Accuracy : \", accuracy_score(ytrain,predictions_train))\n",
    "# Accuracy on Testing\n",
    "predictions_test = svm_model.predict(xtest)\n",
    "print(\"\\nTesting Accuracy : \", accuracy_score(ytest,predictions_test))"
   ]
  },
  {
   "cell_type": "markdown",
   "metadata": {},
   "source": [
    "# Catboost"
   ]
  },
  {
   "cell_type": "code",
   "execution_count": 188,
   "metadata": {},
   "outputs": [
    {
     "name": "stdout",
     "output_type": "stream",
     "text": [
      "0:\tlearn: 0.4354421\ttotal: 9.1ms\tremaining: 901ms\n",
      "1:\tlearn: 0.3803752\ttotal: 17.7ms\tremaining: 865ms\n",
      "2:\tlearn: 0.3262298\ttotal: 26.4ms\tremaining: 853ms\n",
      "3:\tlearn: 0.2913409\ttotal: 33.3ms\tremaining: 799ms\n",
      "4:\tlearn: 0.2737085\ttotal: 37.8ms\tremaining: 719ms\n",
      "5:\tlearn: 0.2596097\ttotal: 42.4ms\tremaining: 665ms\n",
      "6:\tlearn: 0.2422978\ttotal: 46.6ms\tremaining: 619ms\n",
      "7:\tlearn: 0.2268559\ttotal: 50.5ms\tremaining: 580ms\n",
      "8:\tlearn: 0.2128920\ttotal: 54.4ms\tremaining: 550ms\n",
      "9:\tlearn: 0.2036461\ttotal: 58.3ms\tremaining: 525ms\n",
      "10:\tlearn: 0.1934316\ttotal: 62ms\tremaining: 501ms\n",
      "11:\tlearn: 0.1823727\ttotal: 65.5ms\tremaining: 480ms\n",
      "12:\tlearn: 0.1684028\ttotal: 69.3ms\tremaining: 464ms\n",
      "13:\tlearn: 0.1578753\ttotal: 72.9ms\tremaining: 448ms\n",
      "14:\tlearn: 0.1493587\ttotal: 76.3ms\tremaining: 433ms\n",
      "15:\tlearn: 0.1436092\ttotal: 79.9ms\tremaining: 420ms\n",
      "16:\tlearn: 0.1362672\ttotal: 83.4ms\tremaining: 407ms\n",
      "17:\tlearn: 0.1255429\ttotal: 86.9ms\tremaining: 396ms\n",
      "18:\tlearn: 0.1215946\ttotal: 90.4ms\tremaining: 385ms\n",
      "19:\tlearn: 0.1124567\ttotal: 94.1ms\tremaining: 376ms\n",
      "20:\tlearn: 0.1082727\ttotal: 97.4ms\tremaining: 366ms\n",
      "21:\tlearn: 0.1013007\ttotal: 101ms\tremaining: 359ms\n",
      "22:\tlearn: 0.0937707\ttotal: 105ms\tremaining: 350ms\n",
      "23:\tlearn: 0.0887169\ttotal: 108ms\tremaining: 343ms\n",
      "24:\tlearn: 0.0836178\ttotal: 112ms\tremaining: 336ms\n",
      "25:\tlearn: 0.0784523\ttotal: 116ms\tremaining: 329ms\n",
      "26:\tlearn: 0.0755886\ttotal: 119ms\tremaining: 322ms\n",
      "27:\tlearn: 0.0751865\ttotal: 123ms\tremaining: 315ms\n",
      "28:\tlearn: 0.0705388\ttotal: 127ms\tremaining: 312ms\n",
      "29:\tlearn: 0.0672800\ttotal: 131ms\tremaining: 306ms\n",
      "30:\tlearn: 0.0632382\ttotal: 135ms\tremaining: 300ms\n",
      "31:\tlearn: 0.0564572\ttotal: 138ms\tremaining: 294ms\n",
      "32:\tlearn: 0.0546326\ttotal: 142ms\tremaining: 287ms\n",
      "33:\tlearn: 0.0513500\ttotal: 145ms\tremaining: 282ms\n",
      "34:\tlearn: 0.0485702\ttotal: 149ms\tremaining: 276ms\n",
      "35:\tlearn: 0.0460851\ttotal: 152ms\tremaining: 270ms\n",
      "36:\tlearn: 0.0437261\ttotal: 155ms\tremaining: 265ms\n",
      "37:\tlearn: 0.0413334\ttotal: 159ms\tremaining: 260ms\n",
      "38:\tlearn: 0.0403242\ttotal: 162ms\tremaining: 254ms\n",
      "39:\tlearn: 0.0389323\ttotal: 166ms\tremaining: 249ms\n",
      "40:\tlearn: 0.0370261\ttotal: 169ms\tremaining: 244ms\n",
      "41:\tlearn: 0.0355192\ttotal: 173ms\tremaining: 239ms\n",
      "42:\tlearn: 0.0341830\ttotal: 176ms\tremaining: 234ms\n",
      "43:\tlearn: 0.0332518\ttotal: 181ms\tremaining: 230ms\n",
      "44:\tlearn: 0.0317554\ttotal: 185ms\tremaining: 226ms\n",
      "45:\tlearn: 0.0305305\ttotal: 189ms\tremaining: 222ms\n",
      "46:\tlearn: 0.0296635\ttotal: 193ms\tremaining: 218ms\n",
      "47:\tlearn: 0.0285454\ttotal: 197ms\tremaining: 214ms\n",
      "48:\tlearn: 0.0276248\ttotal: 205ms\tremaining: 214ms\n",
      "49:\tlearn: 0.0265659\ttotal: 210ms\tremaining: 210ms\n",
      "50:\tlearn: 0.0255715\ttotal: 214ms\tremaining: 205ms\n",
      "51:\tlearn: 0.0244545\ttotal: 217ms\tremaining: 201ms\n",
      "52:\tlearn: 0.0237531\ttotal: 221ms\tremaining: 196ms\n",
      "53:\tlearn: 0.0234347\ttotal: 225ms\tremaining: 191ms\n",
      "54:\tlearn: 0.0227766\ttotal: 228ms\tremaining: 187ms\n",
      "55:\tlearn: 0.0219517\ttotal: 232ms\tremaining: 182ms\n",
      "56:\tlearn: 0.0213213\ttotal: 235ms\tremaining: 178ms\n",
      "57:\tlearn: 0.0203940\ttotal: 239ms\tremaining: 173ms\n",
      "58:\tlearn: 0.0195798\ttotal: 243ms\tremaining: 169ms\n",
      "59:\tlearn: 0.0185086\ttotal: 246ms\tremaining: 164ms\n",
      "60:\tlearn: 0.0180008\ttotal: 250ms\tremaining: 160ms\n",
      "61:\tlearn: 0.0176708\ttotal: 253ms\tremaining: 155ms\n",
      "62:\tlearn: 0.0171609\ttotal: 257ms\tremaining: 151ms\n",
      "63:\tlearn: 0.0168779\ttotal: 260ms\tremaining: 146ms\n",
      "64:\tlearn: 0.0166913\ttotal: 264ms\tremaining: 142ms\n",
      "65:\tlearn: 0.0162085\ttotal: 267ms\tremaining: 138ms\n",
      "66:\tlearn: 0.0155174\ttotal: 271ms\tremaining: 133ms\n",
      "67:\tlearn: 0.0152922\ttotal: 274ms\tremaining: 129ms\n",
      "68:\tlearn: 0.0149745\ttotal: 278ms\tremaining: 125ms\n",
      "69:\tlearn: 0.0146879\ttotal: 281ms\tremaining: 120ms\n",
      "70:\tlearn: 0.0139217\ttotal: 284ms\tremaining: 116ms\n",
      "71:\tlearn: 0.0135813\ttotal: 288ms\tremaining: 112ms\n",
      "72:\tlearn: 0.0132496\ttotal: 291ms\tremaining: 108ms\n",
      "73:\tlearn: 0.0130013\ttotal: 295ms\tremaining: 104ms\n",
      "74:\tlearn: 0.0128995\ttotal: 298ms\tremaining: 99.5ms\n",
      "75:\tlearn: 0.0125446\ttotal: 302ms\tremaining: 95.3ms\n",
      "76:\tlearn: 0.0121318\ttotal: 305ms\tremaining: 91.2ms\n",
      "77:\tlearn: 0.0119121\ttotal: 309ms\tremaining: 87.1ms\n",
      "78:\tlearn: 0.0115355\ttotal: 312ms\tremaining: 83ms\n",
      "79:\tlearn: 0.0112634\ttotal: 316ms\tremaining: 78.9ms\n",
      "80:\tlearn: 0.0110946\ttotal: 319ms\tremaining: 74.8ms\n",
      "81:\tlearn: 0.0105395\ttotal: 322ms\tremaining: 70.8ms\n",
      "82:\tlearn: 0.0104176\ttotal: 326ms\tremaining: 66.7ms\n",
      "83:\tlearn: 0.0103116\ttotal: 329ms\tremaining: 62.7ms\n",
      "84:\tlearn: 0.0101108\ttotal: 332ms\tremaining: 58.7ms\n",
      "85:\tlearn: 0.0098979\ttotal: 336ms\tremaining: 54.7ms\n",
      "86:\tlearn: 0.0096228\ttotal: 339ms\tremaining: 50.7ms\n",
      "87:\tlearn: 0.0095468\ttotal: 343ms\tremaining: 46.8ms\n",
      "88:\tlearn: 0.0093734\ttotal: 347ms\tremaining: 42.9ms\n",
      "89:\tlearn: 0.0092148\ttotal: 352ms\tremaining: 39.1ms\n",
      "90:\tlearn: 0.0090194\ttotal: 356ms\tremaining: 35.2ms\n",
      "91:\tlearn: 0.0087382\ttotal: 360ms\tremaining: 31.3ms\n",
      "92:\tlearn: 0.0086529\ttotal: 366ms\tremaining: 27.5ms\n",
      "93:\tlearn: 0.0085039\ttotal: 371ms\tremaining: 23.7ms\n",
      "94:\tlearn: 0.0083667\ttotal: 375ms\tremaining: 19.7ms\n",
      "95:\tlearn: 0.0081433\ttotal: 378ms\tremaining: 15.8ms\n",
      "96:\tlearn: 0.0079467\ttotal: 382ms\tremaining: 11.8ms\n",
      "97:\tlearn: 0.0078225\ttotal: 385ms\tremaining: 7.86ms\n",
      "98:\tlearn: 0.0077463\ttotal: 389ms\tremaining: 3.93ms\n",
      "99:\tlearn: 0.0077106\ttotal: 393ms\tremaining: 0us\n"
     ]
    },
    {
     "data": {
      "text/plain": [
       "<catboost.core.CatBoostClassifier at 0x27911ba3eb0>"
      ]
     },
     "execution_count": 188,
     "metadata": {},
     "output_type": "execute_result"
    }
   ],
   "source": [
    "from catboost import CatBoostClassifier\n",
    "catmodel = CatBoostClassifier(iterations=100,learning_rate=0.5)\n",
    "catmodel.fit(xtrain,ytrain,plot=False)"
   ]
  },
  {
   "cell_type": "code",
   "execution_count": 189,
   "metadata": {},
   "outputs": [
    {
     "name": "stdout",
     "output_type": "stream",
     "text": [
      "\n",
      "Training Accuracy :  1.0\n",
      "\n",
      "Testing Accuracy :  0.8877551020408163\n"
     ]
    }
   ],
   "source": [
    "# Accuracy on Training \n",
    "predictions_train = catmodel.predict(xtrain)\n",
    "print(\"\\nTraining Accuracy : \", accuracy_score(ytrain,predictions_train))\n",
    "# Accuracy on Testing\n",
    "predictions_test = catmodel.predict(xtest)\n",
    "print(\"\\nTesting Accuracy : \", accuracy_score(ytest,predictions_test))"
   ]
  },
  {
   "cell_type": "markdown",
   "metadata": {},
   "source": [
    "# Adaboost"
   ]
  },
  {
   "cell_type": "code",
   "execution_count": 190,
   "metadata": {},
   "outputs": [
    {
     "name": "stdout",
     "output_type": "stream",
     "text": [
      "\n",
      "Training Accuracy :  0.8613945578231292\n",
      "\n",
      "Testing Accuracy :  0.8571428571428571\n"
     ]
    }
   ],
   "source": [
    "from sklearn.ensemble import AdaBoostClassifier\n",
    "# Adaboost\n",
    "abc = AdaBoostClassifier(n_estimators=100, learning_rate=.1)\n",
    "model = abc.fit(xtrain, ytrain)\n",
    "\n",
    "# Accuracy on Training \n",
    "predictions_train = model.predict(xtrain)\n",
    "print(\"\\nTraining Accuracy : \", accuracy_score(ytrain,predictions_train))\n",
    "# Accuracy on Testing\n",
    "predictions_test = model.predict(xtest)\n",
    "print(\"\\nTesting Accuracy : \", accuracy_score(ytest,predictions_test))"
   ]
  },
  {
   "cell_type": "markdown",
   "metadata": {},
   "source": [
    "# Stochastic Gradient Boosting"
   ]
  },
  {
   "cell_type": "code",
   "execution_count": 191,
   "metadata": {},
   "outputs": [
    {
     "name": "stdout",
     "output_type": "stream",
     "text": [
      "\n",
      "Training Accuracy :  0.9532312925170068\n",
      "\n",
      "Testing Accuracy :  0.8945578231292517\n",
      "Mean Accuracy: 0.862 (0.020)\n"
     ]
    }
   ],
   "source": [
    "from sklearn.ensemble import GradientBoostingClassifier\n",
    "# Stochastic Gradient Boosting\n",
    "model = GradientBoostingClassifier()\n",
    "model.fit(xtrain, ytrain)\n",
    "\n",
    "# Accuracy on Training \n",
    "predictions_train = model.predict(xtrain)\n",
    "print(\"\\nTraining Accuracy : \", accuracy_score(ytrain,predictions_train))\n",
    "# Accuracy on Testing\n",
    "predictions_test = model.predict(xtest)\n",
    "print(\"\\nTesting Accuracy : \", accuracy_score(ytest,predictions_test))\n",
    "\n",
    "# define the evaluation method\n",
    "cv = RepeatedStratifiedKFold(n_splits=10, n_repeats=3, random_state=1)\n",
    "# evaluate the model on the dataset\n",
    "n_scores = cross_val_score(model, x, y, scoring='accuracy', cv=cv, n_jobs=-1)\n",
    "# report performance\n",
    "print('Mean Accuracy: %.3f (%.3f)' % (mean(n_scores), std(n_scores)))"
   ]
  },
  {
   "cell_type": "markdown",
   "metadata": {},
   "source": [
    "# Bagging classifier"
   ]
  },
  {
   "cell_type": "code",
   "execution_count": 192,
   "metadata": {},
   "outputs": [
    {
     "name": "stdout",
     "output_type": "stream",
     "text": [
      "\n",
      "Training Accuracy :  0.9532312925170068\n",
      "\n",
      "Testing Accuracy :  0.8503401360544217\n",
      "Accuracy: 0.859 (0.014)\n"
     ]
    }
   ],
   "source": [
    "from sklearn.ensemble import BaggingClassifier\n",
    "from sklearn.tree import DecisionTreeClassifier\n",
    "# initialize the base classifier\n",
    "base_cls = DecisionTreeClassifier()\n",
    "  \n",
    "# no. of base classifier\n",
    "num_trees = 50\n",
    "  \n",
    "# bagging classifier\n",
    "model = BaggingClassifier(base_estimator = base_cls,n_estimators = num_trees, max_samples =.5 , max_features = 1.0, random_state = 2021)\n",
    "\n",
    "model.fit(xtrain,ytrain)\n",
    "# Accuracy on Training \n",
    "predictions_train = model.predict(xtrain)\n",
    "print(\"\\nTraining Accuracy : \", accuracy_score(ytrain,predictions_train))\n",
    "# Accuracy on Testing\n",
    "predictions_test = model.predict(xtest)\n",
    "print(\"\\nTesting Accuracy : \", accuracy_score(ytest,predictions_test))\n",
    "\n",
    "cv = RepeatedStratifiedKFold(n_splits=10, n_repeats=3, random_state=1)\n",
    "n_scores = cross_val_score(model, x, y, scoring='accuracy', cv=cv, n_jobs=-1, error_score='raise')\n",
    "# report performance\n",
    "print('Accuracy: %.3f (%.3f)' % (mean(n_scores), std(n_scores)))"
   ]
  },
  {
   "cell_type": "markdown",
   "metadata": {},
   "source": [
    "# SMOTE"
   ]
  },
  {
   "cell_type": "code",
   "execution_count": 201,
   "metadata": {},
   "outputs": [
    {
     "name": "stdout",
     "output_type": "stream",
     "text": [
      "xtrain:  (1176, 29)\n",
      "xtest:  (294, 29)\n"
     ]
    }
   ],
   "source": [
    "print('xtrain: ',xtrain.shape)\n",
    "print('xtest: ',xtest.shape)"
   ]
  },
  {
   "cell_type": "code",
   "execution_count": 203,
   "metadata": {},
   "outputs": [],
   "source": [
    "from imblearn.over_sampling import SMOTE\n",
    "smt = SMOTE(random_state=0)\n",
    "X_train_SMOTE, y_train_SMOTE = smt.fit_sample(xtrain, ytrain)"
   ]
  },
  {
   "cell_type": "code",
   "execution_count": 204,
   "metadata": {},
   "outputs": [
    {
     "name": "stdout",
     "output_type": "stream",
     "text": [
      "x_train_SMOTE:  (1972, 29)\n",
      "y_train_SMOTE:  (1972,)\n"
     ]
    }
   ],
   "source": [
    "print('x_train_SMOTE: ',X_train_SMOTE.shape)\n",
    "print('y_train_SMOTE: ',y_train_SMOTE.shape)"
   ]
  },
  {
   "cell_type": "markdown",
   "metadata": {},
   "source": [
    "# CatBoost Model"
   ]
  },
  {
   "cell_type": "code",
   "execution_count": 224,
   "metadata": {},
   "outputs": [
    {
     "name": "stdout",
     "output_type": "stream",
     "text": [
      "0:\tlearn: 0.5264981\ttotal: 24ms\tremaining: 2.86s\n",
      "1:\tlearn: 0.4322366\ttotal: 42.4ms\tremaining: 2.5s\n",
      "2:\tlearn: 0.3809796\ttotal: 53.3ms\tremaining: 2.08s\n",
      "3:\tlearn: 0.3408609\ttotal: 64.2ms\tremaining: 1.86s\n",
      "4:\tlearn: 0.3069456\ttotal: 75.2ms\tremaining: 1.73s\n",
      "5:\tlearn: 0.2810628\ttotal: 85.9ms\tremaining: 1.63s\n",
      "6:\tlearn: 0.2525116\ttotal: 96.6ms\tremaining: 1.56s\n",
      "7:\tlearn: 0.2404414\ttotal: 107ms\tremaining: 1.5s\n",
      "8:\tlearn: 0.2271953\ttotal: 118ms\tremaining: 1.46s\n",
      "9:\tlearn: 0.2089637\ttotal: 129ms\tremaining: 1.42s\n",
      "10:\tlearn: 0.1940396\ttotal: 139ms\tremaining: 1.38s\n",
      "11:\tlearn: 0.1851481\ttotal: 150ms\tremaining: 1.35s\n",
      "12:\tlearn: 0.1779179\ttotal: 161ms\tremaining: 1.32s\n",
      "13:\tlearn: 0.1705058\ttotal: 171ms\tremaining: 1.3s\n",
      "14:\tlearn: 0.1623271\ttotal: 182ms\tremaining: 1.27s\n",
      "15:\tlearn: 0.1534741\ttotal: 192ms\tremaining: 1.25s\n",
      "16:\tlearn: 0.1441829\ttotal: 203ms\tremaining: 1.23s\n",
      "17:\tlearn: 0.1361307\ttotal: 217ms\tremaining: 1.23s\n",
      "18:\tlearn: 0.1292833\ttotal: 235ms\tremaining: 1.25s\n",
      "19:\tlearn: 0.1209759\ttotal: 247ms\tremaining: 1.24s\n",
      "20:\tlearn: 0.1156370\ttotal: 258ms\tremaining: 1.22s\n",
      "21:\tlearn: 0.1084104\ttotal: 269ms\tremaining: 1.2s\n",
      "22:\tlearn: 0.1010998\ttotal: 280ms\tremaining: 1.18s\n",
      "23:\tlearn: 0.0977412\ttotal: 291ms\tremaining: 1.16s\n",
      "24:\tlearn: 0.0924279\ttotal: 301ms\tremaining: 1.14s\n",
      "25:\tlearn: 0.0857766\ttotal: 312ms\tremaining: 1.13s\n",
      "26:\tlearn: 0.0815801\ttotal: 323ms\tremaining: 1.11s\n",
      "27:\tlearn: 0.0768515\ttotal: 333ms\tremaining: 1.09s\n",
      "28:\tlearn: 0.0751834\ttotal: 344ms\tremaining: 1.08s\n",
      "29:\tlearn: 0.0717570\ttotal: 355ms\tremaining: 1.06s\n",
      "30:\tlearn: 0.0670826\ttotal: 366ms\tremaining: 1.05s\n",
      "31:\tlearn: 0.0628341\ttotal: 376ms\tremaining: 1.03s\n",
      "32:\tlearn: 0.0612149\ttotal: 390ms\tremaining: 1.03s\n",
      "33:\tlearn: 0.0574779\ttotal: 406ms\tremaining: 1.03s\n",
      "34:\tlearn: 0.0546730\ttotal: 418ms\tremaining: 1.01s\n",
      "35:\tlearn: 0.0512972\ttotal: 429ms\tremaining: 1s\n",
      "36:\tlearn: 0.0491602\ttotal: 440ms\tremaining: 986ms\n",
      "37:\tlearn: 0.0472645\ttotal: 450ms\tremaining: 972ms\n",
      "38:\tlearn: 0.0448086\ttotal: 461ms\tremaining: 958ms\n",
      "39:\tlearn: 0.0427181\ttotal: 472ms\tremaining: 944ms\n",
      "40:\tlearn: 0.0412523\ttotal: 483ms\tremaining: 930ms\n",
      "41:\tlearn: 0.0392203\ttotal: 494ms\tremaining: 917ms\n",
      "42:\tlearn: 0.0374332\ttotal: 504ms\tremaining: 903ms\n",
      "43:\tlearn: 0.0359294\ttotal: 515ms\tremaining: 889ms\n",
      "44:\tlearn: 0.0344810\ttotal: 525ms\tremaining: 876ms\n",
      "45:\tlearn: 0.0326495\ttotal: 536ms\tremaining: 862ms\n",
      "46:\tlearn: 0.0311400\ttotal: 547ms\tremaining: 849ms\n",
      "47:\tlearn: 0.0293688\ttotal: 558ms\tremaining: 836ms\n",
      "48:\tlearn: 0.0280125\ttotal: 573ms\tremaining: 830ms\n",
      "49:\tlearn: 0.0265904\ttotal: 589ms\tremaining: 825ms\n",
      "50:\tlearn: 0.0256672\ttotal: 606ms\tremaining: 819ms\n",
      "51:\tlearn: 0.0248210\ttotal: 617ms\tremaining: 806ms\n",
      "52:\tlearn: 0.0239637\ttotal: 632ms\tremaining: 798ms\n",
      "53:\tlearn: 0.0234539\ttotal: 645ms\tremaining: 788ms\n",
      "54:\tlearn: 0.0223991\ttotal: 657ms\tremaining: 777ms\n",
      "55:\tlearn: 0.0215582\ttotal: 670ms\tremaining: 766ms\n",
      "56:\tlearn: 0.0207483\ttotal: 681ms\tremaining: 753ms\n",
      "57:\tlearn: 0.0201179\ttotal: 694ms\tremaining: 741ms\n",
      "58:\tlearn: 0.0192339\ttotal: 705ms\tremaining: 729ms\n",
      "59:\tlearn: 0.0186772\ttotal: 717ms\tremaining: 717ms\n",
      "60:\tlearn: 0.0182289\ttotal: 728ms\tremaining: 704ms\n",
      "61:\tlearn: 0.0174497\ttotal: 741ms\tremaining: 693ms\n",
      "62:\tlearn: 0.0170461\ttotal: 753ms\tremaining: 682ms\n",
      "63:\tlearn: 0.0166542\ttotal: 770ms\tremaining: 674ms\n",
      "64:\tlearn: 0.0161436\ttotal: 781ms\tremaining: 661ms\n",
      "65:\tlearn: 0.0154858\ttotal: 792ms\tremaining: 648ms\n",
      "66:\tlearn: 0.0150169\ttotal: 803ms\tremaining: 636ms\n",
      "67:\tlearn: 0.0145891\ttotal: 815ms\tremaining: 623ms\n",
      "68:\tlearn: 0.0142460\ttotal: 826ms\tremaining: 611ms\n",
      "69:\tlearn: 0.0138316\ttotal: 846ms\tremaining: 605ms\n",
      "70:\tlearn: 0.0134494\ttotal: 903ms\tremaining: 623ms\n",
      "71:\tlearn: 0.0133891\ttotal: 931ms\tremaining: 621ms\n",
      "72:\tlearn: 0.0132021\ttotal: 966ms\tremaining: 622ms\n",
      "73:\tlearn: 0.0129897\ttotal: 1.01s\tremaining: 631ms\n",
      "74:\tlearn: 0.0124113\ttotal: 1.04s\tremaining: 624ms\n",
      "75:\tlearn: 0.0121527\ttotal: 1.06s\tremaining: 612ms\n",
      "76:\tlearn: 0.0118274\ttotal: 1.08s\tremaining: 603ms\n",
      "77:\tlearn: 0.0115172\ttotal: 1.1s\tremaining: 591ms\n",
      "78:\tlearn: 0.0112679\ttotal: 1.11s\tremaining: 576ms\n",
      "79:\tlearn: 0.0112679\ttotal: 1.13s\tremaining: 564ms\n",
      "80:\tlearn: 0.0110047\ttotal: 1.15s\tremaining: 556ms\n",
      "81:\tlearn: 0.0106325\ttotal: 1.17s\tremaining: 541ms\n",
      "82:\tlearn: 0.0103529\ttotal: 1.18s\tremaining: 527ms\n",
      "83:\tlearn: 0.0099403\ttotal: 1.2s\tremaining: 514ms\n",
      "84:\tlearn: 0.0097117\ttotal: 1.22s\tremaining: 502ms\n",
      "85:\tlearn: 0.0094809\ttotal: 1.24s\tremaining: 488ms\n",
      "86:\tlearn: 0.0092250\ttotal: 1.25s\tremaining: 475ms\n",
      "87:\tlearn: 0.0090146\ttotal: 1.27s\tremaining: 461ms\n",
      "88:\tlearn: 0.0089339\ttotal: 1.28s\tremaining: 447ms\n",
      "89:\tlearn: 0.0087052\ttotal: 1.31s\tremaining: 436ms\n",
      "90:\tlearn: 0.0085947\ttotal: 1.32s\tremaining: 421ms\n",
      "91:\tlearn: 0.0084862\ttotal: 1.34s\tremaining: 409ms\n",
      "92:\tlearn: 0.0084137\ttotal: 1.36s\tremaining: 394ms\n",
      "93:\tlearn: 0.0082658\ttotal: 1.37s\tremaining: 379ms\n",
      "94:\tlearn: 0.0081251\ttotal: 1.39s\tremaining: 365ms\n",
      "95:\tlearn: 0.0077966\ttotal: 1.4s\tremaining: 349ms\n",
      "96:\tlearn: 0.0077030\ttotal: 1.41s\tremaining: 334ms\n",
      "97:\tlearn: 0.0076440\ttotal: 1.42s\tremaining: 318ms\n",
      "98:\tlearn: 0.0075302\ttotal: 1.43s\tremaining: 303ms\n",
      "99:\tlearn: 0.0074026\ttotal: 1.44s\tremaining: 288ms\n",
      "100:\tlearn: 0.0073184\ttotal: 1.45s\tremaining: 274ms\n",
      "101:\tlearn: 0.0071588\ttotal: 1.47s\tremaining: 260ms\n",
      "102:\tlearn: 0.0070455\ttotal: 1.5s\tremaining: 247ms\n",
      "103:\tlearn: 0.0069079\ttotal: 1.52s\tremaining: 234ms\n",
      "104:\tlearn: 0.0068409\ttotal: 1.54s\tremaining: 220ms\n",
      "105:\tlearn: 0.0067553\ttotal: 1.57s\tremaining: 208ms\n",
      "106:\tlearn: 0.0067552\ttotal: 1.62s\tremaining: 197ms\n",
      "107:\tlearn: 0.0067288\ttotal: 1.67s\tremaining: 185ms\n",
      "108:\tlearn: 0.0067285\ttotal: 1.72s\tremaining: 174ms\n",
      "109:\tlearn: 0.0066430\ttotal: 1.75s\tremaining: 160ms\n",
      "110:\tlearn: 0.0065723\ttotal: 1.78s\tremaining: 144ms\n",
      "111:\tlearn: 0.0065723\ttotal: 1.8s\tremaining: 129ms\n",
      "112:\tlearn: 0.0065720\ttotal: 1.81s\tremaining: 112ms\n",
      "113:\tlearn: 0.0065141\ttotal: 1.82s\tremaining: 96.1ms\n",
      "114:\tlearn: 0.0064876\ttotal: 1.84s\tremaining: 79.9ms\n",
      "115:\tlearn: 0.0064874\ttotal: 1.85s\tremaining: 63.8ms\n",
      "116:\tlearn: 0.0064124\ttotal: 1.87s\tremaining: 47.9ms\n",
      "117:\tlearn: 0.0062735\ttotal: 1.88s\tremaining: 31.9ms\n",
      "118:\tlearn: 0.0061549\ttotal: 1.89s\tremaining: 15.9ms\n",
      "119:\tlearn: 0.0059503\ttotal: 1.9s\tremaining: 0us\n"
     ]
    },
    {
     "data": {
      "text/plain": [
       "<catboost.core.CatBoostClassifier at 0x27916dfd640>"
      ]
     },
     "execution_count": 224,
     "metadata": {},
     "output_type": "execute_result"
    }
   ],
   "source": [
    "catmodel = CatBoostClassifier(iterations=120,learning_rate=0.4)\n",
    "catmodel.fit(X_train_SMOTE,y_train_SMOTE,plot=False)"
   ]
  },
  {
   "cell_type": "code",
   "execution_count": 225,
   "metadata": {},
   "outputs": [
    {
     "name": "stdout",
     "output_type": "stream",
     "text": [
      "Training Accuracy:  1.0\n",
      "\n",
      "Testing Accuracy :  0.9013605442176871\n"
     ]
    }
   ],
   "source": [
    "# Accuracy on Training \n",
    "pred = catmodel.predict(X_train_SMOTE)\n",
    "print('Training Accuracy: ',accuracy_score(y_train_SMOTE,pred))\n",
    "\n",
    "# Accuracy on Testing\n",
    "predictions_test = catmodel.predict(xtest)\n",
    "print(\"\\nTesting Accuracy : \", accuracy_score(ytest,predictions_test))"
   ]
  },
  {
   "cell_type": "code",
   "execution_count": 226,
   "metadata": {},
   "outputs": [
    {
     "name": "stdout",
     "output_type": "stream",
     "text": [
      "              precision    recall  f1-score   support\n",
      "\n",
      "           0       0.91      0.98      0.94       247\n",
      "           1       0.85      0.47      0.60        47\n",
      "\n",
      "    accuracy                           0.90       294\n",
      "   macro avg       0.88      0.73      0.77       294\n",
      "weighted avg       0.90      0.90      0.89       294\n",
      "\n"
     ]
    }
   ],
   "source": [
    "report = classification_report(ytest,predictions_test)\n",
    "print(report)"
   ]
  },
  {
   "cell_type": "code",
   "execution_count": 227,
   "metadata": {},
   "outputs": [
    {
     "name": "stdout",
     "output_type": "stream",
     "text": [
      "[[243   4]\n",
      " [ 25  22]]\n"
     ]
    }
   ],
   "source": [
    "print(confusion_matrix(ytest,predictions_test))"
   ]
  },
  {
   "cell_type": "markdown",
   "metadata": {},
   "source": [
    "# XGboost"
   ]
  },
  {
   "cell_type": "code",
   "execution_count": 228,
   "metadata": {},
   "outputs": [
    {
     "name": "stdout",
     "output_type": "stream",
     "text": [
      "[20:33:03] WARNING: C:/Users/Administrator/workspace/xgboost-win64_release_1.4.0/src/learner.cc:1095: Starting in XGBoost 1.3.0, the default evaluation metric used with the objective 'binary:logistic' was changed from 'error' to 'logloss'. Explicitly set eval_metric if you'd like to restore the old behavior.\n",
      "\n",
      "Training Accuracy : 1.0\n",
      "\n",
      "Testing Accuracy : 0.8843537414965986\n"
     ]
    }
   ],
   "source": [
    "from xgboost import XGBClassifier\n",
    "classifier=XGBClassifier()\n",
    "classifier.fit(X_train_SMOTE,y_train_SMOTE)\n",
    "\n",
    "predictions_train =classifier.predict(X_train_SMOTE)\n",
    "acc=accuracy_score(y_train_SMOTE, predictions_train)\n",
    "print('\\nTraining Accuracy :', acc)\n",
    "\n",
    "predictions_test = classifier.predict(xtest)\n",
    "accc=accuracy_score(ytest, predictions_test)\n",
    "print('\\nTesting Accuracy :', accc)"
   ]
  }
 ],
 "metadata": {
  "kernelspec": {
   "display_name": "Python 3",
   "language": "python",
   "name": "python3"
  },
  "language_info": {
   "codemirror_mode": {
    "name": "ipython",
    "version": 3
   },
   "file_extension": ".py",
   "mimetype": "text/x-python",
   "name": "python",
   "nbconvert_exporter": "python",
   "pygments_lexer": "ipython3",
   "version": "3.8.5"
  }
 },
 "nbformat": 4,
 "nbformat_minor": 4
}
