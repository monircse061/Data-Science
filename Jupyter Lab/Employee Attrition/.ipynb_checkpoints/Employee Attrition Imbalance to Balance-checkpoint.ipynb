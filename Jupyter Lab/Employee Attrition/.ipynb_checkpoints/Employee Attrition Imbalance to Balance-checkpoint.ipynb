{
 "cells": [
  {
   "cell_type": "code",
   "execution_count": 14,
   "metadata": {},
   "outputs": [],
   "source": [
    "import pandas as pd\n",
    "import numpy as np\n",
    "from numpy import mean\n",
    "from numpy import std\n",
    "import matplotlib.pyplot as plt\n",
    "from sklearn.metrics import accuracy_score,classification_report,confusion_matrix\n",
    "import seaborn as sns\n",
    "from sklearn.model_selection import train_test_split\n",
    "from sklearn.svm import SVC\n",
    "from catboost import CatBoostClassifier\n",
    "from sklearn import preprocessing\n",
    "from sklearn.preprocessing import StandardScaler\n",
    "from sklearn.model_selection import KFold\n",
    "from sklearn.model_selection import cross_val_score\n",
    "from collections import Counter\n",
    "from imblearn.under_sampling import RandomUnderSampler\n",
    "from sklearn.model_selection import RepeatedStratifiedKFold\n",
    "from imblearn.over_sampling import SMOTE\n",
    "from xgboost import XGBClassifier\n",
    "import warnings\n",
    "warnings.simplefilter(action='ignore', category=FutureWarning)\n",
    "df = pd.read_csv('G:/New 20121 Dekstop Files/thesis 2021/employee attrition dataset/employee_attrition.csv')"
   ]
  },
  {
   "cell_type": "code",
   "execution_count": 15,
   "metadata": {
    "scrolled": false
   },
   "outputs": [
    {
     "data": {
      "text/html": [
       "<div>\n",
       "<style scoped>\n",
       "    .dataframe tbody tr th:only-of-type {\n",
       "        vertical-align: middle;\n",
       "    }\n",
       "\n",
       "    .dataframe tbody tr th {\n",
       "        vertical-align: top;\n",
       "    }\n",
       "\n",
       "    .dataframe thead th {\n",
       "        text-align: right;\n",
       "    }\n",
       "</style>\n",
       "<table border=\"1\" class=\"dataframe\">\n",
       "  <thead>\n",
       "    <tr style=\"text-align: right;\">\n",
       "      <th></th>\n",
       "      <th>Age</th>\n",
       "      <th>Attrition</th>\n",
       "      <th>BusinessTravel</th>\n",
       "      <th>DailyRate</th>\n",
       "      <th>Department</th>\n",
       "      <th>DistanceFromHome</th>\n",
       "      <th>Education</th>\n",
       "      <th>EducationField</th>\n",
       "      <th>EmployeeCount</th>\n",
       "      <th>EmployeeNumber</th>\n",
       "      <th>...</th>\n",
       "      <th>RelationshipSatisfaction</th>\n",
       "      <th>StandardHours</th>\n",
       "      <th>StockOptionLevel</th>\n",
       "      <th>TotalWorkingYears</th>\n",
       "      <th>TrainingTimesLastYear</th>\n",
       "      <th>WorkLifeBalance</th>\n",
       "      <th>YearsAtCompany</th>\n",
       "      <th>YearsInCurrentRole</th>\n",
       "      <th>YearsSinceLastPromotion</th>\n",
       "      <th>YearsWithCurrManager</th>\n",
       "    </tr>\n",
       "  </thead>\n",
       "  <tbody>\n",
       "    <tr>\n",
       "      <th>640</th>\n",
       "      <td>24</td>\n",
       "      <td>No</td>\n",
       "      <td>Non-Travel</td>\n",
       "      <td>1269</td>\n",
       "      <td>Research &amp; Development</td>\n",
       "      <td>4</td>\n",
       "      <td>1</td>\n",
       "      <td>Life Sciences</td>\n",
       "      <td>1</td>\n",
       "      <td>888</td>\n",
       "      <td>...</td>\n",
       "      <td>4</td>\n",
       "      <td>80</td>\n",
       "      <td>0</td>\n",
       "      <td>6</td>\n",
       "      <td>2</td>\n",
       "      <td>2</td>\n",
       "      <td>5</td>\n",
       "      <td>2</td>\n",
       "      <td>3</td>\n",
       "      <td>4</td>\n",
       "    </tr>\n",
       "    <tr>\n",
       "      <th>1163</th>\n",
       "      <td>37</td>\n",
       "      <td>No</td>\n",
       "      <td>Travel_Rarely</td>\n",
       "      <td>1470</td>\n",
       "      <td>Research &amp; Development</td>\n",
       "      <td>10</td>\n",
       "      <td>3</td>\n",
       "      <td>Medical</td>\n",
       "      <td>1</td>\n",
       "      <td>1640</td>\n",
       "      <td>...</td>\n",
       "      <td>1</td>\n",
       "      <td>80</td>\n",
       "      <td>1</td>\n",
       "      <td>8</td>\n",
       "      <td>2</td>\n",
       "      <td>1</td>\n",
       "      <td>8</td>\n",
       "      <td>4</td>\n",
       "      <td>7</td>\n",
       "      <td>7</td>\n",
       "    </tr>\n",
       "    <tr>\n",
       "      <th>573</th>\n",
       "      <td>26</td>\n",
       "      <td>Yes</td>\n",
       "      <td>Travel_Rarely</td>\n",
       "      <td>1146</td>\n",
       "      <td>Sales</td>\n",
       "      <td>8</td>\n",
       "      <td>3</td>\n",
       "      <td>Technical Degree</td>\n",
       "      <td>1</td>\n",
       "      <td>796</td>\n",
       "      <td>...</td>\n",
       "      <td>3</td>\n",
       "      <td>80</td>\n",
       "      <td>0</td>\n",
       "      <td>6</td>\n",
       "      <td>2</td>\n",
       "      <td>2</td>\n",
       "      <td>4</td>\n",
       "      <td>3</td>\n",
       "      <td>1</td>\n",
       "      <td>2</td>\n",
       "    </tr>\n",
       "    <tr>\n",
       "      <th>1247</th>\n",
       "      <td>31</td>\n",
       "      <td>No</td>\n",
       "      <td>Travel_Rarely</td>\n",
       "      <td>1003</td>\n",
       "      <td>Sales</td>\n",
       "      <td>5</td>\n",
       "      <td>3</td>\n",
       "      <td>Technical Degree</td>\n",
       "      <td>1</td>\n",
       "      <td>1749</td>\n",
       "      <td>...</td>\n",
       "      <td>3</td>\n",
       "      <td>80</td>\n",
       "      <td>1</td>\n",
       "      <td>6</td>\n",
       "      <td>3</td>\n",
       "      <td>3</td>\n",
       "      <td>5</td>\n",
       "      <td>2</td>\n",
       "      <td>0</td>\n",
       "      <td>2</td>\n",
       "    </tr>\n",
       "    <tr>\n",
       "      <th>1281</th>\n",
       "      <td>35</td>\n",
       "      <td>Yes</td>\n",
       "      <td>Travel_Rarely</td>\n",
       "      <td>303</td>\n",
       "      <td>Sales</td>\n",
       "      <td>27</td>\n",
       "      <td>3</td>\n",
       "      <td>Life Sciences</td>\n",
       "      <td>1</td>\n",
       "      <td>1797</td>\n",
       "      <td>...</td>\n",
       "      <td>4</td>\n",
       "      <td>80</td>\n",
       "      <td>0</td>\n",
       "      <td>10</td>\n",
       "      <td>2</td>\n",
       "      <td>3</td>\n",
       "      <td>10</td>\n",
       "      <td>7</td>\n",
       "      <td>7</td>\n",
       "      <td>7</td>\n",
       "    </tr>\n",
       "    <tr>\n",
       "      <th>687</th>\n",
       "      <td>36</td>\n",
       "      <td>No</td>\n",
       "      <td>Travel_Rarely</td>\n",
       "      <td>938</td>\n",
       "      <td>Research &amp; Development</td>\n",
       "      <td>2</td>\n",
       "      <td>4</td>\n",
       "      <td>Medical</td>\n",
       "      <td>1</td>\n",
       "      <td>958</td>\n",
       "      <td>...</td>\n",
       "      <td>3</td>\n",
       "      <td>80</td>\n",
       "      <td>0</td>\n",
       "      <td>16</td>\n",
       "      <td>6</td>\n",
       "      <td>3</td>\n",
       "      <td>11</td>\n",
       "      <td>8</td>\n",
       "      <td>3</td>\n",
       "      <td>9</td>\n",
       "    </tr>\n",
       "    <tr>\n",
       "      <th>430</th>\n",
       "      <td>35</td>\n",
       "      <td>No</td>\n",
       "      <td>Travel_Rarely</td>\n",
       "      <td>144</td>\n",
       "      <td>Research &amp; Development</td>\n",
       "      <td>22</td>\n",
       "      <td>3</td>\n",
       "      <td>Life Sciences</td>\n",
       "      <td>1</td>\n",
       "      <td>577</td>\n",
       "      <td>...</td>\n",
       "      <td>3</td>\n",
       "      <td>80</td>\n",
       "      <td>0</td>\n",
       "      <td>6</td>\n",
       "      <td>2</td>\n",
       "      <td>3</td>\n",
       "      <td>5</td>\n",
       "      <td>4</td>\n",
       "      <td>4</td>\n",
       "      <td>3</td>\n",
       "    </tr>\n",
       "  </tbody>\n",
       "</table>\n",
       "<p>7 rows × 35 columns</p>\n",
       "</div>"
      ],
      "text/plain": [
       "      Age Attrition BusinessTravel  DailyRate              Department  \\\n",
       "640    24        No     Non-Travel       1269  Research & Development   \n",
       "1163   37        No  Travel_Rarely       1470  Research & Development   \n",
       "573    26       Yes  Travel_Rarely       1146                   Sales   \n",
       "1247   31        No  Travel_Rarely       1003                   Sales   \n",
       "1281   35       Yes  Travel_Rarely        303                   Sales   \n",
       "687    36        No  Travel_Rarely        938  Research & Development   \n",
       "430    35        No  Travel_Rarely        144  Research & Development   \n",
       "\n",
       "      DistanceFromHome  Education    EducationField  EmployeeCount  \\\n",
       "640                  4          1     Life Sciences              1   \n",
       "1163                10          3           Medical              1   \n",
       "573                  8          3  Technical Degree              1   \n",
       "1247                 5          3  Technical Degree              1   \n",
       "1281                27          3     Life Sciences              1   \n",
       "687                  2          4           Medical              1   \n",
       "430                 22          3     Life Sciences              1   \n",
       "\n",
       "      EmployeeNumber  ...  RelationshipSatisfaction StandardHours  \\\n",
       "640              888  ...                         4            80   \n",
       "1163            1640  ...                         1            80   \n",
       "573              796  ...                         3            80   \n",
       "1247            1749  ...                         3            80   \n",
       "1281            1797  ...                         4            80   \n",
       "687              958  ...                         3            80   \n",
       "430              577  ...                         3            80   \n",
       "\n",
       "      StockOptionLevel  TotalWorkingYears  TrainingTimesLastYear  \\\n",
       "640                  0                  6                      2   \n",
       "1163                 1                  8                      2   \n",
       "573                  0                  6                      2   \n",
       "1247                 1                  6                      3   \n",
       "1281                 0                 10                      2   \n",
       "687                  0                 16                      6   \n",
       "430                  0                  6                      2   \n",
       "\n",
       "     WorkLifeBalance  YearsAtCompany YearsInCurrentRole  \\\n",
       "640                2               5                  2   \n",
       "1163               1               8                  4   \n",
       "573                2               4                  3   \n",
       "1247               3               5                  2   \n",
       "1281               3              10                  7   \n",
       "687                3              11                  8   \n",
       "430                3               5                  4   \n",
       "\n",
       "      YearsSinceLastPromotion  YearsWithCurrManager  \n",
       "640                         3                     4  \n",
       "1163                        7                     7  \n",
       "573                         1                     2  \n",
       "1247                        0                     2  \n",
       "1281                        7                     7  \n",
       "687                         3                     9  \n",
       "430                         4                     3  \n",
       "\n",
       "[7 rows x 35 columns]"
      ]
     },
     "execution_count": 15,
     "metadata": {},
     "output_type": "execute_result"
    }
   ],
   "source": [
    "df.sample(7)"
   ]
  },
  {
   "cell_type": "markdown",
   "metadata": {},
   "source": [
    "# Target Column Value Replace"
   ]
  },
  {
   "cell_type": "code",
   "execution_count": 16,
   "metadata": {},
   "outputs": [
    {
     "data": {
      "text/plain": [
       "0    1233\n",
       "1     237\n",
       "Name: Attrition, dtype: int64"
      ]
     },
     "execution_count": 16,
     "metadata": {},
     "output_type": "execute_result"
    }
   ],
   "source": [
    "df['Attrition'].replace({'Yes':1,'No':0},inplace = True)\n",
    "df['Attrition'].value_counts()"
   ]
  },
  {
   "cell_type": "code",
   "execution_count": 17,
   "metadata": {},
   "outputs": [
    {
     "data": {
      "text/plain": [
       "Age                         0\n",
       "Attrition                   0\n",
       "BusinessTravel              0\n",
       "DailyRate                   0\n",
       "Department                  0\n",
       "DistanceFromHome            0\n",
       "Education                   0\n",
       "EducationField              0\n",
       "EmployeeCount               0\n",
       "EmployeeNumber              0\n",
       "EnvironmentSatisfaction     0\n",
       "Gender                      0\n",
       "HourlyRate                  0\n",
       "JobInvolvement              0\n",
       "JobLevel                    0\n",
       "JobRole                     0\n",
       "JobSatisfaction             0\n",
       "MaritalStatus               0\n",
       "MonthlyIncome               0\n",
       "MonthlyRate                 0\n",
       "NumCompaniesWorked          0\n",
       "Over18                      0\n",
       "OverTime                    0\n",
       "PercentSalaryHike           0\n",
       "PerformanceRating           0\n",
       "RelationshipSatisfaction    0\n",
       "StandardHours               0\n",
       "StockOptionLevel            0\n",
       "TotalWorkingYears           0\n",
       "TrainingTimesLastYear       0\n",
       "WorkLifeBalance             0\n",
       "YearsAtCompany              0\n",
       "YearsInCurrentRole          0\n",
       "YearsSinceLastPromotion     0\n",
       "YearsWithCurrManager        0\n",
       "dtype: int64"
      ]
     },
     "execution_count": 17,
     "metadata": {},
     "output_type": "execute_result"
    }
   ],
   "source": [
    "df.isnull().sum()"
   ]
  },
  {
   "cell_type": "markdown",
   "metadata": {},
   "source": [
    "# Data Preprocessing"
   ]
  },
  {
   "cell_type": "code",
   "execution_count": 18,
   "metadata": {},
   "outputs": [
    {
     "data": {
      "text/html": [
       "<div>\n",
       "<style scoped>\n",
       "    .dataframe tbody tr th:only-of-type {\n",
       "        vertical-align: middle;\n",
       "    }\n",
       "\n",
       "    .dataframe tbody tr th {\n",
       "        vertical-align: top;\n",
       "    }\n",
       "\n",
       "    .dataframe thead th {\n",
       "        text-align: right;\n",
       "    }\n",
       "</style>\n",
       "<table border=\"1\" class=\"dataframe\">\n",
       "  <thead>\n",
       "    <tr style=\"text-align: right;\">\n",
       "      <th></th>\n",
       "      <th>BusinessTravel</th>\n",
       "      <th>Department</th>\n",
       "      <th>EducationField</th>\n",
       "      <th>Gender</th>\n",
       "      <th>JobRole</th>\n",
       "      <th>MaritalStatus</th>\n",
       "      <th>Over18</th>\n",
       "      <th>OverTime</th>\n",
       "    </tr>\n",
       "  </thead>\n",
       "  <tbody>\n",
       "    <tr>\n",
       "      <th>0</th>\n",
       "      <td>Travel_Rarely</td>\n",
       "      <td>Sales</td>\n",
       "      <td>Life Sciences</td>\n",
       "      <td>Female</td>\n",
       "      <td>Sales Executive</td>\n",
       "      <td>Single</td>\n",
       "      <td>Y</td>\n",
       "      <td>Yes</td>\n",
       "    </tr>\n",
       "    <tr>\n",
       "      <th>1</th>\n",
       "      <td>Travel_Frequently</td>\n",
       "      <td>Research &amp; Development</td>\n",
       "      <td>Life Sciences</td>\n",
       "      <td>Male</td>\n",
       "      <td>Research Scientist</td>\n",
       "      <td>Married</td>\n",
       "      <td>Y</td>\n",
       "      <td>No</td>\n",
       "    </tr>\n",
       "    <tr>\n",
       "      <th>2</th>\n",
       "      <td>Travel_Rarely</td>\n",
       "      <td>Research &amp; Development</td>\n",
       "      <td>Other</td>\n",
       "      <td>Male</td>\n",
       "      <td>Laboratory Technician</td>\n",
       "      <td>Single</td>\n",
       "      <td>Y</td>\n",
       "      <td>Yes</td>\n",
       "    </tr>\n",
       "    <tr>\n",
       "      <th>3</th>\n",
       "      <td>Travel_Frequently</td>\n",
       "      <td>Research &amp; Development</td>\n",
       "      <td>Life Sciences</td>\n",
       "      <td>Female</td>\n",
       "      <td>Research Scientist</td>\n",
       "      <td>Married</td>\n",
       "      <td>Y</td>\n",
       "      <td>Yes</td>\n",
       "    </tr>\n",
       "    <tr>\n",
       "      <th>4</th>\n",
       "      <td>Travel_Rarely</td>\n",
       "      <td>Research &amp; Development</td>\n",
       "      <td>Medical</td>\n",
       "      <td>Male</td>\n",
       "      <td>Laboratory Technician</td>\n",
       "      <td>Married</td>\n",
       "      <td>Y</td>\n",
       "      <td>No</td>\n",
       "    </tr>\n",
       "    <tr>\n",
       "      <th>...</th>\n",
       "      <td>...</td>\n",
       "      <td>...</td>\n",
       "      <td>...</td>\n",
       "      <td>...</td>\n",
       "      <td>...</td>\n",
       "      <td>...</td>\n",
       "      <td>...</td>\n",
       "      <td>...</td>\n",
       "    </tr>\n",
       "    <tr>\n",
       "      <th>1465</th>\n",
       "      <td>Travel_Frequently</td>\n",
       "      <td>Research &amp; Development</td>\n",
       "      <td>Medical</td>\n",
       "      <td>Male</td>\n",
       "      <td>Laboratory Technician</td>\n",
       "      <td>Married</td>\n",
       "      <td>Y</td>\n",
       "      <td>No</td>\n",
       "    </tr>\n",
       "    <tr>\n",
       "      <th>1466</th>\n",
       "      <td>Travel_Rarely</td>\n",
       "      <td>Research &amp; Development</td>\n",
       "      <td>Medical</td>\n",
       "      <td>Male</td>\n",
       "      <td>Healthcare Representative</td>\n",
       "      <td>Married</td>\n",
       "      <td>Y</td>\n",
       "      <td>No</td>\n",
       "    </tr>\n",
       "    <tr>\n",
       "      <th>1467</th>\n",
       "      <td>Travel_Rarely</td>\n",
       "      <td>Research &amp; Development</td>\n",
       "      <td>Life Sciences</td>\n",
       "      <td>Male</td>\n",
       "      <td>Manufacturing Director</td>\n",
       "      <td>Married</td>\n",
       "      <td>Y</td>\n",
       "      <td>Yes</td>\n",
       "    </tr>\n",
       "    <tr>\n",
       "      <th>1468</th>\n",
       "      <td>Travel_Frequently</td>\n",
       "      <td>Sales</td>\n",
       "      <td>Medical</td>\n",
       "      <td>Male</td>\n",
       "      <td>Sales Executive</td>\n",
       "      <td>Married</td>\n",
       "      <td>Y</td>\n",
       "      <td>No</td>\n",
       "    </tr>\n",
       "    <tr>\n",
       "      <th>1469</th>\n",
       "      <td>Travel_Rarely</td>\n",
       "      <td>Research &amp; Development</td>\n",
       "      <td>Medical</td>\n",
       "      <td>Male</td>\n",
       "      <td>Laboratory Technician</td>\n",
       "      <td>Married</td>\n",
       "      <td>Y</td>\n",
       "      <td>No</td>\n",
       "    </tr>\n",
       "  </tbody>\n",
       "</table>\n",
       "<p>1470 rows × 8 columns</p>\n",
       "</div>"
      ],
      "text/plain": [
       "         BusinessTravel              Department EducationField  Gender  \\\n",
       "0         Travel_Rarely                   Sales  Life Sciences  Female   \n",
       "1     Travel_Frequently  Research & Development  Life Sciences    Male   \n",
       "2         Travel_Rarely  Research & Development          Other    Male   \n",
       "3     Travel_Frequently  Research & Development  Life Sciences  Female   \n",
       "4         Travel_Rarely  Research & Development        Medical    Male   \n",
       "...                 ...                     ...            ...     ...   \n",
       "1465  Travel_Frequently  Research & Development        Medical    Male   \n",
       "1466      Travel_Rarely  Research & Development        Medical    Male   \n",
       "1467      Travel_Rarely  Research & Development  Life Sciences    Male   \n",
       "1468  Travel_Frequently                   Sales        Medical    Male   \n",
       "1469      Travel_Rarely  Research & Development        Medical    Male   \n",
       "\n",
       "                        JobRole MaritalStatus Over18 OverTime  \n",
       "0               Sales Executive        Single      Y      Yes  \n",
       "1            Research Scientist       Married      Y       No  \n",
       "2         Laboratory Technician        Single      Y      Yes  \n",
       "3            Research Scientist       Married      Y      Yes  \n",
       "4         Laboratory Technician       Married      Y       No  \n",
       "...                         ...           ...    ...      ...  \n",
       "1465      Laboratory Technician       Married      Y       No  \n",
       "1466  Healthcare Representative       Married      Y       No  \n",
       "1467     Manufacturing Director       Married      Y      Yes  \n",
       "1468            Sales Executive       Married      Y       No  \n",
       "1469      Laboratory Technician       Married      Y       No  \n",
       "\n",
       "[1470 rows x 8 columns]"
      ]
     },
     "execution_count": 18,
     "metadata": {},
     "output_type": "execute_result"
    }
   ],
   "source": [
    "cat_df = df.select_dtypes(include=['object']).copy()\n",
    "cat_df"
   ]
  },
  {
   "cell_type": "markdown",
   "metadata": {},
   "source": [
    "# Label Encoding"
   ]
  },
  {
   "cell_type": "code",
   "execution_count": 19,
   "metadata": {},
   "outputs": [],
   "source": [
    "label_encoder =  preprocessing.LabelEncoder()\n",
    "df['BusinessTravel'] = label_encoder.fit_transform(df['BusinessTravel'])\n",
    "df['Department'] = label_encoder.fit_transform(df['Department'])\n",
    "df['EducationField'] = label_encoder.fit_transform(df['EducationField'])\n",
    "df['Gender'] = label_encoder.fit_transform(df['Gender'])\n",
    "df['JobRole'] = label_encoder.fit_transform(df['JobRole'])\n",
    "df['MaritalStatus'] = label_encoder.fit_transform(df['MaritalStatus'])\n",
    "df['Over18'] = label_encoder.fit_transform(df['Over18'])\n",
    "df['OverTime'] = label_encoder.fit_transform(df['OverTime'])"
   ]
  },
  {
   "cell_type": "markdown",
   "metadata": {},
   "source": [
    "# Split target and input variable"
   ]
  },
  {
   "cell_type": "code",
   "execution_count": 20,
   "metadata": {},
   "outputs": [],
   "source": [
    "x = df.drop(['Attrition'],axis = 1)\n",
    "xx = x.copy()"
   ]
  },
  {
   "cell_type": "code",
   "execution_count": 21,
   "metadata": {},
   "outputs": [],
   "source": [
    "y = df['Attrition']\n",
    "yy =y.copy()"
   ]
  },
  {
   "cell_type": "code",
   "execution_count": 22,
   "metadata": {},
   "outputs": [
    {
     "data": {
      "text/plain": [
       "<AxesSubplot:xlabel='Attrition', ylabel='count'>"
      ]
     },
     "execution_count": 22,
     "metadata": {},
     "output_type": "execute_result"
    },
    {
     "data": {
      "image/png": "[encoded data removed]",
      "text/plain": [
       "<Figure size 432x288 with 1 Axes>"
      ]
     },
     "metadata": {
      "needs_background": "light"
     },
     "output_type": "display_data"
    }
   ],
   "source": [
    "sns.countplot(df['Attrition'])"
   ]
  },
  {
   "cell_type": "code",
   "execution_count": 23,
   "metadata": {},
   "outputs": [
    {
     "ename": "NameError",
     "evalue": "name 'X' is not defined",
     "output_type": "error",
     "traceback": [
      "\u001b[1;31m---------------------------------------------------------------------------\u001b[0m",
      "\u001b[1;31mNameError\u001b[0m                                 Traceback (most recent call last)",
      "\u001b[1;32m<ipython-input-23-52918b0b1b2d>\u001b[0m in \u001b[0;36m<module>\u001b[1;34m\u001b[0m\n\u001b[1;32m----> 1\u001b[1;33m \u001b[0mxtrain\u001b[0m\u001b[1;33m,\u001b[0m \u001b[0mxtest\u001b[0m\u001b[1;33m,\u001b[0m \u001b[0mytrain\u001b[0m\u001b[1;33m,\u001b[0m \u001b[0mytest\u001b[0m \u001b[1;33m=\u001b[0m \u001b[0mtrain_test_split\u001b[0m\u001b[1;33m(\u001b[0m\u001b[0mX\u001b[0m\u001b[1;33m,\u001b[0m \u001b[0mY\u001b[0m\u001b[1;33m,\u001b[0m \u001b[0mtest_size\u001b[0m\u001b[1;33m=\u001b[0m\u001b[1;36m0.2\u001b[0m\u001b[1;33m,\u001b[0m \u001b[0mstratify\u001b[0m\u001b[1;33m=\u001b[0m\u001b[0mY\u001b[0m\u001b[1;33m,\u001b[0m\u001b[0mrandom_state\u001b[0m\u001b[1;33m=\u001b[0m\u001b[1;36m15\u001b[0m\u001b[1;33m)\u001b[0m\u001b[1;33m\u001b[0m\u001b[1;33m\u001b[0m\u001b[0m\n\u001b[0m",
      "\u001b[1;31mNameError\u001b[0m: name 'X' is not defined"
     ]
    }
   ],
   "source": [
    "xtrain, xtest, ytrain, ytest = train_test_split(x, y, test_size=0.2, stratify=Y,random_state=15)"
   ]
  },
  {
   "cell_type": "markdown",
   "metadata": {},
   "source": [
    "# For smote - Method-1"
   ]
  },
  {
   "cell_type": "code",
   "execution_count": 24,
   "metadata": {},
   "outputs": [
    {
     "name": "stdout",
     "output_type": "stream",
     "text": [
      "Counter({1: 1233, 0: 1233})\n"
     ]
    },
    {
     "data": {
      "text/plain": [
       "(2466, 34)"
      ]
     },
     "execution_count": 24,
     "metadata": {},
     "output_type": "execute_result"
    }
   ],
   "source": [
    "from collections import Counter\n",
    "from imblearn.over_sampling import SMOTE\n",
    "oversample = SMOTE()\n",
    "X, Y = oversample.fit_resample(x, y)\n",
    "\n",
    "# summarize the new class distribution\n",
    "counter = Counter(Y)\n",
    "\n",
    "print(counter)\n",
    "X.shape"
   ]
  },
  {
   "cell_type": "code",
   "execution_count": 25,
   "metadata": {},
   "outputs": [],
   "source": [
    "xtrain, xtest, ytrain, ytest = train_test_split(X, Y, test_size=0.2, stratify=Y,random_state=15)"
   ]
  },
  {
   "cell_type": "code",
   "execution_count": 26,
   "metadata": {},
   "outputs": [
    {
     "data": {
      "text/plain": [
       "(1972, 34)"
      ]
     },
     "execution_count": 26,
     "metadata": {},
     "output_type": "execute_result"
    }
   ],
   "source": [
    "xtrain.shape"
   ]
  },
  {
   "cell_type": "code",
   "execution_count": 27,
   "metadata": {},
   "outputs": [
    {
     "data": {
      "text/plain": [
       "(494, 34)"
      ]
     },
     "execution_count": 27,
     "metadata": {},
     "output_type": "execute_result"
    }
   ],
   "source": [
    "xtest.shape"
   ]
  },
  {
   "cell_type": "code",
   "execution_count": 28,
   "metadata": {},
   "outputs": [
    {
     "name": "stdout",
     "output_type": "stream",
     "text": [
      "\n",
      "Training Accuracy :  1.0\n",
      "\n",
      "Testing Accuracy :  0.9210526315789473\n",
      "\n",
      "Repeated 5-Folds Cross-Validation for Model Evaluation :\n",
      "\n",
      "Mean Accuracy: 0.912 (0.012)\n"
     ]
    }
   ],
   "source": [
    "from sklearn.ensemble import RandomForestClassifier\n",
    "rnf = RandomForestClassifier(n_estimators=140, random_state=50)\n",
    "rnf.fit(xtrain, ytrain)\n",
    "# Accuracy on Training \n",
    "predictions_train = rnf.predict(xtrain)\n",
    "print(\"\\nTraining Accuracy : \", accuracy_score(ytrain,predictions_train))\n",
    "# Accuracy on Testing\n",
    "predictions_test = rnf.predict(xtest)\n",
    "print(\"\\nTesting Accuracy : \", accuracy_score(ytest,predictions_test))\n",
    "\n",
    "# define the evaluation method\n",
    "print('\\nRepeated 5-Folds Cross-Validation for Model Evaluation :\\n')\n",
    "cv = RepeatedStratifiedKFold(n_splits = 5, n_repeats=3, random_state=1)\n",
    "# evaluate the model on the dataset\n",
    "n_scores = cross_val_score(rnf, X, Y, scoring='accuracy', cv=cv, n_jobs=-1)\n",
    "# report performance\n",
    "print('Mean Accuracy: %.3f (%.3f)' % (mean(n_scores), std(n_scores)))"
   ]
  },
  {
   "cell_type": "code",
   "execution_count": 17,
   "metadata": {},
   "outputs": [
    {
     "data": {
      "text/plain": [
       "(1470, 34)"
      ]
     },
     "execution_count": 17,
     "metadata": {},
     "output_type": "execute_result"
    }
   ],
   "source": [
    "x.shape"
   ]
  },
  {
   "cell_type": "code",
   "execution_count": 18,
   "metadata": {},
   "outputs": [
    {
     "data": {
      "text/plain": [
       "(1470,)"
      ]
     },
     "execution_count": 18,
     "metadata": {},
     "output_type": "execute_result"
    }
   ],
   "source": [
    "y.shape"
   ]
  },
  {
   "cell_type": "markdown",
   "metadata": {},
   "source": [
    "# SMOTE- Method 2"
   ]
  },
  {
   "cell_type": "code",
   "execution_count": 32,
   "metadata": {},
   "outputs": [
    {
     "data": {
      "text/plain": [
       "(1470, 34)"
      ]
     },
     "execution_count": 32,
     "metadata": {},
     "output_type": "execute_result"
    }
   ],
   "source": [
    "x.shape"
   ]
  },
  {
   "cell_type": "code",
   "execution_count": 29,
   "metadata": {},
   "outputs": [],
   "source": [
    "import pandas as pd\n",
    "from sklearn import datasets\n",
    "from sklearn.model_selection import cross_val_score\n",
    "from sklearn.metrics import confusion_matrix\n",
    "def evaluate_model(X_train, y_train, model):\n",
    "    model.fit(X_train, y_train)\n",
    "    preds = model.predict(X_test)\n",
    "    scores = cross_val_score(model, X_train, y_train, cv=5, scoring=\"accuracy\")\n",
    "    diff = scores.mean() - model.score(X_test, y_test)\n",
    "    SD = diff / scores.std()\n",
    "    \n",
    "    print(f\"Training Score:{model.score(X_train, y_train)}\")\n",
    "    print(f\"Cross V Score: {scores.mean()} +/- {scores.std()}\")\n",
    "    print(f\"Testing Score: {model.score(X_test, y_test)}\")\n",
    "    print(f\"Cross & Test Diff: {diff}\")\n",
    "    print(f\"Standard Deviations Away: {SD}\")\n",
    "    print(confusion_matrix(y_test, preds))"
   ]
  },
  {
   "cell_type": "code",
   "execution_count": 33,
   "metadata": {},
   "outputs": [],
   "source": [
    "X_train, X_test, y_train, y_test = train_test_split(x, y, test_size = .2 , random_state=43,stratify=y)\n",
    "rnf = RandomForestClassifier(n_estimators=150, random_state=50)"
   ]
  },
  {
   "cell_type": "code",
   "execution_count": 37,
   "metadata": {},
   "outputs": [
    {
     "name": "stdout",
     "output_type": "stream",
     "text": [
      "Before SMOTE:\n",
      "Training Score:1.0\n",
      "Cross V Score: 0.8511828344752976 +/- 0.00557266954607284\n",
      "Testing Score: 0.8707482993197279\n",
      "Cross & Test Diff: -0.019565464844430225\n",
      "Standard Deviations Away: -3.510968070629337\n",
      "[[246   1]\n",
      " [ 37  10]]\n"
     ]
    }
   ],
   "source": [
    "# Before SMOTE\n",
    "print('Before SMOTE:')\n",
    "evaluate_model(X_train, y_train, rnf)"
   ]
  },
  {
   "cell_type": "code",
   "execution_count": 38,
   "metadata": {},
   "outputs": [],
   "source": [
    "smt = SMOTE(random_state=0)\n",
    "X_train_SMOTE, y_train_SMOTE = smt.fit_sample(X_train, y_train)"
   ]
  },
  {
   "cell_type": "code",
   "execution_count": 39,
   "metadata": {},
   "outputs": [
    {
     "name": "stdout",
     "output_type": "stream",
     "text": [
      "After SMOTE:\n",
      "Training Score:1.0\n",
      "Cross V Score: 0.9077555741181007 +/- 0.0749885692176364\n",
      "Testing Score: 0.8741496598639455\n",
      "Cross & Test Diff: 0.033605914254155156\n",
      "Standard Deviations Away: 0.4481471590239577\n",
      "[[233  14]\n",
      " [ 23  24]]\n"
     ]
    }
   ],
   "source": [
    "# After SMOTE\n",
    "print('After SMOTE:')\n",
    "evaluate_model(X_train_SMOTE, y_train_SMOTE, rnf)"
   ]
  },
  {
   "cell_type": "markdown",
   "metadata": {},
   "source": [
    "# SMOTE Method-3"
   ]
  },
  {
   "cell_type": "code",
   "execution_count": 40,
   "metadata": {},
   "outputs": [],
   "source": [
    "xtrain, xtest, ytrain, ytest = train_test_split(x, y, test_size=0.2, random_state=15)"
   ]
  },
  {
   "cell_type": "code",
   "execution_count": 41,
   "metadata": {},
   "outputs": [
    {
     "name": "stdout",
     "output_type": "stream",
     "text": [
      "Before OverSampling, counts of label '1': 196\n",
      "Before OverSampling, counts of label '0': 980 \n",
      "\n",
      "After OverSampling, the shape of train_X: (1960, 34)\n",
      "After OverSampling, the shape of train_y: (1960,) \n",
      "\n",
      "After OverSampling, counts of label '1': 980\n",
      "After OverSampling, counts of label '0': 980\n"
     ]
    }
   ],
   "source": [
    "print(\"Before OverSampling, counts of label '1': {}\".format(sum(ytrain == 1)))\n",
    "print(\"Before OverSampling, counts of label '0': {} \\n\".format(sum(ytrain == 0)))\n",
    "from imblearn.over_sampling import SMOTE\n",
    "sm = SMOTE(random_state = 2)\n",
    "X_train_res, y_train_res = sm.fit_sample(xtrain, ytrain.ravel())\n",
    "  \n",
    "print('After OverSampling, the shape of train_X: {}'.format(X_train_res.shape))\n",
    "print('After OverSampling, the shape of train_y: {} \\n'.format(y_train_res.shape))\n",
    "  \n",
    "print(\"After OverSampling, counts of label '1': {}\".format(sum(y_train_res == 1)))\n",
    "print(\"After OverSampling, counts of label '0': {}\".format(sum(y_train_res == 0)))"
   ]
  },
  {
   "cell_type": "code",
   "execution_count": 42,
   "metadata": {},
   "outputs": [
    {
     "name": "stdout",
     "output_type": "stream",
     "text": [
      "\n",
      "Training Accuracy :  1.0\n",
      "\n",
      "Testing Accuracy :  0.8299319727891157\n"
     ]
    }
   ],
   "source": [
    "from sklearn.ensemble import RandomForestClassifier\n",
    "rnf = RandomForestClassifier(n_estimators=140, random_state=50)\n",
    "rnf.fit(X_train_res, y_train_res.ravel())\n",
    "# Accuracy on Training \n",
    "predictions_train = rnf.predict(xtrain)\n",
    "print(\"\\nTraining Accuracy : \", accuracy_score(ytrain,predictions_train))\n",
    "# Accuracy on Testing\n",
    "predictions_test = rnf.predict(xtest)\n",
    "print(\"\\nTesting Accuracy : \", accuracy_score(ytest,predictions_test))"
   ]
  },
  {
   "cell_type": "markdown",
   "metadata": {},
   "source": [
    "# Under Sampling NearMiss"
   ]
  },
  {
   "cell_type": "code",
   "execution_count": 31,
   "metadata": {},
   "outputs": [
    {
     "name": "stdout",
     "output_type": "stream",
     "text": [
      "Original dataset shape: Counter({0: 1233, 1: 237})\n",
      "Resample dataset shape: Counter({0: 237, 1: 237})\n"
     ]
    }
   ],
   "source": [
    "from imblearn.under_sampling import NearMiss\n",
    "\n",
    "nm = NearMiss()\n",
    "\n",
    "x_nm, y_nm = nm.fit_resample(x, y)\n",
    "\n",
    "print('Original dataset shape:', Counter(y))\n",
    "print('Resample dataset shape:', Counter(y_nm))"
   ]
  },
  {
   "cell_type": "code",
   "execution_count": 32,
   "metadata": {},
   "outputs": [],
   "source": [
    "xtrain, xtest, ytrain, ytest = train_test_split(x_nm, y_nm, test_size=0.2, random_state=15)"
   ]
  },
  {
   "cell_type": "code",
   "execution_count": 33,
   "metadata": {},
   "outputs": [
    {
     "data": {
      "text/plain": [
       "(379, 34)"
      ]
     },
     "execution_count": 33,
     "metadata": {},
     "output_type": "execute_result"
    }
   ],
   "source": [
    "xtrain.shape"
   ]
  },
  {
   "cell_type": "code",
   "execution_count": 34,
   "metadata": {},
   "outputs": [
    {
     "data": {
      "text/plain": [
       "(95, 34)"
      ]
     },
     "execution_count": 34,
     "metadata": {},
     "output_type": "execute_result"
    }
   ],
   "source": [
    "xtest.shape"
   ]
  },
  {
   "cell_type": "markdown",
   "metadata": {},
   "source": [
    "# Model Apply- Random Forest Classifier\n"
   ]
  },
  {
   "cell_type": "code",
   "execution_count": 35,
   "metadata": {},
   "outputs": [],
   "source": [
    "from sklearn.ensemble import RandomForestClassifier\n",
    "rnf = RandomForestClassifier(n_estimators=85, random_state=50)"
   ]
  },
  {
   "cell_type": "code",
   "execution_count": 36,
   "metadata": {},
   "outputs": [
    {
     "data": {
      "text/plain": [
       "RandomForestClassifier(n_estimators=85, random_state=50)"
      ]
     },
     "execution_count": 36,
     "metadata": {},
     "output_type": "execute_result"
    }
   ],
   "source": [
    "rnf.fit(xtrain, ytrain)"
   ]
  },
  {
   "cell_type": "code",
   "execution_count": 37,
   "metadata": {},
   "outputs": [
    {
     "name": "stdout",
     "output_type": "stream",
     "text": [
      "\n",
      "Training Accuracy :  1.0\n",
      "\n",
      "Testing Accuracy :  0.7789473684210526\n"
     ]
    }
   ],
   "source": [
    "# Accuracy on Training \n",
    "predictions_train = rnf.predict(xtrain)\n",
    "print(\"\\nTraining Accuracy : \", accuracy_score(ytrain,predictions_train))\n",
    "# Accuracy on Testing\n",
    "predictions_test = rnf.predict(xtest)\n",
    "print(\"\\nTesting Accuracy : \", accuracy_score(ytest,predictions_test))"
   ]
  },
  {
   "cell_type": "markdown",
   "metadata": {},
   "source": [
    "# SVM"
   ]
  },
  {
   "cell_type": "code",
   "execution_count": 38,
   "metadata": {},
   "outputs": [
    {
     "data": {
      "text/plain": [
       "SVC(gamma='auto')"
      ]
     },
     "execution_count": 38,
     "metadata": {},
     "output_type": "execute_result"
    }
   ],
   "source": [
    "svm_model = SVC(gamma = 'auto')\n",
    "svm_model.fit(xtrain,ytrain)\n",
    "SVC(gamma='auto')"
   ]
  },
  {
   "cell_type": "code",
   "execution_count": 39,
   "metadata": {},
   "outputs": [
    {
     "name": "stdout",
     "output_type": "stream",
     "text": [
      "\n",
      "Training Accuracy :  1.0\n",
      "\n",
      "Testing Accuracy :  0.47368421052631576\n"
     ]
    }
   ],
   "source": [
    "# Accuracy on Training \n",
    "predictions_train = svm_model.predict(xtrain)\n",
    "print(\"\\nTraining Accuracy : \", accuracy_score(ytrain,predictions_train))\n",
    "# Accuracy on Testing\n",
    "predictions_test = svm_model.predict(xtest)\n",
    "print(\"\\nTesting Accuracy : \", accuracy_score(ytest,predictions_test))"
   ]
  },
  {
   "cell_type": "markdown",
   "metadata": {},
   "source": [
    "# CatBoost"
   ]
  },
  {
   "cell_type": "code",
   "execution_count": 40,
   "metadata": {},
   "outputs": [],
   "source": [
    "cat_df=['BusinessTravel','Department','EducationField','Gender','JobRole','MaritalStatus','Over18','OverTime']"
   ]
  },
  {
   "cell_type": "code",
   "execution_count": 41,
   "metadata": {
    "scrolled": true
   },
   "outputs": [
    {
     "name": "stdout",
     "output_type": "stream",
     "text": [
      "Learning rate set to 0.029783\n",
      "0:\tlearn: 0.6801116\ttotal: 522ms\tremaining: 1m 43s\n",
      "1:\tlearn: 0.6660210\ttotal: 575ms\tremaining: 56.9s\n",
      "2:\tlearn: 0.6540817\ttotal: 614ms\tremaining: 40.3s\n",
      "3:\tlearn: 0.6447452\ttotal: 651ms\tremaining: 31.9s\n",
      "4:\tlearn: 0.6363741\ttotal: 694ms\tremaining: 27.1s\n",
      "5:\tlearn: 0.6274847\ttotal: 726ms\tremaining: 23.5s\n",
      "6:\tlearn: 0.6175094\ttotal: 774ms\tremaining: 21.3s\n",
      "7:\tlearn: 0.6106502\ttotal: 830ms\tremaining: 19.9s\n",
      "8:\tlearn: 0.6013429\ttotal: 865ms\tremaining: 18.3s\n",
      "9:\tlearn: 0.5937529\ttotal: 923ms\tremaining: 17.5s\n",
      "10:\tlearn: 0.5840894\ttotal: 965ms\tremaining: 16.6s\n",
      "11:\tlearn: 0.5776199\ttotal: 1.01s\tremaining: 15.9s\n",
      "12:\tlearn: 0.5719371\ttotal: 1.05s\tremaining: 15.1s\n",
      "13:\tlearn: 0.5650587\ttotal: 1.1s\tremaining: 14.6s\n",
      "14:\tlearn: 0.5596414\ttotal: 1.13s\tremaining: 14s\n",
      "15:\tlearn: 0.5525065\ttotal: 1.17s\tremaining: 13.4s\n",
      "16:\tlearn: 0.5458777\ttotal: 1.21s\tremaining: 13s\n",
      "17:\tlearn: 0.5411780\ttotal: 1.25s\tremaining: 12.7s\n",
      "18:\tlearn: 0.5367037\ttotal: 1.3s\tremaining: 12.4s\n",
      "19:\tlearn: 0.5291707\ttotal: 1.34s\tremaining: 12.1s\n",
      "20:\tlearn: 0.5250734\ttotal: 1.39s\tremaining: 11.9s\n",
      "21:\tlearn: 0.5204748\ttotal: 1.44s\tremaining: 11.7s\n",
      "22:\tlearn: 0.5152110\ttotal: 1.5s\tremaining: 11.5s\n",
      "23:\tlearn: 0.5103337\ttotal: 1.55s\tremaining: 11.3s\n",
      "24:\tlearn: 0.5063910\ttotal: 1.58s\tremaining: 11.1s\n",
      "25:\tlearn: 0.5002412\ttotal: 1.63s\tremaining: 10.9s\n",
      "26:\tlearn: 0.4961848\ttotal: 1.69s\tremaining: 10.8s\n",
      "27:\tlearn: 0.4927752\ttotal: 1.74s\tremaining: 10.7s\n",
      "28:\tlearn: 0.4886964\ttotal: 1.78s\tremaining: 10.5s\n",
      "29:\tlearn: 0.4822062\ttotal: 1.82s\tremaining: 10.3s\n",
      "30:\tlearn: 0.4781775\ttotal: 1.9s\tremaining: 10.4s\n",
      "31:\tlearn: 0.4760083\ttotal: 1.96s\tremaining: 10.3s\n",
      "32:\tlearn: 0.4725190\ttotal: 2.01s\tremaining: 10.2s\n",
      "33:\tlearn: 0.4685497\ttotal: 2.05s\tremaining: 10s\n",
      "34:\tlearn: 0.4651206\ttotal: 2.1s\tremaining: 9.9s\n",
      "35:\tlearn: 0.4610476\ttotal: 2.15s\tremaining: 9.79s\n",
      "36:\tlearn: 0.4570237\ttotal: 2.2s\tremaining: 9.68s\n",
      "37:\tlearn: 0.4535176\ttotal: 2.24s\tremaining: 9.56s\n",
      "38:\tlearn: 0.4501801\ttotal: 2.28s\tremaining: 9.42s\n",
      "39:\tlearn: 0.4461860\ttotal: 2.32s\tremaining: 9.29s\n",
      "40:\tlearn: 0.4439377\ttotal: 2.37s\tremaining: 9.2s\n",
      "41:\tlearn: 0.4407944\ttotal: 2.42s\tremaining: 9.11s\n",
      "42:\tlearn: 0.4381819\ttotal: 2.48s\tremaining: 9.06s\n",
      "43:\tlearn: 0.4357162\ttotal: 2.53s\tremaining: 8.96s\n",
      "44:\tlearn: 0.4319182\ttotal: 2.56s\tremaining: 8.81s\n",
      "45:\tlearn: 0.4280053\ttotal: 2.6s\tremaining: 8.69s\n",
      "46:\tlearn: 0.4251276\ttotal: 2.63s\tremaining: 8.58s\n",
      "47:\tlearn: 0.4222797\ttotal: 2.69s\tremaining: 8.51s\n",
      "48:\tlearn: 0.4203290\ttotal: 2.73s\tremaining: 8.43s\n",
      "49:\tlearn: 0.4182493\ttotal: 2.79s\tremaining: 8.36s\n",
      "50:\tlearn: 0.4167831\ttotal: 2.84s\tremaining: 8.29s\n",
      "51:\tlearn: 0.4131288\ttotal: 2.88s\tremaining: 8.21s\n",
      "52:\tlearn: 0.4105495\ttotal: 2.94s\tremaining: 8.14s\n",
      "53:\tlearn: 0.4084784\ttotal: 2.98s\tremaining: 8.06s\n",
      "54:\tlearn: 0.4060721\ttotal: 3.03s\tremaining: 7.98s\n",
      "55:\tlearn: 0.4036865\ttotal: 3.07s\tremaining: 7.9s\n",
      "56:\tlearn: 0.4004674\ttotal: 3.11s\tremaining: 7.8s\n",
      "57:\tlearn: 0.3981851\ttotal: 3.15s\tremaining: 7.71s\n",
      "58:\tlearn: 0.3963533\ttotal: 3.19s\tremaining: 7.62s\n",
      "59:\tlearn: 0.3932436\ttotal: 3.24s\tremaining: 7.55s\n",
      "60:\tlearn: 0.3913267\ttotal: 3.28s\tremaining: 7.47s\n",
      "61:\tlearn: 0.3888871\ttotal: 3.32s\tremaining: 7.39s\n",
      "62:\tlearn: 0.3875804\ttotal: 3.38s\tremaining: 7.34s\n",
      "63:\tlearn: 0.3852609\ttotal: 3.42s\tremaining: 7.28s\n",
      "64:\tlearn: 0.3842219\ttotal: 3.49s\tremaining: 7.25s\n",
      "65:\tlearn: 0.3812247\ttotal: 3.53s\tremaining: 7.17s\n",
      "66:\tlearn: 0.3783793\ttotal: 3.57s\tremaining: 7.09s\n",
      "67:\tlearn: 0.3772471\ttotal: 3.61s\tremaining: 7.01s\n",
      "68:\tlearn: 0.3764759\ttotal: 3.66s\tremaining: 6.95s\n",
      "69:\tlearn: 0.3745353\ttotal: 3.69s\tremaining: 6.85s\n",
      "70:\tlearn: 0.3721189\ttotal: 3.72s\tremaining: 6.76s\n",
      "71:\tlearn: 0.3708918\ttotal: 3.79s\tremaining: 6.74s\n",
      "72:\tlearn: 0.3686373\ttotal: 3.85s\tremaining: 6.69s\n",
      "73:\tlearn: 0.3671878\ttotal: 3.9s\tremaining: 6.63s\n",
      "74:\tlearn: 0.3660376\ttotal: 3.94s\tremaining: 6.56s\n",
      "75:\tlearn: 0.3645681\ttotal: 3.98s\tremaining: 6.5s\n",
      "76:\tlearn: 0.3630046\ttotal: 4.04s\tremaining: 6.45s\n",
      "77:\tlearn: 0.3609110\ttotal: 4.08s\tremaining: 6.38s\n",
      "78:\tlearn: 0.3587162\ttotal: 4.13s\tremaining: 6.33s\n",
      "79:\tlearn: 0.3577866\ttotal: 4.18s\tremaining: 6.27s\n",
      "80:\tlearn: 0.3572642\ttotal: 4.19s\tremaining: 6.16s\n",
      "81:\tlearn: 0.3559574\ttotal: 4.24s\tremaining: 6.1s\n",
      "82:\tlearn: 0.3548188\ttotal: 4.28s\tremaining: 6.04s\n",
      "83:\tlearn: 0.3538392\ttotal: 4.33s\tremaining: 5.98s\n",
      "84:\tlearn: 0.3518540\ttotal: 4.37s\tremaining: 5.91s\n",
      "85:\tlearn: 0.3505890\ttotal: 4.4s\tremaining: 5.84s\n",
      "86:\tlearn: 0.3499641\ttotal: 4.44s\tremaining: 5.77s\n",
      "87:\tlearn: 0.3478981\ttotal: 4.49s\tremaining: 5.72s\n",
      "88:\tlearn: 0.3461833\ttotal: 4.54s\tremaining: 5.66s\n",
      "89:\tlearn: 0.3449773\ttotal: 4.6s\tremaining: 5.62s\n",
      "90:\tlearn: 0.3431314\ttotal: 4.64s\tremaining: 5.56s\n",
      "91:\tlearn: 0.3419114\ttotal: 4.68s\tremaining: 5.5s\n",
      "92:\tlearn: 0.3404701\ttotal: 4.74s\tremaining: 5.46s\n",
      "93:\tlearn: 0.3390856\ttotal: 4.79s\tremaining: 5.4s\n",
      "94:\tlearn: 0.3380571\ttotal: 4.82s\tremaining: 5.33s\n",
      "95:\tlearn: 0.3371869\ttotal: 4.88s\tremaining: 5.28s\n",
      "96:\tlearn: 0.3351818\ttotal: 4.93s\tremaining: 5.23s\n",
      "97:\tlearn: 0.3331798\ttotal: 4.97s\tremaining: 5.17s\n",
      "98:\tlearn: 0.3312205\ttotal: 5.01s\tremaining: 5.12s\n",
      "99:\tlearn: 0.3294295\ttotal: 5.05s\tremaining: 5.05s\n",
      "100:\tlearn: 0.3284003\ttotal: 5.1s\tremaining: 5s\n",
      "101:\tlearn: 0.3264751\ttotal: 5.17s\tremaining: 4.97s\n",
      "102:\tlearn: 0.3248530\ttotal: 5.21s\tremaining: 4.91s\n",
      "103:\tlearn: 0.3230790\ttotal: 5.26s\tremaining: 4.85s\n",
      "104:\tlearn: 0.3218609\ttotal: 5.29s\tremaining: 4.79s\n",
      "105:\tlearn: 0.3205611\ttotal: 5.33s\tremaining: 4.72s\n",
      "106:\tlearn: 0.3189576\ttotal: 5.41s\tremaining: 4.7s\n",
      "107:\tlearn: 0.3167081\ttotal: 5.45s\tremaining: 4.64s\n",
      "108:\tlearn: 0.3159415\ttotal: 5.49s\tremaining: 4.58s\n",
      "109:\tlearn: 0.3144644\ttotal: 5.54s\tremaining: 4.53s\n",
      "110:\tlearn: 0.3130682\ttotal: 5.58s\tremaining: 4.47s\n",
      "111:\tlearn: 0.3107606\ttotal: 5.62s\tremaining: 4.42s\n",
      "112:\tlearn: 0.3088862\ttotal: 5.68s\tremaining: 4.37s\n",
      "113:\tlearn: 0.3064697\ttotal: 5.72s\tremaining: 4.32s\n",
      "114:\tlearn: 0.3052000\ttotal: 5.76s\tremaining: 4.26s\n",
      "115:\tlearn: 0.3044792\ttotal: 5.81s\tremaining: 4.21s\n",
      "116:\tlearn: 0.3036797\ttotal: 5.87s\tremaining: 4.16s\n",
      "117:\tlearn: 0.3022701\ttotal: 5.91s\tremaining: 4.11s\n",
      "118:\tlearn: 0.3010039\ttotal: 5.97s\tremaining: 4.06s\n",
      "119:\tlearn: 0.2995930\ttotal: 6.03s\tremaining: 4.02s\n",
      "120:\tlearn: 0.2981846\ttotal: 6.09s\tremaining: 3.98s\n",
      "121:\tlearn: 0.2966874\ttotal: 6.13s\tremaining: 3.92s\n",
      "122:\tlearn: 0.2961253\ttotal: 6.17s\tremaining: 3.86s\n",
      "123:\tlearn: 0.2951233\ttotal: 6.23s\tremaining: 3.82s\n",
      "124:\tlearn: 0.2927801\ttotal: 6.28s\tremaining: 3.77s\n",
      "125:\tlearn: 0.2914540\ttotal: 6.32s\tremaining: 3.71s\n",
      "126:\tlearn: 0.2904442\ttotal: 6.37s\tremaining: 3.66s\n",
      "127:\tlearn: 0.2891625\ttotal: 6.4s\tremaining: 3.6s\n",
      "128:\tlearn: 0.2869844\ttotal: 6.44s\tremaining: 3.54s\n",
      "129:\tlearn: 0.2853008\ttotal: 6.49s\tremaining: 3.49s\n",
      "130:\tlearn: 0.2837653\ttotal: 6.54s\tremaining: 3.45s\n",
      "131:\tlearn: 0.2827454\ttotal: 6.59s\tremaining: 3.39s\n",
      "132:\tlearn: 0.2809852\ttotal: 6.63s\tremaining: 3.34s\n",
      "133:\tlearn: 0.2793798\ttotal: 6.67s\tremaining: 3.28s\n",
      "134:\tlearn: 0.2780365\ttotal: 6.71s\tremaining: 3.23s\n",
      "135:\tlearn: 0.2763676\ttotal: 6.76s\tremaining: 3.18s\n",
      "136:\tlearn: 0.2756960\ttotal: 6.79s\tremaining: 3.12s\n",
      "137:\tlearn: 0.2741421\ttotal: 6.83s\tremaining: 3.07s\n",
      "138:\tlearn: 0.2733407\ttotal: 6.86s\tremaining: 3.01s\n",
      "139:\tlearn: 0.2719416\ttotal: 6.91s\tremaining: 2.96s\n",
      "140:\tlearn: 0.2715426\ttotal: 6.98s\tremaining: 2.92s\n",
      "141:\tlearn: 0.2699415\ttotal: 7.03s\tremaining: 2.87s\n",
      "142:\tlearn: 0.2694761\ttotal: 7.07s\tremaining: 2.82s\n",
      "143:\tlearn: 0.2685887\ttotal: 7.11s\tremaining: 2.77s\n",
      "144:\tlearn: 0.2663111\ttotal: 7.14s\tremaining: 2.71s\n",
      "145:\tlearn: 0.2650754\ttotal: 7.19s\tremaining: 2.66s\n",
      "146:\tlearn: 0.2638827\ttotal: 7.22s\tremaining: 2.6s\n",
      "147:\tlearn: 0.2626520\ttotal: 7.27s\tremaining: 2.55s\n",
      "148:\tlearn: 0.2619551\ttotal: 7.31s\tremaining: 2.5s\n",
      "149:\tlearn: 0.2601974\ttotal: 7.36s\tremaining: 2.45s\n",
      "150:\tlearn: 0.2592924\ttotal: 7.43s\tremaining: 2.41s\n",
      "151:\tlearn: 0.2584451\ttotal: 7.48s\tremaining: 2.36s\n",
      "152:\tlearn: 0.2564930\ttotal: 7.53s\tremaining: 2.31s\n",
      "153:\tlearn: 0.2556901\ttotal: 7.59s\tremaining: 2.27s\n",
      "154:\tlearn: 0.2536738\ttotal: 7.69s\tremaining: 2.23s\n",
      "155:\tlearn: 0.2520821\ttotal: 7.77s\tremaining: 2.19s\n",
      "156:\tlearn: 0.2511694\ttotal: 7.81s\tremaining: 2.14s\n",
      "157:\tlearn: 0.2502709\ttotal: 7.85s\tremaining: 2.08s\n",
      "158:\tlearn: 0.2496860\ttotal: 7.89s\tremaining: 2.04s\n",
      "159:\tlearn: 0.2482076\ttotal: 7.94s\tremaining: 1.98s\n"
     ]
    },
    {
     "name": "stdout",
     "output_type": "stream",
     "text": [
      "160:\tlearn: 0.2476524\ttotal: 7.98s\tremaining: 1.93s\n",
      "161:\tlearn: 0.2470445\ttotal: 8.04s\tremaining: 1.89s\n",
      "162:\tlearn: 0.2460861\ttotal: 8.1s\tremaining: 1.84s\n",
      "163:\tlearn: 0.2447433\ttotal: 8.13s\tremaining: 1.78s\n",
      "164:\tlearn: 0.2440155\ttotal: 8.19s\tremaining: 1.74s\n",
      "165:\tlearn: 0.2428160\ttotal: 8.24s\tremaining: 1.69s\n",
      "166:\tlearn: 0.2417669\ttotal: 8.27s\tremaining: 1.63s\n",
      "167:\tlearn: 0.2409014\ttotal: 8.32s\tremaining: 1.58s\n",
      "168:\tlearn: 0.2401467\ttotal: 8.36s\tremaining: 1.53s\n",
      "169:\tlearn: 0.2393447\ttotal: 8.43s\tremaining: 1.49s\n",
      "170:\tlearn: 0.2375254\ttotal: 8.46s\tremaining: 1.44s\n",
      "171:\tlearn: 0.2359743\ttotal: 8.51s\tremaining: 1.38s\n",
      "172:\tlearn: 0.2355516\ttotal: 8.58s\tremaining: 1.34s\n",
      "173:\tlearn: 0.2344183\ttotal: 8.62s\tremaining: 1.29s\n",
      "174:\tlearn: 0.2331116\ttotal: 8.68s\tremaining: 1.24s\n",
      "175:\tlearn: 0.2323125\ttotal: 8.73s\tremaining: 1.19s\n",
      "176:\tlearn: 0.2310974\ttotal: 8.79s\tremaining: 1.14s\n",
      "177:\tlearn: 0.2296342\ttotal: 8.84s\tremaining: 1.09s\n",
      "178:\tlearn: 0.2289483\ttotal: 8.89s\tremaining: 1.04s\n",
      "179:\tlearn: 0.2280403\ttotal: 8.98s\tremaining: 998ms\n",
      "180:\tlearn: 0.2270445\ttotal: 9.07s\tremaining: 952ms\n",
      "181:\tlearn: 0.2261109\ttotal: 9.14s\tremaining: 904ms\n",
      "182:\tlearn: 0.2245506\ttotal: 9.17s\tremaining: 852ms\n",
      "183:\tlearn: 0.2236606\ttotal: 9.23s\tremaining: 802ms\n",
      "184:\tlearn: 0.2228704\ttotal: 9.26s\tremaining: 751ms\n",
      "185:\tlearn: 0.2217997\ttotal: 9.3s\tremaining: 700ms\n",
      "186:\tlearn: 0.2215599\ttotal: 9.32s\tremaining: 648ms\n",
      "187:\tlearn: 0.2200539\ttotal: 9.38s\tremaining: 599ms\n",
      "188:\tlearn: 0.2193756\ttotal: 9.43s\tremaining: 549ms\n",
      "189:\tlearn: 0.2190592\ttotal: 9.47s\tremaining: 499ms\n",
      "190:\tlearn: 0.2180688\ttotal: 9.52s\tremaining: 449ms\n",
      "191:\tlearn: 0.2172840\ttotal: 9.58s\tremaining: 399ms\n",
      "192:\tlearn: 0.2157646\ttotal: 9.64s\tremaining: 350ms\n",
      "193:\tlearn: 0.2147289\ttotal: 9.69s\tremaining: 300ms\n",
      "194:\tlearn: 0.2144628\ttotal: 9.76s\tremaining: 250ms\n",
      "195:\tlearn: 0.2136231\ttotal: 9.81s\tremaining: 200ms\n",
      "196:\tlearn: 0.2131763\ttotal: 9.87s\tremaining: 150ms\n",
      "197:\tlearn: 0.2111914\ttotal: 9.94s\tremaining: 100ms\n",
      "198:\tlearn: 0.2097105\ttotal: 9.99s\tremaining: 50.2ms\n",
      "199:\tlearn: 0.2082722\ttotal: 10s\tremaining: 0us\n"
     ]
    },
    {
     "data": {
      "text/plain": [
       "<catboost.core.CatBoostClassifier at 0x22fbf585eb0>"
      ]
     },
     "execution_count": 41,
     "metadata": {},
     "output_type": "execute_result"
    }
   ],
   "source": [
    "catmodel = CatBoostClassifier(iterations=200)\n",
    "catmodel.fit(xtrain,ytrain,cat_features = cat_df,plot=False)"
   ]
  },
  {
   "cell_type": "code",
   "execution_count": 42,
   "metadata": {},
   "outputs": [
    {
     "name": "stdout",
     "output_type": "stream",
     "text": [
      "\n",
      "Training Accuracy :  0.9762532981530343\n",
      "\n",
      "Testing Accuracy :  0.8105263157894737\n"
     ]
    }
   ],
   "source": [
    "# Accuracy on Training \n",
    "predictions_train = catmodel.predict(xtrain)\n",
    "print(\"\\nTraining Accuracy : \", accuracy_score(ytrain,predictions_train))\n",
    "# Accuracy on Testing\n",
    "predictions_test = catmodel.predict(xtest)\n",
    "print(\"\\nTesting Accuracy : \", accuracy_score(ytest,predictions_test))"
   ]
  },
  {
   "cell_type": "markdown",
   "metadata": {},
   "source": [
    "# XGboost"
   ]
  },
  {
   "cell_type": "code",
   "execution_count": 43,
   "metadata": {},
   "outputs": [
    {
     "name": "stderr",
     "output_type": "stream",
     "text": [
      "F:\\New_Anaconda_Inst_Loc\\lib\\site-packages\\xgboost\\sklearn.py:1146: UserWarning: The use of label encoder in XGBClassifier is deprecated and will be removed in a future release. To remove this warning, do the following: 1) Pass option use_label_encoder=False when constructing XGBClassifier object; and 2) Encode your labels (y) as integers starting with 0, i.e. 0, 1, 2, ..., [num_class - 1].\n",
      "  warnings.warn(label_encoder_deprecation_msg, UserWarning)\n"
     ]
    },
    {
     "name": "stdout",
     "output_type": "stream",
     "text": [
      "[14:45:35] WARNING: C:/Users/Administrator/workspace/xgboost-win64_release_1.4.0/src/learner.cc:1095: Starting in XGBoost 1.3.0, the default evaluation metric used with the objective 'binary:logistic' was changed from 'error' to 'logloss'. Explicitly set eval_metric if you'd like to restore the old behavior.\n",
      "\n",
      "Training Accuracy : 1.0\n",
      "\n",
      "Testing Accuracy : 0.7263157894736842\n",
      "\n",
      "Repeated 5-Folds Cross-Validation for Model Evaluation :\n",
      "\n",
      "Mean Accuracy: 0.863 (0.010)\n"
     ]
    }
   ],
   "source": [
    "from xgboost import XGBClassifier\n",
    "classifier=XGBClassifier()\n",
    "classifier.fit(xtrain,ytrain)\n",
    "predictions_train =classifier.predict(xtrain)\n",
    "acc=accuracy_score(ytrain, predictions_train)\n",
    "print('\\nTraining Accuracy :', acc)\n",
    "predictions_test = classifier.predict(xtest)\n",
    "accc=accuracy_score(ytest, predictions_test)\n",
    "print('\\nTesting Accuracy :', accc)\n",
    "\n",
    "# define the evaluation method\n",
    "print('\\nRepeated 5-Folds Cross-Validation for Model Evaluation :\\n')\n",
    "cv = RepeatedStratifiedKFold(n_splits = 5, n_repeats=3, random_state=1)\n",
    "# evaluate the model on the dataset\n",
    "n_scores = cross_val_score(classifier, x, y, scoring='accuracy', cv=cv, n_jobs=-1)\n",
    "# report performance\n",
    "print('Mean Accuracy: %.3f (%.3f)' % (mean(n_scores), std(n_scores)))"
   ]
  },
  {
   "cell_type": "markdown",
   "metadata": {},
   "source": [
    "# Under-sampling: Tomek links"
   ]
  },
  {
   "cell_type": "code",
   "execution_count": 43,
   "metadata": {},
   "outputs": [
    {
     "data": {
      "text/plain": [
       "(1470, 35)"
      ]
     },
     "execution_count": 43,
     "metadata": {},
     "output_type": "execute_result"
    }
   ],
   "source": [
    "df.shape"
   ]
  },
  {
   "cell_type": "code",
   "execution_count": 9,
   "metadata": {
    "scrolled": true
   },
   "outputs": [
    {
     "name": "stdout",
     "output_type": "stream",
     "text": [
      "Features Shape (34,)\n",
      "X resampled (1081, 34)\n",
      "Y resampled (1081,)\n"
     ]
    },
    {
     "data": {
      "text/plain": [
       "<AxesSubplot:title={'center':'Attrition'}>"
      ]
     },
     "execution_count": 9,
     "metadata": {},
     "output_type": "execute_result"
    },
    {
     "data": {
      "image/png": "[encoded data removed]",
      "text/plain": [
       "<Figure size 432x288 with 1 Axes>"
      ]
     },
     "metadata": {
      "needs_background": "light"
     },
     "output_type": "display_data"
    }
   ],
   "source": [
    "from imblearn.under_sampling import TomekLinks\n",
    "\n",
    "df_train, df_test = train_test_split(df, test_size=0.2, stratify=df['Attrition'], random_state=888)\n",
    "\n",
    "features = df_train.drop(columns=['Attrition']).columns\n",
    "\n",
    "tl = TomekLinks()\n",
    "X_resampled, y_resampled = tl.fit_resample(df_train[features], df_train['Attrition'])\n",
    "\n",
    "print('Features Shape',features.shape)\n",
    "print('X resampled', X_resampled.shape)\n",
    "print('Y resampled', y_resampled.shape)\n",
    "y_resampled.value_counts().plot(kind='bar', title='Attrition')"
   ]
  },
  {
   "cell_type": "code",
   "execution_count": 49,
   "metadata": {},
   "outputs": [
    {
     "data": {
      "text/plain": [
       "(294, 34)"
      ]
     },
     "execution_count": 49,
     "metadata": {},
     "output_type": "execute_result"
    }
   ],
   "source": [
    "# xtest = df_test.drop(columns=['Attrition'],axis=1)\n",
    "# ytest = df_test['Attrition']\n",
    "# xtest.shape"
   ]
  },
  {
   "cell_type": "code",
   "execution_count": 10,
   "metadata": {},
   "outputs": [],
   "source": [
    "xtrain, xtest, ytrain, ytest = train_test_split(X_resampled, y_resampled, test_size=0.2, random_state=15, stratify= y_resampled)"
   ]
  },
  {
   "cell_type": "markdown",
   "metadata": {},
   "source": [
    "# Model Apply"
   ]
  },
  {
   "cell_type": "markdown",
   "metadata": {},
   "source": [
    "# Random Forest Classifier"
   ]
  },
  {
   "cell_type": "code",
   "execution_count": 11,
   "metadata": {},
   "outputs": [],
   "source": [
    "from sklearn.ensemble import RandomForestClassifier\n",
    "rnf = RandomForestClassifier(n_estimators=25, random_state=50)"
   ]
  },
  {
   "cell_type": "code",
   "execution_count": 12,
   "metadata": {},
   "outputs": [
    {
     "data": {
      "text/plain": [
       "RandomForestClassifier(n_estimators=25, random_state=50)"
      ]
     },
     "execution_count": 12,
     "metadata": {},
     "output_type": "execute_result"
    }
   ],
   "source": [
    "rnf.fit(X_resampled, y_resampled)"
   ]
  },
  {
   "cell_type": "code",
   "execution_count": 13,
   "metadata": {},
   "outputs": [
    {
     "name": "stdout",
     "output_type": "stream",
     "text": [
      "\n",
      "Training Accuracy :  0.9953746530989824\n",
      "\n",
      "Testing Accuracy :  0.9907834101382489\n"
     ]
    }
   ],
   "source": [
    "# Accuracy on Training \n",
    "predictions_train = rnf.predict(X_resampled)\n",
    "print(\"\\nTraining Accuracy : \", accuracy_score(y_resampled,predictions_train))\n",
    "# Accuracy on Testing\n",
    "predictions_test = rnf.predict(xtest)\n",
    "print(\"\\nTesting Accuracy : \", accuracy_score(ytest,predictions_test))"
   ]
  },
  {
   "cell_type": "markdown",
   "metadata": {},
   "source": [
    "# XGBoost"
   ]
  },
  {
   "cell_type": "code",
   "execution_count": 53,
   "metadata": {},
   "outputs": [
    {
     "name": "stderr",
     "output_type": "stream",
     "text": [
      "F:\\New_Anaconda_Inst_Loc\\lib\\site-packages\\xgboost\\sklearn.py:1146: UserWarning: The use of label encoder in XGBClassifier is deprecated and will be removed in a future release. To remove this warning, do the following: 1) Pass option use_label_encoder=False when constructing XGBClassifier object; and 2) Encode your labels (y) as integers starting with 0, i.e. 0, 1, 2, ..., [num_class - 1].\n",
      "  warnings.warn(label_encoder_deprecation_msg, UserWarning)\n"
     ]
    },
    {
     "name": "stdout",
     "output_type": "stream",
     "text": [
      "[13:05:37] WARNING: C:/Users/Administrator/workspace/xgboost-win64_release_1.4.0/src/learner.cc:1095: Starting in XGBoost 1.3.0, the default evaluation metric used with the objective 'binary:logistic' was changed from 'error' to 'logloss'. Explicitly set eval_metric if you'd like to restore the old behavior.\n",
      "\n",
      "Testing Accuracy : 0.8469387755102041\n",
      "\n",
      "Repeated 5-Folds Cross-Validation for Model Evaluation :\n",
      "\n",
      "Mean Accuracy: 0.855 (0.016)\n"
     ]
    }
   ],
   "source": [
    "classifier=XGBClassifier()\n",
    "classifier.fit(X_resampled, y_resampled)\n",
    "# predictions_train =classifier.predict(xtrain)\n",
    "# acc=accuracy_score(ytrain, predictions_train)\n",
    "# print('\\nTraining Accuracy :', acc)\n",
    "predictions_test = classifier.predict(xtest)\n",
    "accc=accuracy_score(ytest, predictions_test)\n",
    "print('\\nTesting Accuracy :', accc)\n",
    "\n",
    "# define the evaluation method\n",
    "print('\\nRepeated 5-Folds Cross-Validation for Model Evaluation :\\n')\n",
    "cv = RepeatedStratifiedKFold(n_splits = 5, n_repeats=3, random_state=1)\n",
    "# evaluate the model on the dataset\n",
    "n_scores = cross_val_score(classifier, X_resampled, y_resampled, scoring='accuracy', cv=cv, n_jobs=-1)\n",
    "# report performance\n",
    "print('Mean Accuracy: %.3f (%.3f)' % (mean(n_scores), std(n_scores)))"
   ]
  },
  {
   "cell_type": "markdown",
   "metadata": {},
   "source": [
    "# Oversampling"
   ]
  },
  {
   "cell_type": "code",
   "execution_count": 60,
   "metadata": {},
   "outputs": [
    {
     "name": "stdout",
     "output_type": "stream",
     "text": [
      "class 0: (1233, 35)\n",
      "class 1: (237, 35)\n"
     ]
    }
   ],
   "source": [
    "# Divide by class\n",
    "class_count_0, class_count_1 = df['Attrition'].value_counts()\n",
    "df_class_0 = df[df['Attrition'] == 0]\n",
    "df_class_1 = df[df['Attrition'] == 1]\n",
    "\n",
    "print('class 0:', df_class_0.shape)\n",
    "print('class 1:', df_class_1.shape)"
   ]
  },
  {
   "cell_type": "code",
   "execution_count": 61,
   "metadata": {},
   "outputs": [
    {
     "name": "stdout",
     "output_type": "stream",
     "text": [
      "1    1233\n",
      "0    1233\n",
      "Name: Attrition, dtype: int64\n"
     ]
    },
    {
     "data": {
      "text/plain": [
       "<AxesSubplot:title={'center':'count (target)'}>"
      ]
     },
     "execution_count": 61,
     "metadata": {},
     "output_type": "execute_result"
    },
    {
     "data": {
      "image/png": "[encoded data removed]",
      "text/plain": [
       "<Figure size 432x288 with 1 Axes>"
      ]
     },
     "metadata": {
      "needs_background": "light"
     },
     "output_type": "display_data"
    }
   ],
   "source": [
    "class_1_over = df_class_1.sample(class_count_0, replace=True)\n",
    "\n",
    "test_over = pd.concat([class_1_over, df_class_0], axis=0)\n",
    "\n",
    "print(test_over['Attrition'].value_counts())\n",
    "\n",
    "test_over['Attrition'].value_counts().plot(kind='bar', title='count (target)')"
   ]
  },
  {
   "cell_type": "code",
   "execution_count": 62,
   "metadata": {},
   "outputs": [],
   "source": [
    "x = test_over.drop('Attrition',axis='columns')\n",
    "y = test_over['Attrition']\n",
    "\n",
    "xtrain, xtest, ytrain, ytest = train_test_split(x, y, test_size=0.2, random_state=15, stratify=y)"
   ]
  },
  {
   "cell_type": "code",
   "execution_count": 66,
   "metadata": {},
   "outputs": [
    {
     "data": {
      "text/plain": [
       "(1972, 34)"
      ]
     },
     "execution_count": 66,
     "metadata": {},
     "output_type": "execute_result"
    }
   ],
   "source": [
    "xtrain.shape"
   ]
  },
  {
   "cell_type": "code",
   "execution_count": 67,
   "metadata": {},
   "outputs": [
    {
     "data": {
      "text/plain": [
       "(1972,)"
      ]
     },
     "execution_count": 67,
     "metadata": {},
     "output_type": "execute_result"
    }
   ],
   "source": [
    "ytrain.shape"
   ]
  },
  {
   "cell_type": "code",
   "execution_count": 68,
   "metadata": {},
   "outputs": [
    {
     "data": {
      "text/plain": [
       "(494, 34)"
      ]
     },
     "execution_count": 68,
     "metadata": {},
     "output_type": "execute_result"
    }
   ],
   "source": [
    "xtest.shape"
   ]
  },
  {
   "cell_type": "markdown",
   "metadata": {},
   "source": [
    "# Model Apply"
   ]
  },
  {
   "cell_type": "markdown",
   "metadata": {},
   "source": [
    "# Random Forest Classifier"
   ]
  },
  {
   "cell_type": "code",
   "execution_count": 69,
   "metadata": {},
   "outputs": [],
   "source": [
    "from sklearn.ensemble import RandomForestClassifier\n",
    "rnf = RandomForestClassifier(n_estimators=125, random_state=50)"
   ]
  },
  {
   "cell_type": "code",
   "execution_count": 70,
   "metadata": {},
   "outputs": [
    {
     "data": {
      "text/plain": [
       "RandomForestClassifier(n_estimators=125, random_state=50)"
      ]
     },
     "execution_count": 70,
     "metadata": {},
     "output_type": "execute_result"
    }
   ],
   "source": [
    "rnf.fit(xtrain, ytrain)"
   ]
  },
  {
   "cell_type": "code",
   "execution_count": 71,
   "metadata": {},
   "outputs": [
    {
     "name": "stdout",
     "output_type": "stream",
     "text": [
      "\n",
      "Training Accuracy :  1.0\n",
      "\n",
      "Testing Accuracy :  0.979757085020243\n"
     ]
    }
   ],
   "source": [
    "# Accuracy on Training \n",
    "predictions_train = rnf.predict(xtrain)\n",
    "print(\"\\nTraining Accuracy : \", accuracy_score(ytrain,predictions_train))\n",
    "# Accuracy on Testing\n",
    "predictions_test = rnf.predict(xtest)\n",
    "print(\"\\nTesting Accuracy : \", accuracy_score(ytest,predictions_test))"
   ]
  },
  {
   "cell_type": "markdown",
   "metadata": {},
   "source": [
    "# SVM"
   ]
  },
  {
   "cell_type": "code",
   "execution_count": 72,
   "metadata": {},
   "outputs": [
    {
     "data": {
      "text/plain": [
       "SVC(gamma='auto')"
      ]
     },
     "execution_count": 72,
     "metadata": {},
     "output_type": "execute_result"
    }
   ],
   "source": [
    "svm_model = SVC(gamma = 'auto')\n",
    "svm_model.fit(xtrain,ytrain)\n",
    "SVC(gamma='auto')"
   ]
  },
  {
   "cell_type": "code",
   "execution_count": 73,
   "metadata": {},
   "outputs": [
    {
     "name": "stdout",
     "output_type": "stream",
     "text": [
      "\n",
      "Training Accuracy :  1.0\n",
      "\n",
      "Testing Accuracy :  0.9919028340080972\n"
     ]
    }
   ],
   "source": [
    "# Accuracy on Training \n",
    "predictions_train = svm_model.predict(xtrain)\n",
    "print(\"\\nTraining Accuracy : \", accuracy_score(ytrain,predictions_train))\n",
    "# Accuracy on Testing\n",
    "predictions_test = svm_model.predict(xtest)\n",
    "print(\"\\nTesting Accuracy : \", accuracy_score(ytest,predictions_test))"
   ]
  },
  {
   "cell_type": "markdown",
   "metadata": {},
   "source": [
    "# Logistic Regression"
   ]
  },
  {
   "cell_type": "code",
   "execution_count": 74,
   "metadata": {},
   "outputs": [
    {
     "name": "stderr",
     "output_type": "stream",
     "text": [
      "F:\\New_Anaconda_Inst_Loc\\lib\\site-packages\\sklearn\\linear_model\\_logistic.py:814: ConvergenceWarning: lbfgs failed to converge (status=1):\n",
      "STOP: TOTAL NO. of ITERATIONS REACHED LIMIT.\n",
      "\n",
      "Increase the number of iterations (max_iter) or scale the data as shown in:\n",
      "    https://scikit-learn.org/stable/modules/preprocessing.html\n",
      "Please also refer to the documentation for alternative solver options:\n",
      "    https://scikit-learn.org/stable/modules/linear_model.html#logistic-regression\n",
      "  n_iter_i = _check_optimize_result(\n"
     ]
    },
    {
     "data": {
      "text/plain": [
       "LogisticRegression()"
      ]
     },
     "execution_count": 74,
     "metadata": {},
     "output_type": "execute_result"
    }
   ],
   "source": [
    "from sklearn.linear_model import LogisticRegression\n",
    "lrmodel = LogisticRegression()\n",
    "lrmodel.fit(xtrain,ytrain)"
   ]
  },
  {
   "cell_type": "code",
   "execution_count": 75,
   "metadata": {},
   "outputs": [
    {
     "name": "stdout",
     "output_type": "stream",
     "text": [
      "\n",
      "Training Accuracy :  0.6516227180527383\n",
      "\n",
      "Testing Accuracy :  0.6578947368421053\n"
     ]
    }
   ],
   "source": [
    "# Accuracy on Training \n",
    "predictions_train = lrmodel.predict(xtrain)\n",
    "print(\"\\nTraining Accuracy : \", accuracy_score(ytrain,predictions_train))\n",
    "# Accuracy on Testing\n",
    "predictions_test = lrmodel.predict(xtest)\n",
    "print(\"\\nTesting Accuracy : \", accuracy_score(ytest,predictions_test))"
   ]
  },
  {
   "cell_type": "markdown",
   "metadata": {},
   "source": [
    "# CatBoost"
   ]
  },
  {
   "cell_type": "code",
   "execution_count": 76,
   "metadata": {},
   "outputs": [
    {
     "name": "stdout",
     "output_type": "stream",
     "text": [
      "\n",
      "Categorical Variables indices :  [ 0  1  2  3  4  5  6  7  8  9 10 11 12 13 14 15 16 17 18 19 20 21 22 23\n",
      " 24 25 26 27 28 29 30 31 32 33]\n"
     ]
    }
   ],
   "source": [
    "# find out the indices of categorical variables\n",
    "categorical_var = np.where(xtrain.dtypes != np.float)[0]\n",
    "print('\\nCategorical Variables indices : ',categorical_var)"
   ]
  },
  {
   "cell_type": "code",
   "execution_count": 77,
   "metadata": {
    "scrolled": true
   },
   "outputs": [
    {
     "name": "stdout",
     "output_type": "stream",
     "text": [
      "Learning rate set to 0.113726\n",
      "0:\tlearn: 0.4500809\ttotal: 49.8ms\tremaining: 4.93s\n",
      "1:\tlearn: 0.2995010\ttotal: 111ms\tremaining: 5.43s\n",
      "2:\tlearn: 0.2087948\ttotal: 187ms\tremaining: 6.05s\n",
      "3:\tlearn: 0.1632158\ttotal: 231ms\tremaining: 5.55s\n",
      "4:\tlearn: 0.1264738\ttotal: 282ms\tremaining: 5.36s\n",
      "5:\tlearn: 0.1014296\ttotal: 335ms\tremaining: 5.24s\n",
      "6:\tlearn: 0.0844053\ttotal: 393ms\tremaining: 5.22s\n",
      "7:\tlearn: 0.0734288\ttotal: 420ms\tremaining: 4.83s\n",
      "8:\tlearn: 0.0666133\ttotal: 469ms\tremaining: 4.74s\n",
      "9:\tlearn: 0.0613434\ttotal: 515ms\tremaining: 4.64s\n",
      "10:\tlearn: 0.0574966\ttotal: 565ms\tremaining: 4.57s\n",
      "11:\tlearn: 0.0541412\ttotal: 611ms\tremaining: 4.48s\n",
      "12:\tlearn: 0.0510479\ttotal: 630ms\tremaining: 4.21s\n",
      "13:\tlearn: 0.0493709\ttotal: 688ms\tremaining: 4.22s\n",
      "14:\tlearn: 0.0477024\ttotal: 739ms\tremaining: 4.19s\n",
      "15:\tlearn: 0.0457916\ttotal: 809ms\tremaining: 4.25s\n",
      "16:\tlearn: 0.0451499\ttotal: 871ms\tremaining: 4.25s\n",
      "17:\tlearn: 0.0427959\ttotal: 949ms\tremaining: 4.33s\n",
      "18:\tlearn: 0.0415564\ttotal: 1.01s\tremaining: 4.3s\n",
      "19:\tlearn: 0.0414284\ttotal: 1.03s\tremaining: 4.14s\n",
      "20:\tlearn: 0.0412849\ttotal: 1.09s\tremaining: 4.11s\n",
      "21:\tlearn: 0.0412409\ttotal: 1.11s\tremaining: 3.94s\n",
      "22:\tlearn: 0.0405213\ttotal: 1.15s\tremaining: 3.86s\n",
      "23:\tlearn: 0.0402168\ttotal: 1.23s\tremaining: 3.9s\n",
      "24:\tlearn: 0.0398258\ttotal: 1.28s\tremaining: 3.83s\n",
      "25:\tlearn: 0.0395147\ttotal: 1.3s\tremaining: 3.7s\n",
      "26:\tlearn: 0.0393615\ttotal: 1.33s\tremaining: 3.61s\n",
      "27:\tlearn: 0.0392259\ttotal: 1.38s\tremaining: 3.56s\n",
      "28:\tlearn: 0.0387287\ttotal: 1.43s\tremaining: 3.5s\n",
      "29:\tlearn: 0.0387156\ttotal: 1.45s\tremaining: 3.39s\n",
      "30:\tlearn: 0.0384734\ttotal: 1.5s\tremaining: 3.35s\n",
      "31:\tlearn: 0.0384242\ttotal: 1.55s\tremaining: 3.3s\n",
      "32:\tlearn: 0.0379255\ttotal: 1.59s\tremaining: 3.23s\n",
      "33:\tlearn: 0.0377087\ttotal: 1.66s\tremaining: 3.23s\n",
      "34:\tlearn: 0.0375955\ttotal: 1.7s\tremaining: 3.16s\n",
      "35:\tlearn: 0.0372537\ttotal: 1.77s\tremaining: 3.15s\n",
      "36:\tlearn: 0.0372466\ttotal: 1.81s\tremaining: 3.08s\n",
      "37:\tlearn: 0.0370784\ttotal: 1.86s\tremaining: 3.03s\n",
      "38:\tlearn: 0.0370705\ttotal: 1.89s\tremaining: 2.95s\n",
      "39:\tlearn: 0.0367206\ttotal: 1.93s\tremaining: 2.9s\n",
      "40:\tlearn: 0.0366486\ttotal: 2.01s\tremaining: 2.89s\n",
      "41:\tlearn: 0.0364390\ttotal: 2.06s\tremaining: 2.85s\n",
      "42:\tlearn: 0.0364295\ttotal: 2.1s\tremaining: 2.79s\n",
      "43:\tlearn: 0.0364115\ttotal: 2.15s\tremaining: 2.74s\n",
      "44:\tlearn: 0.0363113\ttotal: 2.2s\tremaining: 2.69s\n",
      "45:\tlearn: 0.0363078\ttotal: 2.23s\tremaining: 2.62s\n",
      "46:\tlearn: 0.0355682\ttotal: 2.27s\tremaining: 2.56s\n",
      "47:\tlearn: 0.0352896\ttotal: 2.3s\tremaining: 2.5s\n",
      "48:\tlearn: 0.0352597\ttotal: 2.34s\tremaining: 2.44s\n",
      "49:\tlearn: 0.0352597\ttotal: 2.38s\tremaining: 2.38s\n",
      "50:\tlearn: 0.0351785\ttotal: 2.41s\tremaining: 2.31s\n",
      "51:\tlearn: 0.0351785\ttotal: 2.45s\tremaining: 2.26s\n",
      "52:\tlearn: 0.0350585\ttotal: 2.51s\tremaining: 2.22s\n",
      "53:\tlearn: 0.0348880\ttotal: 2.57s\tremaining: 2.19s\n",
      "54:\tlearn: 0.0347136\ttotal: 2.64s\tremaining: 2.16s\n",
      "55:\tlearn: 0.0344825\ttotal: 2.72s\tremaining: 2.13s\n",
      "56:\tlearn: 0.0341207\ttotal: 2.78s\tremaining: 2.1s\n",
      "57:\tlearn: 0.0340979\ttotal: 2.81s\tremaining: 2.03s\n",
      "58:\tlearn: 0.0340658\ttotal: 2.85s\tremaining: 1.98s\n",
      "59:\tlearn: 0.0336039\ttotal: 2.91s\tremaining: 1.94s\n",
      "60:\tlearn: 0.0330338\ttotal: 2.98s\tremaining: 1.91s\n",
      "61:\tlearn: 0.0330208\ttotal: 3.01s\tremaining: 1.84s\n",
      "62:\tlearn: 0.0330208\ttotal: 3.03s\tremaining: 1.78s\n",
      "63:\tlearn: 0.0323316\ttotal: 3.06s\tremaining: 1.72s\n",
      "64:\tlearn: 0.0323171\ttotal: 3.11s\tremaining: 1.67s\n",
      "65:\tlearn: 0.0322786\ttotal: 3.16s\tremaining: 1.63s\n",
      "66:\tlearn: 0.0321099\ttotal: 3.2s\tremaining: 1.58s\n",
      "67:\tlearn: 0.0320977\ttotal: 3.24s\tremaining: 1.52s\n",
      "68:\tlearn: 0.0319520\ttotal: 3.3s\tremaining: 1.48s\n",
      "69:\tlearn: 0.0319519\ttotal: 3.34s\tremaining: 1.43s\n",
      "70:\tlearn: 0.0319370\ttotal: 3.36s\tremaining: 1.37s\n",
      "71:\tlearn: 0.0319288\ttotal: 3.4s\tremaining: 1.32s\n",
      "72:\tlearn: 0.0316785\ttotal: 3.45s\tremaining: 1.28s\n",
      "73:\tlearn: 0.0316132\ttotal: 3.52s\tremaining: 1.24s\n",
      "74:\tlearn: 0.0311819\ttotal: 3.58s\tremaining: 1.19s\n",
      "75:\tlearn: 0.0311673\ttotal: 3.6s\tremaining: 1.14s\n",
      "76:\tlearn: 0.0311472\ttotal: 3.65s\tremaining: 1.09s\n",
      "77:\tlearn: 0.0310571\ttotal: 3.7s\tremaining: 1.04s\n",
      "78:\tlearn: 0.0309885\ttotal: 3.73s\tremaining: 993ms\n",
      "79:\tlearn: 0.0309656\ttotal: 3.76s\tremaining: 941ms\n",
      "80:\tlearn: 0.0309656\ttotal: 3.81s\tremaining: 894ms\n",
      "81:\tlearn: 0.0309113\ttotal: 3.83s\tremaining: 841ms\n",
      "82:\tlearn: 0.0308552\ttotal: 3.88s\tremaining: 795ms\n",
      "83:\tlearn: 0.0304080\ttotal: 3.93s\tremaining: 748ms\n",
      "84:\tlearn: 0.0303786\ttotal: 3.98s\tremaining: 702ms\n",
      "85:\tlearn: 0.0302820\ttotal: 4.04s\tremaining: 657ms\n",
      "86:\tlearn: 0.0302575\ttotal: 4.09s\tremaining: 611ms\n",
      "87:\tlearn: 0.0299226\ttotal: 4.16s\tremaining: 567ms\n",
      "88:\tlearn: 0.0297017\ttotal: 4.21s\tremaining: 520ms\n",
      "89:\tlearn: 0.0295903\ttotal: 4.26s\tremaining: 474ms\n",
      "90:\tlearn: 0.0294938\ttotal: 4.34s\tremaining: 429ms\n",
      "91:\tlearn: 0.0294374\ttotal: 4.38s\tremaining: 381ms\n",
      "92:\tlearn: 0.0293726\ttotal: 4.43s\tremaining: 334ms\n",
      "93:\tlearn: 0.0290496\ttotal: 4.5s\tremaining: 287ms\n",
      "94:\tlearn: 0.0290009\ttotal: 4.56s\tremaining: 240ms\n",
      "95:\tlearn: 0.0289264\ttotal: 4.6s\tremaining: 192ms\n",
      "96:\tlearn: 0.0286984\ttotal: 4.67s\tremaining: 144ms\n",
      "97:\tlearn: 0.0278361\ttotal: 4.74s\tremaining: 96.8ms\n",
      "98:\tlearn: 0.0278020\ttotal: 4.8s\tremaining: 48.5ms\n",
      "99:\tlearn: 0.0275500\ttotal: 4.85s\tremaining: 0us\n"
     ]
    },
    {
     "data": {
      "text/plain": [
       "<catboost.core.CatBoostClassifier at 0x1dda0b969d0>"
      ]
     },
     "execution_count": 77,
     "metadata": {},
     "output_type": "execute_result"
    }
   ],
   "source": [
    "catmodel = CatBoostClassifier(iterations=100)\n",
    "catmodel.fit(xtrain,ytrain,cat_features = categorical_var,plot=False)"
   ]
  },
  {
   "cell_type": "code",
   "execution_count": 78,
   "metadata": {},
   "outputs": [
    {
     "name": "stdout",
     "output_type": "stream",
     "text": [
      "\n",
      "Training Accuracy :  0.9903651115618661\n",
      "\n",
      "Testing Accuracy :  0.9655870445344129\n"
     ]
    }
   ],
   "source": [
    "# Accuracy on Training \n",
    "predictions_train = catmodel.predict(xtrain)\n",
    "print(\"\\nTraining Accuracy : \", accuracy_score(ytrain,predictions_train))\n",
    "# Accuracy on Testing\n",
    "predictions_test = catmodel.predict(xtest)\n",
    "print(\"\\nTesting Accuracy : \", accuracy_score(ytest,predictions_test))"
   ]
  },
  {
   "cell_type": "markdown",
   "metadata": {},
   "source": [
    "# Naive Bayes"
   ]
  },
  {
   "cell_type": "code",
   "execution_count": 89,
   "metadata": {},
   "outputs": [
    {
     "data": {
      "text/plain": [
       "MultinomialNB()"
      ]
     },
     "execution_count": 89,
     "metadata": {},
     "output_type": "execute_result"
    }
   ],
   "source": [
    "from sklearn.naive_bayes import MultinomialNB\n",
    "nbmodel = MultinomialNB()\n",
    "nbmodel.fit(xtrain,ytrain)"
   ]
  },
  {
   "cell_type": "code",
   "execution_count": 90,
   "metadata": {},
   "outputs": [
    {
     "name": "stdout",
     "output_type": "stream",
     "text": [
      "\n",
      "Training Accuracy :  0.5669371196754563\n",
      "\n",
      "Testing Accuracy :  0.562753036437247\n"
     ]
    }
   ],
   "source": [
    "# Accuracy on Training \n",
    "predictions_train = nbmodel.predict(xtrain)\n",
    "print(\"\\nTraining Accuracy : \", accuracy_score(ytrain,predictions_train))\n",
    "# Accuracy on Testing\n",
    "predictions_test = nbmodel.predict(xtest)\n",
    "print(\"\\nTesting Accuracy : \", accuracy_score(ytest,predictions_test))"
   ]
  },
  {
   "cell_type": "markdown",
   "metadata": {},
   "source": [
    "# XGboost"
   ]
  },
  {
   "cell_type": "code",
   "execution_count": 79,
   "metadata": {},
   "outputs": [
    {
     "name": "stderr",
     "output_type": "stream",
     "text": [
      "F:\\New_Anaconda_Inst_Loc\\lib\\site-packages\\xgboost\\sklearn.py:1146: UserWarning: The use of label encoder in XGBClassifier is deprecated and will be removed in a future release. To remove this warning, do the following: 1) Pass option use_label_encoder=False when constructing XGBClassifier object; and 2) Encode your labels (y) as integers starting with 0, i.e. 0, 1, 2, ..., [num_class - 1].\n",
      "  warnings.warn(label_encoder_deprecation_msg, UserWarning)\n"
     ]
    },
    {
     "name": "stdout",
     "output_type": "stream",
     "text": [
      "[09:26:33] WARNING: C:/Users/Administrator/workspace/xgboost-win64_release_1.4.0/src/learner.cc:1095: Starting in XGBoost 1.3.0, the default evaluation metric used with the objective 'binary:logistic' was changed from 'error' to 'logloss'. Explicitly set eval_metric if you'd like to restore the old behavior.\n",
      "\n",
      "Training Accuracy : 1.0\n",
      "\n",
      "Testing Accuracy : 0.9574898785425101\n",
      "\n",
      "Repeated 5-Folds Cross-Validation for Model Evaluation :\n",
      "\n",
      "Mean Accuracy: 0.962 (0.008)\n"
     ]
    }
   ],
   "source": [
    "classifier=XGBClassifier()\n",
    "classifier.fit(xtrain,ytrain)\n",
    "predictions_train =classifier.predict(xtrain)\n",
    "acc=accuracy_score(ytrain, predictions_train)\n",
    "print('\\nTraining Accuracy :', acc)\n",
    "predictions_test = classifier.predict(xtest)\n",
    "accc=accuracy_score(ytest, predictions_test)\n",
    "print('\\nTesting Accuracy :', accc)\n",
    "\n",
    "# define the evaluation method\n",
    "print('\\nRepeated 5-Folds Cross-Validation for Model Evaluation :\\n')\n",
    "cv = RepeatedStratifiedKFold(n_splits = 5, n_repeats=3, random_state=1)\n",
    "# evaluate the model on the dataset\n",
    "n_scores = cross_val_score(classifier, x, y, scoring='accuracy', cv=cv, n_jobs=-1)\n",
    "# report performance\n",
    "print('Mean Accuracy: %.3f (%.3f)' % (mean(n_scores), std(n_scores)))"
   ]
  },
  {
   "cell_type": "markdown",
   "metadata": {},
   "source": [
    "# Undersampling"
   ]
  },
  {
   "cell_type": "markdown",
   "metadata": {},
   "source": [
    "# Method-1"
   ]
  },
  {
   "cell_type": "code",
   "execution_count": 118,
   "metadata": {},
   "outputs": [
    {
     "data": {
      "text/plain": [
       "(1470, 34)"
      ]
     },
     "execution_count": 118,
     "metadata": {},
     "output_type": "execute_result"
    }
   ],
   "source": [
    "xx.shape"
   ]
  },
  {
   "cell_type": "code",
   "execution_count": 119,
   "metadata": {},
   "outputs": [
    {
     "name": "stdout",
     "output_type": "stream",
     "text": [
      "Resampled dataset shape Counter({0: 237, 1: 237})\n"
     ]
    }
   ],
   "source": [
    "from imblearn.under_sampling import RandomUnderSampler \n",
    "rus = RandomUnderSampler(random_state=42)\n",
    "x_res, y_res = rus.fit_resample(x, y)\n",
    "print('Resampled dataset shape %s' % Counter(y_res))"
   ]
  },
  {
   "cell_type": "code",
   "execution_count": 123,
   "metadata": {},
   "outputs": [
    {
     "data": {
      "text/plain": [
       "(474, 34)"
      ]
     },
     "execution_count": 123,
     "metadata": {},
     "output_type": "execute_result"
    }
   ],
   "source": [
    "x_res.shape"
   ]
  },
  {
   "cell_type": "code",
   "execution_count": 124,
   "metadata": {},
   "outputs": [
    {
     "data": {
      "text/plain": [
       "(474,)"
      ]
     },
     "execution_count": 124,
     "metadata": {},
     "output_type": "execute_result"
    }
   ],
   "source": [
    "y_res.shape"
   ]
  },
  {
   "cell_type": "code",
   "execution_count": 125,
   "metadata": {},
   "outputs": [],
   "source": [
    "#Split train-test data\n",
    "xtrain, xtest, ytrain, ytest = train_test_split(x_res, y_res,test_size=0.20,random_state=2021)"
   ]
  },
  {
   "cell_type": "markdown",
   "metadata": {},
   "source": [
    "# Model Apply"
   ]
  },
  {
   "cell_type": "code",
   "execution_count": 126,
   "metadata": {},
   "outputs": [
    {
     "name": "stdout",
     "output_type": "stream",
     "text": [
      "\n",
      "Training Accuracy :  1.0\n",
      "\n",
      "Testing Accuracy :  0.7789473684210526\n"
     ]
    }
   ],
   "source": [
    "# RandomForestClassifier\n",
    "from sklearn.ensemble import RandomForestClassifier\n",
    "rnf = RandomForestClassifier(n_estimators=125, random_state=50)\n",
    "rnf.fit(xtrain, ytrain)\n",
    "\n",
    "# Accuracy on Training \n",
    "predictions_train = rnf.predict(xtrain)\n",
    "print(\"\\nTraining Accuracy : \", accuracy_score(ytrain,predictions_train))\n",
    "# Accuracy on Testing\n",
    "predictions_test = rnf.predict(xtest)\n",
    "print(\"\\nTesting Accuracy : \", accuracy_score(ytest,predictions_test))"
   ]
  },
  {
   "cell_type": "markdown",
   "metadata": {},
   "source": [
    "# Method-2"
   ]
  },
  {
   "cell_type": "code",
   "execution_count": 127,
   "metadata": {},
   "outputs": [
    {
     "name": "stdout",
     "output_type": "stream",
     "text": [
      "Random under-sampling:\n",
      "1    237\n",
      "0    237\n",
      "Name: Attrition, dtype: int64\n",
      "AxesSubplot(0.125,0.125;0.775x0.755)\n"
     ]
    },
    {
     "data": {
      "image/png": "[encoded data removed]",
      "text/plain": [
       "<Figure size 432x288 with 1 Axes>"
      ]
     },
     "metadata": {
      "needs_background": "light"
     },
     "output_type": "display_data"
    }
   ],
   "source": [
    "# Class count\n",
    "count_class_0, count_class_1 = df.Attrition.value_counts()\n",
    "\n",
    "# Divide by class\n",
    "df_class_0 = df[df['Attrition'] == 0]\n",
    "df_class_1 = df[df['Attrition'] == 1]\n",
    "\n",
    "# Undersample 0-class and concat the DataFrames of both class\n",
    "df_class_0_under = df_class_0.sample(count_class_1)\n",
    "df_test_under = pd.concat([df_class_0_under, df_class_1], axis=0)\n",
    "\n",
    "print('Random under-sampling:')\n",
    "print(df_test_under.Attrition.value_counts())\n",
    "print(df_test_under.Attrition.value_counts().plot(kind='bar', title='count (Attrition)'))"
   ]
  },
  {
   "cell_type": "code",
   "execution_count": 128,
   "metadata": {},
   "outputs": [
    {
     "data": {
      "text/plain": [
       "(474, 35)"
      ]
     },
     "execution_count": 128,
     "metadata": {},
     "output_type": "execute_result"
    }
   ],
   "source": [
    "df_test_under.shape"
   ]
  },
  {
   "cell_type": "code",
   "execution_count": 129,
   "metadata": {},
   "outputs": [],
   "source": [
    "x = df_test_under.drop('Attrition',axis='columns')\n",
    "y = df_test_under['Attrition']\n",
    "\n",
    "xtrain, xtest, ytrain, ytest = train_test_split(x, y, test_size=0.2, random_state=15, stratify=y)"
   ]
  },
  {
   "cell_type": "markdown",
   "metadata": {},
   "source": [
    "# Model Apply"
   ]
  },
  {
   "cell_type": "markdown",
   "metadata": {},
   "source": [
    "# RandomForestClassifier"
   ]
  },
  {
   "cell_type": "code",
   "execution_count": 136,
   "metadata": {},
   "outputs": [],
   "source": [
    "from sklearn.ensemble import RandomForestClassifier\n",
    "rnf = RandomForestClassifier(n_estimators=125, random_state=2021)"
   ]
  },
  {
   "cell_type": "code",
   "execution_count": 137,
   "metadata": {},
   "outputs": [
    {
     "data": {
      "text/plain": [
       "RandomForestClassifier(n_estimators=125, random_state=2021)"
      ]
     },
     "execution_count": 137,
     "metadata": {},
     "output_type": "execute_result"
    }
   ],
   "source": [
    "rnf.fit(xtrain, ytrain)"
   ]
  },
  {
   "cell_type": "code",
   "execution_count": 138,
   "metadata": {},
   "outputs": [
    {
     "name": "stdout",
     "output_type": "stream",
     "text": [
      "\n",
      "Training Accuracy :  1.0\n",
      "\n",
      "Testing Accuracy :  0.6736842105263158\n"
     ]
    }
   ],
   "source": [
    "# Accuracy on Training \n",
    "predictions_train = rnf.predict(xtrain)\n",
    "print(\"\\nTraining Accuracy : \", accuracy_score(ytrain,predictions_train))\n",
    "# Accuracy on Testing\n",
    "predictions_test = rnf.predict(xtest)\n",
    "print(\"\\nTesting Accuracy : \", accuracy_score(ytest,predictions_test))"
   ]
  },
  {
   "cell_type": "markdown",
   "metadata": {},
   "source": [
    "# SVM"
   ]
  },
  {
   "cell_type": "code",
   "execution_count": 103,
   "metadata": {},
   "outputs": [
    {
     "data": {
      "text/plain": [
       "SVC(gamma='auto')"
      ]
     },
     "execution_count": 103,
     "metadata": {},
     "output_type": "execute_result"
    }
   ],
   "source": [
    "svm_model = SVC(gamma = 'auto')\n",
    "svm_model.fit(xtrain,ytrain)"
   ]
  },
  {
   "cell_type": "code",
   "execution_count": 104,
   "metadata": {},
   "outputs": [
    {
     "name": "stdout",
     "output_type": "stream",
     "text": [
      "\n",
      "Training Accuracy :  1.0\n",
      "\n",
      "Testing Accuracy :  0.49473684210526314\n"
     ]
    }
   ],
   "source": [
    "# Accuracy on Training \n",
    "predictions_train = svm_model.predict(xtrain)\n",
    "print(\"\\nTraining Accuracy : \", accuracy_score(ytrain,predictions_train))\n",
    "# Accuracy on Testing\n",
    "predictions_test = svm_model.predict(xtest)\n",
    "print(\"\\nTesting Accuracy : \", accuracy_score(ytest,predictions_test))"
   ]
  },
  {
   "cell_type": "markdown",
   "metadata": {},
   "source": [
    "# Naive bayes"
   ]
  },
  {
   "cell_type": "code",
   "execution_count": 105,
   "metadata": {},
   "outputs": [
    {
     "data": {
      "text/plain": [
       "MultinomialNB()"
      ]
     },
     "execution_count": 105,
     "metadata": {},
     "output_type": "execute_result"
    }
   ],
   "source": [
    "from sklearn.naive_bayes import MultinomialNB\n",
    "nbmodel = MultinomialNB()\n",
    "nbmodel.fit(xtrain,ytrain)"
   ]
  },
  {
   "cell_type": "code",
   "execution_count": 106,
   "metadata": {},
   "outputs": [
    {
     "name": "stdout",
     "output_type": "stream",
     "text": [
      "\n",
      "Training Accuracy :  0.5461741424802111\n",
      "\n",
      "Testing Accuracy :  0.6\n"
     ]
    }
   ],
   "source": [
    "# Accuracy on Training \n",
    "predictions_train = nbmodel.predict(xtrain)\n",
    "print(\"\\nTraining Accuracy : \", accuracy_score(ytrain,predictions_train))\n",
    "# Accuracy on Testing\n",
    "predictions_test = nbmodel.predict(xtest)\n",
    "print(\"\\nTesting Accuracy : \", accuracy_score(ytest,predictions_test))"
   ]
  },
  {
   "cell_type": "markdown",
   "metadata": {},
   "source": [
    "# Logistic Regression"
   ]
  },
  {
   "cell_type": "code",
   "execution_count": 107,
   "metadata": {},
   "outputs": [
    {
     "name": "stderr",
     "output_type": "stream",
     "text": [
      "F:\\New_Anaconda_Inst_Loc\\lib\\site-packages\\sklearn\\linear_model\\_logistic.py:814: ConvergenceWarning: lbfgs failed to converge (status=1):\n",
      "STOP: TOTAL NO. of ITERATIONS REACHED LIMIT.\n",
      "\n",
      "Increase the number of iterations (max_iter) or scale the data as shown in:\n",
      "    https://scikit-learn.org/stable/modules/preprocessing.html\n",
      "Please also refer to the documentation for alternative solver options:\n",
      "    https://scikit-learn.org/stable/modules/linear_model.html#logistic-regression\n",
      "  n_iter_i = _check_optimize_result(\n"
     ]
    },
    {
     "data": {
      "text/plain": [
       "LogisticRegression()"
      ]
     },
     "execution_count": 107,
     "metadata": {},
     "output_type": "execute_result"
    }
   ],
   "source": [
    "from sklearn.linear_model import LogisticRegression\n",
    "lrmodel = LogisticRegression()\n",
    "lrmodel.fit(xtrain,ytrain)"
   ]
  },
  {
   "cell_type": "code",
   "execution_count": 62,
   "metadata": {},
   "outputs": [
    {
     "name": "stdout",
     "output_type": "stream",
     "text": [
      "\n",
      "Training Accuracy :  0.6860158311345647\n",
      "\n",
      "Testing Accuracy :  0.5789473684210527\n"
     ]
    }
   ],
   "source": [
    "# Accuracy on Training \n",
    "predictions_train = lrmodel.predict(xtrain)\n",
    "print(\"\\nTraining Accuracy : \", accuracy_score(ytrain,predictions_train))\n",
    "# Accuracy on Testing\n",
    "predictions_test = lrmodel.predict(xtest)\n",
    "print(\"\\nTesting Accuracy : \", accuracy_score(ytest,predictions_test))"
   ]
  }
 ],
 "metadata": {
  "kernelspec": {
   "display_name": "Python 3",
   "language": "python",
   "name": "python3"
  },
  "language_info": {
   "codemirror_mode": {
    "name": "ipython",
    "version": 3
   },
   "file_extension": ".py",
   "mimetype": "text/x-python",
   "name": "python",
   "nbconvert_exporter": "python",
   "pygments_lexer": "ipython3",
   "version": "3.8.5"
  }
 },
 "nbformat": 4,
 "nbformat_minor": 4
}
