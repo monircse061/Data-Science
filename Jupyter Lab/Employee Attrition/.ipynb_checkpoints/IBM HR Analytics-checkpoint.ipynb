{
 "cells": [
  {
   "cell_type": "code",
   "execution_count": 309,
   "metadata": {
    "scrolled": true
   },
   "outputs": [],
   "source": [
    "import pandas as pd\n",
    "import numpy as np\n",
    "import matplotlib.pyplot as plt\n",
    "import seaborn as sns\n",
    "%matplotlib inline\n",
    "from sklearn.model_selection import RepeatedStratifiedKFold"
   ]
  },
  {
   "cell_type": "code",
   "execution_count": 95,
   "metadata": {},
   "outputs": [],
   "source": [
    "from numpy import mean\n",
    "from numpy import std\n",
    "\n",
    "from sklearn.metrics import accuracy_score,classification_report,confusion_matrix\n",
    "import seaborn as sns\n",
    "from sklearn.model_selection import train_test_split\n",
    "from sklearn.svm import SVC\n",
    "from catboost import CatBoostClassifier\n",
    "from sklearn import preprocessing\n",
    "from sklearn.preprocessing import StandardScaler\n",
    "from sklearn.model_selection import KFold\n",
    "from sklearn.model_selection import cross_val_score\n",
    "df = pd.read_csv('G:/New 20121 Dekstop Files/thesis 2021/employee attrition dataset/employee_attrition1.csv')"
   ]
  },
  {
   "cell_type": "code",
   "execution_count": 96,
   "metadata": {},
   "outputs": [
    {
     "name": "stdout",
     "output_type": "stream",
     "text": [
      "<class 'pandas.core.frame.DataFrame'>\n",
      "RangeIndex: 1470 entries, 0 to 1469\n",
      "Data columns (total 36 columns):\n",
      " #   Column                    Non-Null Count  Dtype \n",
      "---  ------                    --------------  ----- \n",
      " 0   Age                       1470 non-null   int64 \n",
      " 1   Attrition                 1470 non-null   object\n",
      " 2   BusinessTravel            1470 non-null   object\n",
      " 3   DailyRate                 1470 non-null   int64 \n",
      " 4   Department                1470 non-null   object\n",
      " 5   DistanceFromHome          1470 non-null   int64 \n",
      " 6   Education                 1470 non-null   int64 \n",
      " 7   EducationField            1470 non-null   object\n",
      " 8   EmployeeCount             1470 non-null   int64 \n",
      " 9   EmployeeNumber            1470 non-null   int64 \n",
      " 10  EnvironmentSatisfaction   1470 non-null   int64 \n",
      " 11  Gender                    1470 non-null   object\n",
      " 12  Quit_in_3_Years           1470 non-null   int64 \n",
      " 13  HourlyRate                1470 non-null   int64 \n",
      " 14  JobInvolvement            1470 non-null   int64 \n",
      " 15  JobLevel                  1470 non-null   int64 \n",
      " 16  JobRole                   1470 non-null   object\n",
      " 17  JobSatisfaction           1470 non-null   int64 \n",
      " 18  MaritalStatus             1470 non-null   object\n",
      " 19  MonthlyIncome             1470 non-null   int64 \n",
      " 20  MonthlyRate               1470 non-null   int64 \n",
      " 21  NumCompaniesWorked        1470 non-null   int64 \n",
      " 22  Over18                    1470 non-null   object\n",
      " 23  OverTime                  1470 non-null   object\n",
      " 24  PercentSalaryHike         1470 non-null   int64 \n",
      " 25  PerformanceRating         1470 non-null   int64 \n",
      " 26  RelationshipSatisfaction  1470 non-null   int64 \n",
      " 27  StandardHours             1470 non-null   int64 \n",
      " 28  StockOptionLevel          1470 non-null   int64 \n",
      " 29  TotalWorkingYears         1470 non-null   int64 \n",
      " 30  TrainingTimesLastYear     1470 non-null   int64 \n",
      " 31  WorkLifeBalance           1470 non-null   int64 \n",
      " 32  YearsAtCompany            1470 non-null   int64 \n",
      " 33  YearsInCurrentRole        1470 non-null   int64 \n",
      " 34  YearsSinceLastPromotion   1470 non-null   int64 \n",
      " 35  YearsWithCurrManager      1470 non-null   int64 \n",
      "dtypes: int64(27), object(9)\n",
      "memory usage: 413.6+ KB\n"
     ]
    }
   ],
   "source": [
    "df.info()"
   ]
  },
  {
   "cell_type": "code",
   "execution_count": 97,
   "metadata": {},
   "outputs": [
    {
     "name": "stdout",
     "output_type": "stream",
     "text": [
      "Age: Number of unique values 43\n",
      "==========================================================\n",
      "Attrition: Number of unique values 2\n",
      "==========================================================\n",
      "BusinessTravel: Number of unique values 3\n",
      "==========================================================\n",
      "DailyRate: Number of unique values 886\n",
      "==========================================================\n",
      "Department: Number of unique values 3\n",
      "==========================================================\n",
      "DistanceFromHome: Number of unique values 29\n",
      "==========================================================\n",
      "Education: Number of unique values 5\n",
      "==========================================================\n",
      "EducationField: Number of unique values 6\n",
      "==========================================================\n",
      "EmployeeCount: Number of unique values 1\n",
      "==========================================================\n",
      "EmployeeNumber: Number of unique values 1470\n",
      "==========================================================\n",
      "EnvironmentSatisfaction: Number of unique values 4\n",
      "==========================================================\n",
      "Gender: Number of unique values 2\n",
      "==========================================================\n",
      "Quit_in_3_Years: Number of unique values 2\n",
      "==========================================================\n",
      "HourlyRate: Number of unique values 71\n",
      "==========================================================\n",
      "JobInvolvement: Number of unique values 4\n",
      "==========================================================\n",
      "JobLevel: Number of unique values 5\n",
      "==========================================================\n",
      "JobRole: Number of unique values 9\n",
      "==========================================================\n",
      "JobSatisfaction: Number of unique values 4\n",
      "==========================================================\n",
      "MaritalStatus: Number of unique values 3\n",
      "==========================================================\n",
      "MonthlyIncome: Number of unique values 1349\n",
      "==========================================================\n",
      "MonthlyRate: Number of unique values 1427\n",
      "==========================================================\n",
      "NumCompaniesWorked: Number of unique values 10\n",
      "==========================================================\n",
      "Over18: Number of unique values 1\n",
      "==========================================================\n",
      "OverTime: Number of unique values 2\n",
      "==========================================================\n",
      "PercentSalaryHike: Number of unique values 15\n",
      "==========================================================\n",
      "PerformanceRating: Number of unique values 2\n",
      "==========================================================\n",
      "RelationshipSatisfaction: Number of unique values 4\n",
      "==========================================================\n",
      "StandardHours: Number of unique values 1\n",
      "==========================================================\n",
      "StockOptionLevel: Number of unique values 4\n",
      "==========================================================\n",
      "TotalWorkingYears: Number of unique values 40\n",
      "==========================================================\n",
      "TrainingTimesLastYear: Number of unique values 7\n",
      "==========================================================\n",
      "WorkLifeBalance: Number of unique values 4\n",
      "==========================================================\n",
      "YearsAtCompany: Number of unique values 37\n",
      "==========================================================\n",
      "YearsInCurrentRole: Number of unique values 19\n",
      "==========================================================\n",
      "YearsSinceLastPromotion: Number of unique values 16\n",
      "==========================================================\n",
      "YearsWithCurrManager: Number of unique values 18\n",
      "==========================================================\n"
     ]
    }
   ],
   "source": [
    "for column in df.columns:\n",
    "    print(f\"{column}: Number of unique values {df[column].nunique()}\")\n",
    "    print(\"==========================================================\")"
   ]
  },
  {
   "cell_type": "markdown",
   "metadata": {},
   "source": [
    "# 'EmployeeCount', 'Over18', 'StandardHours' have only one unique values and 'EmployeeNumber' has 1470 unique values. This features aren't useful for us, So we are going to drop those columns."
   ]
  },
  {
   "cell_type": "code",
   "execution_count": 98,
   "metadata": {
    "scrolled": false
   },
   "outputs": [
    {
     "data": {
      "text/html": [
       "<div>\n",
       "<style scoped>\n",
       "    .dataframe tbody tr th:only-of-type {\n",
       "        vertical-align: middle;\n",
       "    }\n",
       "\n",
       "    .dataframe tbody tr th {\n",
       "        vertical-align: top;\n",
       "    }\n",
       "\n",
       "    .dataframe thead th {\n",
       "        text-align: right;\n",
       "    }\n",
       "</style>\n",
       "<table border=\"1\" class=\"dataframe\">\n",
       "  <thead>\n",
       "    <tr style=\"text-align: right;\">\n",
       "      <th></th>\n",
       "      <th>Age</th>\n",
       "      <th>Attrition</th>\n",
       "      <th>BusinessTravel</th>\n",
       "      <th>DailyRate</th>\n",
       "      <th>Department</th>\n",
       "      <th>DistanceFromHome</th>\n",
       "      <th>Education</th>\n",
       "      <th>EducationField</th>\n",
       "      <th>EnvironmentSatisfaction</th>\n",
       "      <th>Gender</th>\n",
       "      <th>...</th>\n",
       "      <th>PerformanceRating</th>\n",
       "      <th>RelationshipSatisfaction</th>\n",
       "      <th>StockOptionLevel</th>\n",
       "      <th>TotalWorkingYears</th>\n",
       "      <th>TrainingTimesLastYear</th>\n",
       "      <th>WorkLifeBalance</th>\n",
       "      <th>YearsAtCompany</th>\n",
       "      <th>YearsInCurrentRole</th>\n",
       "      <th>YearsSinceLastPromotion</th>\n",
       "      <th>YearsWithCurrManager</th>\n",
       "    </tr>\n",
       "  </thead>\n",
       "  <tbody>\n",
       "    <tr>\n",
       "      <th>0</th>\n",
       "      <td>41</td>\n",
       "      <td>Yes</td>\n",
       "      <td>Travel_Rarely</td>\n",
       "      <td>1102</td>\n",
       "      <td>Sales</td>\n",
       "      <td>1</td>\n",
       "      <td>2</td>\n",
       "      <td>Life Sciences</td>\n",
       "      <td>2</td>\n",
       "      <td>Female</td>\n",
       "      <td>...</td>\n",
       "      <td>3</td>\n",
       "      <td>1</td>\n",
       "      <td>0</td>\n",
       "      <td>8</td>\n",
       "      <td>0</td>\n",
       "      <td>1</td>\n",
       "      <td>6</td>\n",
       "      <td>4</td>\n",
       "      <td>0</td>\n",
       "      <td>5</td>\n",
       "    </tr>\n",
       "    <tr>\n",
       "      <th>1</th>\n",
       "      <td>49</td>\n",
       "      <td>No</td>\n",
       "      <td>Travel_Frequently</td>\n",
       "      <td>279</td>\n",
       "      <td>Research &amp; Development</td>\n",
       "      <td>8</td>\n",
       "      <td>1</td>\n",
       "      <td>Life Sciences</td>\n",
       "      <td>3</td>\n",
       "      <td>Male</td>\n",
       "      <td>...</td>\n",
       "      <td>4</td>\n",
       "      <td>4</td>\n",
       "      <td>1</td>\n",
       "      <td>10</td>\n",
       "      <td>3</td>\n",
       "      <td>3</td>\n",
       "      <td>10</td>\n",
       "      <td>7</td>\n",
       "      <td>1</td>\n",
       "      <td>7</td>\n",
       "    </tr>\n",
       "    <tr>\n",
       "      <th>2</th>\n",
       "      <td>37</td>\n",
       "      <td>Yes</td>\n",
       "      <td>Travel_Rarely</td>\n",
       "      <td>1373</td>\n",
       "      <td>Research &amp; Development</td>\n",
       "      <td>2</td>\n",
       "      <td>2</td>\n",
       "      <td>Other</td>\n",
       "      <td>4</td>\n",
       "      <td>Male</td>\n",
       "      <td>...</td>\n",
       "      <td>3</td>\n",
       "      <td>2</td>\n",
       "      <td>0</td>\n",
       "      <td>7</td>\n",
       "      <td>3</td>\n",
       "      <td>3</td>\n",
       "      <td>0</td>\n",
       "      <td>0</td>\n",
       "      <td>0</td>\n",
       "      <td>0</td>\n",
       "    </tr>\n",
       "    <tr>\n",
       "      <th>3</th>\n",
       "      <td>33</td>\n",
       "      <td>No</td>\n",
       "      <td>Travel_Frequently</td>\n",
       "      <td>1392</td>\n",
       "      <td>Research &amp; Development</td>\n",
       "      <td>3</td>\n",
       "      <td>4</td>\n",
       "      <td>Life Sciences</td>\n",
       "      <td>4</td>\n",
       "      <td>Female</td>\n",
       "      <td>...</td>\n",
       "      <td>3</td>\n",
       "      <td>3</td>\n",
       "      <td>0</td>\n",
       "      <td>8</td>\n",
       "      <td>3</td>\n",
       "      <td>3</td>\n",
       "      <td>8</td>\n",
       "      <td>7</td>\n",
       "      <td>3</td>\n",
       "      <td>0</td>\n",
       "    </tr>\n",
       "    <tr>\n",
       "      <th>4</th>\n",
       "      <td>27</td>\n",
       "      <td>No</td>\n",
       "      <td>Travel_Rarely</td>\n",
       "      <td>591</td>\n",
       "      <td>Research &amp; Development</td>\n",
       "      <td>2</td>\n",
       "      <td>1</td>\n",
       "      <td>Medical</td>\n",
       "      <td>1</td>\n",
       "      <td>Male</td>\n",
       "      <td>...</td>\n",
       "      <td>3</td>\n",
       "      <td>4</td>\n",
       "      <td>1</td>\n",
       "      <td>6</td>\n",
       "      <td>3</td>\n",
       "      <td>3</td>\n",
       "      <td>2</td>\n",
       "      <td>2</td>\n",
       "      <td>2</td>\n",
       "      <td>2</td>\n",
       "    </tr>\n",
       "    <tr>\n",
       "      <th>...</th>\n",
       "      <td>...</td>\n",
       "      <td>...</td>\n",
       "      <td>...</td>\n",
       "      <td>...</td>\n",
       "      <td>...</td>\n",
       "      <td>...</td>\n",
       "      <td>...</td>\n",
       "      <td>...</td>\n",
       "      <td>...</td>\n",
       "      <td>...</td>\n",
       "      <td>...</td>\n",
       "      <td>...</td>\n",
       "      <td>...</td>\n",
       "      <td>...</td>\n",
       "      <td>...</td>\n",
       "      <td>...</td>\n",
       "      <td>...</td>\n",
       "      <td>...</td>\n",
       "      <td>...</td>\n",
       "      <td>...</td>\n",
       "      <td>...</td>\n",
       "    </tr>\n",
       "    <tr>\n",
       "      <th>1465</th>\n",
       "      <td>36</td>\n",
       "      <td>No</td>\n",
       "      <td>Travel_Frequently</td>\n",
       "      <td>884</td>\n",
       "      <td>Research &amp; Development</td>\n",
       "      <td>23</td>\n",
       "      <td>2</td>\n",
       "      <td>Medical</td>\n",
       "      <td>3</td>\n",
       "      <td>Male</td>\n",
       "      <td>...</td>\n",
       "      <td>3</td>\n",
       "      <td>3</td>\n",
       "      <td>1</td>\n",
       "      <td>17</td>\n",
       "      <td>3</td>\n",
       "      <td>3</td>\n",
       "      <td>5</td>\n",
       "      <td>2</td>\n",
       "      <td>0</td>\n",
       "      <td>3</td>\n",
       "    </tr>\n",
       "    <tr>\n",
       "      <th>1466</th>\n",
       "      <td>39</td>\n",
       "      <td>No</td>\n",
       "      <td>Travel_Rarely</td>\n",
       "      <td>613</td>\n",
       "      <td>Research &amp; Development</td>\n",
       "      <td>6</td>\n",
       "      <td>1</td>\n",
       "      <td>Medical</td>\n",
       "      <td>4</td>\n",
       "      <td>Male</td>\n",
       "      <td>...</td>\n",
       "      <td>3</td>\n",
       "      <td>1</td>\n",
       "      <td>1</td>\n",
       "      <td>9</td>\n",
       "      <td>5</td>\n",
       "      <td>3</td>\n",
       "      <td>7</td>\n",
       "      <td>7</td>\n",
       "      <td>1</td>\n",
       "      <td>7</td>\n",
       "    </tr>\n",
       "    <tr>\n",
       "      <th>1467</th>\n",
       "      <td>27</td>\n",
       "      <td>No</td>\n",
       "      <td>Travel_Rarely</td>\n",
       "      <td>155</td>\n",
       "      <td>Research &amp; Development</td>\n",
       "      <td>4</td>\n",
       "      <td>3</td>\n",
       "      <td>Life Sciences</td>\n",
       "      <td>2</td>\n",
       "      <td>Male</td>\n",
       "      <td>...</td>\n",
       "      <td>4</td>\n",
       "      <td>2</td>\n",
       "      <td>1</td>\n",
       "      <td>6</td>\n",
       "      <td>0</td>\n",
       "      <td>3</td>\n",
       "      <td>6</td>\n",
       "      <td>2</td>\n",
       "      <td>0</td>\n",
       "      <td>3</td>\n",
       "    </tr>\n",
       "    <tr>\n",
       "      <th>1468</th>\n",
       "      <td>49</td>\n",
       "      <td>No</td>\n",
       "      <td>Travel_Frequently</td>\n",
       "      <td>1023</td>\n",
       "      <td>Sales</td>\n",
       "      <td>2</td>\n",
       "      <td>3</td>\n",
       "      <td>Medical</td>\n",
       "      <td>4</td>\n",
       "      <td>Male</td>\n",
       "      <td>...</td>\n",
       "      <td>3</td>\n",
       "      <td>4</td>\n",
       "      <td>0</td>\n",
       "      <td>17</td>\n",
       "      <td>3</td>\n",
       "      <td>2</td>\n",
       "      <td>9</td>\n",
       "      <td>6</td>\n",
       "      <td>0</td>\n",
       "      <td>8</td>\n",
       "    </tr>\n",
       "    <tr>\n",
       "      <th>1469</th>\n",
       "      <td>34</td>\n",
       "      <td>No</td>\n",
       "      <td>Travel_Rarely</td>\n",
       "      <td>628</td>\n",
       "      <td>Research &amp; Development</td>\n",
       "      <td>8</td>\n",
       "      <td>3</td>\n",
       "      <td>Medical</td>\n",
       "      <td>2</td>\n",
       "      <td>Male</td>\n",
       "      <td>...</td>\n",
       "      <td>3</td>\n",
       "      <td>1</td>\n",
       "      <td>0</td>\n",
       "      <td>6</td>\n",
       "      <td>3</td>\n",
       "      <td>4</td>\n",
       "      <td>4</td>\n",
       "      <td>3</td>\n",
       "      <td>1</td>\n",
       "      <td>2</td>\n",
       "    </tr>\n",
       "  </tbody>\n",
       "</table>\n",
       "<p>1470 rows × 32 columns</p>\n",
       "</div>"
      ],
      "text/plain": [
       "      Age Attrition     BusinessTravel  DailyRate              Department  \\\n",
       "0      41       Yes      Travel_Rarely       1102                   Sales   \n",
       "1      49        No  Travel_Frequently        279  Research & Development   \n",
       "2      37       Yes      Travel_Rarely       1373  Research & Development   \n",
       "3      33        No  Travel_Frequently       1392  Research & Development   \n",
       "4      27        No      Travel_Rarely        591  Research & Development   \n",
       "...   ...       ...                ...        ...                     ...   \n",
       "1465   36        No  Travel_Frequently        884  Research & Development   \n",
       "1466   39        No      Travel_Rarely        613  Research & Development   \n",
       "1467   27        No      Travel_Rarely        155  Research & Development   \n",
       "1468   49        No  Travel_Frequently       1023                   Sales   \n",
       "1469   34        No      Travel_Rarely        628  Research & Development   \n",
       "\n",
       "      DistanceFromHome  Education EducationField  EnvironmentSatisfaction  \\\n",
       "0                    1          2  Life Sciences                        2   \n",
       "1                    8          1  Life Sciences                        3   \n",
       "2                    2          2          Other                        4   \n",
       "3                    3          4  Life Sciences                        4   \n",
       "4                    2          1        Medical                        1   \n",
       "...                ...        ...            ...                      ...   \n",
       "1465                23          2        Medical                        3   \n",
       "1466                 6          1        Medical                        4   \n",
       "1467                 4          3  Life Sciences                        2   \n",
       "1468                 2          3        Medical                        4   \n",
       "1469                 8          3        Medical                        2   \n",
       "\n",
       "      Gender  ...  PerformanceRating  RelationshipSatisfaction  \\\n",
       "0     Female  ...                  3                         1   \n",
       "1       Male  ...                  4                         4   \n",
       "2       Male  ...                  3                         2   \n",
       "3     Female  ...                  3                         3   \n",
       "4       Male  ...                  3                         4   \n",
       "...      ...  ...                ...                       ...   \n",
       "1465    Male  ...                  3                         3   \n",
       "1466    Male  ...                  3                         1   \n",
       "1467    Male  ...                  4                         2   \n",
       "1468    Male  ...                  3                         4   \n",
       "1469    Male  ...                  3                         1   \n",
       "\n",
       "      StockOptionLevel  TotalWorkingYears TrainingTimesLastYear  \\\n",
       "0                    0                  8                     0   \n",
       "1                    1                 10                     3   \n",
       "2                    0                  7                     3   \n",
       "3                    0                  8                     3   \n",
       "4                    1                  6                     3   \n",
       "...                ...                ...                   ...   \n",
       "1465                 1                 17                     3   \n",
       "1466                 1                  9                     5   \n",
       "1467                 1                  6                     0   \n",
       "1468                 0                 17                     3   \n",
       "1469                 0                  6                     3   \n",
       "\n",
       "      WorkLifeBalance YearsAtCompany  YearsInCurrentRole  \\\n",
       "0                   1              6                   4   \n",
       "1                   3             10                   7   \n",
       "2                   3              0                   0   \n",
       "3                   3              8                   7   \n",
       "4                   3              2                   2   \n",
       "...               ...            ...                 ...   \n",
       "1465                3              5                   2   \n",
       "1466                3              7                   7   \n",
       "1467                3              6                   2   \n",
       "1468                2              9                   6   \n",
       "1469                4              4                   3   \n",
       "\n",
       "      YearsSinceLastPromotion  YearsWithCurrManager  \n",
       "0                           0                     5  \n",
       "1                           1                     7  \n",
       "2                           0                     0  \n",
       "3                           3                     0  \n",
       "4                           2                     2  \n",
       "...                       ...                   ...  \n",
       "1465                        0                     3  \n",
       "1466                        1                     7  \n",
       "1467                        0                     3  \n",
       "1468                        0                     8  \n",
       "1469                        1                     2  \n",
       "\n",
       "[1470 rows x 32 columns]"
      ]
     },
     "execution_count": 98,
     "metadata": {},
     "output_type": "execute_result"
    }
   ],
   "source": [
    "df.drop(['EmployeeCount', 'EmployeeNumber', 'Over18', 'StandardHours'], axis=\"columns\", inplace=True)\n",
    "df"
   ]
  },
  {
   "cell_type": "code",
   "execution_count": 99,
   "metadata": {},
   "outputs": [],
   "source": [
    "attrition = df[df['Attrition'] == 1]\n",
    "no_attrition = df[df['Attrition']==0]"
   ]
  },
  {
   "cell_type": "code",
   "execution_count": 100,
   "metadata": {},
   "outputs": [],
   "source": [
    "df['OverTime'] = df['OverTime'].apply(lambda x:1 if x ==\"Yes\" else 0 )"
   ]
  },
  {
   "cell_type": "markdown",
   "metadata": {},
   "source": [
    "# Categorical Features"
   ]
  },
  {
   "cell_type": "code",
   "execution_count": 101,
   "metadata": {},
   "outputs": [
    {
     "name": "stdout",
     "output_type": "stream",
     "text": [
      "Attrition : ['Yes' 'No']\n",
      "No     1233\n",
      "Yes     237\n",
      "Name: Attrition, dtype: int64\n",
      "====================================\n",
      "BusinessTravel : ['Travel_Rarely' 'Travel_Frequently' 'Non-Travel']\n",
      "Travel_Rarely        1043\n",
      "Travel_Frequently     277\n",
      "Non-Travel            150\n",
      "Name: BusinessTravel, dtype: int64\n",
      "====================================\n",
      "Department : ['Sales' 'Research & Development' 'Human Resources']\n",
      "Research & Development    961\n",
      "Sales                     446\n",
      "Human Resources            63\n",
      "Name: Department, dtype: int64\n",
      "====================================\n",
      "EducationField : ['Life Sciences' 'Other' 'Medical' 'Marketing' 'Technical Degree'\n",
      " 'Human Resources']\n",
      "Life Sciences       606\n",
      "Medical             464\n",
      "Marketing           159\n",
      "Technical Degree    132\n",
      "Other                82\n",
      "Human Resources      27\n",
      "Name: EducationField, dtype: int64\n",
      "====================================\n",
      "Gender : ['Female' 'Male']\n",
      "Male      882\n",
      "Female    588\n",
      "Name: Gender, dtype: int64\n",
      "====================================\n",
      "JobRole : ['Sales Executive' 'Research Scientist' 'Laboratory Technician'\n",
      " 'Manufacturing Director' 'Healthcare Representative' 'Manager'\n",
      " 'Sales Representative' 'Research Director' 'Human Resources']\n",
      "Sales Executive              326\n",
      "Research Scientist           292\n",
      "Laboratory Technician        259\n",
      "Manufacturing Director       145\n",
      "Healthcare Representative    131\n",
      "Manager                      102\n",
      "Sales Representative          83\n",
      "Research Director             80\n",
      "Human Resources               52\n",
      "Name: JobRole, dtype: int64\n",
      "====================================\n",
      "MaritalStatus : ['Single' 'Married' 'Divorced']\n",
      "Married     673\n",
      "Single      470\n",
      "Divorced    327\n",
      "Name: MaritalStatus, dtype: int64\n",
      "====================================\n"
     ]
    }
   ],
   "source": [
    "object_col = []\n",
    "for column in df.columns:\n",
    "    if df[column].dtype == object and len(df[column].unique()) <= 30:\n",
    "        object_col.append(column)\n",
    "        print(f\"{column} : {df[column].unique()}\")\n",
    "        print(df[column].value_counts())\n",
    "        print(\"====================================\")\n",
    "object_col.remove('Attrition')"
   ]
  },
  {
   "cell_type": "code",
   "execution_count": 102,
   "metadata": {},
   "outputs": [],
   "source": [
    "df['Attrition'].replace({'Yes':1,'No':0},inplace = True)"
   ]
  },
  {
   "cell_type": "markdown",
   "metadata": {},
   "source": [
    "# Numerical Features"
   ]
  },
  {
   "cell_type": "code",
   "execution_count": 103,
   "metadata": {},
   "outputs": [
    {
     "name": "stdout",
     "output_type": "stream",
     "text": [
      "Attrition : [1 0]\n",
      "====================================\n",
      "DistanceFromHome : [ 1  8  2  3 24 23 27 16 15 26 19 21  5 11  9  7  6 10  4 25 12 18 29 22\n",
      " 14 20 28 17 13]\n",
      "====================================\n",
      "Education : [2 1 4 3 5]\n",
      "====================================\n",
      "EnvironmentSatisfaction : [2 3 4 1]\n",
      "====================================\n",
      "Quit_in_3_Years : [1 0]\n",
      "====================================\n",
      "JobInvolvement : [3 2 4 1]\n",
      "====================================\n",
      "JobLevel : [2 1 3 4 5]\n",
      "====================================\n",
      "JobSatisfaction : [4 2 3 1]\n",
      "====================================\n",
      "NumCompaniesWorked : [8 1 6 9 0 4 5 2 7 3]\n",
      "====================================\n",
      "OverTime : [1 0]\n",
      "====================================\n",
      "PercentSalaryHike : [11 23 15 12 13 20 22 21 17 14 16 18 19 24 25]\n",
      "====================================\n",
      "PerformanceRating : [3 4]\n",
      "====================================\n",
      "RelationshipSatisfaction : [1 4 2 3]\n",
      "====================================\n",
      "StockOptionLevel : [0 1 3 2]\n",
      "====================================\n",
      "TrainingTimesLastYear : [0 3 2 5 1 4 6]\n",
      "====================================\n",
      "WorkLifeBalance : [1 3 2 4]\n",
      "====================================\n",
      "YearsInCurrentRole : [ 4  7  0  2  5  9  8  3  6 13  1 15 14 16 11 10 12 18 17]\n",
      "====================================\n",
      "YearsSinceLastPromotion : [ 0  1  3  2  7  4  8  6  5 15  9 13 12 10 11 14]\n",
      "====================================\n",
      "YearsWithCurrManager : [ 5  7  0  2  6  8  3 11 17  1  4 12  9 10 15 13 16 14]\n",
      "====================================\n"
     ]
    }
   ],
   "source": [
    "disc_col = []\n",
    "for column in df.columns:\n",
    "    if df[column].dtypes != object and df[column].nunique() < 30:\n",
    "        print(f\"{column} : {df[column].unique()}\")\n",
    "        disc_col.append(column)\n",
    "        print(\"====================================\")\n",
    "disc_col.remove('Attrition')"
   ]
  },
  {
   "cell_type": "code",
   "execution_count": 104,
   "metadata": {},
   "outputs": [
    {
     "name": "stdout",
     "output_type": "stream",
     "text": [
      "Age : Minimum: 18, Maximum: 60\n",
      "====================================\n",
      "DailyRate : Minimum: 102, Maximum: 1499\n",
      "====================================\n",
      "HourlyRate : Minimum: 30, Maximum: 100\n",
      "====================================\n",
      "MonthlyIncome : Minimum: 1009, Maximum: 19999\n",
      "====================================\n",
      "MonthlyRate : Minimum: 2094, Maximum: 26999\n",
      "====================================\n",
      "TotalWorkingYears : Minimum: 0, Maximum: 40\n",
      "====================================\n",
      "YearsAtCompany : Minimum: 0, Maximum: 40\n",
      "====================================\n"
     ]
    }
   ],
   "source": [
    "cont_col = []\n",
    "for column in df.columns:\n",
    "    if df[column].dtypes != object and df[column].nunique() > 30:\n",
    "        print(f\"{column} : Minimum: {df[column].min()}, Maximum: {df[column].max()}\")\n",
    "        cont_col.append(column)\n",
    "        print(\"====================================\")"
   ]
  },
  {
   "cell_type": "markdown",
   "metadata": {},
   "source": [
    "# 📉 Visualization of Categorical Features"
   ]
  },
  {
   "cell_type": "code",
   "execution_count": 105,
   "metadata": {},
   "outputs": [],
   "source": [
    "def categorical_column_viz(col_name):\n",
    "    \n",
    "    f,ax = plt.subplots(1,2, figsize=(10,6))\n",
    "  \n",
    "    # Count Plot\n",
    "    df[col_name].value_counts().plot.bar(cmap='Set2',ax=ax[0])\n",
    "    ax[1].set_title(f'Number of Employee by {col_name}')\n",
    "    ax[1].set_ylabel('Count')\n",
    "    ax[1].set_xlabel(f'{col_name}')\n",
    "    \n",
    "    # Attrition Count per factors\n",
    "    sns.countplot(col_name, hue='Attrition',data=df, ax=ax[1], palette='Set2')\n",
    "    ax[1].set_title(f'Attrition by {col_name}')\n",
    "    ax[1].set_xlabel(f'{col_name}')\n",
    "    ax[1].set_ylabel('Count')\n",
    "plt.show()"
   ]
  },
  {
   "cell_type": "code",
   "execution_count": 106,
   "metadata": {},
   "outputs": [
    {
     "name": "stderr",
     "output_type": "stream",
     "text": [
      "F:\\New_Anaconda_Inst_Loc\\lib\\site-packages\\seaborn\\_decorators.py:36: FutureWarning: Pass the following variable as a keyword arg: x. From version 0.12, the only valid positional argument will be `data`, and passing other arguments without an explicit keyword will result in an error or misinterpretation.\n",
      "  warnings.warn(\n"
     ]
    },
    {
     "data": {
      "image/png": "[encoded data removed]",
      "text/plain": [
       "<Figure size 720x432 with 2 Axes>"
      ]
     },
     "metadata": {
      "needs_background": "light"
     },
     "output_type": "display_data"
    }
   ],
   "source": [
    "categorical_column_viz('Department')"
   ]
  },
  {
   "cell_type": "markdown",
   "metadata": {},
   "source": [
    "# 📉 Visualization of Numerical Features"
   ]
  },
  {
   "cell_type": "code",
   "execution_count": 107,
   "metadata": {},
   "outputs": [],
   "source": [
    "def numerical_column_viz(col_name):\n",
    "    f,ax = plt.subplots(1,2, figsize=(18,6))\n",
    "    sns.kdeplot(attrition[col_name], label='Employee who left',ax=ax[0], shade=True, color='palegreen')\n",
    "    sns.kdeplot(no_attrition[col_name], label='Employee who stayed', ax=ax[0], shade=True, color='salmon')\n",
    "    \n",
    "    sns.boxplot(y=col_name, x='Attrition',data=df, palette='Set3', ax=ax[1])"
   ]
  },
  {
   "cell_type": "code",
   "execution_count": 108,
   "metadata": {},
   "outputs": [
    {
     "data": {
      "image/png": "[encoded data removed]",
      "text/plain": [
       "<Figure size 1296x432 with 2 Axes>"
      ]
     },
     "metadata": {
      "needs_background": "light"
     },
     "output_type": "display_data"
    }
   ],
   "source": [
    "numerical_column_viz(\"Age\")"
   ]
  },
  {
   "cell_type": "code",
   "execution_count": 109,
   "metadata": {
    "scrolled": true
   },
   "outputs": [
    {
     "data": {
      "image/png": "[encoded data removed]",
      "text/plain": [
       "<Figure size 1296x432 with 2 Axes>"
      ]
     },
     "metadata": {
      "needs_background": "light"
     },
     "output_type": "display_data"
    }
   ],
   "source": [
    "numerical_column_viz(\"DailyRate\")"
   ]
  },
  {
   "cell_type": "markdown",
   "metadata": {},
   "source": [
    "# Assign a new column named Total_Satisfaction"
   ]
  },
  {
   "cell_type": "code",
   "execution_count": 110,
   "metadata": {},
   "outputs": [],
   "source": [
    "df['Total_Satisfaction'] = (df['EnvironmentSatisfaction'] + \n",
    "                            df['JobInvolvement'] + \n",
    "                            df['JobSatisfaction'] + \n",
    "                            df['RelationshipSatisfaction'] +\n",
    "                            df['WorkLifeBalance']+\n",
    "                            df['YearsWithCurrManager']+\n",
    "                            df['YearsInCurrentRole']) /7 \n",
    "\n",
    "# Drop Columns\n",
    "df.drop(['EnvironmentSatisfaction','JobInvolvement','JobSatisfaction','RelationshipSatisfaction','WorkLifeBalance','YearsWithCurrManager','YearsInCurrentRole'], axis=1, inplace=True)"
   ]
  },
  {
   "cell_type": "code",
   "execution_count": 111,
   "metadata": {},
   "outputs": [
    {
     "data": {
      "text/html": [
       "<div>\n",
       "<style scoped>\n",
       "    .dataframe tbody tr th:only-of-type {\n",
       "        vertical-align: middle;\n",
       "    }\n",
       "\n",
       "    .dataframe tbody tr th {\n",
       "        vertical-align: top;\n",
       "    }\n",
       "\n",
       "    .dataframe thead th {\n",
       "        text-align: right;\n",
       "    }\n",
       "</style>\n",
       "<table border=\"1\" class=\"dataframe\">\n",
       "  <thead>\n",
       "    <tr style=\"text-align: right;\">\n",
       "      <th></th>\n",
       "      <th>Age</th>\n",
       "      <th>Attrition</th>\n",
       "      <th>BusinessTravel</th>\n",
       "      <th>DailyRate</th>\n",
       "      <th>Department</th>\n",
       "      <th>DistanceFromHome</th>\n",
       "      <th>Education</th>\n",
       "      <th>EducationField</th>\n",
       "      <th>Gender</th>\n",
       "      <th>Quit_in_3_Years</th>\n",
       "      <th>...</th>\n",
       "      <th>NumCompaniesWorked</th>\n",
       "      <th>OverTime</th>\n",
       "      <th>PercentSalaryHike</th>\n",
       "      <th>PerformanceRating</th>\n",
       "      <th>StockOptionLevel</th>\n",
       "      <th>TotalWorkingYears</th>\n",
       "      <th>TrainingTimesLastYear</th>\n",
       "      <th>YearsAtCompany</th>\n",
       "      <th>YearsSinceLastPromotion</th>\n",
       "      <th>Total_Satisfaction</th>\n",
       "    </tr>\n",
       "  </thead>\n",
       "  <tbody>\n",
       "    <tr>\n",
       "      <th>0</th>\n",
       "      <td>41</td>\n",
       "      <td>1</td>\n",
       "      <td>Travel_Rarely</td>\n",
       "      <td>1102</td>\n",
       "      <td>Sales</td>\n",
       "      <td>1</td>\n",
       "      <td>2</td>\n",
       "      <td>Life Sciences</td>\n",
       "      <td>Female</td>\n",
       "      <td>1</td>\n",
       "      <td>...</td>\n",
       "      <td>8</td>\n",
       "      <td>1</td>\n",
       "      <td>11</td>\n",
       "      <td>3</td>\n",
       "      <td>0</td>\n",
       "      <td>8</td>\n",
       "      <td>0</td>\n",
       "      <td>6</td>\n",
       "      <td>0</td>\n",
       "      <td>2.857143</td>\n",
       "    </tr>\n",
       "    <tr>\n",
       "      <th>1</th>\n",
       "      <td>49</td>\n",
       "      <td>0</td>\n",
       "      <td>Travel_Frequently</td>\n",
       "      <td>279</td>\n",
       "      <td>Research &amp; Development</td>\n",
       "      <td>8</td>\n",
       "      <td>1</td>\n",
       "      <td>Life Sciences</td>\n",
       "      <td>Male</td>\n",
       "      <td>1</td>\n",
       "      <td>...</td>\n",
       "      <td>1</td>\n",
       "      <td>0</td>\n",
       "      <td>23</td>\n",
       "      <td>4</td>\n",
       "      <td>1</td>\n",
       "      <td>10</td>\n",
       "      <td>3</td>\n",
       "      <td>10</td>\n",
       "      <td>1</td>\n",
       "      <td>4.000000</td>\n",
       "    </tr>\n",
       "    <tr>\n",
       "      <th>2</th>\n",
       "      <td>37</td>\n",
       "      <td>1</td>\n",
       "      <td>Travel_Rarely</td>\n",
       "      <td>1373</td>\n",
       "      <td>Research &amp; Development</td>\n",
       "      <td>2</td>\n",
       "      <td>2</td>\n",
       "      <td>Other</td>\n",
       "      <td>Male</td>\n",
       "      <td>1</td>\n",
       "      <td>...</td>\n",
       "      <td>6</td>\n",
       "      <td>1</td>\n",
       "      <td>15</td>\n",
       "      <td>3</td>\n",
       "      <td>0</td>\n",
       "      <td>7</td>\n",
       "      <td>3</td>\n",
       "      <td>0</td>\n",
       "      <td>0</td>\n",
       "      <td>2.000000</td>\n",
       "    </tr>\n",
       "    <tr>\n",
       "      <th>3</th>\n",
       "      <td>33</td>\n",
       "      <td>0</td>\n",
       "      <td>Travel_Frequently</td>\n",
       "      <td>1392</td>\n",
       "      <td>Research &amp; Development</td>\n",
       "      <td>3</td>\n",
       "      <td>4</td>\n",
       "      <td>Life Sciences</td>\n",
       "      <td>Female</td>\n",
       "      <td>1</td>\n",
       "      <td>...</td>\n",
       "      <td>1</td>\n",
       "      <td>1</td>\n",
       "      <td>11</td>\n",
       "      <td>3</td>\n",
       "      <td>0</td>\n",
       "      <td>8</td>\n",
       "      <td>3</td>\n",
       "      <td>8</td>\n",
       "      <td>3</td>\n",
       "      <td>3.285714</td>\n",
       "    </tr>\n",
       "    <tr>\n",
       "      <th>4</th>\n",
       "      <td>27</td>\n",
       "      <td>0</td>\n",
       "      <td>Travel_Rarely</td>\n",
       "      <td>591</td>\n",
       "      <td>Research &amp; Development</td>\n",
       "      <td>2</td>\n",
       "      <td>1</td>\n",
       "      <td>Medical</td>\n",
       "      <td>Male</td>\n",
       "      <td>1</td>\n",
       "      <td>...</td>\n",
       "      <td>9</td>\n",
       "      <td>0</td>\n",
       "      <td>12</td>\n",
       "      <td>3</td>\n",
       "      <td>1</td>\n",
       "      <td>6</td>\n",
       "      <td>3</td>\n",
       "      <td>2</td>\n",
       "      <td>2</td>\n",
       "      <td>2.428571</td>\n",
       "    </tr>\n",
       "    <tr>\n",
       "      <th>...</th>\n",
       "      <td>...</td>\n",
       "      <td>...</td>\n",
       "      <td>...</td>\n",
       "      <td>...</td>\n",
       "      <td>...</td>\n",
       "      <td>...</td>\n",
       "      <td>...</td>\n",
       "      <td>...</td>\n",
       "      <td>...</td>\n",
       "      <td>...</td>\n",
       "      <td>...</td>\n",
       "      <td>...</td>\n",
       "      <td>...</td>\n",
       "      <td>...</td>\n",
       "      <td>...</td>\n",
       "      <td>...</td>\n",
       "      <td>...</td>\n",
       "      <td>...</td>\n",
       "      <td>...</td>\n",
       "      <td>...</td>\n",
       "      <td>...</td>\n",
       "    </tr>\n",
       "    <tr>\n",
       "      <th>1465</th>\n",
       "      <td>36</td>\n",
       "      <td>0</td>\n",
       "      <td>Travel_Frequently</td>\n",
       "      <td>884</td>\n",
       "      <td>Research &amp; Development</td>\n",
       "      <td>23</td>\n",
       "      <td>2</td>\n",
       "      <td>Medical</td>\n",
       "      <td>Male</td>\n",
       "      <td>1</td>\n",
       "      <td>...</td>\n",
       "      <td>4</td>\n",
       "      <td>0</td>\n",
       "      <td>17</td>\n",
       "      <td>3</td>\n",
       "      <td>1</td>\n",
       "      <td>17</td>\n",
       "      <td>3</td>\n",
       "      <td>5</td>\n",
       "      <td>0</td>\n",
       "      <td>3.142857</td>\n",
       "    </tr>\n",
       "    <tr>\n",
       "      <th>1466</th>\n",
       "      <td>39</td>\n",
       "      <td>0</td>\n",
       "      <td>Travel_Rarely</td>\n",
       "      <td>613</td>\n",
       "      <td>Research &amp; Development</td>\n",
       "      <td>6</td>\n",
       "      <td>1</td>\n",
       "      <td>Medical</td>\n",
       "      <td>Male</td>\n",
       "      <td>1</td>\n",
       "      <td>...</td>\n",
       "      <td>4</td>\n",
       "      <td>0</td>\n",
       "      <td>15</td>\n",
       "      <td>3</td>\n",
       "      <td>1</td>\n",
       "      <td>9</td>\n",
       "      <td>5</td>\n",
       "      <td>7</td>\n",
       "      <td>1</td>\n",
       "      <td>3.571429</td>\n",
       "    </tr>\n",
       "    <tr>\n",
       "      <th>1467</th>\n",
       "      <td>27</td>\n",
       "      <td>0</td>\n",
       "      <td>Travel_Rarely</td>\n",
       "      <td>155</td>\n",
       "      <td>Research &amp; Development</td>\n",
       "      <td>4</td>\n",
       "      <td>3</td>\n",
       "      <td>Life Sciences</td>\n",
       "      <td>Male</td>\n",
       "      <td>1</td>\n",
       "      <td>...</td>\n",
       "      <td>1</td>\n",
       "      <td>1</td>\n",
       "      <td>20</td>\n",
       "      <td>4</td>\n",
       "      <td>1</td>\n",
       "      <td>6</td>\n",
       "      <td>0</td>\n",
       "      <td>6</td>\n",
       "      <td>0</td>\n",
       "      <td>2.571429</td>\n",
       "    </tr>\n",
       "    <tr>\n",
       "      <th>1468</th>\n",
       "      <td>49</td>\n",
       "      <td>0</td>\n",
       "      <td>Travel_Frequently</td>\n",
       "      <td>1023</td>\n",
       "      <td>Sales</td>\n",
       "      <td>2</td>\n",
       "      <td>3</td>\n",
       "      <td>Medical</td>\n",
       "      <td>Male</td>\n",
       "      <td>1</td>\n",
       "      <td>...</td>\n",
       "      <td>2</td>\n",
       "      <td>0</td>\n",
       "      <td>14</td>\n",
       "      <td>3</td>\n",
       "      <td>0</td>\n",
       "      <td>17</td>\n",
       "      <td>3</td>\n",
       "      <td>9</td>\n",
       "      <td>0</td>\n",
       "      <td>4.000000</td>\n",
       "    </tr>\n",
       "    <tr>\n",
       "      <th>1469</th>\n",
       "      <td>34</td>\n",
       "      <td>0</td>\n",
       "      <td>Travel_Rarely</td>\n",
       "      <td>628</td>\n",
       "      <td>Research &amp; Development</td>\n",
       "      <td>8</td>\n",
       "      <td>3</td>\n",
       "      <td>Medical</td>\n",
       "      <td>Male</td>\n",
       "      <td>1</td>\n",
       "      <td>...</td>\n",
       "      <td>2</td>\n",
       "      <td>0</td>\n",
       "      <td>12</td>\n",
       "      <td>3</td>\n",
       "      <td>0</td>\n",
       "      <td>6</td>\n",
       "      <td>3</td>\n",
       "      <td>4</td>\n",
       "      <td>1</td>\n",
       "      <td>2.714286</td>\n",
       "    </tr>\n",
       "  </tbody>\n",
       "</table>\n",
       "<p>1470 rows × 26 columns</p>\n",
       "</div>"
      ],
      "text/plain": [
       "      Age  Attrition     BusinessTravel  DailyRate              Department  \\\n",
       "0      41          1      Travel_Rarely       1102                   Sales   \n",
       "1      49          0  Travel_Frequently        279  Research & Development   \n",
       "2      37          1      Travel_Rarely       1373  Research & Development   \n",
       "3      33          0  Travel_Frequently       1392  Research & Development   \n",
       "4      27          0      Travel_Rarely        591  Research & Development   \n",
       "...   ...        ...                ...        ...                     ...   \n",
       "1465   36          0  Travel_Frequently        884  Research & Development   \n",
       "1466   39          0      Travel_Rarely        613  Research & Development   \n",
       "1467   27          0      Travel_Rarely        155  Research & Development   \n",
       "1468   49          0  Travel_Frequently       1023                   Sales   \n",
       "1469   34          0      Travel_Rarely        628  Research & Development   \n",
       "\n",
       "      DistanceFromHome  Education EducationField  Gender  Quit_in_3_Years  \\\n",
       "0                    1          2  Life Sciences  Female                1   \n",
       "1                    8          1  Life Sciences    Male                1   \n",
       "2                    2          2          Other    Male                1   \n",
       "3                    3          4  Life Sciences  Female                1   \n",
       "4                    2          1        Medical    Male                1   \n",
       "...                ...        ...            ...     ...              ...   \n",
       "1465                23          2        Medical    Male                1   \n",
       "1466                 6          1        Medical    Male                1   \n",
       "1467                 4          3  Life Sciences    Male                1   \n",
       "1468                 2          3        Medical    Male                1   \n",
       "1469                 8          3        Medical    Male                1   \n",
       "\n",
       "      ...  NumCompaniesWorked  OverTime PercentSalaryHike PerformanceRating  \\\n",
       "0     ...                   8         1                11                 3   \n",
       "1     ...                   1         0                23                 4   \n",
       "2     ...                   6         1                15                 3   \n",
       "3     ...                   1         1                11                 3   \n",
       "4     ...                   9         0                12                 3   \n",
       "...   ...                 ...       ...               ...               ...   \n",
       "1465  ...                   4         0                17                 3   \n",
       "1466  ...                   4         0                15                 3   \n",
       "1467  ...                   1         1                20                 4   \n",
       "1468  ...                   2         0                14                 3   \n",
       "1469  ...                   2         0                12                 3   \n",
       "\n",
       "      StockOptionLevel  TotalWorkingYears  TrainingTimesLastYear  \\\n",
       "0                    0                  8                      0   \n",
       "1                    1                 10                      3   \n",
       "2                    0                  7                      3   \n",
       "3                    0                  8                      3   \n",
       "4                    1                  6                      3   \n",
       "...                ...                ...                    ...   \n",
       "1465                 1                 17                      3   \n",
       "1466                 1                  9                      5   \n",
       "1467                 1                  6                      0   \n",
       "1468                 0                 17                      3   \n",
       "1469                 0                  6                      3   \n",
       "\n",
       "      YearsAtCompany  YearsSinceLastPromotion  Total_Satisfaction  \n",
       "0                  6                        0            2.857143  \n",
       "1                 10                        1            4.000000  \n",
       "2                  0                        0            2.000000  \n",
       "3                  8                        3            3.285714  \n",
       "4                  2                        2            2.428571  \n",
       "...              ...                      ...                 ...  \n",
       "1465               5                        0            3.142857  \n",
       "1466               7                        1            3.571429  \n",
       "1467               6                        0            2.571429  \n",
       "1468               9                        0            4.000000  \n",
       "1469               4                        1            2.714286  \n",
       "\n",
       "[1470 rows x 26 columns]"
      ]
     },
     "execution_count": 111,
     "metadata": {},
     "output_type": "execute_result"
    }
   ],
   "source": [
    "df"
   ]
  },
  {
   "cell_type": "code",
   "execution_count": 112,
   "metadata": {},
   "outputs": [
    {
     "name": "stdout",
     "output_type": "stream",
     "text": [
      "BusinessTravel: ['Travel_Rarely' 'Travel_Frequently' 'Non-Travel']\n",
      "\n",
      "Department: ['Sales' 'Research & Development' 'Human Resources']\n",
      "\n",
      "EducationField: ['Life Sciences' 'Other' 'Medical' 'Marketing' 'Technical Degree'\n",
      " 'Human Resources']\n",
      "\n",
      "Gender: ['Female' 'Male']\n",
      "\n",
      "JobRole: ['Sales Executive' 'Research Scientist' 'Laboratory Technician'\n",
      " 'Manufacturing Director' 'Healthcare Representative' 'Manager'\n",
      " 'Sales Representative' 'Research Director' 'Human Resources']\n",
      "\n",
      "MaritalStatus: ['Single' 'Married' 'Divorced']\n",
      "\n"
     ]
    }
   ],
   "source": [
    "for column in df:\n",
    "    if df[column].dtypes=='object':\n",
    "        print(f'{column}: {df[column].unique()}\\n') "
   ]
  },
  {
   "cell_type": "code",
   "execution_count": 113,
   "metadata": {
    "scrolled": false
   },
   "outputs": [
    {
     "name": "stdout",
     "output_type": "stream",
     "text": [
      "Age: [41 49 37 33 27 32 59 30 38 36 35 29 31 34 28 22 53 24 21 42 44 46 39 43\n",
      " 50 26 48 55 45 56 23 51 40 54 58 20 25 19 57 52 47 18 60]\n",
      "\n",
      "Attrition: [1 0]\n",
      "\n",
      "DailyRate: [1102  279 1373 1392  591 1005 1324 1358  216 1299  809  153  670 1346\n",
      "  103 1389  334 1123 1219  371  673 1218  419  391  699 1282 1125  691\n",
      "  477  705  924 1459  125  895  813 1273  869  890  852 1141  464 1240\n",
      " 1357  994  721 1360 1065  408 1211 1229  626 1434 1488 1097 1443  515\n",
      "  853 1142  655 1115  427  653  989 1435 1223  836 1195 1339  664  318\n",
      " 1225 1328 1082  548  132  746  776  193  397  945 1214  111  573 1153\n",
      " 1400  541  432  288  669  530  632 1334  638 1093 1217 1353  120  682\n",
      "  489  807  827  871  665 1040 1420  240 1280  534 1456  658  142 1127\n",
      " 1031 1189 1354 1467  922  394 1312  750  441  684  249  841  147  528\n",
      "  594  470  957  542  802 1355 1150 1329  959 1033 1316  364  438  689\n",
      "  201 1427  857  933 1181 1395  662 1436  194  967 1496 1169 1145  630\n",
      "  303 1256  440 1450 1452  465  702 1157  602 1480 1268  713  134  526\n",
      " 1380  140  629 1356  328 1084  931  692 1069  313  894  556 1344  290\n",
      "  138  926 1261  472 1002  878  905 1180  121 1136  635 1151  644 1045\n",
      "  829 1242 1469  896  992 1052 1147 1396  663  119  979  319 1413  944\n",
      " 1323  532  818  854 1034  771 1401 1431  976 1411 1300  252 1327  832\n",
      " 1017 1199  504  505  916 1247  685  269 1416  833  307 1311  128  488\n",
      "  529 1210 1463  675 1385 1403  452  666 1158  228  996  728 1315  322\n",
      " 1479  797 1070  442  496 1372  920  688 1449 1117  636  506  444  950\n",
      "  889  555  230 1232  566 1302  812 1476  218 1132 1105  906  849  390\n",
      "  106 1249  192  553  117  185 1091  723 1220  588 1377 1018 1275  798\n",
      "  672 1162  508 1482  559  210  928 1001  549 1124  738  570 1130 1192\n",
      "  343  144 1296 1309  483  810  544 1062 1319  641 1332  756  845  593\n",
      " 1171  350  921 1144  143 1046  575  156 1283  755  304 1178  329 1362\n",
      " 1371  202  253  164 1107  759 1305  982  821 1381  480 1473  891 1063\n",
      "  645 1490  317  422 1485 1368 1448  296 1398 1349  986 1099 1116 1499\n",
      "  983 1009 1303 1274 1277  587  413 1276  988 1474  163  267  619  302\n",
      "  443  828  561  426  232 1306 1094  509  775  195  258  471  799  956\n",
      "  535 1495  446 1245  703  823 1246  622 1287  448  254 1365  538  525\n",
      "  558  782  362 1236 1112  204 1343  604 1216  646  160  238 1397  306\n",
      "  991  482 1176  913 1076  727  885  243  806  817 1410 1207 1442  693\n",
      "  929  562  608  580  970 1179  294  314  316  654  168  381  217  501\n",
      "  650  141  804  975 1090  346  430  268  167  621  527  883  954  310\n",
      "  719  725  715  657 1146  182  376  571  384  791 1111 1243 1092 1325\n",
      "  805  213  118  676 1252  286 1258  932 1041  859  720  946 1184  436\n",
      "  589  760  887 1318  625  180  586 1012  661  930  342 1230 1271 1278\n",
      "  607  130  300  583 1418 1269  379  395 1265 1222  341  868 1231  102\n",
      "  881 1383 1075  374 1086  781  177  500 1425 1454  617 1085  995 1122\n",
      "  618  546  462 1198 1272  154 1137 1188  188 1333  867  263  938  129\n",
      "  616  498 1404 1053  289 1376  231  152  882  903 1379  335  722  461\n",
      "  974 1126  840 1134  248  955  939 1391 1206  287 1441  109 1066  277\n",
      "  466 1055  265  135  247 1035  266  145 1038 1234 1109 1089  788  124\n",
      "  660 1186 1464  796  415  769 1003 1366  330 1492 1204  309 1330  469\n",
      "  697 1262 1050  770  406  203 1308  984  439  793 1451 1182  174  490\n",
      "  718  433  773  603  874  367  199  481  647 1384  902  819  862 1457\n",
      "  977  942 1402 1421 1361  917  200  150  179  696  116  363  107 1465\n",
      "  458 1212 1103  966 1010  326 1098  969 1167  694 1320  536  373  599\n",
      "  251  131  237 1429  648  735  531  429  968  879  640  412  848  360\n",
      " 1138  325 1322  299 1030  634  524  256 1060  935  495  282  206  943\n",
      "  523  507  601  855 1291 1405 1369  999 1202  285  404  736 1498 1200\n",
      " 1439  499  205  683 1462  949  652  332 1475  337  971 1174  667  560\n",
      "  172  383 1255  359  401  377  592 1445 1221  866  981  447 1326  748\n",
      "  990  405  115  790  830 1193 1423  467  271  410 1083  516  224  136\n",
      " 1029  333 1440  674 1342  898  824  492  598  740  888 1288  104 1108\n",
      "  479 1351  474  437  884 1370  264 1059  563  457 1313  241 1015  336\n",
      " 1387  170  208  671  711  737 1470  365  763  567  486  772  301  311\n",
      "  584  880  392  148  708 1259  786  370  678  146  581  918 1238  585\n",
      "  741  552  369  717  543  964  792  611  176  897  600 1054  428  181\n",
      "  211 1079  590  305  953  478 1375  244  511 1294  196  734 1239 1253\n",
      " 1128 1336  234  766  261 1194  431  572 1422 1297  574  355  207  706\n",
      "  280  726  414  352 1224  459 1254 1131  835 1172 1266  783  219 1213\n",
      " 1096 1251 1394  605 1064 1337  937  157  754 1168  155 1444  189  911\n",
      " 1321 1154  557  642  801  161 1382 1037  105  582  704  345 1120 1378\n",
      "  468  613 1023  628]\n",
      "\n",
      "DistanceFromHome: [ 1  8  2  3 24 23 27 16 15 26 19 21  5 11  9  7  6 10  4 25 12 18 29 22\n",
      " 14 20 28 17 13]\n",
      "\n",
      "Education: [2 1 4 3 5]\n",
      "\n",
      "Quit_in_3_Years: [1 0]\n",
      "\n",
      "HourlyRate: [ 94  61  92  56  40  79  81  67  44  84  49  31  93  50  51  80  96  78\n",
      "  45  82  53  83  58  72  48  42  41  86  97  75  33  37  73  98  36  47\n",
      "  71  30  43  99  59  95  57  76  87  66  55  32  52  70  62  64  63  60\n",
      " 100  46  39  77  35  91  54  34  90  65  88  85  89  68  69  74  38]\n",
      "\n",
      "JobLevel: [2 1 3 4 5]\n",
      "\n",
      "MonthlyIncome: [5993 5130 2090 ... 9991 5390 4404]\n",
      "\n",
      "MonthlyRate: [19479 24907  2396 ...  5174 13243 10228]\n",
      "\n",
      "NumCompaniesWorked: [8 1 6 9 0 4 5 2 7 3]\n",
      "\n",
      "OverTime: [1 0]\n",
      "\n",
      "PercentSalaryHike: [11 23 15 12 13 20 22 21 17 14 16 18 19 24 25]\n",
      "\n",
      "PerformanceRating: [3 4]\n",
      "\n",
      "StockOptionLevel: [0 1 3 2]\n",
      "\n",
      "TotalWorkingYears: [ 8 10  7  6 12  1 17  5  3 31 13  0 26 24 22  9 19  2 23 14 15  4 29 28\n",
      " 21 25 20 11 16 37 38 30 40 18 36 34 32 33 35 27]\n",
      "\n",
      "TrainingTimesLastYear: [0 3 2 5 1 4 6]\n",
      "\n",
      "YearsAtCompany: [ 6 10  0  8  2  7  1  9  5  4 25  3 12 14 22 15 27 21 17 11 13 37 16 20\n",
      " 40 24 33 19 36 18 29 31 32 34 26 30 23]\n",
      "\n",
      "YearsSinceLastPromotion: [ 0  1  3  2  7  4  8  6  5 15  9 13 12 10 11 14]\n",
      "\n",
      "Total_Satisfaction: [2.85714286 4.         2.         3.28571429 2.42857143 4.14285714\n",
      " 1.57142857 2.14285714 3.85714286 2.57142857 2.71428571 4.28571429\n",
      " 2.28571429 3.         5.14285714 3.42857143 5.28571429 1.71428571\n",
      " 4.57142857 5.42857143 3.71428571 1.85714286 5.71428571 4.42857143\n",
      " 3.57142857 4.85714286 3.14285714 4.71428571 6.         6.57142857\n",
      " 5.         1.42857143 5.57142857 7.         5.85714286 6.14285714\n",
      " 1.28571429 6.28571429 0.85714286 1.        ]\n",
      "\n"
     ]
    }
   ],
   "source": [
    "for column in df:\n",
    "    if df[column].dtypes!='object':\n",
    "        print(f'{column}: {df[column].unique()}\\n') "
   ]
  },
  {
   "cell_type": "markdown",
   "metadata": {},
   "source": [
    "# Feature visualization with count number"
   ]
  },
  {
   "cell_type": "code",
   "execution_count": 115,
   "metadata": {},
   "outputs": [],
   "source": [
    "def feature_visualization(name):\n",
    "    sns.set(style=\"darkgrid\")\n",
    "    sns.set_palette(\"hls\", 3)\n",
    "    fig, ax = plt.subplots(figsize=(20,9))\n",
    "    ax = sns.countplot(x=name, hue=\"Attrition\", data=df)\n",
    "\n",
    "    for p in ax.patches:\n",
    "        height = p.get_height()\n",
    "        ax.text(p.get_x()+p.get_width()/2.,\n",
    "                height + 2,\n",
    "                '{:0.0f}'.format(height),\n",
    "                ha=\"center\")  "
   ]
  },
  {
   "cell_type": "code",
   "execution_count": 116,
   "metadata": {
    "scrolled": true
   },
   "outputs": [
    {
     "name": "stderr",
     "output_type": "stream",
     "text": [
      "posx and posy should be finite values\n",
      "posx and posy should be finite values\n",
      "posx and posy should be finite values\n",
      "posx and posy should be finite values\n",
      "posx and posy should be finite values\n",
      "posx and posy should be finite values\n",
      "posx and posy should be finite values\n",
      "posx and posy should be finite values\n"
     ]
    },
    {
     "data": {
      "image/png": "[encoded data removed]",
      "text/plain": [
       "<Figure size 1440x648 with 1 Axes>"
      ]
     },
     "metadata": {},
     "output_type": "display_data"
    }
   ],
   "source": [
    "feature_visualization('Age')"
   ]
  },
  {
   "cell_type": "code",
   "execution_count": 117,
   "metadata": {
    "scrolled": true
   },
   "outputs": [
    {
     "data": {
      "image/png": "[encoded data removed]",
      "text/plain": [
       "<Figure size 1440x648 with 1 Axes>"
      ]
     },
     "metadata": {},
     "output_type": "display_data"
    }
   ],
   "source": [
    "feature_visualization('NumCompaniesWorked')"
   ]
  },
  {
   "cell_type": "code",
   "execution_count": 119,
   "metadata": {},
   "outputs": [
    {
     "name": "stderr",
     "output_type": "stream",
     "text": [
      "posx and posy should be finite values\n",
      "posx and posy should be finite values\n",
      "posx and posy should be finite values\n",
      "posx and posy should be finite values\n",
      "posx and posy should be finite values\n",
      "posx and posy should be finite values\n",
      "posx and posy should be finite values\n",
      "posx and posy should be finite values\n",
      "posx and posy should be finite values\n",
      "posx and posy should be finite values\n",
      "posx and posy should be finite values\n",
      "posx and posy should be finite values\n",
      "posx and posy should be finite values\n",
      "posx and posy should be finite values\n",
      "posx and posy should be finite values\n",
      "posx and posy should be finite values\n",
      "posx and posy should be finite values\n",
      "posx and posy should be finite values\n",
      "posx and posy should be finite values\n",
      "posx and posy should be finite values\n"
     ]
    },
    {
     "data": {
      "image/png": "[encoded data removed]",
      "text/plain": [
       "<Figure size 1440x648 with 1 Axes>"
      ]
     },
     "metadata": {},
     "output_type": "display_data"
    }
   ],
   "source": [
    "feature_visualization('Total_Satisfaction')"
   ]
  },
  {
   "cell_type": "code",
   "execution_count": 120,
   "metadata": {},
   "outputs": [
    {
     "data": {
      "image/png": "[encoded data removed]",
      "text/plain": [
       "<Figure size 1440x648 with 1 Axes>"
      ]
     },
     "metadata": {},
     "output_type": "display_data"
    }
   ],
   "source": [
    "feature_visualization('OverTime')"
   ]
  },
  {
   "cell_type": "code",
   "execution_count": 121,
   "metadata": {},
   "outputs": [
    {
     "name": "stderr",
     "output_type": "stream",
     "text": [
      "posx and posy should be finite values\n",
      "posx and posy should be finite values\n",
      "posx and posy should be finite values\n",
      "posx and posy should be finite values\n",
      "posx and posy should be finite values\n",
      "posx and posy should be finite values\n",
      "posx and posy should be finite values\n",
      "posx and posy should be finite values\n",
      "posx and posy should be finite values\n",
      "posx and posy should be finite values\n",
      "posx and posy should be finite values\n",
      "posx and posy should be finite values\n",
      "posx and posy should be finite values\n",
      "posx and posy should be finite values\n",
      "posx and posy should be finite values\n",
      "posx and posy should be finite values\n",
      "posx and posy should be finite values\n",
      "posx and posy should be finite values\n"
     ]
    },
    {
     "data": {
      "image/png": "[encoded data removed]",
      "text/plain": [
       "<Figure size 1440x648 with 1 Axes>"
      ]
     },
     "metadata": {},
     "output_type": "display_data"
    }
   ],
   "source": [
    "feature_visualization('TotalWorkingYears')"
   ]
  },
  {
   "cell_type": "code",
   "execution_count": 122,
   "metadata": {},
   "outputs": [
    {
     "data": {
      "image/png": "[encoded data removed]",
      "text/plain": [
       "<Figure size 1440x648 with 1 Axes>"
      ]
     },
     "metadata": {},
     "output_type": "display_data"
    }
   ],
   "source": [
    "feature_visualization('TrainingTimesLastYear')"
   ]
  },
  {
   "cell_type": "code",
   "execution_count": 123,
   "metadata": {},
   "outputs": [
    {
     "name": "stderr",
     "output_type": "stream",
     "text": [
      "posx and posy should be finite values\n",
      "posx and posy should be finite values\n",
      "posx and posy should be finite values\n",
      "posx and posy should be finite values\n",
      "posx and posy should be finite values\n",
      "posx and posy should be finite values\n",
      "posx and posy should be finite values\n",
      "posx and posy should be finite values\n",
      "posx and posy should be finite values\n",
      "posx and posy should be finite values\n",
      "posx and posy should be finite values\n",
      "posx and posy should be finite values\n",
      "posx and posy should be finite values\n",
      "posx and posy should be finite values\n",
      "posx and posy should be finite values\n",
      "posx and posy should be finite values\n",
      "posx and posy should be finite values\n",
      "posx and posy should be finite values\n",
      "posx and posy should be finite values\n",
      "posx and posy should be finite values\n"
     ]
    },
    {
     "data": {
      "image/png": "[encoded data removed]",
      "text/plain": [
       "<Figure size 1440x648 with 1 Axes>"
      ]
     },
     "metadata": {},
     "output_type": "display_data"
    }
   ],
   "source": [
    "feature_visualization('YearsAtCompany')"
   ]
  },
  {
   "cell_type": "code",
   "execution_count": 125,
   "metadata": {},
   "outputs": [
    {
     "name": "stderr",
     "output_type": "stream",
     "text": [
      "posx and posy should be finite values\n",
      "posx and posy should be finite values\n",
      "posx and posy should be finite values\n",
      "posx and posy should be finite values\n"
     ]
    },
    {
     "data": {
      "image/png": "[encoded data removed]",
      "text/plain": [
       "<Figure size 1440x648 with 1 Axes>"
      ]
     },
     "metadata": {},
     "output_type": "display_data"
    }
   ],
   "source": [
    "feature_visualization('YearsSinceLastPromotion')"
   ]
  },
  {
   "cell_type": "code",
   "execution_count": 64,
   "metadata": {
    "scrolled": true
   },
   "outputs": [
    {
     "name": "stderr",
     "output_type": "stream",
     "text": [
      "posx and posy should be finite values\n",
      "posx and posy should be finite values\n",
      "posx and posy should be finite values\n",
      "posx and posy should be finite values\n",
      "posx and posy should be finite values\n",
      "posx and posy should be finite values\n",
      "posx and posy should be finite values\n",
      "posx and posy should be finite values\n",
      "posx and posy should be finite values\n",
      "posx and posy should be finite values\n"
     ]
    },
    {
     "data": {
      "image/png": "[encoded data removed]",
      "text/plain": [
       "<Figure size 1440x648 with 1 Axes>"
      ]
     },
     "metadata": {},
     "output_type": "display_data"
    }
   ],
   "source": [
    "feature_visualization('YearsWithCurrManager')"
   ]
  },
  {
   "cell_type": "markdown",
   "metadata": {},
   "source": [
    "# label Encoding"
   ]
  },
  {
   "cell_type": "code",
   "execution_count": 126,
   "metadata": {},
   "outputs": [],
   "source": [
    "label_encoder =  preprocessing.LabelEncoder()\n",
    "for column in df:\n",
    "    if df[column].dtypes=='object':  \n",
    "        df[column] = label_encoder.fit_transform(df[column])"
   ]
  },
  {
   "cell_type": "code",
   "execution_count": 127,
   "metadata": {},
   "outputs": [
    {
     "name": "stdout",
     "output_type": "stream",
     "text": [
      "<class 'pandas.core.frame.DataFrame'>\n",
      "RangeIndex: 1470 entries, 0 to 1469\n",
      "Data columns (total 26 columns):\n",
      " #   Column                   Non-Null Count  Dtype  \n",
      "---  ------                   --------------  -----  \n",
      " 0   Age                      1470 non-null   int64  \n",
      " 1   Attrition                1470 non-null   int64  \n",
      " 2   BusinessTravel           1470 non-null   int32  \n",
      " 3   DailyRate                1470 non-null   int64  \n",
      " 4   Department               1470 non-null   int32  \n",
      " 5   DistanceFromHome         1470 non-null   int64  \n",
      " 6   Education                1470 non-null   int64  \n",
      " 7   EducationField           1470 non-null   int32  \n",
      " 8   Gender                   1470 non-null   int32  \n",
      " 9   Quit_in_3_Years          1470 non-null   int64  \n",
      " 10  HourlyRate               1470 non-null   int64  \n",
      " 11  JobLevel                 1470 non-null   int64  \n",
      " 12  JobRole                  1470 non-null   int32  \n",
      " 13  MaritalStatus            1470 non-null   int32  \n",
      " 14  MonthlyIncome            1470 non-null   int64  \n",
      " 15  MonthlyRate              1470 non-null   int64  \n",
      " 16  NumCompaniesWorked       1470 non-null   int64  \n",
      " 17  OverTime                 1470 non-null   int64  \n",
      " 18  PercentSalaryHike        1470 non-null   int64  \n",
      " 19  PerformanceRating        1470 non-null   int64  \n",
      " 20  StockOptionLevel         1470 non-null   int64  \n",
      " 21  TotalWorkingYears        1470 non-null   int64  \n",
      " 22  TrainingTimesLastYear    1470 non-null   int64  \n",
      " 23  YearsAtCompany           1470 non-null   int64  \n",
      " 24  YearsSinceLastPromotion  1470 non-null   int64  \n",
      " 25  Total_Satisfaction       1470 non-null   float64\n",
      "dtypes: float64(1), int32(6), int64(19)\n",
      "memory usage: 264.3 KB\n"
     ]
    }
   ],
   "source": [
    "df.info()"
   ]
  },
  {
   "cell_type": "code",
   "execution_count": 128,
   "metadata": {},
   "outputs": [],
   "source": [
    "x = df.drop(['Attrition'],axis = 1)\n",
    "y = df['Attrition']"
   ]
  },
  {
   "cell_type": "code",
   "execution_count": 129,
   "metadata": {
    "scrolled": true
   },
   "outputs": [
    {
     "data": {
      "text/html": [
       "<div>\n",
       "<style scoped>\n",
       "    .dataframe tbody tr th:only-of-type {\n",
       "        vertical-align: middle;\n",
       "    }\n",
       "\n",
       "    .dataframe tbody tr th {\n",
       "        vertical-align: top;\n",
       "    }\n",
       "\n",
       "    .dataframe thead th {\n",
       "        text-align: right;\n",
       "    }\n",
       "</style>\n",
       "<table border=\"1\" class=\"dataframe\">\n",
       "  <thead>\n",
       "    <tr style=\"text-align: right;\">\n",
       "      <th></th>\n",
       "      <th>Age</th>\n",
       "      <th>BusinessTravel</th>\n",
       "      <th>DailyRate</th>\n",
       "      <th>Department</th>\n",
       "      <th>DistanceFromHome</th>\n",
       "      <th>Education</th>\n",
       "      <th>EducationField</th>\n",
       "      <th>Gender</th>\n",
       "      <th>Quit_in_3_Years</th>\n",
       "      <th>HourlyRate</th>\n",
       "      <th>...</th>\n",
       "      <th>NumCompaniesWorked</th>\n",
       "      <th>OverTime</th>\n",
       "      <th>PercentSalaryHike</th>\n",
       "      <th>PerformanceRating</th>\n",
       "      <th>StockOptionLevel</th>\n",
       "      <th>TotalWorkingYears</th>\n",
       "      <th>TrainingTimesLastYear</th>\n",
       "      <th>YearsAtCompany</th>\n",
       "      <th>YearsSinceLastPromotion</th>\n",
       "      <th>Total_Satisfaction</th>\n",
       "    </tr>\n",
       "  </thead>\n",
       "  <tbody>\n",
       "    <tr>\n",
       "      <th>0</th>\n",
       "      <td>41</td>\n",
       "      <td>2</td>\n",
       "      <td>1102</td>\n",
       "      <td>2</td>\n",
       "      <td>1</td>\n",
       "      <td>2</td>\n",
       "      <td>1</td>\n",
       "      <td>0</td>\n",
       "      <td>1</td>\n",
       "      <td>94</td>\n",
       "      <td>...</td>\n",
       "      <td>8</td>\n",
       "      <td>1</td>\n",
       "      <td>11</td>\n",
       "      <td>3</td>\n",
       "      <td>0</td>\n",
       "      <td>8</td>\n",
       "      <td>0</td>\n",
       "      <td>6</td>\n",
       "      <td>0</td>\n",
       "      <td>2.857143</td>\n",
       "    </tr>\n",
       "    <tr>\n",
       "      <th>1</th>\n",
       "      <td>49</td>\n",
       "      <td>1</td>\n",
       "      <td>279</td>\n",
       "      <td>1</td>\n",
       "      <td>8</td>\n",
       "      <td>1</td>\n",
       "      <td>1</td>\n",
       "      <td>1</td>\n",
       "      <td>1</td>\n",
       "      <td>61</td>\n",
       "      <td>...</td>\n",
       "      <td>1</td>\n",
       "      <td>0</td>\n",
       "      <td>23</td>\n",
       "      <td>4</td>\n",
       "      <td>1</td>\n",
       "      <td>10</td>\n",
       "      <td>3</td>\n",
       "      <td>10</td>\n",
       "      <td>1</td>\n",
       "      <td>4.000000</td>\n",
       "    </tr>\n",
       "    <tr>\n",
       "      <th>2</th>\n",
       "      <td>37</td>\n",
       "      <td>2</td>\n",
       "      <td>1373</td>\n",
       "      <td>1</td>\n",
       "      <td>2</td>\n",
       "      <td>2</td>\n",
       "      <td>4</td>\n",
       "      <td>1</td>\n",
       "      <td>1</td>\n",
       "      <td>92</td>\n",
       "      <td>...</td>\n",
       "      <td>6</td>\n",
       "      <td>1</td>\n",
       "      <td>15</td>\n",
       "      <td>3</td>\n",
       "      <td>0</td>\n",
       "      <td>7</td>\n",
       "      <td>3</td>\n",
       "      <td>0</td>\n",
       "      <td>0</td>\n",
       "      <td>2.000000</td>\n",
       "    </tr>\n",
       "    <tr>\n",
       "      <th>3</th>\n",
       "      <td>33</td>\n",
       "      <td>1</td>\n",
       "      <td>1392</td>\n",
       "      <td>1</td>\n",
       "      <td>3</td>\n",
       "      <td>4</td>\n",
       "      <td>1</td>\n",
       "      <td>0</td>\n",
       "      <td>1</td>\n",
       "      <td>56</td>\n",
       "      <td>...</td>\n",
       "      <td>1</td>\n",
       "      <td>1</td>\n",
       "      <td>11</td>\n",
       "      <td>3</td>\n",
       "      <td>0</td>\n",
       "      <td>8</td>\n",
       "      <td>3</td>\n",
       "      <td>8</td>\n",
       "      <td>3</td>\n",
       "      <td>3.285714</td>\n",
       "    </tr>\n",
       "    <tr>\n",
       "      <th>4</th>\n",
       "      <td>27</td>\n",
       "      <td>2</td>\n",
       "      <td>591</td>\n",
       "      <td>1</td>\n",
       "      <td>2</td>\n",
       "      <td>1</td>\n",
       "      <td>3</td>\n",
       "      <td>1</td>\n",
       "      <td>1</td>\n",
       "      <td>40</td>\n",
       "      <td>...</td>\n",
       "      <td>9</td>\n",
       "      <td>0</td>\n",
       "      <td>12</td>\n",
       "      <td>3</td>\n",
       "      <td>1</td>\n",
       "      <td>6</td>\n",
       "      <td>3</td>\n",
       "      <td>2</td>\n",
       "      <td>2</td>\n",
       "      <td>2.428571</td>\n",
       "    </tr>\n",
       "    <tr>\n",
       "      <th>...</th>\n",
       "      <td>...</td>\n",
       "      <td>...</td>\n",
       "      <td>...</td>\n",
       "      <td>...</td>\n",
       "      <td>...</td>\n",
       "      <td>...</td>\n",
       "      <td>...</td>\n",
       "      <td>...</td>\n",
       "      <td>...</td>\n",
       "      <td>...</td>\n",
       "      <td>...</td>\n",
       "      <td>...</td>\n",
       "      <td>...</td>\n",
       "      <td>...</td>\n",
       "      <td>...</td>\n",
       "      <td>...</td>\n",
       "      <td>...</td>\n",
       "      <td>...</td>\n",
       "      <td>...</td>\n",
       "      <td>...</td>\n",
       "      <td>...</td>\n",
       "    </tr>\n",
       "    <tr>\n",
       "      <th>1465</th>\n",
       "      <td>36</td>\n",
       "      <td>1</td>\n",
       "      <td>884</td>\n",
       "      <td>1</td>\n",
       "      <td>23</td>\n",
       "      <td>2</td>\n",
       "      <td>3</td>\n",
       "      <td>1</td>\n",
       "      <td>1</td>\n",
       "      <td>41</td>\n",
       "      <td>...</td>\n",
       "      <td>4</td>\n",
       "      <td>0</td>\n",
       "      <td>17</td>\n",
       "      <td>3</td>\n",
       "      <td>1</td>\n",
       "      <td>17</td>\n",
       "      <td>3</td>\n",
       "      <td>5</td>\n",
       "      <td>0</td>\n",
       "      <td>3.142857</td>\n",
       "    </tr>\n",
       "    <tr>\n",
       "      <th>1466</th>\n",
       "      <td>39</td>\n",
       "      <td>2</td>\n",
       "      <td>613</td>\n",
       "      <td>1</td>\n",
       "      <td>6</td>\n",
       "      <td>1</td>\n",
       "      <td>3</td>\n",
       "      <td>1</td>\n",
       "      <td>1</td>\n",
       "      <td>42</td>\n",
       "      <td>...</td>\n",
       "      <td>4</td>\n",
       "      <td>0</td>\n",
       "      <td>15</td>\n",
       "      <td>3</td>\n",
       "      <td>1</td>\n",
       "      <td>9</td>\n",
       "      <td>5</td>\n",
       "      <td>7</td>\n",
       "      <td>1</td>\n",
       "      <td>3.571429</td>\n",
       "    </tr>\n",
       "    <tr>\n",
       "      <th>1467</th>\n",
       "      <td>27</td>\n",
       "      <td>2</td>\n",
       "      <td>155</td>\n",
       "      <td>1</td>\n",
       "      <td>4</td>\n",
       "      <td>3</td>\n",
       "      <td>1</td>\n",
       "      <td>1</td>\n",
       "      <td>1</td>\n",
       "      <td>87</td>\n",
       "      <td>...</td>\n",
       "      <td>1</td>\n",
       "      <td>1</td>\n",
       "      <td>20</td>\n",
       "      <td>4</td>\n",
       "      <td>1</td>\n",
       "      <td>6</td>\n",
       "      <td>0</td>\n",
       "      <td>6</td>\n",
       "      <td>0</td>\n",
       "      <td>2.571429</td>\n",
       "    </tr>\n",
       "    <tr>\n",
       "      <th>1468</th>\n",
       "      <td>49</td>\n",
       "      <td>1</td>\n",
       "      <td>1023</td>\n",
       "      <td>2</td>\n",
       "      <td>2</td>\n",
       "      <td>3</td>\n",
       "      <td>3</td>\n",
       "      <td>1</td>\n",
       "      <td>1</td>\n",
       "      <td>63</td>\n",
       "      <td>...</td>\n",
       "      <td>2</td>\n",
       "      <td>0</td>\n",
       "      <td>14</td>\n",
       "      <td>3</td>\n",
       "      <td>0</td>\n",
       "      <td>17</td>\n",
       "      <td>3</td>\n",
       "      <td>9</td>\n",
       "      <td>0</td>\n",
       "      <td>4.000000</td>\n",
       "    </tr>\n",
       "    <tr>\n",
       "      <th>1469</th>\n",
       "      <td>34</td>\n",
       "      <td>2</td>\n",
       "      <td>628</td>\n",
       "      <td>1</td>\n",
       "      <td>8</td>\n",
       "      <td>3</td>\n",
       "      <td>3</td>\n",
       "      <td>1</td>\n",
       "      <td>1</td>\n",
       "      <td>82</td>\n",
       "      <td>...</td>\n",
       "      <td>2</td>\n",
       "      <td>0</td>\n",
       "      <td>12</td>\n",
       "      <td>3</td>\n",
       "      <td>0</td>\n",
       "      <td>6</td>\n",
       "      <td>3</td>\n",
       "      <td>4</td>\n",
       "      <td>1</td>\n",
       "      <td>2.714286</td>\n",
       "    </tr>\n",
       "  </tbody>\n",
       "</table>\n",
       "<p>1470 rows × 25 columns</p>\n",
       "</div>"
      ],
      "text/plain": [
       "      Age  BusinessTravel  DailyRate  Department  DistanceFromHome  Education  \\\n",
       "0      41               2       1102           2                 1          2   \n",
       "1      49               1        279           1                 8          1   \n",
       "2      37               2       1373           1                 2          2   \n",
       "3      33               1       1392           1                 3          4   \n",
       "4      27               2        591           1                 2          1   \n",
       "...   ...             ...        ...         ...               ...        ...   \n",
       "1465   36               1        884           1                23          2   \n",
       "1466   39               2        613           1                 6          1   \n",
       "1467   27               2        155           1                 4          3   \n",
       "1468   49               1       1023           2                 2          3   \n",
       "1469   34               2        628           1                 8          3   \n",
       "\n",
       "      EducationField  Gender  Quit_in_3_Years  HourlyRate  ...  \\\n",
       "0                  1       0                1          94  ...   \n",
       "1                  1       1                1          61  ...   \n",
       "2                  4       1                1          92  ...   \n",
       "3                  1       0                1          56  ...   \n",
       "4                  3       1                1          40  ...   \n",
       "...              ...     ...              ...         ...  ...   \n",
       "1465               3       1                1          41  ...   \n",
       "1466               3       1                1          42  ...   \n",
       "1467               1       1                1          87  ...   \n",
       "1468               3       1                1          63  ...   \n",
       "1469               3       1                1          82  ...   \n",
       "\n",
       "      NumCompaniesWorked  OverTime  PercentSalaryHike  PerformanceRating  \\\n",
       "0                      8         1                 11                  3   \n",
       "1                      1         0                 23                  4   \n",
       "2                      6         1                 15                  3   \n",
       "3                      1         1                 11                  3   \n",
       "4                      9         0                 12                  3   \n",
       "...                  ...       ...                ...                ...   \n",
       "1465                   4         0                 17                  3   \n",
       "1466                   4         0                 15                  3   \n",
       "1467                   1         1                 20                  4   \n",
       "1468                   2         0                 14                  3   \n",
       "1469                   2         0                 12                  3   \n",
       "\n",
       "      StockOptionLevel  TotalWorkingYears  TrainingTimesLastYear  \\\n",
       "0                    0                  8                      0   \n",
       "1                    1                 10                      3   \n",
       "2                    0                  7                      3   \n",
       "3                    0                  8                      3   \n",
       "4                    1                  6                      3   \n",
       "...                ...                ...                    ...   \n",
       "1465                 1                 17                      3   \n",
       "1466                 1                  9                      5   \n",
       "1467                 1                  6                      0   \n",
       "1468                 0                 17                      3   \n",
       "1469                 0                  6                      3   \n",
       "\n",
       "      YearsAtCompany  YearsSinceLastPromotion  Total_Satisfaction  \n",
       "0                  6                        0            2.857143  \n",
       "1                 10                        1            4.000000  \n",
       "2                  0                        0            2.000000  \n",
       "3                  8                        3            3.285714  \n",
       "4                  2                        2            2.428571  \n",
       "...              ...                      ...                 ...  \n",
       "1465               5                        0            3.142857  \n",
       "1466               7                        1            3.571429  \n",
       "1467               6                        0            2.571429  \n",
       "1468               9                        0            4.000000  \n",
       "1469               4                        1            2.714286  \n",
       "\n",
       "[1470 rows x 25 columns]"
      ]
     },
     "execution_count": 129,
     "metadata": {},
     "output_type": "execute_result"
    }
   ],
   "source": [
    "x"
   ]
  },
  {
   "cell_type": "code",
   "execution_count": 130,
   "metadata": {
    "scrolled": true
   },
   "outputs": [
    {
     "data": {
      "text/plain": [
       "0       1\n",
       "1       0\n",
       "2       1\n",
       "3       0\n",
       "4       0\n",
       "       ..\n",
       "1465    0\n",
       "1466    0\n",
       "1467    0\n",
       "1468    0\n",
       "1469    0\n",
       "Name: Attrition, Length: 1470, dtype: int64"
      ]
     },
     "execution_count": 130,
     "metadata": {},
     "output_type": "execute_result"
    }
   ],
   "source": [
    "y"
   ]
  },
  {
   "cell_type": "markdown",
   "metadata": {},
   "source": [
    "# Working with 27 columns"
   ]
  },
  {
   "cell_type": "code",
   "execution_count": 131,
   "metadata": {},
   "outputs": [],
   "source": [
    "xtrain,xtest,ytrain,ytest = train_test_split(x,y, test_size=0.2, random_state=43, stratify=y)"
   ]
  },
  {
   "cell_type": "markdown",
   "metadata": {},
   "source": [
    "# RF"
   ]
  },
  {
   "cell_type": "code",
   "execution_count": 138,
   "metadata": {},
   "outputs": [],
   "source": [
    "from sklearn.ensemble import RandomForestClassifier\n",
    "rnf = RandomForestClassifier(n_estimators=100, random_state=50)"
   ]
  },
  {
   "cell_type": "code",
   "execution_count": 139,
   "metadata": {},
   "outputs": [
    {
     "data": {
      "text/plain": [
       "RandomForestClassifier(random_state=50)"
      ]
     },
     "execution_count": 139,
     "metadata": {},
     "output_type": "execute_result"
    }
   ],
   "source": [
    "rnf.fit(xtrain,ytrain)"
   ]
  },
  {
   "cell_type": "code",
   "execution_count": 140,
   "metadata": {},
   "outputs": [
    {
     "name": "stdout",
     "output_type": "stream",
     "text": [
      "\n",
      "Training Accuracy :  0.9991496598639455\n",
      "\n",
      "Testing Accuracy :  0.8707482993197279\n"
     ]
    }
   ],
   "source": [
    "# Accuracy on Training \n",
    "predictions_train = rnf.predict(xtrain)\n",
    "print(\"\\nTraining Accuracy : \", accuracy_score(ytrain,predictions_train))\n",
    "# Accuracy on Testing\n",
    "predictions_test = rnf.predict(xtest)\n",
    "print(\"\\nTesting Accuracy : \", accuracy_score(ytest,predictions_test))"
   ]
  },
  {
   "cell_type": "markdown",
   "metadata": {},
   "source": [
    "# LR"
   ]
  },
  {
   "cell_type": "code",
   "execution_count": 141,
   "metadata": {},
   "outputs": [
    {
     "name": "stderr",
     "output_type": "stream",
     "text": [
      "F:\\New_Anaconda_Inst_Loc\\lib\\site-packages\\sklearn\\linear_model\\_logistic.py:814: ConvergenceWarning: lbfgs failed to converge (status=1):\n",
      "STOP: TOTAL NO. of ITERATIONS REACHED LIMIT.\n",
      "\n",
      "Increase the number of iterations (max_iter) or scale the data as shown in:\n",
      "    https://scikit-learn.org/stable/modules/preprocessing.html\n",
      "Please also refer to the documentation for alternative solver options:\n",
      "    https://scikit-learn.org/stable/modules/linear_model.html#logistic-regression\n",
      "  n_iter_i = _check_optimize_result(\n"
     ]
    },
    {
     "data": {
      "text/plain": [
       "LogisticRegression()"
      ]
     },
     "execution_count": 141,
     "metadata": {},
     "output_type": "execute_result"
    }
   ],
   "source": [
    "from sklearn.linear_model import LogisticRegression\n",
    "lrmodel = LogisticRegression()\n",
    "lrmodel.fit(xtrain,ytrain)"
   ]
  },
  {
   "cell_type": "code",
   "execution_count": 142,
   "metadata": {},
   "outputs": [
    {
     "name": "stdout",
     "output_type": "stream",
     "text": [
      "\n",
      "Training Accuracy :  0.8401360544217688\n",
      "\n",
      "Testing Accuracy :  0.8401360544217688\n"
     ]
    }
   ],
   "source": [
    "# Accuracy on Training \n",
    "predictions_train = lrmodel.predict(xtrain)\n",
    "print(\"\\nTraining Accuracy : \", accuracy_score(ytrain,predictions_train))\n",
    "# Accuracy on Testing\n",
    "predictions_test = lrmodel.predict(xtest)\n",
    "print(\"\\nTesting Accuracy : \", accuracy_score(ytest,predictions_test))"
   ]
  },
  {
   "cell_type": "markdown",
   "metadata": {},
   "source": [
    "# XGBoost"
   ]
  },
  {
   "cell_type": "code",
   "execution_count": 143,
   "metadata": {},
   "outputs": [
    {
     "name": "stderr",
     "output_type": "stream",
     "text": [
      "F:\\New_Anaconda_Inst_Loc\\lib\\site-packages\\xgboost\\sklearn.py:1146: UserWarning: The use of label encoder in XGBClassifier is deprecated and will be removed in a future release. To remove this warning, do the following: 1) Pass option use_label_encoder=False when constructing XGBClassifier object; and 2) Encode your labels (y) as integers starting with 0, i.e. 0, 1, 2, ..., [num_class - 1].\n",
      "  warnings.warn(label_encoder_deprecation_msg, UserWarning)\n"
     ]
    },
    {
     "name": "stdout",
     "output_type": "stream",
     "text": [
      "[18:56:58] WARNING: C:/Users/Administrator/workspace/xgboost-win64_release_1.4.0/src/learner.cc:1095: Starting in XGBoost 1.3.0, the default evaluation metric used with the objective 'binary:logistic' was changed from 'error' to 'logloss'. Explicitly set eval_metric if you'd like to restore the old behavior.\n",
      "\n",
      "Training Accuracy : 1.0\n",
      "\n",
      "Testing Accuracy : 0.8775510204081632\n"
     ]
    }
   ],
   "source": [
    "from xgboost import XGBClassifier\n",
    "classifier=XGBClassifier()\n",
    "classifier.fit(xtrain,ytrain)\n",
    "predictions_train =classifier.predict(xtrain)\n",
    "acc=accuracy_score(ytrain, predictions_train)\n",
    "print('\\nTraining Accuracy :', acc)\n",
    "predictions_test = classifier.predict(xtest)\n",
    "accc=accuracy_score(ytest, predictions_test)\n",
    "print('\\nTesting Accuracy :', accc)"
   ]
  },
  {
   "cell_type": "markdown",
   "metadata": {},
   "source": [
    "# Drop the following columns 'NumCompaniesWorked', 'TotalWorkingYears', 'YearsAtCompany', 'YearsSinceLastPromotion' as new column 'Quit_in_3_Year' is created"
   ]
  },
  {
   "cell_type": "code",
   "execution_count": 144,
   "metadata": {},
   "outputs": [],
   "source": [
    "x = df.drop(['Attrition','NumCompaniesWorked','TotalWorkingYears','YearsAtCompany','YearsSinceLastPromotion'],axis = 1)\n",
    "y = df['Attrition']"
   ]
  },
  {
   "cell_type": "code",
   "execution_count": 149,
   "metadata": {},
   "outputs": [
    {
     "data": {
      "text/html": [
       "<div>\n",
       "<style scoped>\n",
       "    .dataframe tbody tr th:only-of-type {\n",
       "        vertical-align: middle;\n",
       "    }\n",
       "\n",
       "    .dataframe tbody tr th {\n",
       "        vertical-align: top;\n",
       "    }\n",
       "\n",
       "    .dataframe thead th {\n",
       "        text-align: right;\n",
       "    }\n",
       "</style>\n",
       "<table border=\"1\" class=\"dataframe\">\n",
       "  <thead>\n",
       "    <tr style=\"text-align: right;\">\n",
       "      <th></th>\n",
       "      <th>Age</th>\n",
       "      <th>BusinessTravel</th>\n",
       "      <th>DailyRate</th>\n",
       "      <th>Department</th>\n",
       "      <th>DistanceFromHome</th>\n",
       "      <th>Education</th>\n",
       "      <th>EducationField</th>\n",
       "      <th>Gender</th>\n",
       "      <th>Quit_in_3_Years</th>\n",
       "      <th>HourlyRate</th>\n",
       "      <th>...</th>\n",
       "      <th>JobRole</th>\n",
       "      <th>MaritalStatus</th>\n",
       "      <th>MonthlyIncome</th>\n",
       "      <th>MonthlyRate</th>\n",
       "      <th>OverTime</th>\n",
       "      <th>PercentSalaryHike</th>\n",
       "      <th>PerformanceRating</th>\n",
       "      <th>StockOptionLevel</th>\n",
       "      <th>TrainingTimesLastYear</th>\n",
       "      <th>Total_Satisfaction</th>\n",
       "    </tr>\n",
       "  </thead>\n",
       "  <tbody>\n",
       "    <tr>\n",
       "      <th>0</th>\n",
       "      <td>41</td>\n",
       "      <td>2</td>\n",
       "      <td>1102</td>\n",
       "      <td>2</td>\n",
       "      <td>1</td>\n",
       "      <td>2</td>\n",
       "      <td>1</td>\n",
       "      <td>0</td>\n",
       "      <td>1</td>\n",
       "      <td>94</td>\n",
       "      <td>...</td>\n",
       "      <td>7</td>\n",
       "      <td>2</td>\n",
       "      <td>5993</td>\n",
       "      <td>19479</td>\n",
       "      <td>1</td>\n",
       "      <td>11</td>\n",
       "      <td>3</td>\n",
       "      <td>0</td>\n",
       "      <td>0</td>\n",
       "      <td>2.857143</td>\n",
       "    </tr>\n",
       "    <tr>\n",
       "      <th>1</th>\n",
       "      <td>49</td>\n",
       "      <td>1</td>\n",
       "      <td>279</td>\n",
       "      <td>1</td>\n",
       "      <td>8</td>\n",
       "      <td>1</td>\n",
       "      <td>1</td>\n",
       "      <td>1</td>\n",
       "      <td>1</td>\n",
       "      <td>61</td>\n",
       "      <td>...</td>\n",
       "      <td>6</td>\n",
       "      <td>1</td>\n",
       "      <td>5130</td>\n",
       "      <td>24907</td>\n",
       "      <td>0</td>\n",
       "      <td>23</td>\n",
       "      <td>4</td>\n",
       "      <td>1</td>\n",
       "      <td>3</td>\n",
       "      <td>4.000000</td>\n",
       "    </tr>\n",
       "    <tr>\n",
       "      <th>2</th>\n",
       "      <td>37</td>\n",
       "      <td>2</td>\n",
       "      <td>1373</td>\n",
       "      <td>1</td>\n",
       "      <td>2</td>\n",
       "      <td>2</td>\n",
       "      <td>4</td>\n",
       "      <td>1</td>\n",
       "      <td>1</td>\n",
       "      <td>92</td>\n",
       "      <td>...</td>\n",
       "      <td>2</td>\n",
       "      <td>2</td>\n",
       "      <td>2090</td>\n",
       "      <td>2396</td>\n",
       "      <td>1</td>\n",
       "      <td>15</td>\n",
       "      <td>3</td>\n",
       "      <td>0</td>\n",
       "      <td>3</td>\n",
       "      <td>2.000000</td>\n",
       "    </tr>\n",
       "    <tr>\n",
       "      <th>3</th>\n",
       "      <td>33</td>\n",
       "      <td>1</td>\n",
       "      <td>1392</td>\n",
       "      <td>1</td>\n",
       "      <td>3</td>\n",
       "      <td>4</td>\n",
       "      <td>1</td>\n",
       "      <td>0</td>\n",
       "      <td>1</td>\n",
       "      <td>56</td>\n",
       "      <td>...</td>\n",
       "      <td>6</td>\n",
       "      <td>1</td>\n",
       "      <td>2909</td>\n",
       "      <td>23159</td>\n",
       "      <td>1</td>\n",
       "      <td>11</td>\n",
       "      <td>3</td>\n",
       "      <td>0</td>\n",
       "      <td>3</td>\n",
       "      <td>3.285714</td>\n",
       "    </tr>\n",
       "    <tr>\n",
       "      <th>4</th>\n",
       "      <td>27</td>\n",
       "      <td>2</td>\n",
       "      <td>591</td>\n",
       "      <td>1</td>\n",
       "      <td>2</td>\n",
       "      <td>1</td>\n",
       "      <td>3</td>\n",
       "      <td>1</td>\n",
       "      <td>1</td>\n",
       "      <td>40</td>\n",
       "      <td>...</td>\n",
       "      <td>2</td>\n",
       "      <td>1</td>\n",
       "      <td>3468</td>\n",
       "      <td>16632</td>\n",
       "      <td>0</td>\n",
       "      <td>12</td>\n",
       "      <td>3</td>\n",
       "      <td>1</td>\n",
       "      <td>3</td>\n",
       "      <td>2.428571</td>\n",
       "    </tr>\n",
       "    <tr>\n",
       "      <th>...</th>\n",
       "      <td>...</td>\n",
       "      <td>...</td>\n",
       "      <td>...</td>\n",
       "      <td>...</td>\n",
       "      <td>...</td>\n",
       "      <td>...</td>\n",
       "      <td>...</td>\n",
       "      <td>...</td>\n",
       "      <td>...</td>\n",
       "      <td>...</td>\n",
       "      <td>...</td>\n",
       "      <td>...</td>\n",
       "      <td>...</td>\n",
       "      <td>...</td>\n",
       "      <td>...</td>\n",
       "      <td>...</td>\n",
       "      <td>...</td>\n",
       "      <td>...</td>\n",
       "      <td>...</td>\n",
       "      <td>...</td>\n",
       "      <td>...</td>\n",
       "    </tr>\n",
       "    <tr>\n",
       "      <th>1465</th>\n",
       "      <td>36</td>\n",
       "      <td>1</td>\n",
       "      <td>884</td>\n",
       "      <td>1</td>\n",
       "      <td>23</td>\n",
       "      <td>2</td>\n",
       "      <td>3</td>\n",
       "      <td>1</td>\n",
       "      <td>1</td>\n",
       "      <td>41</td>\n",
       "      <td>...</td>\n",
       "      <td>2</td>\n",
       "      <td>1</td>\n",
       "      <td>2571</td>\n",
       "      <td>12290</td>\n",
       "      <td>0</td>\n",
       "      <td>17</td>\n",
       "      <td>3</td>\n",
       "      <td>1</td>\n",
       "      <td>3</td>\n",
       "      <td>3.142857</td>\n",
       "    </tr>\n",
       "    <tr>\n",
       "      <th>1466</th>\n",
       "      <td>39</td>\n",
       "      <td>2</td>\n",
       "      <td>613</td>\n",
       "      <td>1</td>\n",
       "      <td>6</td>\n",
       "      <td>1</td>\n",
       "      <td>3</td>\n",
       "      <td>1</td>\n",
       "      <td>1</td>\n",
       "      <td>42</td>\n",
       "      <td>...</td>\n",
       "      <td>0</td>\n",
       "      <td>1</td>\n",
       "      <td>9991</td>\n",
       "      <td>21457</td>\n",
       "      <td>0</td>\n",
       "      <td>15</td>\n",
       "      <td>3</td>\n",
       "      <td>1</td>\n",
       "      <td>5</td>\n",
       "      <td>3.571429</td>\n",
       "    </tr>\n",
       "    <tr>\n",
       "      <th>1467</th>\n",
       "      <td>27</td>\n",
       "      <td>2</td>\n",
       "      <td>155</td>\n",
       "      <td>1</td>\n",
       "      <td>4</td>\n",
       "      <td>3</td>\n",
       "      <td>1</td>\n",
       "      <td>1</td>\n",
       "      <td>1</td>\n",
       "      <td>87</td>\n",
       "      <td>...</td>\n",
       "      <td>4</td>\n",
       "      <td>1</td>\n",
       "      <td>6142</td>\n",
       "      <td>5174</td>\n",
       "      <td>1</td>\n",
       "      <td>20</td>\n",
       "      <td>4</td>\n",
       "      <td>1</td>\n",
       "      <td>0</td>\n",
       "      <td>2.571429</td>\n",
       "    </tr>\n",
       "    <tr>\n",
       "      <th>1468</th>\n",
       "      <td>49</td>\n",
       "      <td>1</td>\n",
       "      <td>1023</td>\n",
       "      <td>2</td>\n",
       "      <td>2</td>\n",
       "      <td>3</td>\n",
       "      <td>3</td>\n",
       "      <td>1</td>\n",
       "      <td>1</td>\n",
       "      <td>63</td>\n",
       "      <td>...</td>\n",
       "      <td>7</td>\n",
       "      <td>1</td>\n",
       "      <td>5390</td>\n",
       "      <td>13243</td>\n",
       "      <td>0</td>\n",
       "      <td>14</td>\n",
       "      <td>3</td>\n",
       "      <td>0</td>\n",
       "      <td>3</td>\n",
       "      <td>4.000000</td>\n",
       "    </tr>\n",
       "    <tr>\n",
       "      <th>1469</th>\n",
       "      <td>34</td>\n",
       "      <td>2</td>\n",
       "      <td>628</td>\n",
       "      <td>1</td>\n",
       "      <td>8</td>\n",
       "      <td>3</td>\n",
       "      <td>3</td>\n",
       "      <td>1</td>\n",
       "      <td>1</td>\n",
       "      <td>82</td>\n",
       "      <td>...</td>\n",
       "      <td>2</td>\n",
       "      <td>1</td>\n",
       "      <td>4404</td>\n",
       "      <td>10228</td>\n",
       "      <td>0</td>\n",
       "      <td>12</td>\n",
       "      <td>3</td>\n",
       "      <td>0</td>\n",
       "      <td>3</td>\n",
       "      <td>2.714286</td>\n",
       "    </tr>\n",
       "  </tbody>\n",
       "</table>\n",
       "<p>1470 rows × 21 columns</p>\n",
       "</div>"
      ],
      "text/plain": [
       "      Age  BusinessTravel  DailyRate  Department  DistanceFromHome  Education  \\\n",
       "0      41               2       1102           2                 1          2   \n",
       "1      49               1        279           1                 8          1   \n",
       "2      37               2       1373           1                 2          2   \n",
       "3      33               1       1392           1                 3          4   \n",
       "4      27               2        591           1                 2          1   \n",
       "...   ...             ...        ...         ...               ...        ...   \n",
       "1465   36               1        884           1                23          2   \n",
       "1466   39               2        613           1                 6          1   \n",
       "1467   27               2        155           1                 4          3   \n",
       "1468   49               1       1023           2                 2          3   \n",
       "1469   34               2        628           1                 8          3   \n",
       "\n",
       "      EducationField  Gender  Quit_in_3_Years  HourlyRate  ...  JobRole  \\\n",
       "0                  1       0                1          94  ...        7   \n",
       "1                  1       1                1          61  ...        6   \n",
       "2                  4       1                1          92  ...        2   \n",
       "3                  1       0                1          56  ...        6   \n",
       "4                  3       1                1          40  ...        2   \n",
       "...              ...     ...              ...         ...  ...      ...   \n",
       "1465               3       1                1          41  ...        2   \n",
       "1466               3       1                1          42  ...        0   \n",
       "1467               1       1                1          87  ...        4   \n",
       "1468               3       1                1          63  ...        7   \n",
       "1469               3       1                1          82  ...        2   \n",
       "\n",
       "      MaritalStatus  MonthlyIncome  MonthlyRate  OverTime  PercentSalaryHike  \\\n",
       "0                 2           5993        19479         1                 11   \n",
       "1                 1           5130        24907         0                 23   \n",
       "2                 2           2090         2396         1                 15   \n",
       "3                 1           2909        23159         1                 11   \n",
       "4                 1           3468        16632         0                 12   \n",
       "...             ...            ...          ...       ...                ...   \n",
       "1465              1           2571        12290         0                 17   \n",
       "1466              1           9991        21457         0                 15   \n",
       "1467              1           6142         5174         1                 20   \n",
       "1468              1           5390        13243         0                 14   \n",
       "1469              1           4404        10228         0                 12   \n",
       "\n",
       "      PerformanceRating  StockOptionLevel  TrainingTimesLastYear  \\\n",
       "0                     3                 0                      0   \n",
       "1                     4                 1                      3   \n",
       "2                     3                 0                      3   \n",
       "3                     3                 0                      3   \n",
       "4                     3                 1                      3   \n",
       "...                 ...               ...                    ...   \n",
       "1465                  3                 1                      3   \n",
       "1466                  3                 1                      5   \n",
       "1467                  4                 1                      0   \n",
       "1468                  3                 0                      3   \n",
       "1469                  3                 0                      3   \n",
       "\n",
       "      Total_Satisfaction  \n",
       "0               2.857143  \n",
       "1               4.000000  \n",
       "2               2.000000  \n",
       "3               3.285714  \n",
       "4               2.428571  \n",
       "...                  ...  \n",
       "1465            3.142857  \n",
       "1466            3.571429  \n",
       "1467            2.571429  \n",
       "1468            4.000000  \n",
       "1469            2.714286  \n",
       "\n",
       "[1470 rows x 21 columns]"
      ]
     },
     "execution_count": 149,
     "metadata": {},
     "output_type": "execute_result"
    }
   ],
   "source": [
    "x"
   ]
  },
  {
   "cell_type": "markdown",
   "metadata": {},
   "source": [
    "# Working with 22 columns"
   ]
  },
  {
   "cell_type": "code",
   "execution_count": 145,
   "metadata": {},
   "outputs": [],
   "source": [
    "xtrain,xtest,ytrain,ytest = train_test_split(x,y, test_size=0.2, random_state=43, stratify=y)"
   ]
  },
  {
   "cell_type": "markdown",
   "metadata": {},
   "source": [
    "# RF"
   ]
  },
  {
   "cell_type": "code",
   "execution_count": 159,
   "metadata": {},
   "outputs": [],
   "source": [
    "from sklearn.ensemble import RandomForestClassifier\n",
    "rnf = RandomForestClassifier(n_estimators=50, random_state=50)"
   ]
  },
  {
   "cell_type": "code",
   "execution_count": 160,
   "metadata": {},
   "outputs": [
    {
     "data": {
      "text/plain": [
       "RandomForestClassifier(n_estimators=50, random_state=50)"
      ]
     },
     "execution_count": 160,
     "metadata": {},
     "output_type": "execute_result"
    }
   ],
   "source": [
    "rnf.fit(xtrain,ytrain)"
   ]
  },
  {
   "cell_type": "code",
   "execution_count": 161,
   "metadata": {},
   "outputs": [
    {
     "name": "stdout",
     "output_type": "stream",
     "text": [
      "\n",
      "Training Accuracy :  0.9991496598639455\n",
      "\n",
      "Testing Accuracy :  0.8877551020408163\n"
     ]
    }
   ],
   "source": [
    "# Accuracy on Training \n",
    "predictions_train = rnf.predict(xtrain)\n",
    "print(\"\\nTraining Accuracy : \", accuracy_score(ytrain,predictions_train))\n",
    "# Accuracy on Testing\n",
    "predictions_test = rnf.predict(xtest)\n",
    "print(\"\\nTesting Accuracy : \", accuracy_score(ytest,predictions_test))"
   ]
  },
  {
   "cell_type": "markdown",
   "metadata": {},
   "source": [
    "# XGBoost"
   ]
  },
  {
   "cell_type": "code",
   "execution_count": 162,
   "metadata": {},
   "outputs": [
    {
     "name": "stderr",
     "output_type": "stream",
     "text": [
      "F:\\New_Anaconda_Inst_Loc\\lib\\site-packages\\xgboost\\sklearn.py:1146: UserWarning: The use of label encoder in XGBClassifier is deprecated and will be removed in a future release. To remove this warning, do the following: 1) Pass option use_label_encoder=False when constructing XGBClassifier object; and 2) Encode your labels (y) as integers starting with 0, i.e. 0, 1, 2, ..., [num_class - 1].\n",
      "  warnings.warn(label_encoder_deprecation_msg, UserWarning)\n"
     ]
    },
    {
     "name": "stdout",
     "output_type": "stream",
     "text": [
      "[19:01:47] WARNING: C:/Users/Administrator/workspace/xgboost-win64_release_1.4.0/src/learner.cc:1095: Starting in XGBoost 1.3.0, the default evaluation metric used with the objective 'binary:logistic' was changed from 'error' to 'logloss'. Explicitly set eval_metric if you'd like to restore the old behavior.\n",
      "\n",
      "Training Accuracy : 1.0\n",
      "\n",
      "Testing Accuracy : 0.8877551020408163\n"
     ]
    }
   ],
   "source": [
    "from xgboost import XGBClassifier\n",
    "classifier=XGBClassifier()\n",
    "classifier.fit(xtrain,ytrain)\n",
    "predictions_train =classifier.predict(xtrain)\n",
    "acc=accuracy_score(ytrain, predictions_train)\n",
    "print('\\nTraining Accuracy :', acc)\n",
    "predictions_test = classifier.predict(xtest)\n",
    "accc=accuracy_score(ytest, predictions_test)\n",
    "print('\\nTesting Accuracy :', accc)"
   ]
  },
  {
   "cell_type": "markdown",
   "metadata": {},
   "source": [
    "# Using StandardScaler"
   ]
  },
  {
   "cell_type": "code",
   "execution_count": 163,
   "metadata": {},
   "outputs": [],
   "source": [
    "from sklearn.preprocessing import StandardScaler\n",
    "scaler = StandardScaler()\n",
    "scaler.fit(xtrain)\n",
    "\n",
    "xtrain = scaler.transform(xtrain)\n",
    "xtest = scaler.transform(xtest)"
   ]
  },
  {
   "cell_type": "markdown",
   "metadata": {},
   "source": [
    "# XGBoost"
   ]
  },
  {
   "cell_type": "code",
   "execution_count": 164,
   "metadata": {},
   "outputs": [
    {
     "name": "stderr",
     "output_type": "stream",
     "text": [
      "F:\\New_Anaconda_Inst_Loc\\lib\\site-packages\\xgboost\\sklearn.py:1146: UserWarning: The use of label encoder in XGBClassifier is deprecated and will be removed in a future release. To remove this warning, do the following: 1) Pass option use_label_encoder=False when constructing XGBClassifier object; and 2) Encode your labels (y) as integers starting with 0, i.e. 0, 1, 2, ..., [num_class - 1].\n",
      "  warnings.warn(label_encoder_deprecation_msg, UserWarning)\n"
     ]
    },
    {
     "name": "stdout",
     "output_type": "stream",
     "text": [
      "[19:03:42] WARNING: C:/Users/Administrator/workspace/xgboost-win64_release_1.4.0/src/learner.cc:1095: Starting in XGBoost 1.3.0, the default evaluation metric used with the objective 'binary:logistic' was changed from 'error' to 'logloss'. Explicitly set eval_metric if you'd like to restore the old behavior.\n",
      "\n",
      "Training Accuracy : 1.0\n",
      "\n",
      "Testing Accuracy : 0.8877551020408163\n"
     ]
    }
   ],
   "source": [
    "from xgboost import XGBClassifier\n",
    "classifier=XGBClassifier()\n",
    "classifier.fit(xtrain,ytrain)\n",
    "predictions_train =classifier.predict(xtrain)\n",
    "acc=accuracy_score(ytrain, predictions_train)\n",
    "print('\\nTraining Accuracy :', acc)\n",
    "predictions_test = classifier.predict(xtest)\n",
    "accc=accuracy_score(ytest, predictions_test)\n",
    "print('\\nTesting Accuracy :', accc)"
   ]
  },
  {
   "cell_type": "markdown",
   "metadata": {},
   "source": [
    "# RandomForestClassifier"
   ]
  },
  {
   "cell_type": "code",
   "execution_count": 180,
   "metadata": {},
   "outputs": [
    {
     "name": "stdout",
     "output_type": "stream",
     "text": [
      "\n",
      "Training Accuracy :  0.9931972789115646\n",
      "\n",
      "Testing Accuracy :  0.891156462585034\n"
     ]
    }
   ],
   "source": [
    "rnf = RandomForestClassifier(n_estimators=30, random_state=50)\n",
    "rnf.fit(xtrain,ytrain)\n",
    "# Accuracy on Training \n",
    "predictions_train = rnf.predict(xtrain)\n",
    "print(\"\\nTraining Accuracy : \", accuracy_score(ytrain,predictions_train))\n",
    "# Accuracy on Testing\n",
    "predictions_test = rnf.predict(xtest)\n",
    "print(\"\\nTesting Accuracy : \", accuracy_score(ytest,predictions_test))"
   ]
  },
  {
   "cell_type": "markdown",
   "metadata": {},
   "source": [
    "# KNeighborsClassifier"
   ]
  },
  {
   "cell_type": "code",
   "execution_count": 191,
   "metadata": {},
   "outputs": [
    {
     "data": {
      "text/plain": [
       "KNeighborsClassifier(n_neighbors=25)"
      ]
     },
     "execution_count": 191,
     "metadata": {},
     "output_type": "execute_result"
    }
   ],
   "source": [
    "from sklearn.neighbors import KNeighborsClassifier\n",
    "classifier = KNeighborsClassifier(n_neighbors=25)\n",
    "classifier.fit(xtrain, ytrain)"
   ]
  },
  {
   "cell_type": "code",
   "execution_count": 192,
   "metadata": {},
   "outputs": [
    {
     "name": "stdout",
     "output_type": "stream",
     "text": [
      "\n",
      "Training Accuracy :  0.8409863945578231\n",
      "\n",
      "Testing Accuracy :  0.8401360544217688\n"
     ]
    }
   ],
   "source": [
    "# Accuracy on Training \n",
    "predictions_train = classifier.predict(xtrain)\n",
    "print(\"\\nTraining Accuracy : \", accuracy_score(ytrain,predictions_train))\n",
    "# Accuracy on Testing\n",
    "predictions_test = classifier.predict(xtest)\n",
    "print(\"\\nTesting Accuracy : \", accuracy_score(ytest,predictions_test))"
   ]
  },
  {
   "cell_type": "markdown",
   "metadata": {},
   "source": [
    "# SVM Model"
   ]
  },
  {
   "cell_type": "code",
   "execution_count": 280,
   "metadata": {},
   "outputs": [
    {
     "data": {
      "text/plain": [
       "SVC(C=2, gamma='auto')"
      ]
     },
     "execution_count": 280,
     "metadata": {},
     "output_type": "execute_result"
    }
   ],
   "source": [
    "svm_model = SVC(C=2, gamma = 'auto',kernel ='rbf')\n",
    "svm_model.fit(xtrain,ytrain)"
   ]
  },
  {
   "cell_type": "code",
   "execution_count": 281,
   "metadata": {},
   "outputs": [
    {
     "name": "stdout",
     "output_type": "stream",
     "text": [
      "\n",
      "Training Accuracy :  0.9175170068027211\n",
      "\n",
      "Testing Accuracy :  0.8809523809523809\n"
     ]
    }
   ],
   "source": [
    "# Accuracy on Training \n",
    "predictions_train = svm_model.predict(xtrain)\n",
    "print(\"\\nTraining Accuracy : \", accuracy_score(ytrain,predictions_train))\n",
    "# Accuracy on Testing\n",
    "predictions_test = svm_model.predict(xtest)\n",
    "print(\"\\nTesting Accuracy : \", accuracy_score(ytest,predictions_test))"
   ]
  },
  {
   "cell_type": "markdown",
   "metadata": {},
   "source": [
    "# light gbm"
   ]
  },
  {
   "cell_type": "code",
   "execution_count": 296,
   "metadata": {},
   "outputs": [
    {
     "name": "stdout",
     "output_type": "stream",
     "text": [
      "[15]\ttraining's binary_logloss: 0.279283\tvalid_0's binary_logloss: 0.348438\n",
      "[30]\ttraining's binary_logloss: 0.199723\tvalid_0's binary_logloss: 0.322031\n",
      "[45]\ttraining's binary_logloss: 0.14238\tvalid_0's binary_logloss: 0.319712\n",
      "[60]\ttraining's binary_logloss: 0.104338\tvalid_0's binary_logloss: 0.322517\n",
      "[75]\ttraining's binary_logloss: 0.0775709\tvalid_0's binary_logloss: 0.326391\n",
      "[90]\ttraining's binary_logloss: 0.0576974\tvalid_0's binary_logloss: 0.331701\n"
     ]
    },
    {
     "name": "stderr",
     "output_type": "stream",
     "text": [
      "F:\\New_Anaconda_Inst_Loc\\lib\\site-packages\\lightgbm\\sklearn.py:736: UserWarning: 'verbose' argument is deprecated and will be removed in a future release of LightGBM. Pass 'log_evaluation()' callback via 'callbacks' argument instead.\n",
      "  _log_warning(\"'verbose' argument is deprecated and will be removed in a future release of LightGBM. \"\n"
     ]
    },
    {
     "data": {
      "text/plain": [
       "LGBMClassifier(learning_rate=0.07, max_depth=-4, random_state=2021)"
      ]
     },
     "execution_count": 296,
     "metadata": {},
     "output_type": "execute_result"
    }
   ],
   "source": [
    "import lightgbm as lgb\n",
    "model = lgb.LGBMClassifier(learning_rate=0.07,max_depth=-4,random_state=2021)\n",
    "model.fit(xtrain,ytrain,eval_set=[(xtest,ytest),(xtrain,ytrain)],\n",
    "          verbose=15,eval_metric='logloss')"
   ]
  },
  {
   "cell_type": "code",
   "execution_count": 297,
   "metadata": {},
   "outputs": [
    {
     "name": "stdout",
     "output_type": "stream",
     "text": [
      "Training accuracy 1.0000\n",
      "Testing accuracy 0.8810\n"
     ]
    }
   ],
   "source": [
    "print('Training accuracy {:.4f}'.format(model.score(xtrain,ytrain)))\n",
    "print('Testing accuracy {:.4f}'.format(model.score(xtest,ytest)))"
   ]
  },
  {
   "cell_type": "markdown",
   "metadata": {},
   "source": [
    "# linear SVM"
   ]
  },
  {
   "cell_type": "code",
   "execution_count": 201,
   "metadata": {},
   "outputs": [
    {
     "data": {
      "text/plain": [
       "SVC(gamma='auto', kernel='linear')"
      ]
     },
     "execution_count": 201,
     "metadata": {},
     "output_type": "execute_result"
    }
   ],
   "source": [
    "svm_model = SVC(kernel='linear',gamma = 'auto')\n",
    "svm_model.fit(xtrain,ytrain)"
   ]
  },
  {
   "cell_type": "code",
   "execution_count": 202,
   "metadata": {},
   "outputs": [
    {
     "name": "stdout",
     "output_type": "stream",
     "text": [
      "\n",
      "Training Accuracy :  0.8384353741496599\n",
      "\n",
      "Testing Accuracy :  0.8401360544217688\n"
     ]
    }
   ],
   "source": [
    "# Accuracy on Training \n",
    "predictions_train = svm_model.predict(xtrain)\n",
    "print(\"\\nTraining Accuracy : \", accuracy_score(ytrain,predictions_train))\n",
    "# Accuracy on Testing\n",
    "predictions_test = svm_model.predict(xtest)\n",
    "print(\"\\nTesting Accuracy : \", accuracy_score(ytest,predictions_test))"
   ]
  },
  {
   "cell_type": "code",
   "execution_count": 240,
   "metadata": {},
   "outputs": [
    {
     "name": "stdout",
     "output_type": "stream",
     "text": [
      "0:\tlearn: 0.4696316\ttotal: 7.41ms\tremaining: 734ms\n",
      "1:\tlearn: 0.3552262\ttotal: 12.3ms\tremaining: 601ms\n",
      "2:\tlearn: 0.3214456\ttotal: 21ms\tremaining: 679ms\n",
      "3:\tlearn: 0.2954924\ttotal: 30.4ms\tremaining: 729ms\n",
      "4:\tlearn: 0.2830418\ttotal: 37.8ms\tremaining: 718ms\n",
      "5:\tlearn: 0.2705930\ttotal: 43ms\tremaining: 673ms\n",
      "6:\tlearn: 0.2623701\ttotal: 47.6ms\tremaining: 633ms\n",
      "7:\tlearn: 0.2586751\ttotal: 52.4ms\tremaining: 603ms\n",
      "8:\tlearn: 0.2499297\ttotal: 57.4ms\tremaining: 580ms\n",
      "9:\tlearn: 0.2378554\ttotal: 62.1ms\tremaining: 559ms\n",
      "10:\tlearn: 0.2272561\ttotal: 66.9ms\tremaining: 541ms\n",
      "11:\tlearn: 0.2189681\ttotal: 71.2ms\tremaining: 522ms\n",
      "12:\tlearn: 0.2142838\ttotal: 75.7ms\tremaining: 507ms\n",
      "13:\tlearn: 0.2047957\ttotal: 80.8ms\tremaining: 497ms\n",
      "14:\tlearn: 0.1969284\ttotal: 85.6ms\tremaining: 485ms\n",
      "15:\tlearn: 0.1868251\ttotal: 90.2ms\tremaining: 473ms\n",
      "16:\tlearn: 0.1785208\ttotal: 95ms\tremaining: 464ms\n",
      "17:\tlearn: 0.1697624\ttotal: 99.5ms\tremaining: 453ms\n",
      "18:\tlearn: 0.1536060\ttotal: 104ms\tremaining: 444ms\n",
      "19:\tlearn: 0.1443694\ttotal: 109ms\tremaining: 435ms\n",
      "20:\tlearn: 0.1375156\ttotal: 113ms\tremaining: 425ms\n",
      "21:\tlearn: 0.1310017\ttotal: 118ms\tremaining: 418ms\n",
      "22:\tlearn: 0.1269253\ttotal: 123ms\tremaining: 410ms\n",
      "23:\tlearn: 0.1204621\ttotal: 127ms\tremaining: 403ms\n",
      "24:\tlearn: 0.1156653\ttotal: 132ms\tremaining: 395ms\n",
      "25:\tlearn: 0.1102672\ttotal: 136ms\tremaining: 387ms\n",
      "26:\tlearn: 0.1041513\ttotal: 141ms\tremaining: 380ms\n",
      "27:\tlearn: 0.0969164\ttotal: 145ms\tremaining: 374ms\n",
      "28:\tlearn: 0.0897978\ttotal: 150ms\tremaining: 367ms\n",
      "29:\tlearn: 0.0857765\ttotal: 155ms\tremaining: 361ms\n",
      "30:\tlearn: 0.0816074\ttotal: 159ms\tremaining: 355ms\n",
      "31:\tlearn: 0.0760788\ttotal: 164ms\tremaining: 348ms\n",
      "32:\tlearn: 0.0712337\ttotal: 169ms\tremaining: 343ms\n",
      "33:\tlearn: 0.0706755\ttotal: 175ms\tremaining: 339ms\n",
      "34:\tlearn: 0.0666227\ttotal: 182ms\tremaining: 338ms\n",
      "35:\tlearn: 0.0635237\ttotal: 187ms\tremaining: 333ms\n",
      "36:\tlearn: 0.0601313\ttotal: 197ms\tremaining: 336ms\n",
      "37:\tlearn: 0.0561461\ttotal: 204ms\tremaining: 332ms\n",
      "38:\tlearn: 0.0529306\ttotal: 208ms\tremaining: 326ms\n",
      "39:\tlearn: 0.0516748\ttotal: 214ms\tremaining: 321ms\n",
      "40:\tlearn: 0.0497906\ttotal: 218ms\tremaining: 314ms\n",
      "41:\tlearn: 0.0480383\ttotal: 223ms\tremaining: 308ms\n",
      "42:\tlearn: 0.0454439\ttotal: 228ms\tremaining: 302ms\n",
      "43:\tlearn: 0.0432310\ttotal: 232ms\tremaining: 295ms\n",
      "44:\tlearn: 0.0425259\ttotal: 237ms\tremaining: 290ms\n",
      "45:\tlearn: 0.0414424\ttotal: 242ms\tremaining: 284ms\n",
      "46:\tlearn: 0.0402199\ttotal: 246ms\tremaining: 278ms\n",
      "47:\tlearn: 0.0386117\ttotal: 251ms\tremaining: 272ms\n",
      "48:\tlearn: 0.0372914\ttotal: 256ms\tremaining: 266ms\n",
      "49:\tlearn: 0.0356378\ttotal: 260ms\tremaining: 260ms\n",
      "50:\tlearn: 0.0355492\ttotal: 265ms\tremaining: 255ms\n",
      "51:\tlearn: 0.0352329\ttotal: 268ms\tremaining: 247ms\n",
      "52:\tlearn: 0.0341391\ttotal: 273ms\tremaining: 242ms\n",
      "53:\tlearn: 0.0325874\ttotal: 278ms\tremaining: 237ms\n",
      "54:\tlearn: 0.0316817\ttotal: 283ms\tremaining: 231ms\n",
      "55:\tlearn: 0.0308682\ttotal: 287ms\tremaining: 226ms\n",
      "56:\tlearn: 0.0304062\ttotal: 292ms\tremaining: 220ms\n",
      "57:\tlearn: 0.0294107\ttotal: 296ms\tremaining: 215ms\n",
      "58:\tlearn: 0.0286155\ttotal: 301ms\tremaining: 209ms\n",
      "59:\tlearn: 0.0275399\ttotal: 305ms\tremaining: 204ms\n",
      "60:\tlearn: 0.0267463\ttotal: 310ms\tremaining: 198ms\n",
      "61:\tlearn: 0.0254540\ttotal: 315ms\tremaining: 193ms\n",
      "62:\tlearn: 0.0251006\ttotal: 319ms\tremaining: 187ms\n",
      "63:\tlearn: 0.0246919\ttotal: 324ms\tremaining: 182ms\n",
      "64:\tlearn: 0.0240801\ttotal: 329ms\tremaining: 177ms\n",
      "65:\tlearn: 0.0237205\ttotal: 333ms\tremaining: 172ms\n",
      "66:\tlearn: 0.0232805\ttotal: 340ms\tremaining: 167ms\n",
      "67:\tlearn: 0.0231331\ttotal: 345ms\tremaining: 163ms\n",
      "68:\tlearn: 0.0220967\ttotal: 351ms\tremaining: 158ms\n",
      "69:\tlearn: 0.0214580\ttotal: 364ms\tremaining: 156ms\n",
      "70:\tlearn: 0.0207907\ttotal: 374ms\tremaining: 153ms\n",
      "71:\tlearn: 0.0204848\ttotal: 379ms\tremaining: 147ms\n",
      "72:\tlearn: 0.0195734\ttotal: 385ms\tremaining: 142ms\n",
      "73:\tlearn: 0.0192529\ttotal: 390ms\tremaining: 137ms\n",
      "74:\tlearn: 0.0187865\ttotal: 396ms\tremaining: 132ms\n",
      "75:\tlearn: 0.0183323\ttotal: 401ms\tremaining: 127ms\n",
      "76:\tlearn: 0.0179616\ttotal: 407ms\tremaining: 122ms\n",
      "77:\tlearn: 0.0175587\ttotal: 412ms\tremaining: 116ms\n",
      "78:\tlearn: 0.0172188\ttotal: 418ms\tremaining: 111ms\n",
      "79:\tlearn: 0.0168077\ttotal: 423ms\tremaining: 106ms\n",
      "80:\tlearn: 0.0163146\ttotal: 428ms\tremaining: 100ms\n",
      "81:\tlearn: 0.0158893\ttotal: 434ms\tremaining: 95.2ms\n",
      "82:\tlearn: 0.0153141\ttotal: 439ms\tremaining: 89.9ms\n",
      "83:\tlearn: 0.0147620\ttotal: 444ms\tremaining: 84.6ms\n",
      "84:\tlearn: 0.0144550\ttotal: 449ms\tremaining: 79.3ms\n",
      "85:\tlearn: 0.0141964\ttotal: 455ms\tremaining: 74.1ms\n",
      "86:\tlearn: 0.0137909\ttotal: 461ms\tremaining: 68.8ms\n",
      "87:\tlearn: 0.0133902\ttotal: 481ms\tremaining: 65.6ms\n",
      "88:\tlearn: 0.0130346\ttotal: 501ms\tremaining: 61.9ms\n",
      "89:\tlearn: 0.0127883\ttotal: 509ms\tremaining: 56.6ms\n",
      "90:\tlearn: 0.0125654\ttotal: 519ms\tremaining: 51.3ms\n",
      "91:\tlearn: 0.0121487\ttotal: 527ms\tremaining: 45.9ms\n",
      "92:\tlearn: 0.0119283\ttotal: 555ms\tremaining: 41.8ms\n",
      "93:\tlearn: 0.0117603\ttotal: 564ms\tremaining: 36ms\n",
      "94:\tlearn: 0.0116563\ttotal: 572ms\tremaining: 30.1ms\n",
      "95:\tlearn: 0.0112521\ttotal: 585ms\tremaining: 24.4ms\n",
      "96:\tlearn: 0.0110992\ttotal: 596ms\tremaining: 18.4ms\n",
      "97:\tlearn: 0.0108158\ttotal: 622ms\tremaining: 12.7ms\n",
      "98:\tlearn: 0.0107162\ttotal: 631ms\tremaining: 6.37ms\n",
      "99:\tlearn: 0.0104965\ttotal: 640ms\tremaining: 0us\n"
     ]
    },
    {
     "data": {
      "text/plain": [
       "<catboost.core.CatBoostClassifier at 0x24e4fcaee50>"
      ]
     },
     "execution_count": 240,
     "metadata": {},
     "output_type": "execute_result"
    }
   ],
   "source": [
    "from catboost import CatBoostClassifier\n",
    "catmodel = CatBoostClassifier(iterations=100,learning_rate=0.5)\n",
    "catmodel.fit(xtrain,ytrain,plot=False)"
   ]
  },
  {
   "cell_type": "code",
   "execution_count": 241,
   "metadata": {},
   "outputs": [
    {
     "name": "stdout",
     "output_type": "stream",
     "text": [
      "\n",
      "Training Accuracy :  1.0\n",
      "\n",
      "Testing Accuracy :  0.891156462585034\n"
     ]
    }
   ],
   "source": [
    "# Accuracy on Training \n",
    "predictions_train = catmodel.predict(xtrain)\n",
    "print(\"\\nTraining Accuracy : \", accuracy_score(ytrain,predictions_train))\n",
    "# Accuracy on Testing\n",
    "predictions_test = catmodel.predict(xtest)\n",
    "print(\"\\nTesting Accuracy : \", accuracy_score(ytest,predictions_test))"
   ]
  },
  {
   "cell_type": "code",
   "execution_count": 308,
   "metadata": {},
   "outputs": [
    {
     "name": "stdout",
     "output_type": "stream",
     "text": [
      "\n",
      "Training Accuracy :  0.8622448979591837\n",
      "\n",
      "Testing Accuracy :  0.8707482993197279\n"
     ]
    }
   ],
   "source": [
    "from sklearn.ensemble import AdaBoostClassifier\n",
    "# Adaboost\n",
    "abc = AdaBoostClassifier(n_estimators=100, learning_rate=.1)\n",
    "model = abc.fit(xtrain, ytrain)\n",
    "\n",
    "# Accuracy on Training \n",
    "predictions_train = model.predict(xtrain)\n",
    "print(\"\\nTraining Accuracy : \", accuracy_score(ytrain,predictions_train))\n",
    "# Accuracy on Testing\n",
    "predictions_test = model.predict(xtest)\n",
    "print(\"\\nTesting Accuracy : \", accuracy_score(ytest,predictions_test))"
   ]
  },
  {
   "cell_type": "code",
   "execution_count": 310,
   "metadata": {},
   "outputs": [
    {
     "name": "stdout",
     "output_type": "stream",
     "text": [
      "Mean Accuracy: 0.863 (0.017)\n"
     ]
    }
   ],
   "source": [
    "from sklearn.ensemble import GradientBoostingClassifier\n",
    "# Stochastic Gradient Boosting\n",
    "model = GradientBoostingClassifier()\n",
    "model.fit(xtrain, ytrain)\n",
    "\n",
    "# define the evaluation method\n",
    "cv = RepeatedStratifiedKFold(n_splits=10, n_repeats=3, random_state=1)\n",
    "# evaluate the model on the dataset\n",
    "n_scores = cross_val_score(model, x, y, scoring='accuracy', cv=cv, n_jobs=-1)\n",
    "# report performance\n",
    "print('Mean Accuracy: %.3f (%.3f)' % (mean(n_scores), std(n_scores)))"
   ]
  },
  {
   "cell_type": "code",
   "execution_count": 312,
   "metadata": {},
   "outputs": [
    {
     "name": "stdout",
     "output_type": "stream",
     "text": [
      "\n",
      "Training Accuracy :  0.9498299319727891\n",
      "\n",
      "Testing Accuracy :  0.8741496598639455\n",
      "Accuracy: 0.861 (0.023)\n"
     ]
    }
   ],
   "source": [
    "from sklearn.ensemble import BaggingClassifier\n",
    "from sklearn.tree import DecisionTreeClassifier\n",
    "# initialize the base classifier\n",
    "base_cls = DecisionTreeClassifier()\n",
    "  \n",
    "# no. of base classifier\n",
    "num_trees = 50\n",
    "  \n",
    "# bagging classifier\n",
    "model = BaggingClassifier(base_estimator = base_cls,n_estimators = num_trees, max_samples =.5 , max_features = 1.0, random_state = 2021)\n",
    "\n",
    "model.fit(xtrain,ytrain)\n",
    "# Accuracy on Training \n",
    "predictions_train = model.predict(xtrain)\n",
    "print(\"\\nTraining Accuracy : \", accuracy_score(ytrain,predictions_train))\n",
    "# Accuracy on Testing\n",
    "predictions_test = model.predict(xtest)\n",
    "print(\"\\nTesting Accuracy : \", accuracy_score(ytest,predictions_test))\n",
    "\n",
    "cv = RepeatedStratifiedKFold(n_splits=10, n_repeats=3, random_state=1)\n",
    "n_scores = cross_val_score(model, x, y, scoring='accuracy', cv=cv, n_jobs=-1, error_score='raise')\n",
    "# report performance\n",
    "print('Accuracy: %.3f (%.3f)' % (mean(n_scores), std(n_scores)))"
   ]
  },
  {
   "cell_type": "code",
   "execution_count": null,
   "metadata": {},
   "outputs": [],
   "source": []
  }
 ],
 "metadata": {
  "kernelspec": {
   "display_name": "Python 3",
   "language": "python",
   "name": "python3"
  },
  "language_info": {
   "codemirror_mode": {
    "name": "ipython",
    "version": 3
   },
   "file_extension": ".py",
   "mimetype": "text/x-python",
   "name": "python",
   "nbconvert_exporter": "python",
   "pygments_lexer": "ipython3",
   "version": "3.8.5"
  }
 },
 "nbformat": 4,
 "nbformat_minor": 4
}
